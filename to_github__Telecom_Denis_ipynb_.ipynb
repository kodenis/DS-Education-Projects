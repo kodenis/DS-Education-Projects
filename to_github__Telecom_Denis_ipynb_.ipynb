{
  "nbformat": 4,
  "nbformat_minor": 0,
  "metadata": {
    "colab": {
      "name": "to_github \"Telecom_Denis.ipynb\"",
      "provenance": [],
      "collapsed_sections": [
        "1EytkDss5e_f",
        "qVyb2ido5k4P"
      ]
    },
    "kernelspec": {
      "name": "python3",
      "display_name": "Python 3"
    },
    "language_info": {
      "name": "python"
    }
  },
  "cells": [
    {
      "cell_type": "markdown",
      "metadata": {
        "id": "KZpONkcB5XMn"
      },
      "source": [
        "# Итоговый проект. Телеком"
      ]
    },
    {
      "cell_type": "markdown",
      "metadata": {
        "id": "ccI-5_Jpd7CF"
      },
      "source": [
        "Оператор связи «Ниединогоразрыва.ком» хочет научиться прогнозировать отток клиентов. Если выяснится, что пользователь планирует уйти, ему будут предложены промокоды и специальные условия. Команда оператора собрала персональные данные о некоторых клиентах, информацию об их тарифах и договорах.\n",
        "\n",
        "Оператор предоставляет два основных типа услуг:\n",
        "1.\tСтационарную телефонную связь. Возможно подключение телефонного аппарата к нескольким линиям одновременно.\n",
        "2.\tИнтернет. Подключение может быть двух типов: через телефонную линию (DSL) или оптоволоконный кабель (Fiber optic).\n",
        "\n",
        "Также доступны такие услуги:\n",
        "•\tИнтернет-безопасность: антивирус (DeviceProtection) и блокировка небезопасных сайтов (OnlineSecurity);\n",
        "•\tВыделенная линия технической поддержки (TechSupport);\n",
        "•\tОблачное хранилище файлов для резервного копирования данных (OnlineBackup);\n",
        "•\tСтриминговое телевидение (StreamingTV) и каталог фильмов (StreamingMovies).\n",
        "\n",
        "За услуги клиенты могут платить каждый месяц или заключить договор на 1–2 года. Доступны различные способы расчёта и возможность получения электронного чека.\n"
      ]
    },
    {
      "cell_type": "markdown",
      "metadata": {
        "id": "1EytkDss5e_f"
      },
      "source": [
        "## Загрузка файлов"
      ]
    },
    {
      "cell_type": "code",
      "metadata": {
        "colab": {
          "base_uri": "https://localhost:8080/"
        },
        "id": "6ZSxoiw-4ZCg",
        "outputId": "12a50e52-97f2-4719-c7b8-50b960b1b640"
      },
      "source": [
        "!gdown  --id 1OVOIuJGTfGr4MHjEF2EvagqyhAos70bA\n",
        "!gdown  --id 1dzHlnnUqv42RHNN5zhwB_Z-2qXcOzZSU\n",
        "!gdown  --id 1bMKJtjR9-tJNq48QNMlyMPbdkjVPSYAw\n",
        "!gdown  --id 1Nj_zb-FK0kOCH9UaHPNNimI802f1nN73"
      ],
      "execution_count": null,
      "outputs": [
        {
          "output_type": "stream",
          "name": "stdout",
          "text": [
            "Downloading...\n",
            "From: https://drive.google.com/uc?id=1OVOIuJGTfGr4MHjEF2EvagqyhAos70bA\n",
            "To: /content/phone.csv\n",
            "100% 92.0k/92.0k [00:00<00:00, 1.44MB/s]\n",
            "Downloading...\n",
            "From: https://drive.google.com/uc?id=1dzHlnnUqv42RHNN5zhwB_Z-2qXcOzZSU\n",
            "To: /content/personal.csv\n",
            "100% 182k/182k [00:00<00:00, 1.58MB/s]\n",
            "Downloading...\n",
            "From: https://drive.google.com/uc?id=1bMKJtjR9-tJNq48QNMlyMPbdkjVPSYAw\n",
            "To: /content/internet.csv\n",
            "100% 221k/221k [00:00<00:00, 1.82MB/s]\n",
            "Downloading...\n",
            "From: https://drive.google.com/uc?id=1Nj_zb-FK0kOCH9UaHPNNimI802f1nN73\n",
            "To: /content/contract.csv\n",
            "100% 546k/546k [00:00<00:00, 3.33MB/s]\n"
          ]
        }
      ]
    },
    {
      "cell_type": "code",
      "metadata": {
        "colab": {
          "base_uri": "https://localhost:8080/"
        },
        "id": "yOT5tuM4FZ9I",
        "outputId": "1217f87c-8002-4c57-fdd3-5046e703902b"
      },
      "source": [
        "!pip install catboost"
      ],
      "execution_count": null,
      "outputs": [
        {
          "output_type": "stream",
          "name": "stdout",
          "text": [
            "Requirement already satisfied: catboost in /usr/local/lib/python3.7/dist-packages (0.26.1)\n",
            "Requirement already satisfied: scipy in /usr/local/lib/python3.7/dist-packages (from catboost) (1.4.1)\n",
            "Requirement already satisfied: six in /usr/local/lib/python3.7/dist-packages (from catboost) (1.15.0)\n",
            "Requirement already satisfied: plotly in /usr/local/lib/python3.7/dist-packages (from catboost) (4.4.1)\n",
            "Requirement already satisfied: pandas>=0.24.0 in /usr/local/lib/python3.7/dist-packages (from catboost) (1.1.5)\n",
            "Requirement already satisfied: numpy>=1.16.0 in /usr/local/lib/python3.7/dist-packages (from catboost) (1.19.5)\n",
            "Requirement already satisfied: matplotlib in /usr/local/lib/python3.7/dist-packages (from catboost) (3.2.2)\n",
            "Requirement already satisfied: graphviz in /usr/local/lib/python3.7/dist-packages (from catboost) (0.10.1)\n",
            "Requirement already satisfied: pytz>=2017.2 in /usr/local/lib/python3.7/dist-packages (from pandas>=0.24.0->catboost) (2018.9)\n",
            "Requirement already satisfied: python-dateutil>=2.7.3 in /usr/local/lib/python3.7/dist-packages (from pandas>=0.24.0->catboost) (2.8.2)\n",
            "Requirement already satisfied: cycler>=0.10 in /usr/local/lib/python3.7/dist-packages (from matplotlib->catboost) (0.10.0)\n",
            "Requirement already satisfied: kiwisolver>=1.0.1 in /usr/local/lib/python3.7/dist-packages (from matplotlib->catboost) (1.3.2)\n",
            "Requirement already satisfied: pyparsing!=2.0.4,!=2.1.2,!=2.1.6,>=2.0.1 in /usr/local/lib/python3.7/dist-packages (from matplotlib->catboost) (2.4.7)\n",
            "Requirement already satisfied: retrying>=1.3.3 in /usr/local/lib/python3.7/dist-packages (from plotly->catboost) (1.3.3)\n"
          ]
        }
      ]
    },
    {
      "cell_type": "markdown",
      "metadata": {
        "id": "qVyb2ido5k4P"
      },
      "source": [
        "## Импорт библиотек"
      ]
    },
    {
      "cell_type": "code",
      "metadata": {
        "id": "HVSlKZrK4jlY"
      },
      "source": [
        "import pandas as pd\n",
        "import numpy as np\n",
        "import matplotlib.pyplot as plt\n",
        "from matplotlib.pyplot import figure\n",
        "\n",
        "from sklearn.model_selection import train_test_split\n",
        "\n",
        "#predective models\n",
        "from catboost import CatBoostClassifier\n",
        "from catboost import Pool, cv\n",
        "from sklearn.linear_model import LogisticRegression\n",
        "from sklearn.model_selection import GridSearchCV\n",
        "from sklearn.tree import DecisionTreeClassifier\n",
        "from sklearn.ensemble import RandomForestClassifier\n",
        "from sklearn.ensemble import GradientBoostingClassifier\n",
        "\n",
        "#import metrics\n",
        "from sklearn.metrics import roc_auc_score \n",
        "from sklearn.metrics import accuracy_score\n",
        "from sklearn.model_selection import cross_validate\n",
        "\n",
        "#neural network\n",
        "import tensorflow as tf\n",
        "from sklearn.pipeline import Pipeline\n",
        "from keras.wrappers.scikit_learn import KerasClassifier\n",
        "from sklearn.preprocessing import LabelEncoder\n",
        "from keras.models import Sequential\n",
        "from keras.layers import Dense\n",
        "from sklearn.model_selection import StratifiedKFold\n",
        "\n",
        "pd.options.mode.chained_assignment = None"
      ],
      "execution_count": null,
      "outputs": []
    },
    {
      "cell_type": "markdown",
      "metadata": {
        "id": "NKn4YGsG56a1"
      },
      "source": [
        "## Исследовательский анализ данных"
      ]
    },
    {
      "cell_type": "markdown",
      "metadata": {
        "id": "Fgvy8YFu74yz"
      },
      "source": [
        "Чтение данных:"
      ]
    },
    {
      "cell_type": "code",
      "metadata": {
        "id": "uqhXQ5VK53Ho"
      },
      "source": [
        "contact = pd.read_csv('/content/contract.csv')\n",
        "internet = pd.read_csv('/content/internet.csv')\n",
        "personal = pd.read_csv('/content/personal.csv')\n",
        "phone = pd.read_csv('/content/phone.csv')"
      ],
      "execution_count": null,
      "outputs": []
    },
    {
      "cell_type": "markdown",
      "metadata": {
        "id": "5LAHzGwb6OY0"
      },
      "source": [
        "### База контактов"
      ]
    },
    {
      "cell_type": "markdown",
      "metadata": {
        "id": "R8lvkG3X6GeI"
      },
      "source": [
        "Для начала поработаем с базой контактов."
      ]
    },
    {
      "cell_type": "code",
      "metadata": {
        "colab": {
          "base_uri": "https://localhost:8080/"
        },
        "id": "1DyRFewe8GH6",
        "outputId": "b89ab743-b583-4e3d-d5d8-8d8fdbd97f5e"
      },
      "source": [
        "contact.info()"
      ],
      "execution_count": null,
      "outputs": [
        {
          "output_type": "stream",
          "name": "stdout",
          "text": [
            "<class 'pandas.core.frame.DataFrame'>\n",
            "RangeIndex: 7043 entries, 0 to 7042\n",
            "Data columns (total 8 columns):\n",
            " #   Column            Non-Null Count  Dtype  \n",
            "---  ------            --------------  -----  \n",
            " 0   customerID        7043 non-null   object \n",
            " 1   BeginDate         7043 non-null   object \n",
            " 2   EndDate           7043 non-null   object \n",
            " 3   Type              7043 non-null   object \n",
            " 4   PaperlessBilling  7043 non-null   object \n",
            " 5   PaymentMethod     7043 non-null   object \n",
            " 6   MonthlyCharges    7043 non-null   float64\n",
            " 7   TotalCharges      7043 non-null   object \n",
            "dtypes: float64(1), object(7)\n",
            "memory usage: 440.3+ KB\n"
          ]
        }
      ]
    },
    {
      "cell_type": "code",
      "metadata": {
        "colab": {
          "base_uri": "https://localhost:8080/",
          "height": 204
        },
        "id": "MoAQcOqb6u7X",
        "outputId": "9bbe05c0-b02e-4dde-b5fd-3b92d5a672a6"
      },
      "source": [
        "contact.head()"
      ],
      "execution_count": null,
      "outputs": [
        {
          "output_type": "execute_result",
          "data": {
            "text/html": [
              "<div>\n",
              "<style scoped>\n",
              "    .dataframe tbody tr th:only-of-type {\n",
              "        vertical-align: middle;\n",
              "    }\n",
              "\n",
              "    .dataframe tbody tr th {\n",
              "        vertical-align: top;\n",
              "    }\n",
              "\n",
              "    .dataframe thead th {\n",
              "        text-align: right;\n",
              "    }\n",
              "</style>\n",
              "<table border=\"1\" class=\"dataframe\">\n",
              "  <thead>\n",
              "    <tr style=\"text-align: right;\">\n",
              "      <th></th>\n",
              "      <th>customerID</th>\n",
              "      <th>BeginDate</th>\n",
              "      <th>EndDate</th>\n",
              "      <th>Type</th>\n",
              "      <th>PaperlessBilling</th>\n",
              "      <th>PaymentMethod</th>\n",
              "      <th>MonthlyCharges</th>\n",
              "      <th>TotalCharges</th>\n",
              "    </tr>\n",
              "  </thead>\n",
              "  <tbody>\n",
              "    <tr>\n",
              "      <th>0</th>\n",
              "      <td>7590-VHVEG</td>\n",
              "      <td>2020-01-01</td>\n",
              "      <td>No</td>\n",
              "      <td>Month-to-month</td>\n",
              "      <td>Yes</td>\n",
              "      <td>Electronic check</td>\n",
              "      <td>29.85</td>\n",
              "      <td>29.85</td>\n",
              "    </tr>\n",
              "    <tr>\n",
              "      <th>1</th>\n",
              "      <td>5575-GNVDE</td>\n",
              "      <td>2017-04-01</td>\n",
              "      <td>No</td>\n",
              "      <td>One year</td>\n",
              "      <td>No</td>\n",
              "      <td>Mailed check</td>\n",
              "      <td>56.95</td>\n",
              "      <td>1889.5</td>\n",
              "    </tr>\n",
              "    <tr>\n",
              "      <th>2</th>\n",
              "      <td>3668-QPYBK</td>\n",
              "      <td>2019-10-01</td>\n",
              "      <td>2019-12-01 00:00:00</td>\n",
              "      <td>Month-to-month</td>\n",
              "      <td>Yes</td>\n",
              "      <td>Mailed check</td>\n",
              "      <td>53.85</td>\n",
              "      <td>108.15</td>\n",
              "    </tr>\n",
              "    <tr>\n",
              "      <th>3</th>\n",
              "      <td>7795-CFOCW</td>\n",
              "      <td>2016-05-01</td>\n",
              "      <td>No</td>\n",
              "      <td>One year</td>\n",
              "      <td>No</td>\n",
              "      <td>Bank transfer (automatic)</td>\n",
              "      <td>42.30</td>\n",
              "      <td>1840.75</td>\n",
              "    </tr>\n",
              "    <tr>\n",
              "      <th>4</th>\n",
              "      <td>9237-HQITU</td>\n",
              "      <td>2019-09-01</td>\n",
              "      <td>2019-11-01 00:00:00</td>\n",
              "      <td>Month-to-month</td>\n",
              "      <td>Yes</td>\n",
              "      <td>Electronic check</td>\n",
              "      <td>70.70</td>\n",
              "      <td>151.65</td>\n",
              "    </tr>\n",
              "  </tbody>\n",
              "</table>\n",
              "</div>"
            ],
            "text/plain": [
              "   customerID   BeginDate  ... MonthlyCharges TotalCharges\n",
              "0  7590-VHVEG  2020-01-01  ...          29.85        29.85\n",
              "1  5575-GNVDE  2017-04-01  ...          56.95       1889.5\n",
              "2  3668-QPYBK  2019-10-01  ...          53.85       108.15\n",
              "3  7795-CFOCW  2016-05-01  ...          42.30      1840.75\n",
              "4  9237-HQITU  2019-09-01  ...          70.70       151.65\n",
              "\n",
              "[5 rows x 8 columns]"
            ]
          },
          "metadata": {},
          "execution_count": 460
        }
      ]
    },
    {
      "cell_type": "markdown",
      "metadata": {
        "id": "xpmdsa9Q8MVJ"
      },
      "source": [
        "CustomerID это объект, а не число, что не очень хорошо, но и по нему можно соединить несколько таблиц. Дата окончания договора - это целевой признак, который надо преобразовать к удобному виду (булевскому). Тип договора - категориальная переменная, ее тоже лучше преобрзовать. Безбумажный метод и вид оплаты - похожи на бесполезные признаки. Стоимость услуг и итоговая стоимость - это хорошие признаки, их оставим. Также добавлю признак, показывающий количество месяцев использования услуг абонентом."
      ]
    },
    {
      "cell_type": "markdown",
      "metadata": {
        "id": "0s67vdarqdrk"
      },
      "source": [
        "Посмотрим на целевой признак и его введем."
      ]
    },
    {
      "cell_type": "code",
      "metadata": {
        "colab": {
          "base_uri": "https://localhost:8080/"
        },
        "id": "Np7IYVwB7Dqq",
        "outputId": "0b5e9e44-1bcf-4e37-a4cc-4b5bd7b044fa"
      },
      "source": [
        "contact['EndDate'].value_counts()"
      ],
      "execution_count": null,
      "outputs": [
        {
          "output_type": "execute_result",
          "data": {
            "text/plain": [
              "No                     5174\n",
              "2019-11-01 00:00:00     485\n",
              "2019-12-01 00:00:00     466\n",
              "2020-01-01 00:00:00     460\n",
              "2019-10-01 00:00:00     458\n",
              "Name: EndDate, dtype: int64"
            ]
          },
          "metadata": {},
          "execution_count": 461
        }
      ]
    },
    {
      "cell_type": "markdown",
      "metadata": {
        "id": "YgJ1-Q73qkBq"
      },
      "source": [
        "В последние 4 месяца уходит примерно равное количество людей. Нам не сильно важно, когда они ушли, но важен сам факт ухода к конкурирующей фирме. Поэтому ответ Нет заменим на ноль, а все уходы на единицу. Это и будет наш целевой показатель для оценки модели."
      ]
    },
    {
      "cell_type": "code",
      "metadata": {
        "id": "805PaseRBhjA"
      },
      "source": [
        "contact['Target'] = (contact['EndDate'] != 'No') * 1"
      ],
      "execution_count": null,
      "outputs": []
    },
    {
      "cell_type": "markdown",
      "metadata": {
        "id": "yjVzrSWB3dU6"
      },
      "source": [
        "Посмотрим на остальные признаки в датасете. Тип договора:"
      ]
    },
    {
      "cell_type": "code",
      "metadata": {
        "colab": {
          "base_uri": "https://localhost:8080/"
        },
        "id": "oX4SSaWJq0k6",
        "outputId": "b931d7e9-b702-483f-b009-1079cef5f533"
      },
      "source": [
        "print ('Количество пропусков в Типе договора:', contact['Type'].isna().sum())\n",
        "print ('Виды договоров: \\n', contact['Type'].value_counts())"
      ],
      "execution_count": null,
      "outputs": [
        {
          "output_type": "stream",
          "name": "stdout",
          "text": [
            "Количество пропусков в Типе договора: 0\n",
            "Виды договоров: \n",
            " Month-to-month    3875\n",
            "Two year          1695\n",
            "One year          1473\n",
            "Name: Type, dtype: int64\n"
          ]
        }
      ]
    },
    {
      "cell_type": "markdown",
      "metadata": {
        "id": "48NuQeOureAJ"
      },
      "source": [
        "Пропусков нет, лишних категорий тоже. Оставим эту переменную как есть, она категориальная, при необходимости пропустим ее через энкодер.\n",
        "\n",
        "Сейчас посмотрим на суммарные траты, и потом введем дополнительный признак -- количество месяцев, которые абонент пользуется нашими услугами (TotalMonths)."
      ]
    },
    {
      "cell_type": "code",
      "metadata": {
        "id": "qosKS9aHsnth"
      },
      "source": [
        "contact['TotalCharges'] = pd.to_numeric(contact['TotalCharges'], errors = 'coerce' )"
      ],
      "execution_count": null,
      "outputs": []
    },
    {
      "cell_type": "code",
      "metadata": {
        "colab": {
          "base_uri": "https://localhost:8080/",
          "height": 390
        },
        "id": "5qs6pYfIuLVN",
        "outputId": "453fb129-5eeb-4daa-ec81-7f2ddbe4b450"
      },
      "source": [
        "contact [contact['TotalCharges'].isna() == True ]"
      ],
      "execution_count": null,
      "outputs": [
        {
          "output_type": "execute_result",
          "data": {
            "text/html": [
              "<div>\n",
              "<style scoped>\n",
              "    .dataframe tbody tr th:only-of-type {\n",
              "        vertical-align: middle;\n",
              "    }\n",
              "\n",
              "    .dataframe tbody tr th {\n",
              "        vertical-align: top;\n",
              "    }\n",
              "\n",
              "    .dataframe thead th {\n",
              "        text-align: right;\n",
              "    }\n",
              "</style>\n",
              "<table border=\"1\" class=\"dataframe\">\n",
              "  <thead>\n",
              "    <tr style=\"text-align: right;\">\n",
              "      <th></th>\n",
              "      <th>customerID</th>\n",
              "      <th>BeginDate</th>\n",
              "      <th>EndDate</th>\n",
              "      <th>Type</th>\n",
              "      <th>PaperlessBilling</th>\n",
              "      <th>PaymentMethod</th>\n",
              "      <th>MonthlyCharges</th>\n",
              "      <th>TotalCharges</th>\n",
              "      <th>Target</th>\n",
              "    </tr>\n",
              "  </thead>\n",
              "  <tbody>\n",
              "    <tr>\n",
              "      <th>488</th>\n",
              "      <td>4472-LVYGI</td>\n",
              "      <td>2020-02-01</td>\n",
              "      <td>No</td>\n",
              "      <td>Two year</td>\n",
              "      <td>Yes</td>\n",
              "      <td>Bank transfer (automatic)</td>\n",
              "      <td>52.55</td>\n",
              "      <td>NaN</td>\n",
              "      <td>0</td>\n",
              "    </tr>\n",
              "    <tr>\n",
              "      <th>753</th>\n",
              "      <td>3115-CZMZD</td>\n",
              "      <td>2020-02-01</td>\n",
              "      <td>No</td>\n",
              "      <td>Two year</td>\n",
              "      <td>No</td>\n",
              "      <td>Mailed check</td>\n",
              "      <td>20.25</td>\n",
              "      <td>NaN</td>\n",
              "      <td>0</td>\n",
              "    </tr>\n",
              "    <tr>\n",
              "      <th>936</th>\n",
              "      <td>5709-LVOEQ</td>\n",
              "      <td>2020-02-01</td>\n",
              "      <td>No</td>\n",
              "      <td>Two year</td>\n",
              "      <td>No</td>\n",
              "      <td>Mailed check</td>\n",
              "      <td>80.85</td>\n",
              "      <td>NaN</td>\n",
              "      <td>0</td>\n",
              "    </tr>\n",
              "    <tr>\n",
              "      <th>1082</th>\n",
              "      <td>4367-NUYAO</td>\n",
              "      <td>2020-02-01</td>\n",
              "      <td>No</td>\n",
              "      <td>Two year</td>\n",
              "      <td>No</td>\n",
              "      <td>Mailed check</td>\n",
              "      <td>25.75</td>\n",
              "      <td>NaN</td>\n",
              "      <td>0</td>\n",
              "    </tr>\n",
              "    <tr>\n",
              "      <th>1340</th>\n",
              "      <td>1371-DWPAZ</td>\n",
              "      <td>2020-02-01</td>\n",
              "      <td>No</td>\n",
              "      <td>Two year</td>\n",
              "      <td>No</td>\n",
              "      <td>Credit card (automatic)</td>\n",
              "      <td>56.05</td>\n",
              "      <td>NaN</td>\n",
              "      <td>0</td>\n",
              "    </tr>\n",
              "    <tr>\n",
              "      <th>3331</th>\n",
              "      <td>7644-OMVMY</td>\n",
              "      <td>2020-02-01</td>\n",
              "      <td>No</td>\n",
              "      <td>Two year</td>\n",
              "      <td>No</td>\n",
              "      <td>Mailed check</td>\n",
              "      <td>19.85</td>\n",
              "      <td>NaN</td>\n",
              "      <td>0</td>\n",
              "    </tr>\n",
              "    <tr>\n",
              "      <th>3826</th>\n",
              "      <td>3213-VVOLG</td>\n",
              "      <td>2020-02-01</td>\n",
              "      <td>No</td>\n",
              "      <td>Two year</td>\n",
              "      <td>No</td>\n",
              "      <td>Mailed check</td>\n",
              "      <td>25.35</td>\n",
              "      <td>NaN</td>\n",
              "      <td>0</td>\n",
              "    </tr>\n",
              "    <tr>\n",
              "      <th>4380</th>\n",
              "      <td>2520-SGTTA</td>\n",
              "      <td>2020-02-01</td>\n",
              "      <td>No</td>\n",
              "      <td>Two year</td>\n",
              "      <td>No</td>\n",
              "      <td>Mailed check</td>\n",
              "      <td>20.00</td>\n",
              "      <td>NaN</td>\n",
              "      <td>0</td>\n",
              "    </tr>\n",
              "    <tr>\n",
              "      <th>5218</th>\n",
              "      <td>2923-ARZLG</td>\n",
              "      <td>2020-02-01</td>\n",
              "      <td>No</td>\n",
              "      <td>One year</td>\n",
              "      <td>Yes</td>\n",
              "      <td>Mailed check</td>\n",
              "      <td>19.70</td>\n",
              "      <td>NaN</td>\n",
              "      <td>0</td>\n",
              "    </tr>\n",
              "    <tr>\n",
              "      <th>6670</th>\n",
              "      <td>4075-WKNIU</td>\n",
              "      <td>2020-02-01</td>\n",
              "      <td>No</td>\n",
              "      <td>Two year</td>\n",
              "      <td>No</td>\n",
              "      <td>Mailed check</td>\n",
              "      <td>73.35</td>\n",
              "      <td>NaN</td>\n",
              "      <td>0</td>\n",
              "    </tr>\n",
              "    <tr>\n",
              "      <th>6754</th>\n",
              "      <td>2775-SEFEE</td>\n",
              "      <td>2020-02-01</td>\n",
              "      <td>No</td>\n",
              "      <td>Two year</td>\n",
              "      <td>Yes</td>\n",
              "      <td>Bank transfer (automatic)</td>\n",
              "      <td>61.90</td>\n",
              "      <td>NaN</td>\n",
              "      <td>0</td>\n",
              "    </tr>\n",
              "  </tbody>\n",
              "</table>\n",
              "</div>"
            ],
            "text/plain": [
              "      customerID   BeginDate EndDate  ... MonthlyCharges TotalCharges Target\n",
              "488   4472-LVYGI  2020-02-01      No  ...          52.55          NaN      0\n",
              "753   3115-CZMZD  2020-02-01      No  ...          20.25          NaN      0\n",
              "936   5709-LVOEQ  2020-02-01      No  ...          80.85          NaN      0\n",
              "1082  4367-NUYAO  2020-02-01      No  ...          25.75          NaN      0\n",
              "1340  1371-DWPAZ  2020-02-01      No  ...          56.05          NaN      0\n",
              "3331  7644-OMVMY  2020-02-01      No  ...          19.85          NaN      0\n",
              "3826  3213-VVOLG  2020-02-01      No  ...          25.35          NaN      0\n",
              "4380  2520-SGTTA  2020-02-01      No  ...          20.00          NaN      0\n",
              "5218  2923-ARZLG  2020-02-01      No  ...          19.70          NaN      0\n",
              "6670  4075-WKNIU  2020-02-01      No  ...          73.35          NaN      0\n",
              "6754  2775-SEFEE  2020-02-01      No  ...          61.90          NaN      0\n",
              "\n",
              "[11 rows x 9 columns]"
            ]
          },
          "metadata": {},
          "execution_count": 465
        }
      ]
    },
    {
      "cell_type": "markdown",
      "metadata": {
        "id": "8RaE9_1axup2"
      },
      "source": [
        "Нецифровые значения заменены на Nan. У всех таких абонентов дата открытия договора - февраль 2020, а это значит, что суммарные затраты совпадают с тратами первого месяца, на что и заменю пропуски."
      ]
    },
    {
      "cell_type": "code",
      "metadata": {
        "colab": {
          "base_uri": "https://localhost:8080/"
        },
        "id": "q2UZHSMGx-hV",
        "outputId": "ed7ac8a5-a033-4cac-bb52-a6ea388f0104"
      },
      "source": [
        "contact['TotalCharges'] = contact['TotalCharges'].fillna(contact['MonthlyCharges'])\n",
        "print ('Количество пропусков в TotalCharges', contact['TotalCharges'].isna().sum())"
      ],
      "execution_count": null,
      "outputs": [
        {
          "output_type": "stream",
          "name": "stdout",
          "text": [
            "Количество пропусков в TotalCharges 0\n"
          ]
        }
      ]
    },
    {
      "cell_type": "markdown",
      "metadata": {
        "id": "kGm5cIvS4Dcy"
      },
      "source": [
        "Вводим новый признак - срок использования услуги. И удалим ненужные признаки такие как - PaperlessBilling, PaymentMethod, а также EndDate, поскольку его мы уже заменили на Таргет. Дату начала договора приведем к типу даты."
      ]
    },
    {
      "cell_type": "code",
      "metadata": {
        "id": "nVoyDD_ercXi"
      },
      "source": [
        "contact['TotalMonths'] = (contact['TotalCharges'] / contact['MonthlyCharges'] ).round(2)\n",
        "contact = contact.drop(['PaperlessBilling', 'PaymentMethod', 'EndDate'], axis =1)\n",
        "contact['BeginDate'] = pd.to_datetime(contact['BeginDate'], format='%Y-%m-%d')"
      ],
      "execution_count": null,
      "outputs": []
    },
    {
      "cell_type": "markdown",
      "metadata": {
        "id": "l1Zqr5LDo3JL"
      },
      "source": [
        "Год открытия договора вынесем в отдельный признак, он может быть важен на ряду с суммарным временем использования услуг, который посчитан через TotalCharge."
      ]
    },
    {
      "cell_type": "code",
      "metadata": {
        "colab": {
          "base_uri": "https://localhost:8080/",
          "height": 283
        },
        "id": "wcimDSr4VoKK",
        "outputId": "131fb298-150b-46ef-8b41-42c38b47eada"
      },
      "source": [
        "contact['MonthlyCharges'].hist(range=(15,45))"
      ],
      "execution_count": null,
      "outputs": [
        {
          "output_type": "execute_result",
          "data": {
            "text/plain": [
              "<matplotlib.axes._subplots.AxesSubplot at 0x7f84d450cb90>"
            ]
          },
          "metadata": {},
          "execution_count": 468
        },
        {
          "output_type": "display_data",
          "data": {
            "image/png": "[encoded data removed]",
            "text/plain": [
              "<Figure size 432x288 with 1 Axes>"
            ]
          },
          "metadata": {
            "needs_background": "light"
          }
        }
      ]
    },
    {
      "cell_type": "code",
      "metadata": {
        "id": "LAPWgugU9WYW"
      },
      "source": [
        "#contact['Year'] = pd.DatetimeIndex(contact['BeginDate']).year\n",
        "contact['CatClient'] = contact['MonthlyCharges'] // contact['MonthlyCharges'].min()\n",
        "contact['Basic'] = (contact['MonthlyCharges'] < 25) *1"
      ],
      "execution_count": null,
      "outputs": []
    },
    {
      "cell_type": "code",
      "metadata": {
        "colab": {
          "base_uri": "https://localhost:8080/",
          "height": 282
        },
        "id": "Pv0U0wgdV-gC",
        "outputId": "62fcfa2c-a8ab-4fff-96fb-b2defce409b8"
      },
      "source": [
        "contact['CatClient'].hist()"
      ],
      "execution_count": null,
      "outputs": [
        {
          "output_type": "execute_result",
          "data": {
            "text/plain": [
              "<matplotlib.axes._subplots.AxesSubplot at 0x7f84d52273d0>"
            ]
          },
          "metadata": {},
          "execution_count": 470
        },
        {
          "output_type": "display_data",
          "data": {
            "image/png": "[encoded data removed]",
            "text/plain": [
              "<Figure size 432x288 with 1 Axes>"
            ]
          },
          "metadata": {
            "needs_background": "light"
          }
        }
      ]
    },
    {
      "cell_type": "code",
      "metadata": {
        "colab": {
          "base_uri": "https://localhost:8080/"
        },
        "id": "HDn8DgZp4v6A",
        "outputId": "97324379-5e86-44c6-9fc9-77b5acd9f300"
      },
      "source": [
        "contact.info()"
      ],
      "execution_count": null,
      "outputs": [
        {
          "output_type": "stream",
          "name": "stdout",
          "text": [
            "<class 'pandas.core.frame.DataFrame'>\n",
            "RangeIndex: 7043 entries, 0 to 7042\n",
            "Data columns (total 9 columns):\n",
            " #   Column          Non-Null Count  Dtype         \n",
            "---  ------          --------------  -----         \n",
            " 0   customerID      7043 non-null   object        \n",
            " 1   BeginDate       7043 non-null   datetime64[ns]\n",
            " 2   Type            7043 non-null   object        \n",
            " 3   MonthlyCharges  7043 non-null   float64       \n",
            " 4   TotalCharges    7043 non-null   float64       \n",
            " 5   Target          7043 non-null   int64         \n",
            " 6   TotalMonths     7043 non-null   float64       \n",
            " 7   CatClient       7043 non-null   float64       \n",
            " 8   Basic           7043 non-null   int64         \n",
            "dtypes: datetime64[ns](1), float64(4), int64(2), object(2)\n",
            "memory usage: 495.3+ KB\n"
          ]
        }
      ]
    },
    {
      "cell_type": "code",
      "metadata": {
        "colab": {
          "base_uri": "https://localhost:8080/"
        },
        "id": "MH0KXa9L57bd",
        "outputId": "38878fb1-176c-4d2a-8cde-dae0dcc47e12"
      },
      "source": [
        "contact.duplicated().sum()"
      ],
      "execution_count": null,
      "outputs": [
        {
          "output_type": "execute_result",
          "data": {
            "text/plain": [
              "0"
            ]
          },
          "metadata": {},
          "execution_count": 472
        }
      ]
    },
    {
      "cell_type": "markdown",
      "metadata": {
        "id": "YvTQH9mt7fcS"
      },
      "source": [
        "Дубликатов нет, сейчас посмотрим на распределения значений, чтобы оценить наличие аномалий."
      ]
    },
    {
      "cell_type": "code",
      "metadata": {
        "colab": {
          "base_uri": "https://localhost:8080/",
          "height": 726
        },
        "id": "gkrdJj6r7Ovl",
        "outputId": "6d7b0b8d-e111-4280-e6b6-d32e1f35fd5e"
      },
      "source": [
        "contact.hist(figsize = (10,10))"
      ],
      "execution_count": null,
      "outputs": [
        {
          "output_type": "execute_result",
          "data": {
            "text/plain": [
              "array([[<matplotlib.axes._subplots.AxesSubplot object at 0x7f84d442bc90>,\n",
              "        <matplotlib.axes._subplots.AxesSubplot object at 0x7f84d445fc90>],\n",
              "       [<matplotlib.axes._subplots.AxesSubplot object at 0x7f84d441d150>,\n",
              "        <matplotlib.axes._subplots.AxesSubplot object at 0x7f84d43d26d0>],\n",
              "       [<matplotlib.axes._subplots.AxesSubplot object at 0x7f84d4385c50>,\n",
              "        <matplotlib.axes._subplots.AxesSubplot object at 0x7f84d4349210>]],\n",
              "      dtype=object)"
            ]
          },
          "metadata": {},
          "execution_count": 473
        },
        {
          "output_type": "display_data",
          "data": {
            "image/png": "[encoded data removed]",
            "text/plain": [
              "<Figure size 720x720 with 6 Axes>"
            ]
          },
          "metadata": {
            "needs_background": "light"
          }
        }
      ]
    },
    {
      "cell_type": "markdown",
      "metadata": {
        "id": "c-1wv1CB7wix"
      },
      "source": [
        "В целом распределения не особо равномерные. Существенный всплеск значений MonthlyCharges в районе 20у.е. может быть обусловлен самым дешевым (и потому популярным) тарифом. Посмотрим на него внимательней. Суммарные затраты похожи на экспоненциальное распределение, что похоже на правду, а вот TotalMonths имеет очень странную структуру, со пиком околонулевых значений. Посмотрим на него потом."
      ]
    },
    {
      "cell_type": "code",
      "metadata": {
        "colab": {
          "base_uri": "https://localhost:8080/",
          "height": 337
        },
        "id": "uC5Bys8Y8BNy",
        "outputId": "617ef39a-edba-4f98-fc86-748e95dd139c"
      },
      "source": [
        "contact[contact['MonthlyCharges'] <= 23]['MonthlyCharges'].hist(bins = 12, figsize = (5,5))"
      ],
      "execution_count": null,
      "outputs": [
        {
          "output_type": "execute_result",
          "data": {
            "text/plain": [
              "<matplotlib.axes._subplots.AxesSubplot at 0x7f84d4177e50>"
            ]
          },
          "metadata": {},
          "execution_count": 474
        },
        {
          "output_type": "display_data",
          "data": {
            "image/png": "[encoded data removed]",
            "text/plain": [
              "<Figure size 360x360 with 1 Axes>"
            ]
          },
          "metadata": {
            "needs_background": "light"
          }
        }
      ]
    },
    {
      "cell_type": "code",
      "metadata": {
        "colab": {
          "base_uri": "https://localhost:8080/",
          "height": 391
        },
        "id": "sV7HdE3f8nZp",
        "outputId": "8195d3d9-d97d-4f82-decd-f8f3010abac8"
      },
      "source": [
        "print(contact [contact['MonthlyCharges'] < 20.5 ]['MonthlyCharges'].value_counts(ascending = False).head(10))\n",
        "\n",
        "display(contact [contact['MonthlyCharges'] == 20].head())"
      ],
      "execution_count": null,
      "outputs": [
        {
          "output_type": "stream",
          "name": "stdout",
          "text": [
            "20.05    61\n",
            "19.85    45\n",
            "19.95    44\n",
            "19.90    44\n",
            "19.70    43\n",
            "20.00    43\n",
            "19.65    43\n",
            "20.15    40\n",
            "19.55    40\n",
            "19.75    39\n",
            "Name: MonthlyCharges, dtype: int64\n"
          ]
        },
        {
          "output_type": "display_data",
          "data": {
            "text/html": [
              "<div>\n",
              "<style scoped>\n",
              "    .dataframe tbody tr th:only-of-type {\n",
              "        vertical-align: middle;\n",
              "    }\n",
              "\n",
              "    .dataframe tbody tr th {\n",
              "        vertical-align: top;\n",
              "    }\n",
              "\n",
              "    .dataframe thead th {\n",
              "        text-align: right;\n",
              "    }\n",
              "</style>\n",
              "<table border=\"1\" class=\"dataframe\">\n",
              "  <thead>\n",
              "    <tr style=\"text-align: right;\">\n",
              "      <th></th>\n",
              "      <th>customerID</th>\n",
              "      <th>BeginDate</th>\n",
              "      <th>Type</th>\n",
              "      <th>MonthlyCharges</th>\n",
              "      <th>TotalCharges</th>\n",
              "      <th>Target</th>\n",
              "      <th>TotalMonths</th>\n",
              "      <th>CatClient</th>\n",
              "      <th>Basic</th>\n",
              "    </tr>\n",
              "  </thead>\n",
              "  <tbody>\n",
              "    <tr>\n",
              "      <th>213</th>\n",
              "      <td>4709-LKHYG</td>\n",
              "      <td>2017-09-01</td>\n",
              "      <td>One year</td>\n",
              "      <td>20.0</td>\n",
              "      <td>540.05</td>\n",
              "      <td>0</td>\n",
              "      <td>27.00</td>\n",
              "      <td>1.0</td>\n",
              "      <td>1</td>\n",
              "    </tr>\n",
              "    <tr>\n",
              "      <th>458</th>\n",
              "      <td>4237-CLSMM</td>\n",
              "      <td>2019-12-01</td>\n",
              "      <td>Month-to-month</td>\n",
              "      <td>20.0</td>\n",
              "      <td>38.00</td>\n",
              "      <td>0</td>\n",
              "      <td>1.90</td>\n",
              "      <td>1.0</td>\n",
              "      <td>1</td>\n",
              "    </tr>\n",
              "    <tr>\n",
              "      <th>584</th>\n",
              "      <td>2393-DIVAI</td>\n",
              "      <td>2019-11-01</td>\n",
              "      <td>Month-to-month</td>\n",
              "      <td>20.0</td>\n",
              "      <td>61.70</td>\n",
              "      <td>0</td>\n",
              "      <td>3.08</td>\n",
              "      <td>1.0</td>\n",
              "      <td>1</td>\n",
              "    </tr>\n",
              "    <tr>\n",
              "      <th>624</th>\n",
              "      <td>1009-IRMNA</td>\n",
              "      <td>2019-04-01</td>\n",
              "      <td>Month-to-month</td>\n",
              "      <td>20.0</td>\n",
              "      <td>137.60</td>\n",
              "      <td>1</td>\n",
              "      <td>6.88</td>\n",
              "      <td>1.0</td>\n",
              "      <td>1</td>\n",
              "    </tr>\n",
              "    <tr>\n",
              "      <th>798</th>\n",
              "      <td>3807-XHCJH</td>\n",
              "      <td>2020-01-01</td>\n",
              "      <td>Month-to-month</td>\n",
              "      <td>20.0</td>\n",
              "      <td>20.00</td>\n",
              "      <td>0</td>\n",
              "      <td>1.00</td>\n",
              "      <td>1.0</td>\n",
              "      <td>1</td>\n",
              "    </tr>\n",
              "  </tbody>\n",
              "</table>\n",
              "</div>"
            ],
            "text/plain": [
              "     customerID  BeginDate            Type  ...  TotalMonths  CatClient  Basic\n",
              "213  4709-LKHYG 2017-09-01        One year  ...        27.00        1.0      1\n",
              "458  4237-CLSMM 2019-12-01  Month-to-month  ...         1.90        1.0      1\n",
              "584  2393-DIVAI 2019-11-01  Month-to-month  ...         3.08        1.0      1\n",
              "624  1009-IRMNA 2019-04-01  Month-to-month  ...         6.88        1.0      1\n",
              "798  3807-XHCJH 2020-01-01  Month-to-month  ...         1.00        1.0      1\n",
              "\n",
              "[5 rows x 9 columns]"
            ]
          },
          "metadata": {}
        }
      ]
    },
    {
      "cell_type": "markdown",
      "metadata": {
        "id": "Oq2uaQpx9NAf"
      },
      "source": [
        "Похоже, что 20 у.е. это минимальный тариф, которое выбирает большинство абонентов. Поэтому всплекск есть, но его можно объяснить. Посмотрим сейчас на минимальный значения суммарных поступлений."
      ]
    },
    {
      "cell_type": "code",
      "metadata": {
        "colab": {
          "base_uri": "https://localhost:8080/",
          "height": 337
        },
        "id": "D-9G0BDj9NY-",
        "outputId": "02ca742e-65d5-4664-c46d-11ca56cf2dcf"
      },
      "source": [
        "contact[contact['TotalCharges'] <= 50]['TotalCharges'].hist(bins = 10, figsize = (5,5))"
      ],
      "execution_count": null,
      "outputs": [
        {
          "output_type": "execute_result",
          "data": {
            "text/plain": [
              "<matplotlib.axes._subplots.AxesSubplot at 0x7f84d41678d0>"
            ]
          },
          "metadata": {},
          "execution_count": 476
        },
        {
          "output_type": "display_data",
          "data": {
            "image/png": "[encoded data removed]",
            "text/plain": [
              "<Figure size 360x360 with 1 Axes>"
            ]
          },
          "metadata": {
            "needs_background": "light"
          }
        }
      ]
    },
    {
      "cell_type": "code",
      "metadata": {
        "colab": {
          "base_uri": "https://localhost:8080/"
        },
        "id": "-vBs9gFT9iSP",
        "outputId": "3c1ba936-538d-4e6b-f261-e3b439accac9"
      },
      "source": [
        "contact[contact['TotalCharges'] <= 25]['TotalMonths'].value_counts()"
      ],
      "execution_count": null,
      "outputs": [
        {
          "output_type": "execute_result",
          "data": {
            "text/plain": [
              "1.0    182\n",
              "Name: TotalMonths, dtype: int64"
            ]
          },
          "metadata": {},
          "execution_count": 477
        }
      ]
    },
    {
      "cell_type": "markdown",
      "metadata": {
        "id": "hYlGMlcI5_2E"
      },
      "source": [
        "Люди, заплатившие до 25 у.е. пользуются услугами 1 месяц, это значит, что данные скорее верны, чем ошибочны. "
      ]
    },
    {
      "cell_type": "code",
      "metadata": {
        "colab": {
          "base_uri": "https://localhost:8080/",
          "height": 391
        },
        "id": "6JyLaWp_Fs8z",
        "outputId": "2c1e9929-30f3-474d-f3ca-b508cb7f37f4"
      },
      "source": [
        "contact['TotalMonths'].hist(range=(1,5), bins = 10, figsize = (6,6))"
      ],
      "execution_count": null,
      "outputs": [
        {
          "output_type": "execute_result",
          "data": {
            "text/plain": [
              "<matplotlib.axes._subplots.AxesSubplot at 0x7f84d40a0b10>"
            ]
          },
          "metadata": {},
          "execution_count": 478
        },
        {
          "output_type": "display_data",
          "data": {
            "image/png": "[encoded data removed]",
            "text/plain": [
              "<Figure size 432x432 with 1 Axes>"
            ]
          },
          "metadata": {
            "needs_background": "light"
          }
        }
      ]
    },
    {
      "cell_type": "markdown",
      "metadata": {
        "id": "V7gFtFeVGJYR"
      },
      "source": [
        "Очень много новичков. С первого месяца давать скидку это моветон, поэтому их вообще вычеркнем из базы данных, чтоб не нарушать отчетности. Вполне возможно, это вбросы, т.к. соседние месяцы сильно отличаются от первого. "
      ]
    },
    {
      "cell_type": "code",
      "metadata": {
        "id": "3KKGmUZY99FB"
      },
      "source": [
        "contact = contact[contact['TotalMonths'] > 1].copy()"
      ],
      "execution_count": null,
      "outputs": []
    },
    {
      "cell_type": "code",
      "metadata": {
        "colab": {
          "base_uri": "https://localhost:8080/",
          "height": 726
        },
        "id": "JhFMLtA4-OS5",
        "outputId": "eb95b716-47e5-43dc-ef41-f49ebc47cae4"
      },
      "source": [
        "contact.hist(figsize = (10,10))"
      ],
      "execution_count": null,
      "outputs": [
        {
          "output_type": "execute_result",
          "data": {
            "text/plain": [
              "array([[<matplotlib.axes._subplots.AxesSubplot object at 0x7f84d3fda350>,\n",
              "        <matplotlib.axes._subplots.AxesSubplot object at 0x7f84d3f82190>],\n",
              "       [<matplotlib.axes._subplots.AxesSubplot object at 0x7f84d3f3a650>,\n",
              "        <matplotlib.axes._subplots.AxesSubplot object at 0x7f84d3eeebd0>],\n",
              "       [<matplotlib.axes._subplots.AxesSubplot object at 0x7f84d3eaf190>,\n",
              "        <matplotlib.axes._subplots.AxesSubplot object at 0x7f84d3ee5710>]],\n",
              "      dtype=object)"
            ]
          },
          "metadata": {},
          "execution_count": 480
        },
        {
          "output_type": "display_data",
          "data": {
            "image/png": "[encoded data removed]",
            "text/plain": [
              "<Figure size 720x720 with 6 Axes>"
            ]
          },
          "metadata": {
            "needs_background": "light"
          }
        }
      ]
    },
    {
      "cell_type": "markdown",
      "metadata": {
        "id": "hlwsVH57-64k"
      },
      "source": [
        "Немного подсбаллансировали выборку, удалив тех, кто пользуется услугами менее 1 месяца. Старый друг лучше новых двух, поэтому сконцентрируем работу модели на клиентах, которые пришли не ради скидки, а ради услуг. "
      ]
    },
    {
      "cell_type": "code",
      "metadata": {
        "colab": {
          "base_uri": "https://localhost:8080/",
          "height": 297
        },
        "id": "D_JOt2jzyYhR",
        "outputId": "d08b4c4f-8ca8-4bbd-a4f5-df057064a535"
      },
      "source": [
        "contact.describe()"
      ],
      "execution_count": null,
      "outputs": [
        {
          "output_type": "execute_result",
          "data": {
            "text/html": [
              "<div>\n",
              "<style scoped>\n",
              "    .dataframe tbody tr th:only-of-type {\n",
              "        vertical-align: middle;\n",
              "    }\n",
              "\n",
              "    .dataframe tbody tr th {\n",
              "        vertical-align: top;\n",
              "    }\n",
              "\n",
              "    .dataframe thead th {\n",
              "        text-align: right;\n",
              "    }\n",
              "</style>\n",
              "<table border=\"1\" class=\"dataframe\">\n",
              "  <thead>\n",
              "    <tr style=\"text-align: right;\">\n",
              "      <th></th>\n",
              "      <th>MonthlyCharges</th>\n",
              "      <th>TotalCharges</th>\n",
              "      <th>Target</th>\n",
              "      <th>TotalMonths</th>\n",
              "      <th>CatClient</th>\n",
              "      <th>Basic</th>\n",
              "    </tr>\n",
              "  </thead>\n",
              "  <tbody>\n",
              "    <tr>\n",
              "      <th>count</th>\n",
              "      <td>6419.000000</td>\n",
              "      <td>6419.000000</td>\n",
              "      <td>6419.000000</td>\n",
              "      <td>6419.000000</td>\n",
              "      <td>6419.000000</td>\n",
              "      <td>6419.000000</td>\n",
              "    </tr>\n",
              "    <tr>\n",
              "      <th>mean</th>\n",
              "      <td>66.165010</td>\n",
              "      <td>2496.529195</td>\n",
              "      <td>0.231968</td>\n",
              "      <td>35.425009</td>\n",
              "      <td>3.192086</td>\n",
              "      <td>0.188191</td>\n",
              "    </tr>\n",
              "    <tr>\n",
              "      <th>std</th>\n",
              "      <td>30.198406</td>\n",
              "      <td>2259.936740</td>\n",
              "      <td>0.422121</td>\n",
              "      <td>23.635969</td>\n",
              "      <td>1.573788</td>\n",
              "      <td>0.390895</td>\n",
              "    </tr>\n",
              "    <tr>\n",
              "      <th>min</th>\n",
              "      <td>18.250000</td>\n",
              "      <td>27.550000</td>\n",
              "      <td>0.000000</td>\n",
              "      <td>1.410000</td>\n",
              "      <td>1.000000</td>\n",
              "      <td>0.000000</td>\n",
              "    </tr>\n",
              "    <tr>\n",
              "      <th>25%</th>\n",
              "      <td>39.650000</td>\n",
              "      <td>606.925000</td>\n",
              "      <td>0.000000</td>\n",
              "      <td>12.880000</td>\n",
              "      <td>2.000000</td>\n",
              "      <td>0.000000</td>\n",
              "    </tr>\n",
              "    <tr>\n",
              "      <th>50%</th>\n",
              "      <td>72.950000</td>\n",
              "      <td>1651.950000</td>\n",
              "      <td>0.000000</td>\n",
              "      <td>33.220000</td>\n",
              "      <td>3.000000</td>\n",
              "      <td>0.000000</td>\n",
              "    </tr>\n",
              "    <tr>\n",
              "      <th>75%</th>\n",
              "      <td>90.800000</td>\n",
              "      <td>4066.500000</td>\n",
              "      <td>0.000000</td>\n",
              "      <td>57.635000</td>\n",
              "      <td>4.000000</td>\n",
              "      <td>0.000000</td>\n",
              "    </tr>\n",
              "    <tr>\n",
              "      <th>max</th>\n",
              "      <td>118.750000</td>\n",
              "      <td>8684.800000</td>\n",
              "      <td>1.000000</td>\n",
              "      <td>79.340000</td>\n",
              "      <td>6.000000</td>\n",
              "      <td>1.000000</td>\n",
              "    </tr>\n",
              "  </tbody>\n",
              "</table>\n",
              "</div>"
            ],
            "text/plain": [
              "       MonthlyCharges  TotalCharges  ...    CatClient        Basic\n",
              "count     6419.000000   6419.000000  ...  6419.000000  6419.000000\n",
              "mean        66.165010   2496.529195  ...     3.192086     0.188191\n",
              "std         30.198406   2259.936740  ...     1.573788     0.390895\n",
              "min         18.250000     27.550000  ...     1.000000     0.000000\n",
              "25%         39.650000    606.925000  ...     2.000000     0.000000\n",
              "50%         72.950000   1651.950000  ...     3.000000     0.000000\n",
              "75%         90.800000   4066.500000  ...     4.000000     0.000000\n",
              "max        118.750000   8684.800000  ...     6.000000     1.000000\n",
              "\n",
              "[8 rows x 6 columns]"
            ]
          },
          "metadata": {},
          "execution_count": 481
        }
      ]
    },
    {
      "cell_type": "markdown",
      "metadata": {
        "id": "NbooWDLsysTE"
      },
      "source": [
        "После обработки базы контактов данные выглядят так. Характерных вбросов нет,  максимальные и минимальные значения без аномалий. Можно переходить дальше."
      ]
    },
    {
      "cell_type": "markdown",
      "metadata": {
        "id": "0RZAiOielens"
      },
      "source": [
        "### Персональные данные"
      ]
    },
    {
      "cell_type": "code",
      "metadata": {
        "colab": {
          "base_uri": "https://localhost:8080/"
        },
        "id": "wsjVZrh_kOfB",
        "outputId": "b927b21f-0fe0-433f-b200-00e9074d7251"
      },
      "source": [
        "personal.info()"
      ],
      "execution_count": null,
      "outputs": [
        {
          "output_type": "stream",
          "name": "stdout",
          "text": [
            "<class 'pandas.core.frame.DataFrame'>\n",
            "RangeIndex: 7043 entries, 0 to 7042\n",
            "Data columns (total 5 columns):\n",
            " #   Column         Non-Null Count  Dtype \n",
            "---  ------         --------------  ----- \n",
            " 0   customerID     7043 non-null   object\n",
            " 1   gender         7043 non-null   object\n",
            " 2   SeniorCitizen  7043 non-null   int64 \n",
            " 3   Partner        7043 non-null   object\n",
            " 4   Dependents     7043 non-null   object\n",
            "dtypes: int64(1), object(4)\n",
            "memory usage: 275.2+ KB\n"
          ]
        }
      ]
    },
    {
      "cell_type": "code",
      "metadata": {
        "colab": {
          "base_uri": "https://localhost:8080/",
          "height": 111
        },
        "id": "AEFW5b_MkGoj",
        "outputId": "83c30c20-4f6c-4334-9a40-a491c2a8c7ff"
      },
      "source": [
        "personal.head(2)"
      ],
      "execution_count": null,
      "outputs": [
        {
          "output_type": "execute_result",
          "data": {
            "text/html": [
              "<div>\n",
              "<style scoped>\n",
              "    .dataframe tbody tr th:only-of-type {\n",
              "        vertical-align: middle;\n",
              "    }\n",
              "\n",
              "    .dataframe tbody tr th {\n",
              "        vertical-align: top;\n",
              "    }\n",
              "\n",
              "    .dataframe thead th {\n",
              "        text-align: right;\n",
              "    }\n",
              "</style>\n",
              "<table border=\"1\" class=\"dataframe\">\n",
              "  <thead>\n",
              "    <tr style=\"text-align: right;\">\n",
              "      <th></th>\n",
              "      <th>customerID</th>\n",
              "      <th>gender</th>\n",
              "      <th>SeniorCitizen</th>\n",
              "      <th>Partner</th>\n",
              "      <th>Dependents</th>\n",
              "    </tr>\n",
              "  </thead>\n",
              "  <tbody>\n",
              "    <tr>\n",
              "      <th>0</th>\n",
              "      <td>7590-VHVEG</td>\n",
              "      <td>Female</td>\n",
              "      <td>0</td>\n",
              "      <td>Yes</td>\n",
              "      <td>No</td>\n",
              "    </tr>\n",
              "    <tr>\n",
              "      <th>1</th>\n",
              "      <td>5575-GNVDE</td>\n",
              "      <td>Male</td>\n",
              "      <td>0</td>\n",
              "      <td>No</td>\n",
              "      <td>No</td>\n",
              "    </tr>\n",
              "  </tbody>\n",
              "</table>\n",
              "</div>"
            ],
            "text/plain": [
              "   customerID  gender  SeniorCitizen Partner Dependents\n",
              "0  7590-VHVEG  Female              0     Yes         No\n",
              "1  5575-GNVDE    Male              0      No         No"
            ]
          },
          "metadata": {},
          "execution_count": 483
        }
      ]
    },
    {
      "cell_type": "markdown",
      "metadata": {
        "id": "dUuk_j24lpDx"
      },
      "source": [
        "Количество записей в персональных данных совпадает с их количеством в договорах, поэтому я планирую их объединить. Но сперва посмотрим. какие данные нам нужны. Пол человека - наверное, важный показатель, как и возраст. А вот партнер или иждивенец - тут всё не так очевидно. Посмотрим на них внимательней."
      ]
    },
    {
      "cell_type": "code",
      "metadata": {
        "id": "TQOf-VAUmsPn"
      },
      "source": [
        "personal['Partner'] = (personal['Partner'] == 'Yes') * 1\n",
        "personal['Dependents'] = (personal['Dependents'] == 'Yes') * 1\n",
        "personal['Female'] = (personal['gender'] == 'Female') * 1"
      ],
      "execution_count": null,
      "outputs": []
    },
    {
      "cell_type": "code",
      "metadata": {
        "colab": {
          "base_uri": "https://localhost:8080/",
          "height": 584
        },
        "id": "uGhRXxMLmsXF",
        "outputId": "d908e986-8eff-4bbb-856a-1c240d71c5d2"
      },
      "source": [
        "personal.hist(figsize=(8,8))"
      ],
      "execution_count": null,
      "outputs": [
        {
          "output_type": "execute_result",
          "data": {
            "text/plain": [
              "array([[<matplotlib.axes._subplots.AxesSubplot object at 0x7f84d3cbd750>,\n",
              "        <matplotlib.axes._subplots.AxesSubplot object at 0x7f84d6de9dd0>],\n",
              "       [<matplotlib.axes._subplots.AxesSubplot object at 0x7f84d57490d0>,\n",
              "        <matplotlib.axes._subplots.AxesSubplot object at 0x7f84d6fa0790>]],\n",
              "      dtype=object)"
            ]
          },
          "metadata": {},
          "execution_count": 485
        },
        {
          "output_type": "display_data",
          "data": {
            "image/png": "[encoded data removed]",
            "text/plain": [
              "<Figure size 576x576 with 4 Axes>"
            ]
          },
          "metadata": {
            "needs_background": "light"
          }
        }
      ]
    },
    {
      "cell_type": "code",
      "metadata": {
        "colab": {
          "base_uri": "https://localhost:8080/",
          "height": 173
        },
        "id": "HOIQmXETmsaF",
        "outputId": "5b0b6ff9-13ce-43ce-fd78-c984784a0e66"
      },
      "source": [
        "personal.corr(method = 'spearman')"
      ],
      "execution_count": null,
      "outputs": [
        {
          "output_type": "execute_result",
          "data": {
            "text/html": [
              "<div>\n",
              "<style scoped>\n",
              "    .dataframe tbody tr th:only-of-type {\n",
              "        vertical-align: middle;\n",
              "    }\n",
              "\n",
              "    .dataframe tbody tr th {\n",
              "        vertical-align: top;\n",
              "    }\n",
              "\n",
              "    .dataframe thead th {\n",
              "        text-align: right;\n",
              "    }\n",
              "</style>\n",
              "<table border=\"1\" class=\"dataframe\">\n",
              "  <thead>\n",
              "    <tr style=\"text-align: right;\">\n",
              "      <th></th>\n",
              "      <th>SeniorCitizen</th>\n",
              "      <th>Partner</th>\n",
              "      <th>Dependents</th>\n",
              "      <th>Female</th>\n",
              "    </tr>\n",
              "  </thead>\n",
              "  <tbody>\n",
              "    <tr>\n",
              "      <th>SeniorCitizen</th>\n",
              "      <td>1.000000</td>\n",
              "      <td>0.016479</td>\n",
              "      <td>-0.211185</td>\n",
              "      <td>0.001874</td>\n",
              "    </tr>\n",
              "    <tr>\n",
              "      <th>Partner</th>\n",
              "      <td>0.016479</td>\n",
              "      <td>1.000000</td>\n",
              "      <td>0.452676</td>\n",
              "      <td>0.001808</td>\n",
              "    </tr>\n",
              "    <tr>\n",
              "      <th>Dependents</th>\n",
              "      <td>-0.211185</td>\n",
              "      <td>0.452676</td>\n",
              "      <td>1.000000</td>\n",
              "      <td>-0.010517</td>\n",
              "    </tr>\n",
              "    <tr>\n",
              "      <th>Female</th>\n",
              "      <td>0.001874</td>\n",
              "      <td>0.001808</td>\n",
              "      <td>-0.010517</td>\n",
              "      <td>1.000000</td>\n",
              "    </tr>\n",
              "  </tbody>\n",
              "</table>\n",
              "</div>"
            ],
            "text/plain": [
              "               SeniorCitizen   Partner  Dependents    Female\n",
              "SeniorCitizen       1.000000  0.016479   -0.211185  0.001874\n",
              "Partner             0.016479  1.000000    0.452676  0.001808\n",
              "Dependents         -0.211185  0.452676    1.000000 -0.010517\n",
              "Female              0.001874  0.001808   -0.010517  1.000000"
            ]
          },
          "metadata": {},
          "execution_count": 486
        }
      ]
    },
    {
      "cell_type": "markdown",
      "metadata": {
        "id": "8lJ6ppB5qbqw"
      },
      "source": [
        "Корреляции между признаками особой нет. Надо либо все добавлять, либо все удалять. Я добавлю, будет обидно выкидывать признаки, которые могут оказаться полезными (а могут и не оказаться, тогда их удалим позже)."
      ]
    },
    {
      "cell_type": "code",
      "metadata": {
        "colab": {
          "base_uri": "https://localhost:8080/",
          "height": 111
        },
        "id": "r1WKjhq_qqMW",
        "outputId": "7df8dea1-d1dc-42ca-ea45-b2f2829f73a5"
      },
      "source": [
        "personal =  personal.drop('gender', 1)\n",
        "personal.head(2)"
      ],
      "execution_count": null,
      "outputs": [
        {
          "output_type": "execute_result",
          "data": {
            "text/html": [
              "<div>\n",
              "<style scoped>\n",
              "    .dataframe tbody tr th:only-of-type {\n",
              "        vertical-align: middle;\n",
              "    }\n",
              "\n",
              "    .dataframe tbody tr th {\n",
              "        vertical-align: top;\n",
              "    }\n",
              "\n",
              "    .dataframe thead th {\n",
              "        text-align: right;\n",
              "    }\n",
              "</style>\n",
              "<table border=\"1\" class=\"dataframe\">\n",
              "  <thead>\n",
              "    <tr style=\"text-align: right;\">\n",
              "      <th></th>\n",
              "      <th>customerID</th>\n",
              "      <th>SeniorCitizen</th>\n",
              "      <th>Partner</th>\n",
              "      <th>Dependents</th>\n",
              "      <th>Female</th>\n",
              "    </tr>\n",
              "  </thead>\n",
              "  <tbody>\n",
              "    <tr>\n",
              "      <th>0</th>\n",
              "      <td>7590-VHVEG</td>\n",
              "      <td>0</td>\n",
              "      <td>1</td>\n",
              "      <td>0</td>\n",
              "      <td>1</td>\n",
              "    </tr>\n",
              "    <tr>\n",
              "      <th>1</th>\n",
              "      <td>5575-GNVDE</td>\n",
              "      <td>0</td>\n",
              "      <td>0</td>\n",
              "      <td>0</td>\n",
              "      <td>0</td>\n",
              "    </tr>\n",
              "  </tbody>\n",
              "</table>\n",
              "</div>"
            ],
            "text/plain": [
              "   customerID  SeniorCitizen  Partner  Dependents  Female\n",
              "0  7590-VHVEG              0        1           0       1\n",
              "1  5575-GNVDE              0        0           0       0"
            ]
          },
          "metadata": {},
          "execution_count": 487
        }
      ]
    },
    {
      "cell_type": "markdown",
      "metadata": {
        "id": "SL_qjR_hq47-"
      },
      "source": [
        "Объединим таблицы personal и contact в общую, с которой будем потом работать, таким образом, чтобы сохранились все данные из контактов, но не попали лишние."
      ]
    },
    {
      "cell_type": "code",
      "metadata": {
        "id": "RiUwQGhOq4L_"
      },
      "source": [
        "df = contact.merge (personal, on = 'customerID', how = 'left')"
      ],
      "execution_count": null,
      "outputs": []
    },
    {
      "cell_type": "code",
      "metadata": {
        "colab": {
          "base_uri": "https://localhost:8080/"
        },
        "id": "9iZPZHPlrRxU",
        "outputId": "1de72e86-e4cc-4e30-bc65-7e52fabf9d1c"
      },
      "source": [
        "df.info()"
      ],
      "execution_count": null,
      "outputs": [
        {
          "output_type": "stream",
          "name": "stdout",
          "text": [
            "<class 'pandas.core.frame.DataFrame'>\n",
            "Int64Index: 6419 entries, 0 to 6418\n",
            "Data columns (total 13 columns):\n",
            " #   Column          Non-Null Count  Dtype         \n",
            "---  ------          --------------  -----         \n",
            " 0   customerID      6419 non-null   object        \n",
            " 1   BeginDate       6419 non-null   datetime64[ns]\n",
            " 2   Type            6419 non-null   object        \n",
            " 3   MonthlyCharges  6419 non-null   float64       \n",
            " 4   TotalCharges    6419 non-null   float64       \n",
            " 5   Target          6419 non-null   int64         \n",
            " 6   TotalMonths     6419 non-null   float64       \n",
            " 7   CatClient       6419 non-null   float64       \n",
            " 8   Basic           6419 non-null   int64         \n",
            " 9   SeniorCitizen   6419 non-null   int64         \n",
            " 10  Partner         6419 non-null   int64         \n",
            " 11  Dependents      6419 non-null   int64         \n",
            " 12  Female          6419 non-null   int64         \n",
            "dtypes: datetime64[ns](1), float64(4), int64(6), object(2)\n",
            "memory usage: 702.1+ KB\n"
          ]
        }
      ]
    },
    {
      "cell_type": "markdown",
      "metadata": {
        "id": "HFeenhyIsGpD"
      },
      "source": [
        "Объединение прошло успешно, лишние значения не появились. Переходим далее."
      ]
    },
    {
      "cell_type": "markdown",
      "metadata": {
        "id": "Js9yUyKlrk7t"
      },
      "source": [
        "### Телефон"
      ]
    },
    {
      "cell_type": "code",
      "metadata": {
        "colab": {
          "base_uri": "https://localhost:8080/"
        },
        "id": "ugGbMhQ4sfEK",
        "outputId": "a144f17d-dfd8-4e3c-aa08-1f9e9c3a3792"
      },
      "source": [
        "phone.info()"
      ],
      "execution_count": null,
      "outputs": [
        {
          "output_type": "stream",
          "name": "stdout",
          "text": [
            "<class 'pandas.core.frame.DataFrame'>\n",
            "RangeIndex: 6361 entries, 0 to 6360\n",
            "Data columns (total 2 columns):\n",
            " #   Column         Non-Null Count  Dtype \n",
            "---  ------         --------------  ----- \n",
            " 0   customerID     6361 non-null   object\n",
            " 1   MultipleLines  6361 non-null   object\n",
            "dtypes: object(2)\n",
            "memory usage: 99.5+ KB\n"
          ]
        }
      ]
    },
    {
      "cell_type": "code",
      "metadata": {
        "id": "5bSfWdRqsl3j"
      },
      "source": [
        "phone['MultipleLines'] = (phone['MultipleLines'] == 'Yes') * 1"
      ],
      "execution_count": null,
      "outputs": []
    },
    {
      "cell_type": "markdown",
      "metadata": {
        "id": "lpRLi9vBtJCp"
      },
      "source": [
        "Тут только 1 параметр, но он не для всех пользователей. Видимо, те, кого тут нет, у них нет и телефона. Присоединим всех к уже существующей общей таблице. И добавим параметр Телефон, пропуски заменю на нули - нет телефона, нет мультилинии."
      ]
    },
    {
      "cell_type": "code",
      "metadata": {
        "id": "t7LzWBNhtH7K"
      },
      "source": [
        "df = df.merge(phone, on = 'customerID', how = 'left')"
      ],
      "execution_count": null,
      "outputs": []
    },
    {
      "cell_type": "code",
      "metadata": {
        "id": "pZRGWXhkuuNT"
      },
      "source": [
        "df['Phone'] = (df['MultipleLines'].isna() == False) * 1\n",
        "df['MultipleLines'] = df['MultipleLines'].fillna(0).astype('int')"
      ],
      "execution_count": null,
      "outputs": []
    },
    {
      "cell_type": "code",
      "metadata": {
        "colab": {
          "base_uri": "https://localhost:8080/",
          "height": 111
        },
        "id": "_hX-psSRvDxO",
        "outputId": "d431913a-aeb6-4055-863e-f22bf0665a55"
      },
      "source": [
        "df.head(2)\n",
        "#df.info()"
      ],
      "execution_count": null,
      "outputs": [
        {
          "output_type": "execute_result",
          "data": {
            "text/html": [
              "<div>\n",
              "<style scoped>\n",
              "    .dataframe tbody tr th:only-of-type {\n",
              "        vertical-align: middle;\n",
              "    }\n",
              "\n",
              "    .dataframe tbody tr th {\n",
              "        vertical-align: top;\n",
              "    }\n",
              "\n",
              "    .dataframe thead th {\n",
              "        text-align: right;\n",
              "    }\n",
              "</style>\n",
              "<table border=\"1\" class=\"dataframe\">\n",
              "  <thead>\n",
              "    <tr style=\"text-align: right;\">\n",
              "      <th></th>\n",
              "      <th>customerID</th>\n",
              "      <th>BeginDate</th>\n",
              "      <th>Type</th>\n",
              "      <th>MonthlyCharges</th>\n",
              "      <th>TotalCharges</th>\n",
              "      <th>Target</th>\n",
              "      <th>TotalMonths</th>\n",
              "      <th>CatClient</th>\n",
              "      <th>Basic</th>\n",
              "      <th>SeniorCitizen</th>\n",
              "      <th>Partner</th>\n",
              "      <th>Dependents</th>\n",
              "      <th>Female</th>\n",
              "      <th>MultipleLines</th>\n",
              "      <th>Phone</th>\n",
              "    </tr>\n",
              "  </thead>\n",
              "  <tbody>\n",
              "    <tr>\n",
              "      <th>0</th>\n",
              "      <td>5575-GNVDE</td>\n",
              "      <td>2017-04-01</td>\n",
              "      <td>One year</td>\n",
              "      <td>56.95</td>\n",
              "      <td>1889.50</td>\n",
              "      <td>0</td>\n",
              "      <td>33.18</td>\n",
              "      <td>3.0</td>\n",
              "      <td>0</td>\n",
              "      <td>0</td>\n",
              "      <td>0</td>\n",
              "      <td>0</td>\n",
              "      <td>0</td>\n",
              "      <td>0</td>\n",
              "      <td>1</td>\n",
              "    </tr>\n",
              "    <tr>\n",
              "      <th>1</th>\n",
              "      <td>3668-QPYBK</td>\n",
              "      <td>2019-10-01</td>\n",
              "      <td>Month-to-month</td>\n",
              "      <td>53.85</td>\n",
              "      <td>108.15</td>\n",
              "      <td>1</td>\n",
              "      <td>2.01</td>\n",
              "      <td>2.0</td>\n",
              "      <td>0</td>\n",
              "      <td>0</td>\n",
              "      <td>0</td>\n",
              "      <td>0</td>\n",
              "      <td>0</td>\n",
              "      <td>0</td>\n",
              "      <td>1</td>\n",
              "    </tr>\n",
              "  </tbody>\n",
              "</table>\n",
              "</div>"
            ],
            "text/plain": [
              "   customerID  BeginDate            Type  ...  Female  MultipleLines  Phone\n",
              "0  5575-GNVDE 2017-04-01        One year  ...       0              0      1\n",
              "1  3668-QPYBK 2019-10-01  Month-to-month  ...       0              0      1\n",
              "\n",
              "[2 rows x 15 columns]"
            ]
          },
          "metadata": {},
          "execution_count": 494
        }
      ]
    },
    {
      "cell_type": "markdown",
      "metadata": {
        "id": "IuRNa6hJvoZ2"
      },
      "source": [
        "Новый признак появлися, объединение прошло успешно. Осталось разобраться с интернетом."
      ]
    },
    {
      "cell_type": "markdown",
      "metadata": {
        "id": "zjJs_GDVjnmt"
      },
      "source": [
        "### Интернет"
      ]
    },
    {
      "cell_type": "code",
      "metadata": {
        "colab": {
          "base_uri": "https://localhost:8080/"
        },
        "id": "S4gyZzYMCM-S",
        "outputId": "3fc033bc-428a-4b2b-e446-518c7bafcc88"
      },
      "source": [
        "internet.info()"
      ],
      "execution_count": null,
      "outputs": [
        {
          "output_type": "stream",
          "name": "stdout",
          "text": [
            "<class 'pandas.core.frame.DataFrame'>\n",
            "RangeIndex: 5517 entries, 0 to 5516\n",
            "Data columns (total 8 columns):\n",
            " #   Column            Non-Null Count  Dtype \n",
            "---  ------            --------------  ----- \n",
            " 0   customerID        5517 non-null   object\n",
            " 1   InternetService   5517 non-null   object\n",
            " 2   OnlineSecurity    5517 non-null   object\n",
            " 3   OnlineBackup      5517 non-null   object\n",
            " 4   DeviceProtection  5517 non-null   object\n",
            " 5   TechSupport       5517 non-null   object\n",
            " 6   StreamingTV       5517 non-null   object\n",
            " 7   StreamingMovies   5517 non-null   object\n",
            "dtypes: object(8)\n",
            "memory usage: 344.9+ KB\n"
          ]
        }
      ]
    },
    {
      "cell_type": "markdown",
      "metadata": {
        "id": "z0Tgajf5wAG8"
      },
      "source": [
        "Тут ситуация аналогичная с телефоном. Заполнены не все кастомер ай-ди, значит у некоторых нет интренета (они пользуются только телеофном (надо будет проверить)), поэтому можно ввести еще один признак - Интренет. "
      ]
    },
    {
      "cell_type": "code",
      "metadata": {
        "colab": {
          "base_uri": "https://localhost:8080/",
          "height": 204
        },
        "id": "1kER3jhJwaAr",
        "outputId": "2b01e979-64b3-47fd-db6c-b8dfd0b9fd38"
      },
      "source": [
        "internet.head(5)"
      ],
      "execution_count": null,
      "outputs": [
        {
          "output_type": "execute_result",
          "data": {
            "text/html": [
              "<div>\n",
              "<style scoped>\n",
              "    .dataframe tbody tr th:only-of-type {\n",
              "        vertical-align: middle;\n",
              "    }\n",
              "\n",
              "    .dataframe tbody tr th {\n",
              "        vertical-align: top;\n",
              "    }\n",
              "\n",
              "    .dataframe thead th {\n",
              "        text-align: right;\n",
              "    }\n",
              "</style>\n",
              "<table border=\"1\" class=\"dataframe\">\n",
              "  <thead>\n",
              "    <tr style=\"text-align: right;\">\n",
              "      <th></th>\n",
              "      <th>customerID</th>\n",
              "      <th>InternetService</th>\n",
              "      <th>OnlineSecurity</th>\n",
              "      <th>OnlineBackup</th>\n",
              "      <th>DeviceProtection</th>\n",
              "      <th>TechSupport</th>\n",
              "      <th>StreamingTV</th>\n",
              "      <th>StreamingMovies</th>\n",
              "    </tr>\n",
              "  </thead>\n",
              "  <tbody>\n",
              "    <tr>\n",
              "      <th>0</th>\n",
              "      <td>7590-VHVEG</td>\n",
              "      <td>DSL</td>\n",
              "      <td>No</td>\n",
              "      <td>Yes</td>\n",
              "      <td>No</td>\n",
              "      <td>No</td>\n",
              "      <td>No</td>\n",
              "      <td>No</td>\n",
              "    </tr>\n",
              "    <tr>\n",
              "      <th>1</th>\n",
              "      <td>5575-GNVDE</td>\n",
              "      <td>DSL</td>\n",
              "      <td>Yes</td>\n",
              "      <td>No</td>\n",
              "      <td>Yes</td>\n",
              "      <td>No</td>\n",
              "      <td>No</td>\n",
              "      <td>No</td>\n",
              "    </tr>\n",
              "    <tr>\n",
              "      <th>2</th>\n",
              "      <td>3668-QPYBK</td>\n",
              "      <td>DSL</td>\n",
              "      <td>Yes</td>\n",
              "      <td>Yes</td>\n",
              "      <td>No</td>\n",
              "      <td>No</td>\n",
              "      <td>No</td>\n",
              "      <td>No</td>\n",
              "    </tr>\n",
              "    <tr>\n",
              "      <th>3</th>\n",
              "      <td>7795-CFOCW</td>\n",
              "      <td>DSL</td>\n",
              "      <td>Yes</td>\n",
              "      <td>No</td>\n",
              "      <td>Yes</td>\n",
              "      <td>Yes</td>\n",
              "      <td>No</td>\n",
              "      <td>No</td>\n",
              "    </tr>\n",
              "    <tr>\n",
              "      <th>4</th>\n",
              "      <td>9237-HQITU</td>\n",
              "      <td>Fiber optic</td>\n",
              "      <td>No</td>\n",
              "      <td>No</td>\n",
              "      <td>No</td>\n",
              "      <td>No</td>\n",
              "      <td>No</td>\n",
              "      <td>No</td>\n",
              "    </tr>\n",
              "  </tbody>\n",
              "</table>\n",
              "</div>"
            ],
            "text/plain": [
              "   customerID InternetService  ... StreamingTV StreamingMovies\n",
              "0  7590-VHVEG             DSL  ...          No              No\n",
              "1  5575-GNVDE             DSL  ...          No              No\n",
              "2  3668-QPYBK             DSL  ...          No              No\n",
              "3  7795-CFOCW             DSL  ...          No              No\n",
              "4  9237-HQITU     Fiber optic  ...          No              No\n",
              "\n",
              "[5 rows x 8 columns]"
            ]
          },
          "metadata": {},
          "execution_count": 496
        }
      ]
    },
    {
      "cell_type": "markdown",
      "metadata": {
        "id": "za8bhBhI-hHE"
      },
      "source": [
        "Нет уверенности. что доп услуги оказывают влияние на уходящих пользователей. Но все равно пока их оставим, а позже оценим важность этих признаков на итоговые предсказания модели."
      ]
    },
    {
      "cell_type": "code",
      "metadata": {
        "colab": {
          "base_uri": "https://localhost:8080/"
        },
        "id": "MO6WiZ9l_uo7",
        "outputId": "cd42f88f-2737-4270-ef1d-5794ab1ae5ac"
      },
      "source": [
        "internet.columns"
      ],
      "execution_count": null,
      "outputs": [
        {
          "output_type": "execute_result",
          "data": {
            "text/plain": [
              "Index(['customerID', 'InternetService', 'OnlineSecurity', 'OnlineBackup',\n",
              "       'DeviceProtection', 'TechSupport', 'StreamingTV', 'StreamingMovies'],\n",
              "      dtype='object')"
            ]
          },
          "metadata": {},
          "execution_count": 497
        }
      ]
    },
    {
      "cell_type": "code",
      "metadata": {
        "id": "EaVhpfI6_zzb"
      },
      "source": [
        "cat_columns = ['OnlineSecurity', 'OnlineBackup', 'DeviceProtection', 'TechSupport', 'StreamingTV', 'StreamingMovies']\n",
        "for col in cat_columns:\n",
        "  internet[col] = (internet[col] == 'Yes') * 1"
      ],
      "execution_count": null,
      "outputs": []
    },
    {
      "cell_type": "code",
      "metadata": {
        "id": "ZTit8ZDfwaDT"
      },
      "source": [
        "df = df.merge( internet, on = 'customerID', how = 'left')"
      ],
      "execution_count": null,
      "outputs": []
    },
    {
      "cell_type": "code",
      "metadata": {
        "colab": {
          "base_uri": "https://localhost:8080/"
        },
        "id": "fY8xJFOY-wCk",
        "outputId": "8d3aa369-6261-4e6e-b299-26b19a90a198"
      },
      "source": [
        "print ('Проверка на дорогах')\n",
        "print ('Количество пропусков в графе Интернет: ', df['InternetService'].isna().sum())\n",
        "print ('Количество телефонов в без интернета: ', df[df['InternetService'].isna() == True]['Phone'].sum())"
      ],
      "execution_count": null,
      "outputs": [
        {
          "output_type": "stream",
          "name": "stdout",
          "text": [
            "Проверка на дорогах\n",
            "Количество пропусков в графе Интернет:  1354\n",
            "Количество телефонов в без интернета:  1354\n"
          ]
        }
      ]
    },
    {
      "cell_type": "markdown",
      "metadata": {
        "id": "uqPkvcpMAJyh"
      },
      "source": [
        "Всё сходится. Люди не имеющие интернета, имеют телефон. Но нектороые имеют и то и другое, поэтому интернет и телефон не будут взаимно коллинеарны."
      ]
    },
    {
      "cell_type": "code",
      "metadata": {
        "id": "-KYZHmR0-wHm"
      },
      "source": [
        "df['Internet'] = (df['InternetService'].isna() == False) * 1\n"
      ],
      "execution_count": null,
      "outputs": []
    },
    {
      "cell_type": "markdown",
      "metadata": {
        "id": "FcgjFj6s8LFA"
      },
      "source": [
        "Тут мы заменим получившиеся пропуски на нули. Они образовались, когда соединяли таблицы у тех, у кого был только телефон."
      ]
    },
    {
      "cell_type": "code",
      "metadata": {
        "id": "7R20mZNQDCEx"
      },
      "source": [
        "df['InternetService'] = df['InternetService'].fillna(0)\n",
        "for cat in cat_columns:\n",
        "  df[cat] = df[cat].fillna(0)\n",
        "  df[cat] = df[cat].astype ('int')"
      ],
      "execution_count": null,
      "outputs": []
    },
    {
      "cell_type": "markdown",
      "metadata": {
        "id": "A9LmNT3TD5NA"
      },
      "source": [
        "### Итоговые данные"
      ]
    },
    {
      "cell_type": "code",
      "metadata": {
        "colab": {
          "base_uri": "https://localhost:8080/"
        },
        "id": "3veHdk-nDEtI",
        "outputId": "1500227f-89e4-460a-fada-24f1cfd792c0"
      },
      "source": [
        "df.info()"
      ],
      "execution_count": null,
      "outputs": [
        {
          "output_type": "stream",
          "name": "stdout",
          "text": [
            "<class 'pandas.core.frame.DataFrame'>\n",
            "Int64Index: 6419 entries, 0 to 6418\n",
            "Data columns (total 23 columns):\n",
            " #   Column            Non-Null Count  Dtype         \n",
            "---  ------            --------------  -----         \n",
            " 0   customerID        6419 non-null   object        \n",
            " 1   BeginDate         6419 non-null   datetime64[ns]\n",
            " 2   Type              6419 non-null   object        \n",
            " 3   MonthlyCharges    6419 non-null   float64       \n",
            " 4   TotalCharges      6419 non-null   float64       \n",
            " 5   Target            6419 non-null   int64         \n",
            " 6   TotalMonths       6419 non-null   float64       \n",
            " 7   CatClient         6419 non-null   float64       \n",
            " 8   Basic             6419 non-null   int64         \n",
            " 9   SeniorCitizen     6419 non-null   int64         \n",
            " 10  Partner           6419 non-null   int64         \n",
            " 11  Dependents        6419 non-null   int64         \n",
            " 12  Female            6419 non-null   int64         \n",
            " 13  MultipleLines     6419 non-null   int64         \n",
            " 14  Phone             6419 non-null   int64         \n",
            " 15  InternetService   6419 non-null   object        \n",
            " 16  OnlineSecurity    6419 non-null   int64         \n",
            " 17  OnlineBackup      6419 non-null   int64         \n",
            " 18  DeviceProtection  6419 non-null   int64         \n",
            " 19  TechSupport       6419 non-null   int64         \n",
            " 20  StreamingTV       6419 non-null   int64         \n",
            " 21  StreamingMovies   6419 non-null   int64         \n",
            " 22  Internet          6419 non-null   int64         \n",
            "dtypes: datetime64[ns](1), float64(4), int64(15), object(3)\n",
            "memory usage: 1.2+ MB\n"
          ]
        }
      ]
    },
    {
      "cell_type": "code",
      "metadata": {
        "colab": {
          "base_uri": "https://localhost:8080/",
          "height": 360
        },
        "id": "R_VRahaTD01K",
        "outputId": "920a5192-75ce-4875-f968-92f4bc36b02f"
      },
      "source": [
        "df.head()"
      ],
      "execution_count": null,
      "outputs": [
        {
          "output_type": "execute_result",
          "data": {
            "text/html": [
              "<div>\n",
              "<style scoped>\n",
              "    .dataframe tbody tr th:only-of-type {\n",
              "        vertical-align: middle;\n",
              "    }\n",
              "\n",
              "    .dataframe tbody tr th {\n",
              "        vertical-align: top;\n",
              "    }\n",
              "\n",
              "    .dataframe thead th {\n",
              "        text-align: right;\n",
              "    }\n",
              "</style>\n",
              "<table border=\"1\" class=\"dataframe\">\n",
              "  <thead>\n",
              "    <tr style=\"text-align: right;\">\n",
              "      <th></th>\n",
              "      <th>customerID</th>\n",
              "      <th>BeginDate</th>\n",
              "      <th>Type</th>\n",
              "      <th>MonthlyCharges</th>\n",
              "      <th>TotalCharges</th>\n",
              "      <th>Target</th>\n",
              "      <th>TotalMonths</th>\n",
              "      <th>CatClient</th>\n",
              "      <th>Basic</th>\n",
              "      <th>SeniorCitizen</th>\n",
              "      <th>Partner</th>\n",
              "      <th>Dependents</th>\n",
              "      <th>Female</th>\n",
              "      <th>MultipleLines</th>\n",
              "      <th>Phone</th>\n",
              "      <th>InternetService</th>\n",
              "      <th>OnlineSecurity</th>\n",
              "      <th>OnlineBackup</th>\n",
              "      <th>DeviceProtection</th>\n",
              "      <th>TechSupport</th>\n",
              "      <th>StreamingTV</th>\n",
              "      <th>StreamingMovies</th>\n",
              "      <th>Internet</th>\n",
              "    </tr>\n",
              "  </thead>\n",
              "  <tbody>\n",
              "    <tr>\n",
              "      <th>0</th>\n",
              "      <td>5575-GNVDE</td>\n",
              "      <td>2017-04-01</td>\n",
              "      <td>One year</td>\n",
              "      <td>56.95</td>\n",
              "      <td>1889.50</td>\n",
              "      <td>0</td>\n",
              "      <td>33.18</td>\n",
              "      <td>3.0</td>\n",
              "      <td>0</td>\n",
              "      <td>0</td>\n",
              "      <td>0</td>\n",
              "      <td>0</td>\n",
              "      <td>0</td>\n",
              "      <td>0</td>\n",
              "      <td>1</td>\n",
              "      <td>DSL</td>\n",
              "      <td>1</td>\n",
              "      <td>0</td>\n",
              "      <td>1</td>\n",
              "      <td>0</td>\n",
              "      <td>0</td>\n",
              "      <td>0</td>\n",
              "      <td>1</td>\n",
              "    </tr>\n",
              "    <tr>\n",
              "      <th>1</th>\n",
              "      <td>3668-QPYBK</td>\n",
              "      <td>2019-10-01</td>\n",
              "      <td>Month-to-month</td>\n",
              "      <td>53.85</td>\n",
              "      <td>108.15</td>\n",
              "      <td>1</td>\n",
              "      <td>2.01</td>\n",
              "      <td>2.0</td>\n",
              "      <td>0</td>\n",
              "      <td>0</td>\n",
              "      <td>0</td>\n",
              "      <td>0</td>\n",
              "      <td>0</td>\n",
              "      <td>0</td>\n",
              "      <td>1</td>\n",
              "      <td>DSL</td>\n",
              "      <td>1</td>\n",
              "      <td>1</td>\n",
              "      <td>0</td>\n",
              "      <td>0</td>\n",
              "      <td>0</td>\n",
              "      <td>0</td>\n",
              "      <td>1</td>\n",
              "    </tr>\n",
              "    <tr>\n",
              "      <th>2</th>\n",
              "      <td>7795-CFOCW</td>\n",
              "      <td>2016-05-01</td>\n",
              "      <td>One year</td>\n",
              "      <td>42.30</td>\n",
              "      <td>1840.75</td>\n",
              "      <td>0</td>\n",
              "      <td>43.52</td>\n",
              "      <td>2.0</td>\n",
              "      <td>0</td>\n",
              "      <td>0</td>\n",
              "      <td>0</td>\n",
              "      <td>0</td>\n",
              "      <td>0</td>\n",
              "      <td>0</td>\n",
              "      <td>0</td>\n",
              "      <td>DSL</td>\n",
              "      <td>1</td>\n",
              "      <td>0</td>\n",
              "      <td>1</td>\n",
              "      <td>1</td>\n",
              "      <td>0</td>\n",
              "      <td>0</td>\n",
              "      <td>1</td>\n",
              "    </tr>\n",
              "    <tr>\n",
              "      <th>3</th>\n",
              "      <td>9237-HQITU</td>\n",
              "      <td>2019-09-01</td>\n",
              "      <td>Month-to-month</td>\n",
              "      <td>70.70</td>\n",
              "      <td>151.65</td>\n",
              "      <td>1</td>\n",
              "      <td>2.14</td>\n",
              "      <td>3.0</td>\n",
              "      <td>0</td>\n",
              "      <td>0</td>\n",
              "      <td>0</td>\n",
              "      <td>0</td>\n",
              "      <td>1</td>\n",
              "      <td>0</td>\n",
              "      <td>1</td>\n",
              "      <td>Fiber optic</td>\n",
              "      <td>0</td>\n",
              "      <td>0</td>\n",
              "      <td>0</td>\n",
              "      <td>0</td>\n",
              "      <td>0</td>\n",
              "      <td>0</td>\n",
              "      <td>1</td>\n",
              "    </tr>\n",
              "    <tr>\n",
              "      <th>4</th>\n",
              "      <td>9305-CDSKC</td>\n",
              "      <td>2019-03-01</td>\n",
              "      <td>Month-to-month</td>\n",
              "      <td>99.65</td>\n",
              "      <td>820.50</td>\n",
              "      <td>1</td>\n",
              "      <td>8.23</td>\n",
              "      <td>5.0</td>\n",
              "      <td>0</td>\n",
              "      <td>0</td>\n",
              "      <td>0</td>\n",
              "      <td>0</td>\n",
              "      <td>1</td>\n",
              "      <td>1</td>\n",
              "      <td>1</td>\n",
              "      <td>Fiber optic</td>\n",
              "      <td>0</td>\n",
              "      <td>0</td>\n",
              "      <td>1</td>\n",
              "      <td>0</td>\n",
              "      <td>1</td>\n",
              "      <td>1</td>\n",
              "      <td>1</td>\n",
              "    </tr>\n",
              "  </tbody>\n",
              "</table>\n",
              "</div>"
            ],
            "text/plain": [
              "   customerID  BeginDate  ... StreamingMovies  Internet\n",
              "0  5575-GNVDE 2017-04-01  ...               0         1\n",
              "1  3668-QPYBK 2019-10-01  ...               0         1\n",
              "2  7795-CFOCW 2016-05-01  ...               0         1\n",
              "3  9237-HQITU 2019-09-01  ...               0         1\n",
              "4  9305-CDSKC 2019-03-01  ...               1         1\n",
              "\n",
              "[5 rows x 23 columns]"
            ]
          },
          "metadata": {},
          "execution_count": 504
        }
      ]
    },
    {
      "cell_type": "markdown",
      "metadata": {
        "id": "yVwM4TdfEa2U"
      },
      "source": [
        "**Вывод**\n",
        "\n",
        "Данные подготовлены для обучения моделей. \n",
        "Осталось 3 столбца с типом 'object' - это ай-ди, тип договора и тип интренета. Для работы модели дата начала договора не нужна, есть дублирующие признак - год открытия договора и суммарное время (месяцы) пользования услугами. Целевой признак - Target. По нему будем вести предсказания. "
      ]
    },
    {
      "cell_type": "markdown",
      "metadata": {
        "id": "a_QpaWh_E-ht"
      },
      "source": [
        "## Создание и обучение моделей"
      ]
    },
    {
      "cell_type": "markdown",
      "metadata": {
        "id": "6E5n2l0dB-52"
      },
      "source": [
        "### Подготовка данных"
      ]
    },
    {
      "cell_type": "markdown",
      "metadata": {
        "id": "7vNN1xzg9MIF"
      },
      "source": [
        "Разобьем данные на обучающую и тестовую выборки в соотношениее 80-20%. Использовать валидационную не будем, т.к. большинство моделей работают с кросс-валидацией и сами сделают подвыборку из тестовой части. "
      ]
    },
    {
      "cell_type": "code",
      "metadata": {
        "colab": {
          "base_uri": "https://localhost:8080/"
        },
        "id": "p3UQ4e2QCDC9",
        "outputId": "2ba384e8-c8ff-42a5-8da1-3d471cf35104"
      },
      "source": [
        "features = df.drop(['customerID', 'BeginDate', 'Target'], axis = 1).copy()\n",
        "target = df['Target'].copy()\n",
        "\n",
        "X_train, X_test, y_train, y_test = train_test_split(\n",
        "    features, target, test_size=0.2, random_state=2021)\n",
        "\n",
        "print ('Размер обучающей выборки: ', len(X_train))\n",
        "\n",
        "print ('Размер тестовой выборки: ',len(X_test))"
      ],
      "execution_count": null,
      "outputs": [
        {
          "output_type": "stream",
          "name": "stdout",
          "text": [
            "Размер обучающей выборки:  5135\n",
            "Размер тестовой выборки:  1284\n"
          ]
        }
      ]
    },
    {
      "cell_type": "markdown",
      "metadata": {
        "id": "GsIAQ_V79Vxf"
      },
      "source": [
        "### Catboost"
      ]
    },
    {
      "cell_type": "markdown",
      "metadata": {
        "id": "7MGmukaK9Y5n"
      },
      "source": [
        "Зайдем с козырей - обучим категориальный бустинг и посмотрим важность признаков для него, чтобы последнующие модели могли обучаться на меньшем количестве данных."
      ]
    },
    {
      "cell_type": "code",
      "metadata": {
        "colab": {
          "base_uri": "https://localhost:8080/"
        },
        "id": "NyFDg9ksKQ-g",
        "outputId": "c2767891-78e8-47f8-8ec1-b63316dd17dc"
      },
      "source": [
        "X_train.columns #для вывода категориальных переменных"
      ],
      "execution_count": null,
      "outputs": [
        {
          "output_type": "execute_result",
          "data": {
            "text/plain": [
              "Index(['Type', 'MonthlyCharges', 'TotalCharges', 'TotalMonths', 'CatClient',\n",
              "       'Basic', 'SeniorCitizen', 'Partner', 'Dependents', 'Female',\n",
              "       'MultipleLines', 'Phone', 'InternetService', 'OnlineSecurity',\n",
              "       'OnlineBackup', 'DeviceProtection', 'TechSupport', 'StreamingTV',\n",
              "       'StreamingMovies', 'Internet'],\n",
              "      dtype='object')"
            ]
          },
          "metadata": {},
          "execution_count": 506
        }
      ]
    },
    {
      "cell_type": "code",
      "metadata": {
        "id": "uObQ_gWqHwgU"
      },
      "source": [
        "cat_features =['Type', 'SeniorCitizen', 'Partner', 'Dependents', 'Female', 'MultipleLines',\n",
        "       'Phone', 'InternetService', 'OnlineSecurity', 'OnlineBackup',\n",
        "       'DeviceProtection', 'TechSupport', 'StreamingTV', 'StreamingMovies',\n",
        "       'Internet', 'Basic']\n",
        "\n",
        "cv_dataset = Pool(data=X_train,\n",
        "                  label=y_train,\n",
        "                  cat_features=cat_features)"
      ],
      "execution_count": null,
      "outputs": []
    },
    {
      "cell_type": "code",
      "metadata": {
        "id": "lwbSguPVHwn3"
      },
      "source": [
        "params = {'loss_function': 'Logloss',\n",
        "          'eval_metric': 'AUC', \n",
        "          \"verbose\": False,\n",
        "          'iterations' : 2000,\n",
        "          'depth' : 4}"
      ],
      "execution_count": null,
      "outputs": []
    },
    {
      "cell_type": "code",
      "metadata": {
        "id": "p2p5tnwvIKK8"
      },
      "source": [
        "scores = cv(cv_dataset,\n",
        "            params,\n",
        "            fold_count=3)"
      ],
      "execution_count": null,
      "outputs": []
    },
    {
      "cell_type": "code",
      "metadata": {
        "colab": {
          "base_uri": "https://localhost:8080/",
          "height": 408
        },
        "id": "sN7HWE4GLt69",
        "outputId": "5545905d-22a7-4c09-b925-68c0c7035b69"
      },
      "source": [
        "print ('ROC-AUC при CV: {:.5f}'.format(scores['test-AUC-mean'].max()))\n",
        "scores['test-AUC-mean'].plot(grid = True, figsize = (8,6))"
      ],
      "execution_count": null,
      "outputs": [
        {
          "output_type": "stream",
          "name": "stdout",
          "text": [
            "ROC-AUC при CV: 0.83758\n"
          ]
        },
        {
          "output_type": "execute_result",
          "data": {
            "text/plain": [
              "<matplotlib.axes._subplots.AxesSubplot at 0x7f84d3acbb90>"
            ]
          },
          "metadata": {},
          "execution_count": 510
        },
        {
          "output_type": "display_data",
          "data": {
            "image/png": "[encoded data removed]",
            "text/plain": [
              "<Figure size 576x432 with 1 Axes>"
            ]
          },
          "metadata": {
            "needs_background": "light"
          }
        }
      ]
    },
    {
      "cell_type": "markdown",
      "metadata": {
        "id": "ZvJLc-rfAFUA"
      },
      "source": [
        "### Оценка влияния признаков на итоговое предсказание модели"
      ]
    },
    {
      "cell_type": "markdown",
      "metadata": {
        "id": "XDc03SKoM4nZ"
      },
      "source": [
        "Запустим Кэтбуст без настроек для определения важных фичей"
      ]
    },
    {
      "cell_type": "code",
      "metadata": {
        "colab": {
          "base_uri": "https://localhost:8080/"
        },
        "id": "hCFkPpQgEdNh",
        "outputId": "0231cc84-2d42-4233-80a2-85abc091a043"
      },
      "source": [
        "cb = CatBoostClassifier(verbose=False, random_seed = 2021, eval_metric ='AUC', depth = 4)\n",
        "cb.fit(X_train, y_train, eval_set=(X_test,y_test), cat_features = cat_features)\n",
        "\n",
        "print('Важность признаков для итогового предсказания:')\n",
        "\n",
        "range = pd.DataFrame (data = cb.get_feature_importance(), index = X_train.columns, columns = ['range'])\n",
        "print (range.sort_values(by = 'range',ascending  = False))"
      ],
      "execution_count": null,
      "outputs": [
        {
          "output_type": "stream",
          "name": "stdout",
          "text": [
            "Важность признаков для итогового предсказания:\n",
            "                      range\n",
            "Type              31.612286\n",
            "TotalMonths       19.008114\n",
            "MonthlyCharges    15.239033\n",
            "InternetService   10.267449\n",
            "Internet           9.674659\n",
            "OnlineSecurity     3.095053\n",
            "TechSupport        2.384408\n",
            "TotalCharges       2.315304\n",
            "StreamingTV        1.577029\n",
            "SeniorCitizen      1.486738\n",
            "MultipleLines      1.186995\n",
            "StreamingMovies    1.158305\n",
            "OnlineBackup       0.323838\n",
            "Phone              0.291293\n",
            "DeviceProtection   0.200907\n",
            "Dependents         0.097155\n",
            "Female             0.081435\n",
            "Partner            0.000000\n"
          ]
        }
      ]
    },
    {
      "cell_type": "markdown",
      "metadata": {
        "id": "J4HrgMpyAILG"
      },
      "source": [
        "Не все введеные признаки оказались важны для работы модели. Например, наличие телефона или интренета практически не влияет на предсказание. А год заключения договора и длительность использования услуг, наоборот, оказались чуть ли не самыми важными признаками. \n",
        "Избавимся от наименее важных признаков (FI < 1.9) и посмотрим, как изменится предсказание модели.\n",
        "\n"
      ]
    },
    {
      "cell_type": "code",
      "metadata": {
        "id": "IXegNYtGNwOS"
      },
      "source": [
        "X_train_1 = X_train.copy()\n",
        "X_train_1 = X_train_1.drop( ['SeniorCitizen','MultipleLines', \n",
        "                             'StreamingMovies', 'OnlineBackup', 'Phone',\n",
        "                             'DeviceProtection', 'Dependents', 'Female' ,'Partner'\n",
        "                             ], axis = 1)\n",
        "\n",
        "X_test_1 = X_test.copy()\n",
        "X_test_1 = X_test_1.drop( ['SeniorCitizen','MultipleLines', \n",
        "                             'StreamingMovies', 'OnlineBackup', 'Phone',\n",
        "                             'DeviceProtection', 'Dependents', 'Female' ,'Partner'\n",
        "                             ], axis = 1)"
      ],
      "execution_count": null,
      "outputs": []
    },
    {
      "cell_type": "code",
      "metadata": {
        "colab": {
          "base_uri": "https://localhost:8080/"
        },
        "id": "eSyU-kR0OcCl",
        "outputId": "185063bd-1cec-49de-d433-9e418a0e0603"
      },
      "source": [
        "X_train_1.columns"
      ],
      "execution_count": null,
      "outputs": [
        {
          "output_type": "execute_result",
          "data": {
            "text/plain": [
              "Index(['Type', 'MonthlyCharges', 'TotalCharges', 'TotalMonths',\n",
              "       'InternetService', 'OnlineSecurity', 'TechSupport', 'StreamingTV',\n",
              "       'Internet'],\n",
              "      dtype='object')"
            ]
          },
          "metadata": {},
          "execution_count": 68
        }
      ]
    },
    {
      "cell_type": "code",
      "metadata": {
        "id": "jJMGXEqfOeuJ"
      },
      "source": [
        "cat_features_1 = ['Type', 'StreamingTV', 'InternetService','OnlineSecurity', \n",
        "                  'TechSupport', 'Internet']"
      ],
      "execution_count": null,
      "outputs": []
    },
    {
      "cell_type": "code",
      "metadata": {
        "colab": {
          "base_uri": "https://localhost:8080/",
          "height": 411
        },
        "id": "H81EieyDONj4",
        "outputId": "df2186c6-a73a-4f37-d970-4fa81972c7cf"
      },
      "source": [
        "cv_dataset_1 = Pool(data=X_train_1,\n",
        "                  label=y_train,\n",
        "                  cat_features=cat_features_1)\n",
        "\n",
        "scores_1 = cv(cv_dataset_1,\n",
        "            params,\n",
        "            fold_count=3)\n",
        "\n",
        "print ('ROC-AUC при CV: {:.5f}'.format(scores_1['test-AUC-mean'].max()))\n",
        "scores_1['test-AUC-mean'].plot(grid = True, figsize = (8,6))"
      ],
      "execution_count": null,
      "outputs": [
        {
          "output_type": "stream",
          "name": "stdout",
          "text": [
            "ROC-AUC при CV: 0.83702\n"
          ]
        },
        {
          "output_type": "execute_result",
          "data": {
            "text/plain": [
              "<matplotlib.axes._subplots.AxesSubplot at 0x7f84dd0b72d0>"
            ]
          },
          "metadata": {},
          "execution_count": 72
        },
        {
          "output_type": "display_data",
          "data": {
            "image/png": "[encoded data removed]",
            "text/plain": [
              "<Figure size 576x432 with 1 Axes>"
            ]
          },
          "metadata": {
            "needs_background": "light"
          }
        }
      ]
    },
    {
      "cell_type": "code",
      "metadata": {
        "id": "1vSjyeaHjDOJ"
      },
      "source": [
        "cb_1 = CatBoostClassifier(verbose=False, random_seed = 2021, eval_metric ='AUC')\n",
        "\n",
        "cb_1.fit(X_train_1, y_train, eval_set=(X_test_1,y_test), cat_features = cat_features_1)\n",
        "\n",
        "cat_roc = cb_1.best_score_['validation']['AUC']\n",
        "cat_acc = accuracy_score(y_test, cb_1.predict(X_test_1))\n",
        "print('AUC valid: {:.5f}'.format(cat_roc))\n",
        "print('Accuracy test: {:.5f}'.format(cat_acc))"
      ],
      "execution_count": null,
      "outputs": []
    },
    {
      "cell_type": "markdown",
      "metadata": {
        "id": "4OE8RLXWHgmj"
      },
      "source": [
        "Убрав фичи с важностью меньше 1,9, мы получили небольшой прирост метрики. Думаю, это предел для кэтбуста на этих данных - ROC-AUC = 0,86. Можно посмотреть теперь на менее сложные модели, такие как Логистическая регрессия, дерево решений и случайный лес. Для улучшения метрики, скорее всего, надо поиграться с фичами."
      ]
    },
    {
      "cell_type": "markdown",
      "metadata": {
        "id": "_5WW12U-KmWG"
      },
      "source": [
        "### Подготовка выборок для простых моделей"
      ]
    },
    {
      "cell_type": "markdown",
      "metadata": {
        "id": "VTNYpJL_N_Bv"
      },
      "source": [
        "Для работы с более простыми моделями проведем дамми-кодирование признаков. Масштабирование будет использовать то, которое уже вложено в модель. Но сначала избавимся от ненужных фичей, определенных в предыдущем пункте."
      ]
    },
    {
      "cell_type": "code",
      "metadata": {
        "id": "QogzqWmCRHwq"
      },
      "source": [
        "#создание dummy-признаков\n",
        "X_train_dum = pd.get_dummies(X_train_1, drop_first=True)\n",
        "X_test_dum = pd.get_dummies(X_test_1, drop_first=True)"
      ],
      "execution_count": null,
      "outputs": []
    },
    {
      "cell_type": "code",
      "metadata": {
        "id": "ZMgS9oxbbg4-"
      },
      "source": [
        "X_train_dum.head(2)"
      ],
      "execution_count": null,
      "outputs": []
    },
    {
      "cell_type": "markdown",
      "metadata": {
        "id": "VU50y9tftNw4"
      },
      "source": [
        "### Логистическая регрессия"
      ]
    },
    {
      "cell_type": "code",
      "metadata": {
        "id": "pUB9N-L_K593"
      },
      "source": [
        "model_log = LogisticRegression(class_weight = 'balanced', solver = 'saga')\n",
        "\n",
        "model_log.fit(X_train_dum, y_train)\n",
        "\n",
        "proba_log_test = model_log.predict_proba(X_test_dum)\n",
        "proba_log_1_test = proba_log_test[:, 1]\n",
        "\n",
        "log_roc = roc_auc_score(y_test, proba_log_1_test)\n",
        "log_acc = accuracy_score (y_test, model_log.predict(X_test_dum))  \n",
        "\n",
        "print('LogisticRegression. Test ROC_AUC: {:.5f}'.format(log_roc))\n",
        "print('LogisticRegression. Test Accuracy: {:.5f}'.format(log_acc))"
      ],
      "execution_count": null,
      "outputs": []
    },
    {
      "cell_type": "markdown",
      "metadata": {
        "id": "ic8yZ_ThcscB"
      },
      "source": [
        "### DecisionTree"
      ]
    },
    {
      "cell_type": "code",
      "metadata": {
        "id": "-BKqz85WK6Ec"
      },
      "source": [
        "model_tree = DecisionTreeClassifier(random_state = 2021, class_weight='balanced')\n",
        "\n",
        "param_grid_tree = {\n",
        "    'max_depth' : [3,4,5,6,7,8],\n",
        "    'min_samples_leaf' : [10,20,40,60,80,100,120,140,160,180,200],\n",
        "    'max_leaf_nodes' : [6,8,10,12,14,16]\n",
        "}\n",
        "\n",
        "grid_tree = GridSearchCV(estimator = model_tree, param_grid = param_grid_tree, \n",
        "                         scoring = 'roc_auc', \n",
        "                         error_score='raise', cv=3\n",
        "                         )\n",
        "grid_tree.fit(X_train_dum, y_train)\n",
        "\n",
        "print('Гиперпараметры модели:', grid_tree.best_params_)\n",
        "\n",
        "proba_tree_test = grid_tree.predict_proba(X_test_dum)\n",
        "proba_tree_1_test = proba_tree_test[:, 1]\n",
        "\n",
        "tree_roc = roc_auc_score(y_test, proba_tree_1_test) \n",
        "tree_acc = accuracy_score (y_test, grid_tree.predict(X_test_dum))    \n",
        "\n",
        "print('Tree. Test ROC_AUC: {:.5f}'.format(tree_roc))\n",
        "print('Tree. Test Accuracy: {:.5f}'.format(tree_acc))"
      ],
      "execution_count": null,
      "outputs": []
    },
    {
      "cell_type": "markdown",
      "metadata": {
        "id": "XNB7zlb5juV8"
      },
      "source": [
        "### RandomForest"
      ]
    },
    {
      "cell_type": "code",
      "metadata": {
        "id": "JaLqEaWaK6Kq"
      },
      "source": [
        "model_forest = RandomForestClassifier(random_state = 2021, class_weight='balanced')\n",
        "\n",
        "param_grid_forest = {\n",
        "    'max_depth' : [4, 6, 12, 24, 48, 96],\n",
        "    'n_estimators': [60, 100, 150],\n",
        "    'min_samples_leaf' : [4, 6, 8, 10, 12]\n",
        "}\n",
        "\n",
        "grid_forest = GridSearchCV(estimator = model_forest, param_grid = param_grid_forest, \n",
        "                         scoring = 'roc_auc', \n",
        "                         error_score='raise', cv = 3)\n",
        "\n",
        "grid_forest.fit(X_train_dum, y_train)\n",
        "\n",
        "\n",
        "print('Гиперпараметры модели:', grid_forest.best_params_)\n",
        "\n",
        "proba_forest_test = grid_forest.predict_proba(X_test_dum)\n",
        "proba_forest_1_test = proba_forest_test[:, 1]\n",
        "\n",
        "forest_roc = roc_auc_score(y_test, proba_forest_1_test)\n",
        "forest_acc = accuracy_score (y_test, grid_forest.predict(X_test_dum))   \n",
        "\n",
        "print('Forest. Test ROC_AUC: {:.5f}'.format(forest_roc))\n",
        "print('Forest. Test Accuracy: {:.5f}'.format(forest_acc))"
      ],
      "execution_count": null,
      "outputs": []
    },
    {
      "cell_type": "markdown",
      "metadata": {
        "id": "XQbVISphUcPc"
      },
      "source": [
        "### GradientBoosting"
      ]
    },
    {
      "cell_type": "code",
      "metadata": {
        "id": "6heq36umUclr"
      },
      "source": [
        "model_clf = GradientBoostingClassifier (random_state = 2021)\n",
        "\n",
        "param_grid_clf = {\n",
        "    'max_depth' : [2, 3,4],\n",
        "    'n_estimators': [20, 40, 60, 80],\n",
        "    'min_samples_leaf' : [2, 4, 6],\n",
        "    'learning_rate' : [0.1, 1]\n",
        "}\n",
        "\n",
        "grid_clf = GridSearchCV(estimator = model_clf, param_grid = param_grid_clf, \n",
        "                         scoring = 'roc_auc', \n",
        "                         error_score='raise', cv = 3)\n",
        "\n",
        "grid_clf.fit(X_train_dum, y_train)\n",
        "\n",
        "\n",
        "print('Гиперпараметры модели:', grid_clf.best_params_)\n",
        "\n",
        "proba_clf_test = grid_clf.predict_proba(X_test_dum)\n",
        "proba_clf_1_test = proba_clf_test[:, 1]\n",
        "\n",
        "clf_roc = roc_auc_score(y_test, proba_clf_1_test)   \n",
        "clf_acc = accuracy_score (y_test, grid_clf.predict(X_test_dum))\n",
        "\n",
        "print('GBC. Test ROC_AUC: {:.5f}'.format(clf_roc))\n",
        "print('GBC. Test Accuracy: {:.5f}'.format(clf_acc))"
      ],
      "execution_count": null,
      "outputs": []
    },
    {
      "cell_type": "markdown",
      "metadata": {
        "id": "MFaU6TvxwSSr"
      },
      "source": [
        "### Neural network"
      ]
    },
    {
      "cell_type": "markdown",
      "metadata": {
        "id": "CEYEnv8bonbx"
      },
      "source": [
        "Для работы нейронной сети, надо опять подготовить данные."
      ]
    },
    {
      "cell_type": "code",
      "metadata": {
        "id": "1w-vdFokY7PG"
      },
      "source": [
        "X = X_train_dum.values\n",
        "Y = y_train.values"
      ],
      "execution_count": null,
      "outputs": []
    },
    {
      "cell_type": "code",
      "metadata": {
        "id": "TGzQPy-CUcoT"
      },
      "source": [
        "encoder = LabelEncoder()\n",
        "encoder.fit(Y)\n",
        "encoded_Y = encoder.transform(Y)"
      ],
      "execution_count": null,
      "outputs": []
    },
    {
      "cell_type": "markdown",
      "metadata": {
        "id": "4qdtTSoMovsK"
      },
      "source": [
        "Трехслойная нейронная сеть показала себя весьма неплохо, а увеличение нейронов практически не улучшало резльтат. Поэтому для имеющихся данных сеть большая, но в общем смысле - маленькая."
      ]
    },
    {
      "cell_type": "code",
      "metadata": {
        "id": "H9vt1N8AvOD4"
      },
      "source": [
        "# создание модели нейронной сети\n",
        "def create_baseline():\n",
        "  opti_adam = tf.keras.optimizers.Adam(learning_rate = 0.001)\n",
        "  model = Sequential()\n",
        "  model.add(Dense(12, input_dim=13, activation='relu'))\n",
        "  model.add(Dense(10, activation='relu'))\n",
        "  model.add(Dense(1, activation='sigmoid'))\n",
        "  model.compile(loss='binary_crossentropy', optimizer=opti_adam, \n",
        "                metrics=[tf.keras.metrics.AUC()])  \n",
        "  return model\n",
        "\n",
        "#расчет при выделении 10% в тестовую выборку\n",
        "estimator = KerasClassifier(build_fn=create_baseline, epochs=5, batch_size=10, verbose=0)\n",
        "kfold = StratifiedKFold(n_splits=10, shuffle=True)\n",
        "results_roc = cross_validate(estimator, X, encoded_Y, cv=kfold,\n",
        "                         scoring='roc_auc',\n",
        "                         return_train_score=True)\n",
        "\n",
        "results_acc = cross_validate(estimator, X, encoded_Y, cv=kfold,\n",
        "                         scoring='accuracy',\n",
        "                         return_train_score=True)\n",
        "\n",
        "keras_roc = results_roc['test_score'].max()\n",
        "keras_acc = results_acc['test_score'].max()\n",
        "\n",
        "print('Среднее значение ROC_AUC {:.5f}'.format(results_roc['test_score'].mean()))\n",
        "print('Наибольшее значение ROC_AUC {:.5f}'.format(keras_roc))\n",
        "print('Наибольшее значение Accuracy {:.5f}'.format(keras_acc))"
      ],
      "execution_count": null,
      "outputs": []
    },
    {
      "cell_type": "markdown",
      "metadata": {
        "id": "LT0RXuAaRmqO"
      },
      "source": [
        "## Результат работы моделей"
      ]
    },
    {
      "cell_type": "markdown",
      "metadata": {
        "id": "JgmThNjUpHmj"
      },
      "source": [
        "Подведем результаты работы моделей в одном месте, снабдив их графическим представлением. Сравнения с константной моделью не будет, т.к. при ней рок-аук будет 0,5. "
      ]
    },
    {
      "cell_type": "code",
      "metadata": {
        "id": "Zz39ue4aRl0J"
      },
      "source": [
        "summary = pd.DataFrame (index = ['Catboost', 'LogRegression', 'Tree', 'Forest',\n",
        "                                 'GradientBoosting', 'KerasClassifier'],\n",
        "                        data = {'ROC-AUC': [cat_roc, log_roc, tree_roc, \n",
        "                                forest_roc, clf_roc, keras_roc], \n",
        "                                'Accuracy': [cat_acc, log_acc, tree_acc, \n",
        "                                forest_acc, clf_acc, keras_acc]})"
      ],
      "execution_count": null,
      "outputs": []
    },
    {
      "cell_type": "code",
      "metadata": {
        "id": "2UCKEDLoUCOq"
      },
      "source": [
        "summary.plot(grid = True, figsize = (8,6), title = 'ROC-AUC & Accuracy', kind = 'bar', \n",
        "             ylim = (0.65,0.9), alpha = 0.65, legend = True)"
      ],
      "execution_count": null,
      "outputs": []
    },
    {
      "cell_type": "markdown",
      "metadata": {
        "id": "m71bCoz1fwYN"
      },
      "source": [
        "При таком наборе данных, отметку в 0,85 ROC_AUC преодолевает только категориальный бустинг, потом идет градиентный бустинг. Нейронная сеть себя показала не самым лучшим образом, наверное, поэтому ее обычно не используют для работы с таблицами.\n",
        "\n",
        "Таким образом победа достается catboost. С долей правильных ответов (accuracy) в районе 82% можно быть уверенным, что наша телеком компания не обанкроитится. "
      ]
    },
    {
      "cell_type": "markdown",
      "metadata": {
        "id": "BykH8YBOnzIT"
      },
      "source": [
        "## Аномалии результата"
      ]
    },
    {
      "cell_type": "markdown",
      "metadata": {
        "id": "ig4CNpKkn2XP"
      },
      "source": [
        "Интересный эффект получается, если добавить к признакам - месяц заключения договора. По логике месяц никак не должен коррелироваться с целевым значением, но при таком раскладе обе метрики для бустинговых моделей устремляются вверх."
      ]
    },
    {
      "cell_type": "code",
      "metadata": {
        "id": "TpXGvoAkoLLD"
      },
      "source": [
        "df_m = df.copy()\n",
        "df_m['Month'] = pd.DatetimeIndex(df_m['BeginDate']).month"
      ],
      "execution_count": null,
      "outputs": []
    },
    {
      "cell_type": "code",
      "metadata": {
        "id": "NTT_8e-9mQP9"
      },
      "source": [
        "features_m = df_m.drop(['customerID', 'BeginDate', 'Target'], axis = 1)\n",
        "target_m = df_m['Target']\n",
        "\n",
        "X_train_m, X_val_m, y_train_m, y_val_m = train_test_split(\n",
        "    features_m, target_m, test_size=0.2, random_state=2021)\n",
        "\n",
        "X_val_m, X_test_m, y_val_m, y_test_m = train_test_split(\n",
        "    X_val_m, y_val_m, test_size=0.5, random_state=2021)"
      ],
      "execution_count": null,
      "outputs": []
    },
    {
      "cell_type": "code",
      "metadata": {
        "id": "TcNCTo-Fk198"
      },
      "source": [
        "cb_m = CatBoostClassifier(verbose=False, random_seed = 2021, eval_metric ='AUC')\n",
        "cb_m.fit(X_train_m, y_train_m, eval_set=(X_val_m,y_val_m), cat_features = cat_features_1)\n",
        "print('AUC valid: {:.5f}'.format(cb_m.best_score_['validation']['AUC']))\n",
        "print('Accuracy test: {:.5f}'.format(accuracy_score(y_test_m, cb_m.predict(X_test_m))))"
      ],
      "execution_count": null,
      "outputs": []
    },
    {
      "cell_type": "markdown",
      "metadata": {
        "id": "_BUCdnKnIaxL"
      },
      "source": [
        "Удивительный результат. Посмотрим на корреляцию между призаками и целевым призаком. "
      ]
    },
    {
      "cell_type": "code",
      "metadata": {
        "id": "C0aIztngqQuD"
      },
      "source": [
        "print('Корреляция между целевым и прочими признакамиЖ')\n",
        "print(df_m.corr().loc[:,'Target'].sort_values(ascending = False))"
      ],
      "execution_count": null,
      "outputs": []
    },
    {
      "cell_type": "markdown",
      "metadata": {
        "id": "TEWX_cGuWfDw"
      },
      "source": [
        "Сравним с важностью признаков для самой модели."
      ]
    },
    {
      "cell_type": "code",
      "metadata": {
        "id": "sG7-iB-rWIAR"
      },
      "source": [
        "range_month = pd.DataFrame (data = cb_m.get_feature_importance(), \n",
        "                            index = X_train_m.columns, \n",
        "                            columns = ['range_with_months'])\n",
        "print (range_month.sort_values(by = 'range_with_months',ascending  = False))"
      ],
      "execution_count": null,
      "outputs": []
    },
    {
      "cell_type": "markdown",
      "metadata": {
        "id": "QLq3JBrMcqJ2"
      },
      "source": [
        "Посмотрим на коллинеарность признаков - Месяц заключения договора и Суммарное время использования услуг."
      ]
    },
    {
      "cell_type": "code",
      "metadata": {
        "id": "XWg7TZmHXIbA"
      },
      "source": [
        "figure(figsize=(12, 6))\n",
        "plt.scatter(x = df_m[df_m['Target'] == 0]['TotalMonths'], y = df_m[df_m['Target'] == 0]['Month'], alpha = 0.3, c = 'blue')\n",
        "plt.scatter(x = df_m[df_m['Target'] == 1]['TotalMonths'], y = df_m[df_m['Target'] == 1]['Month'], alpha = 0.3, c = 'red')\n",
        "plt.title(\"Связь времени использования услуг и месяца заключения договора\")\n",
        "plt.xlabel(\"Длительность использования услуг (мес)\")\n",
        "plt.ylabel(\"Месяц заключения договора\")\n",
        "plt.show()"
      ],
      "execution_count": null,
      "outputs": []
    },
    {
      "cell_type": "markdown",
      "metadata": {
        "id": "TQa19JXHb4ks"
      },
      "source": [
        "Красным показаны ушедшие абоненты, синим - продолжающие использование услуг. Тут видно, что максимально уходят абоненты, пришедшие за последние 2 года, а те, кто пользуются услугами дольше, практически не уходят. "
      ]
    },
    {
      "cell_type": "markdown",
      "metadata": {
        "id": "yRwt8QmZsDR6"
      },
      "source": [
        "Однако, корреляции между целевым признаком и месяцем открытия договора практически нет. Зато на модель месяц открытия договора вместе с суммарным временем использования услуг оказывает очень большое влияние и приводит к существенному росту метрик. \n",
        "\n",
        "Для меня загадка, почему месяц открытия договора оказывает такое сильное влияние на предсазание модели и задирает метрику ROC_AUC вверх до почти немыслимых значений. Похоже, на ошибку, но, рассуждая логически, я ее не нахожу. "
      ]
    },
    {
      "cell_type": "markdown",
      "metadata": {
        "id": "0vhs0r6jgzm5"
      },
      "source": [
        "## Вывод"
      ]
    },
    {
      "cell_type": "markdown",
      "metadata": {
        "id": "7V3851a4g11f"
      },
      "source": [
        "В результате работы была выбрана модель, дающая наибольшее значение целевой метрики, и максимальное значение точности предсказаний (для интерпретации выводов). Были проанализированы исходные данные и оптимизированы шесть моделей классификации. Во время работы с признаками, была выявлена интересная закономерность, дающая аномально высокий результат целевой метрики, который нуждается в дальнейшем анализе. "
      ]
    }
  ]
}