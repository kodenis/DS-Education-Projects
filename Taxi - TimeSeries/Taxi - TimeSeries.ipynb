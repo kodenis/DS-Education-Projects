{
  "nbformat": 4,
  "nbformat_minor": 0,
  "metadata": {
    "ExecuteTimeLog": [
      {
        "duration": 961,
        "start_time": "2021-07-14T12:06:26.731Z"
      },
      {
        "duration": 117,
        "start_time": "2021-07-14T12:06:56.253Z"
      },
      {
        "duration": 16,
        "start_time": "2021-07-14T12:07:02.890Z"
      },
      {
        "duration": 7,
        "start_time": "2021-07-14T12:07:22.496Z"
      },
      {
        "duration": 7,
        "start_time": "2021-07-14T12:07:27.497Z"
      },
      {
        "duration": 12,
        "start_time": "2021-07-14T12:08:01.486Z"
      },
      {
        "duration": 9,
        "start_time": "2021-07-14T12:12:18.677Z"
      },
      {
        "duration": 7,
        "start_time": "2021-07-14T12:12:25.994Z"
      },
      {
        "duration": 256,
        "start_time": "2021-07-14T12:14:41.916Z"
      },
      {
        "duration": 4,
        "start_time": "2021-07-14T12:14:56.307Z"
      },
      {
        "duration": 3,
        "start_time": "2021-07-14T12:15:26.348Z"
      },
      {
        "duration": 10,
        "start_time": "2021-07-14T12:15:31.534Z"
      },
      {
        "duration": 10,
        "start_time": "2021-07-14T12:15:47.666Z"
      },
      {
        "duration": 4,
        "start_time": "2021-07-14T12:15:57.185Z"
      },
      {
        "duration": 9,
        "start_time": "2021-07-14T12:16:06.387Z"
      },
      {
        "duration": 4,
        "start_time": "2021-07-14T12:16:10.969Z"
      },
      {
        "duration": 8,
        "start_time": "2021-07-14T12:16:12.771Z"
      },
      {
        "duration": 4,
        "start_time": "2021-07-14T12:16:17.126Z"
      },
      {
        "duration": 7,
        "start_time": "2021-07-14T12:16:31.867Z"
      },
      {
        "duration": 13,
        "start_time": "2021-07-14T12:17:58.169Z"
      },
      {
        "duration": 8,
        "start_time": "2021-07-14T12:18:54.680Z"
      },
      {
        "duration": 7,
        "start_time": "2021-07-14T12:20:07.632Z"
      },
      {
        "duration": 9,
        "start_time": "2021-07-14T12:20:09.865Z"
      },
      {
        "duration": 7,
        "start_time": "2021-07-14T12:20:16.660Z"
      },
      {
        "duration": 33,
        "start_time": "2021-07-14T12:21:56.839Z"
      },
      {
        "duration": 390,
        "start_time": "2021-07-14T12:24:07.960Z"
      },
      {
        "duration": 256,
        "start_time": "2021-07-14T12:24:31.053Z"
      },
      {
        "duration": 3,
        "start_time": "2021-07-14T12:24:43.573Z"
      },
      {
        "duration": 976,
        "start_time": "2021-07-14T12:24:47.228Z"
      },
      {
        "duration": 1097,
        "start_time": "2021-07-14T12:25:28.115Z"
      },
      {
        "duration": 600,
        "start_time": "2021-07-14T12:54:10.537Z"
      },
      {
        "duration": 599,
        "start_time": "2021-07-14T12:54:42.623Z"
      },
      {
        "duration": 965,
        "start_time": "2021-07-14T12:54:49.602Z"
      },
      {
        "duration": 1128,
        "start_time": "2021-07-14T12:55:23.329Z"
      },
      {
        "duration": 772,
        "start_time": "2021-07-14T12:55:54.546Z"
      },
      {
        "duration": 4394,
        "start_time": "2021-07-14T13:04:19.955Z"
      },
      {
        "duration": 292,
        "start_time": "2021-07-14T13:04:41.647Z"
      },
      {
        "duration": 280,
        "start_time": "2021-07-14T13:04:53.566Z"
      },
      {
        "duration": 330,
        "start_time": "2021-07-14T13:05:07.709Z"
      },
      {
        "duration": 372,
        "start_time": "2021-07-14T13:06:40.333Z"
      },
      {
        "duration": 392,
        "start_time": "2021-07-14T13:07:09.833Z"
      },
      {
        "duration": 316,
        "start_time": "2021-07-14T13:07:22.485Z"
      },
      {
        "duration": 59,
        "start_time": "2021-07-14T13:10:26.328Z"
      },
      {
        "duration": 1091,
        "start_time": "2021-07-14T13:10:31.264Z"
      },
      {
        "duration": 322,
        "start_time": "2021-07-14T13:10:52.359Z"
      },
      {
        "duration": 305,
        "start_time": "2021-07-14T13:13:46.339Z"
      },
      {
        "duration": 1197,
        "start_time": "2021-07-14T13:14:14.716Z"
      },
      {
        "duration": 305,
        "start_time": "2021-07-14T13:16:52.373Z"
      },
      {
        "duration": 181,
        "start_time": "2021-07-14T13:25:54.827Z"
      },
      {
        "duration": 1025,
        "start_time": "2021-07-14T13:26:02.140Z"
      },
      {
        "duration": 31,
        "start_time": "2021-07-14T13:26:03.167Z"
      },
      {
        "duration": 14,
        "start_time": "2021-07-14T13:26:03.201Z"
      },
      {
        "duration": 27,
        "start_time": "2021-07-14T13:26:03.216Z"
      },
      {
        "duration": 29,
        "start_time": "2021-07-14T13:26:03.245Z"
      },
      {
        "duration": 15,
        "start_time": "2021-07-14T13:26:03.276Z"
      },
      {
        "duration": 15,
        "start_time": "2021-07-14T13:26:03.292Z"
      },
      {
        "duration": 7,
        "start_time": "2021-07-14T13:26:03.310Z"
      },
      {
        "duration": 16,
        "start_time": "2021-07-14T13:26:03.319Z"
      },
      {
        "duration": 14,
        "start_time": "2021-07-14T13:26:03.337Z"
      },
      {
        "duration": 9,
        "start_time": "2021-07-14T13:26:03.353Z"
      },
      {
        "duration": 1081,
        "start_time": "2021-07-14T13:26:03.364Z"
      },
      {
        "duration": 312,
        "start_time": "2021-07-14T13:26:04.446Z"
      },
      {
        "duration": 2,
        "start_time": "2021-07-14T13:26:04.760Z"
      },
      {
        "duration": 264,
        "start_time": "2021-07-14T13:29:14.704Z"
      },
      {
        "duration": 6,
        "start_time": "2021-07-14T13:29:18.986Z"
      },
      {
        "duration": 5023,
        "start_time": "2021-07-14T13:33:48.734Z"
      },
      {
        "duration": 8,
        "start_time": "2021-07-14T13:34:08.529Z"
      },
      {
        "duration": 18,
        "start_time": "2021-07-14T13:34:12.960Z"
      },
      {
        "duration": 14,
        "start_time": "2021-07-14T13:34:16.092Z"
      },
      {
        "duration": 14,
        "start_time": "2021-07-14T13:34:30.478Z"
      },
      {
        "duration": 7,
        "start_time": "2021-07-14T13:34:37.742Z"
      },
      {
        "duration": 15,
        "start_time": "2021-07-14T13:34:39.059Z"
      },
      {
        "duration": 13,
        "start_time": "2021-07-14T13:34:46.775Z"
      },
      {
        "duration": 7,
        "start_time": "2021-07-14T13:35:35.303Z"
      },
      {
        "duration": 4,
        "start_time": "2021-07-14T13:36:21.268Z"
      },
      {
        "duration": 5,
        "start_time": "2021-07-14T13:37:09.497Z"
      },
      {
        "duration": 4,
        "start_time": "2021-07-14T13:38:07.405Z"
      },
      {
        "duration": 194,
        "start_time": "2021-07-14T13:39:38.210Z"
      },
      {
        "duration": 14,
        "start_time": "2021-07-14T13:39:42.289Z"
      },
      {
        "duration": 104,
        "start_time": "2021-07-14T13:45:45.276Z"
      },
      {
        "duration": 6,
        "start_time": "2021-07-14T13:46:22.664Z"
      },
      {
        "duration": 6,
        "start_time": "2021-07-14T13:46:49.961Z"
      },
      {
        "duration": 6,
        "start_time": "2021-07-14T13:48:25.320Z"
      },
      {
        "duration": 4,
        "start_time": "2021-07-14T13:50:46.399Z"
      },
      {
        "duration": 7,
        "start_time": "2021-07-14T13:52:19.657Z"
      },
      {
        "duration": 1511,
        "start_time": "2021-07-14T13:53:30.368Z"
      },
      {
        "duration": 4305,
        "start_time": "2021-07-14T13:54:38.514Z"
      },
      {
        "duration": 4337,
        "start_time": "2021-07-14T13:58:24.611Z"
      },
      {
        "duration": 60,
        "start_time": "2021-07-14T14:01:54.719Z"
      },
      {
        "duration": 5,
        "start_time": "2021-07-14T14:02:07.956Z"
      },
      {
        "duration": 4,
        "start_time": "2021-07-14T14:03:09.583Z"
      },
      {
        "duration": 66785,
        "start_time": "2021-07-14T14:06:07.319Z"
      },
      {
        "duration": 16024,
        "start_time": "2021-07-14T14:16:11.778Z"
      },
      {
        "duration": 52029,
        "start_time": "2021-07-14T14:17:01.454Z"
      },
      {
        "duration": 147365,
        "start_time": "2021-07-14T14:18:24.734Z"
      },
      {
        "duration": 4,
        "start_time": "2021-07-14T14:20:52.101Z"
      },
      {
        "duration": 53169,
        "start_time": "2021-07-14T14:22:40.034Z"
      },
      {
        "duration": 16012,
        "start_time": "2021-07-14T14:23:40.248Z"
      },
      {
        "duration": 4,
        "start_time": "2021-07-14T14:24:43.149Z"
      },
      {
        "duration": 192,
        "start_time": "2021-07-14T14:24:55.454Z"
      },
      {
        "duration": 5,
        "start_time": "2021-07-14T14:25:03.484Z"
      },
      {
        "duration": 4,
        "start_time": "2021-07-14T14:26:51.121Z"
      },
      {
        "duration": 8,
        "start_time": "2021-07-14T14:27:26.848Z"
      },
      {
        "duration": 1111,
        "start_time": "2021-07-14T14:27:42.030Z"
      },
      {
        "duration": 33,
        "start_time": "2021-07-14T14:27:43.142Z"
      },
      {
        "duration": 9,
        "start_time": "2021-07-14T14:27:43.177Z"
      },
      {
        "duration": 7,
        "start_time": "2021-07-14T14:27:43.188Z"
      },
      {
        "duration": 13,
        "start_time": "2021-07-14T14:27:43.196Z"
      },
      {
        "duration": 8,
        "start_time": "2021-07-14T14:27:43.211Z"
      },
      {
        "duration": 10,
        "start_time": "2021-07-14T14:27:43.221Z"
      },
      {
        "duration": 4,
        "start_time": "2021-07-14T14:27:43.233Z"
      },
      {
        "duration": 8,
        "start_time": "2021-07-14T14:27:43.239Z"
      },
      {
        "duration": 39,
        "start_time": "2021-07-14T14:27:43.249Z"
      },
      {
        "duration": 7,
        "start_time": "2021-07-14T14:27:43.289Z"
      },
      {
        "duration": 1114,
        "start_time": "2021-07-14T14:27:43.298Z"
      },
      {
        "duration": 404,
        "start_time": "2021-07-14T14:27:44.414Z"
      },
      {
        "duration": 2,
        "start_time": "2021-07-14T14:27:44.820Z"
      },
      {
        "duration": 9,
        "start_time": "2021-07-14T14:27:44.824Z"
      },
      {
        "duration": 8,
        "start_time": "2021-07-14T14:27:44.835Z"
      },
      {
        "duration": 15,
        "start_time": "2021-07-14T14:27:44.845Z"
      },
      {
        "duration": 27,
        "start_time": "2021-07-14T14:27:44.862Z"
      },
      {
        "duration": 5,
        "start_time": "2021-07-14T14:27:44.891Z"
      },
      {
        "duration": 7,
        "start_time": "2021-07-14T14:27:44.898Z"
      },
      {
        "duration": 9,
        "start_time": "2021-07-14T14:27:44.907Z"
      },
      {
        "duration": 5,
        "start_time": "2021-07-14T14:27:44.918Z"
      },
      {
        "duration": 4,
        "start_time": "2021-07-14T14:27:44.926Z"
      },
      {
        "duration": 11,
        "start_time": "2021-07-14T14:27:44.931Z"
      },
      {
        "duration": 2494,
        "start_time": "2021-07-14T14:27:44.944Z"
      },
      {
        "duration": 4,
        "start_time": "2021-07-14T14:27:47.439Z"
      },
      {
        "duration": 6,
        "start_time": "2021-07-14T14:27:47.445Z"
      },
      {
        "duration": 41005,
        "start_time": "2021-07-14T14:27:47.453Z"
      },
      {
        "duration": 15821,
        "start_time": "2021-07-14T14:28:28.460Z"
      },
      {
        "duration": 8,
        "start_time": "2021-07-14T14:28:44.282Z"
      },
      {
        "duration": 4,
        "start_time": "2021-07-14T14:33:39.094Z"
      },
      {
        "duration": 8,
        "start_time": "2021-07-14T14:33:43.632Z"
      },
      {
        "duration": 178,
        "start_time": "2021-07-14T14:33:54.332Z"
      },
      {
        "duration": 178,
        "start_time": "2021-07-14T14:34:29.788Z"
      },
      {
        "duration": 4742,
        "start_time": "2021-07-14T14:34:56.100Z"
      },
      {
        "duration": 166,
        "start_time": "2021-07-14T14:35:39.000Z"
      },
      {
        "duration": 185,
        "start_time": "2021-07-14T14:36:24.775Z"
      },
      {
        "duration": 532,
        "start_time": "2021-07-14T14:39:23.798Z"
      },
      {
        "duration": 196,
        "start_time": "2021-07-14T14:39:26.955Z"
      },
      {
        "duration": 202,
        "start_time": "2021-07-14T14:39:40.084Z"
      },
      {
        "duration": 16,
        "start_time": "2021-07-14T14:43:19.138Z"
      },
      {
        "duration": 16,
        "start_time": "2021-07-14T14:43:41.359Z"
      },
      {
        "duration": 3,
        "start_time": "2021-07-14T14:43:47.493Z"
      },
      {
        "duration": 16,
        "start_time": "2021-07-14T14:43:55.828Z"
      },
      {
        "duration": 12,
        "start_time": "2021-07-14T14:44:22.457Z"
      },
      {
        "duration": 7,
        "start_time": "2021-07-14T14:46:02.872Z"
      },
      {
        "duration": 6,
        "start_time": "2021-07-14T14:46:04.333Z"
      },
      {
        "duration": 5,
        "start_time": "2021-07-14T14:47:10.804Z"
      },
      {
        "duration": 4,
        "start_time": "2021-07-14T14:47:11.732Z"
      },
      {
        "duration": 5,
        "start_time": "2021-07-14T14:48:11.749Z"
      },
      {
        "duration": 1123,
        "start_time": "2021-07-14T14:48:45.900Z"
      },
      {
        "duration": 31,
        "start_time": "2021-07-14T14:48:47.025Z"
      },
      {
        "duration": 9,
        "start_time": "2021-07-14T14:48:47.058Z"
      },
      {
        "duration": 6,
        "start_time": "2021-07-14T14:48:47.069Z"
      },
      {
        "duration": 10,
        "start_time": "2021-07-14T14:48:47.084Z"
      },
      {
        "duration": 7,
        "start_time": "2021-07-14T14:48:47.096Z"
      },
      {
        "duration": 5,
        "start_time": "2021-07-14T14:48:47.105Z"
      },
      {
        "duration": 4,
        "start_time": "2021-07-14T14:48:47.112Z"
      },
      {
        "duration": 7,
        "start_time": "2021-07-14T14:48:47.117Z"
      },
      {
        "duration": 10,
        "start_time": "2021-07-14T14:48:47.126Z"
      },
      {
        "duration": 6,
        "start_time": "2021-07-14T14:48:47.137Z"
      },
      {
        "duration": 1114,
        "start_time": "2021-07-14T14:48:47.145Z"
      },
      {
        "duration": 372,
        "start_time": "2021-07-14T14:48:48.261Z"
      },
      {
        "duration": 2,
        "start_time": "2021-07-14T14:48:48.635Z"
      },
      {
        "duration": 8,
        "start_time": "2021-07-14T14:48:48.639Z"
      },
      {
        "duration": 9,
        "start_time": "2021-07-14T14:48:48.649Z"
      },
      {
        "duration": 27,
        "start_time": "2021-07-14T14:48:48.659Z"
      },
      {
        "duration": 8,
        "start_time": "2021-07-14T14:48:48.687Z"
      },
      {
        "duration": 3,
        "start_time": "2021-07-14T14:48:48.696Z"
      },
      {
        "duration": 6,
        "start_time": "2021-07-14T14:48:48.701Z"
      },
      {
        "duration": 6,
        "start_time": "2021-07-14T14:48:48.709Z"
      },
      {
        "duration": 7,
        "start_time": "2021-07-14T14:48:48.716Z"
      },
      {
        "duration": 3,
        "start_time": "2021-07-14T14:48:48.726Z"
      },
      {
        "duration": 7,
        "start_time": "2021-07-14T14:48:48.731Z"
      },
      {
        "duration": 2514,
        "start_time": "2021-07-14T14:48:48.739Z"
      },
      {
        "duration": 5,
        "start_time": "2021-07-14T14:48:51.255Z"
      },
      {
        "duration": 23,
        "start_time": "2021-07-14T14:48:51.262Z"
      },
      {
        "duration": 41074,
        "start_time": "2021-07-14T14:48:51.288Z"
      },
      {
        "duration": 22241,
        "start_time": "2021-07-14T14:49:32.364Z"
      },
      {
        "duration": 4,
        "start_time": "2021-07-14T14:49:54.606Z"
      },
      {
        "duration": 10,
        "start_time": "2021-07-14T14:49:54.611Z"
      },
      {
        "duration": 194,
        "start_time": "2021-07-14T14:49:54.623Z"
      },
      {
        "duration": 4,
        "start_time": "2021-07-14T14:49:54.819Z"
      },
      {
        "duration": 16,
        "start_time": "2021-07-14T14:49:54.825Z"
      },
      {
        "duration": 6,
        "start_time": "2021-07-14T14:49:54.842Z"
      },
      {
        "duration": 7,
        "start_time": "2021-07-14T14:49:54.850Z"
      },
      {
        "duration": 7,
        "start_time": "2021-07-14T14:49:54.858Z"
      },
      {
        "duration": 27,
        "start_time": "2021-07-14T14:49:54.866Z"
      },
      {
        "duration": 3,
        "start_time": "2021-07-14T14:51:23.394Z"
      },
      {
        "duration": 4,
        "start_time": "2021-07-14T14:51:26.358Z"
      },
      {
        "duration": 12,
        "start_time": "2021-07-14T14:51:27.139Z"
      },
      {
        "duration": 6,
        "start_time": "2021-07-14T14:51:28.737Z"
      },
      {
        "duration": 6,
        "start_time": "2021-07-14T14:51:30.370Z"
      },
      {
        "duration": 5,
        "start_time": "2021-07-14T14:51:32.412Z"
      },
      {
        "duration": 5,
        "start_time": "2021-07-14T14:51:33.146Z"
      },
      {
        "duration": 1179,
        "start_time": "2021-07-14T14:53:32.266Z"
      },
      {
        "duration": 32,
        "start_time": "2021-07-14T14:53:33.447Z"
      },
      {
        "duration": 9,
        "start_time": "2021-07-14T14:53:33.480Z"
      },
      {
        "duration": 13,
        "start_time": "2021-07-14T14:53:33.491Z"
      },
      {
        "duration": 20,
        "start_time": "2021-07-14T14:53:33.505Z"
      },
      {
        "duration": 16,
        "start_time": "2021-07-14T14:53:33.527Z"
      },
      {
        "duration": 15,
        "start_time": "2021-07-14T14:53:33.545Z"
      },
      {
        "duration": 8,
        "start_time": "2021-07-14T14:53:33.563Z"
      },
      {
        "duration": 13,
        "start_time": "2021-07-14T14:53:33.573Z"
      },
      {
        "duration": 21,
        "start_time": "2021-07-14T14:53:33.587Z"
      },
      {
        "duration": 11,
        "start_time": "2021-07-14T14:53:33.610Z"
      },
      {
        "duration": 1104,
        "start_time": "2021-07-14T14:53:33.623Z"
      },
      {
        "duration": 403,
        "start_time": "2021-07-14T14:53:34.729Z"
      },
      {
        "duration": 2,
        "start_time": "2021-07-14T14:53:35.134Z"
      },
      {
        "duration": 27,
        "start_time": "2021-07-14T14:53:35.138Z"
      },
      {
        "duration": 10,
        "start_time": "2021-07-14T14:53:35.167Z"
      },
      {
        "duration": 15,
        "start_time": "2021-07-14T14:53:35.179Z"
      },
      {
        "duration": 12,
        "start_time": "2021-07-14T14:53:35.196Z"
      },
      {
        "duration": 7,
        "start_time": "2021-07-14T14:53:35.210Z"
      },
      {
        "duration": 11,
        "start_time": "2021-07-14T14:53:35.219Z"
      },
      {
        "duration": 8,
        "start_time": "2021-07-14T14:53:35.232Z"
      },
      {
        "duration": 16,
        "start_time": "2021-07-14T14:53:35.242Z"
      },
      {
        "duration": 11,
        "start_time": "2021-07-14T14:53:35.261Z"
      },
      {
        "duration": 8,
        "start_time": "2021-07-14T14:53:35.274Z"
      },
      {
        "duration": 3081,
        "start_time": "2021-07-14T14:53:35.284Z"
      },
      {
        "duration": 18,
        "start_time": "2021-07-14T14:53:38.367Z"
      },
      {
        "duration": 6,
        "start_time": "2021-07-14T14:53:38.387Z"
      },
      {
        "duration": 24634,
        "start_time": "2021-07-14T14:53:38.395Z"
      },
      {
        "duration": 15548,
        "start_time": "2021-07-14T14:54:03.031Z"
      },
      {
        "duration": 3,
        "start_time": "2021-07-14T14:54:18.581Z"
      },
      {
        "duration": 9,
        "start_time": "2021-07-14T14:54:18.586Z"
      },
      {
        "duration": 203,
        "start_time": "2021-07-14T14:54:18.597Z"
      },
      {
        "duration": 2,
        "start_time": "2021-07-14T14:54:18.802Z"
      },
      {
        "duration": 10,
        "start_time": "2021-07-14T14:54:18.806Z"
      },
      {
        "duration": 10,
        "start_time": "2021-07-14T14:54:18.818Z"
      },
      {
        "duration": 8,
        "start_time": "2021-07-14T14:54:18.830Z"
      },
      {
        "duration": 7,
        "start_time": "2021-07-14T14:54:18.840Z"
      },
      {
        "duration": 37,
        "start_time": "2021-07-14T14:54:18.849Z"
      },
      {
        "duration": 1140,
        "start_time": "2021-07-14T14:57:58.732Z"
      },
      {
        "duration": 31,
        "start_time": "2021-07-14T14:57:59.873Z"
      },
      {
        "duration": 9,
        "start_time": "2021-07-14T14:57:59.908Z"
      },
      {
        "duration": 18,
        "start_time": "2021-07-14T14:57:59.919Z"
      },
      {
        "duration": 21,
        "start_time": "2021-07-14T14:57:59.938Z"
      },
      {
        "duration": 11,
        "start_time": "2021-07-14T14:57:59.961Z"
      },
      {
        "duration": 10,
        "start_time": "2021-07-14T14:57:59.974Z"
      },
      {
        "duration": 6,
        "start_time": "2021-07-14T14:57:59.987Z"
      },
      {
        "duration": 7,
        "start_time": "2021-07-14T14:57:59.995Z"
      },
      {
        "duration": 25,
        "start_time": "2021-07-14T14:58:00.003Z"
      },
      {
        "duration": 24,
        "start_time": "2021-07-14T14:58:00.030Z"
      },
      {
        "duration": 1107,
        "start_time": "2021-07-14T14:58:00.056Z"
      },
      {
        "duration": 387,
        "start_time": "2021-07-14T14:58:01.165Z"
      },
      {
        "duration": 3,
        "start_time": "2021-07-14T14:58:01.554Z"
      },
      {
        "duration": 17,
        "start_time": "2021-07-14T14:58:01.559Z"
      },
      {
        "duration": 9,
        "start_time": "2021-07-14T14:58:01.584Z"
      },
      {
        "duration": 14,
        "start_time": "2021-07-14T14:58:01.595Z"
      },
      {
        "duration": 5,
        "start_time": "2021-07-14T14:58:01.611Z"
      },
      {
        "duration": 12,
        "start_time": "2021-07-14T14:58:01.617Z"
      },
      {
        "duration": 10,
        "start_time": "2021-07-14T14:58:01.631Z"
      },
      {
        "duration": 8,
        "start_time": "2021-07-14T14:58:01.642Z"
      },
      {
        "duration": 6,
        "start_time": "2021-07-14T14:58:01.652Z"
      },
      {
        "duration": 4,
        "start_time": "2021-07-14T14:58:01.660Z"
      },
      {
        "duration": 7,
        "start_time": "2021-07-14T14:58:01.685Z"
      },
      {
        "duration": 2490,
        "start_time": "2021-07-14T14:58:01.694Z"
      },
      {
        "duration": 4,
        "start_time": "2021-07-14T14:58:04.188Z"
      },
      {
        "duration": 15,
        "start_time": "2021-07-14T14:58:04.194Z"
      },
      {
        "duration": 24806,
        "start_time": "2021-07-14T14:58:04.210Z"
      },
      {
        "duration": 15591,
        "start_time": "2021-07-14T14:58:29.018Z"
      },
      {
        "duration": 3,
        "start_time": "2021-07-14T14:58:44.611Z"
      },
      {
        "duration": 9,
        "start_time": "2021-07-14T14:58:44.616Z"
      },
      {
        "duration": 195,
        "start_time": "2021-07-14T14:58:44.627Z"
      },
      {
        "duration": 3,
        "start_time": "2021-07-14T14:58:44.823Z"
      },
      {
        "duration": 7,
        "start_time": "2021-07-14T14:58:44.827Z"
      },
      {
        "duration": 12,
        "start_time": "2021-07-14T14:58:44.836Z"
      },
      {
        "duration": 7,
        "start_time": "2021-07-14T14:58:44.850Z"
      },
      {
        "duration": 28,
        "start_time": "2021-07-14T14:58:44.858Z"
      },
      {
        "duration": 5,
        "start_time": "2021-07-14T14:58:44.887Z"
      },
      {
        "duration": 1449,
        "start_time": "2021-07-15T04:12:58.014Z"
      },
      {
        "duration": 39,
        "start_time": "2021-07-15T04:12:59.465Z"
      },
      {
        "duration": 14,
        "start_time": "2021-07-15T04:12:59.506Z"
      },
      {
        "duration": 10,
        "start_time": "2021-07-15T04:12:59.522Z"
      },
      {
        "duration": 17,
        "start_time": "2021-07-15T04:14:00.439Z"
      },
      {
        "duration": 13,
        "start_time": "2021-07-15T04:14:01.211Z"
      },
      {
        "duration": 8,
        "start_time": "2021-07-15T04:14:01.405Z"
      },
      {
        "duration": 7,
        "start_time": "2021-07-15T04:14:01.595Z"
      },
      {
        "duration": 6,
        "start_time": "2021-07-15T04:14:02.280Z"
      },
      {
        "duration": 12,
        "start_time": "2021-07-15T04:14:24.027Z"
      },
      {
        "duration": 13,
        "start_time": "2021-07-15T04:14:24.041Z"
      },
      {
        "duration": 1595,
        "start_time": "2021-07-15T04:15:37.262Z"
      },
      {
        "duration": 497,
        "start_time": "2021-07-15T04:15:38.859Z"
      },
      {
        "duration": 4,
        "start_time": "2021-07-15T04:15:39.358Z"
      },
      {
        "duration": 11,
        "start_time": "2021-07-15T04:19:48.964Z"
      },
      {
        "duration": 13,
        "start_time": "2021-07-15T04:19:51.299Z"
      },
      {
        "duration": 17,
        "start_time": "2021-07-15T04:19:52.623Z"
      },
      {
        "duration": 8,
        "start_time": "2021-07-15T04:19:54.445Z"
      },
      {
        "duration": 5,
        "start_time": "2021-07-15T04:19:54.655Z"
      },
      {
        "duration": 7,
        "start_time": "2021-07-15T04:19:54.823Z"
      },
      {
        "duration": 5,
        "start_time": "2021-07-15T04:19:55.024Z"
      },
      {
        "duration": 8,
        "start_time": "2021-07-15T04:20:20.307Z"
      },
      {
        "duration": 9,
        "start_time": "2021-07-15T04:20:20.317Z"
      },
      {
        "duration": 14,
        "start_time": "2021-07-15T04:20:45.871Z"
      },
      {
        "duration": 1165,
        "start_time": "2021-07-15T07:04:27.557Z"
      },
      {
        "duration": 30,
        "start_time": "2021-07-15T07:04:28.723Z"
      },
      {
        "duration": 8,
        "start_time": "2021-07-15T07:04:28.755Z"
      },
      {
        "duration": 7,
        "start_time": "2021-07-15T07:04:28.765Z"
      },
      {
        "duration": 11,
        "start_time": "2021-07-15T07:04:28.774Z"
      },
      {
        "duration": 8,
        "start_time": "2021-07-15T07:04:28.791Z"
      },
      {
        "duration": 5,
        "start_time": "2021-07-15T07:04:28.800Z"
      },
      {
        "duration": 11,
        "start_time": "2021-07-15T07:04:28.806Z"
      },
      {
        "duration": 4,
        "start_time": "2021-07-15T07:04:28.819Z"
      },
      {
        "duration": 12,
        "start_time": "2021-07-15T07:04:28.824Z"
      },
      {
        "duration": 7,
        "start_time": "2021-07-15T07:04:28.837Z"
      },
      {
        "duration": 958,
        "start_time": "2021-07-15T07:04:28.846Z"
      },
      {
        "duration": 275,
        "start_time": "2021-07-15T07:04:53.948Z"
      },
      {
        "duration": 230,
        "start_time": "2021-07-15T07:05:02.637Z"
      },
      {
        "duration": 344,
        "start_time": "2021-07-15T07:05:17.832Z"
      },
      {
        "duration": 209,
        "start_time": "2021-07-15T07:05:34.092Z"
      },
      {
        "duration": 279,
        "start_time": "2021-07-15T07:05:40.868Z"
      },
      {
        "duration": 246,
        "start_time": "2021-07-15T07:05:49.165Z"
      },
      {
        "duration": 205,
        "start_time": "2021-07-15T07:06:04.877Z"
      },
      {
        "duration": 1103,
        "start_time": "2021-07-15T07:31:27.516Z"
      },
      {
        "duration": 29,
        "start_time": "2021-07-15T07:31:28.620Z"
      },
      {
        "duration": 8,
        "start_time": "2021-07-15T07:31:28.651Z"
      },
      {
        "duration": 9,
        "start_time": "2021-07-15T07:31:28.660Z"
      },
      {
        "duration": 10,
        "start_time": "2021-07-15T07:31:28.670Z"
      },
      {
        "duration": 17,
        "start_time": "2021-07-15T07:31:28.681Z"
      },
      {
        "duration": 9,
        "start_time": "2021-07-15T07:31:28.699Z"
      },
      {
        "duration": 8,
        "start_time": "2021-07-15T07:31:28.710Z"
      },
      {
        "duration": 11,
        "start_time": "2021-07-15T07:31:28.719Z"
      },
      {
        "duration": 16,
        "start_time": "2021-07-15T07:31:28.732Z"
      },
      {
        "duration": 5,
        "start_time": "2021-07-15T07:31:28.750Z"
      },
      {
        "duration": 952,
        "start_time": "2021-07-15T07:31:28.757Z"
      },
      {
        "duration": 284,
        "start_time": "2021-07-15T07:31:29.710Z"
      },
      {
        "duration": 276,
        "start_time": "2021-07-15T07:31:29.996Z"
      },
      {
        "duration": 3,
        "start_time": "2021-07-15T07:31:30.273Z"
      },
      {
        "duration": 14,
        "start_time": "2021-07-15T07:31:30.277Z"
      },
      {
        "duration": 19,
        "start_time": "2021-07-15T07:31:30.293Z"
      },
      {
        "duration": 24,
        "start_time": "2021-07-15T07:31:30.314Z"
      },
      {
        "duration": 26,
        "start_time": "2021-07-15T07:31:30.340Z"
      },
      {
        "duration": 11,
        "start_time": "2021-07-15T07:31:30.368Z"
      },
      {
        "duration": 27,
        "start_time": "2021-07-15T07:31:30.381Z"
      },
      {
        "duration": 20,
        "start_time": "2021-07-15T07:31:30.410Z"
      },
      {
        "duration": 15,
        "start_time": "2021-07-15T07:31:30.433Z"
      },
      {
        "duration": 17,
        "start_time": "2021-07-15T07:31:30.450Z"
      },
      {
        "duration": 20,
        "start_time": "2021-07-15T07:31:30.469Z"
      },
      {
        "duration": 2259,
        "start_time": "2021-07-15T07:31:30.491Z"
      },
      {
        "duration": 4,
        "start_time": "2021-07-15T07:31:32.752Z"
      },
      {
        "duration": 7,
        "start_time": "2021-07-15T07:31:32.758Z"
      },
      {
        "duration": 23835,
        "start_time": "2021-07-15T07:31:32.767Z"
      },
      {
        "duration": 14103,
        "start_time": "2021-07-15T07:31:56.604Z"
      },
      {
        "duration": 3,
        "start_time": "2021-07-15T07:32:10.709Z"
      },
      {
        "duration": 9,
        "start_time": "2021-07-15T07:32:10.713Z"
      },
      {
        "duration": 169,
        "start_time": "2021-07-15T07:32:10.724Z"
      },
      {
        "duration": 3,
        "start_time": "2021-07-15T07:32:10.894Z"
      },
      {
        "duration": 9,
        "start_time": "2021-07-15T07:32:10.898Z"
      },
      {
        "duration": 11,
        "start_time": "2021-07-15T07:32:10.908Z"
      },
      {
        "duration": 6,
        "start_time": "2021-07-15T07:32:10.920Z"
      },
      {
        "duration": 6,
        "start_time": "2021-07-15T07:32:10.928Z"
      },
      {
        "duration": 7,
        "start_time": "2021-07-15T07:32:10.935Z"
      },
      {
        "duration": 3,
        "start_time": "2021-07-15T07:38:15.637Z"
      },
      {
        "duration": 38,
        "start_time": "2021-07-15T07:38:15.642Z"
      },
      {
        "duration": 6,
        "start_time": "2021-07-15T07:38:15.682Z"
      },
      {
        "duration": 8,
        "start_time": "2021-07-15T07:38:15.689Z"
      },
      {
        "duration": 11,
        "start_time": "2021-07-15T07:38:15.698Z"
      },
      {
        "duration": 7,
        "start_time": "2021-07-15T07:38:15.710Z"
      },
      {
        "duration": 7,
        "start_time": "2021-07-15T07:38:15.719Z"
      },
      {
        "duration": 3,
        "start_time": "2021-07-15T07:38:15.729Z"
      },
      {
        "duration": 6,
        "start_time": "2021-07-15T07:38:15.734Z"
      },
      {
        "duration": 19,
        "start_time": "2021-07-15T07:38:15.742Z"
      },
      {
        "duration": 12,
        "start_time": "2021-07-15T07:38:15.763Z"
      },
      {
        "duration": 1063,
        "start_time": "2021-07-15T07:38:15.776Z"
      },
      {
        "duration": 222,
        "start_time": "2021-07-15T07:38:16.841Z"
      },
      {
        "duration": 279,
        "start_time": "2021-07-15T07:38:17.064Z"
      },
      {
        "duration": 2,
        "start_time": "2021-07-15T07:38:17.345Z"
      },
      {
        "duration": 9,
        "start_time": "2021-07-15T07:38:17.348Z"
      },
      {
        "duration": 4,
        "start_time": "2021-07-15T07:38:17.359Z"
      },
      {
        "duration": 6,
        "start_time": "2021-07-15T07:38:17.365Z"
      },
      {
        "duration": 24,
        "start_time": "2021-07-15T07:38:17.373Z"
      },
      {
        "duration": 4,
        "start_time": "2021-07-15T07:38:17.398Z"
      },
      {
        "duration": 3,
        "start_time": "2021-07-15T07:38:17.404Z"
      },
      {
        "duration": 9,
        "start_time": "2021-07-15T07:38:17.408Z"
      },
      {
        "duration": 5,
        "start_time": "2021-07-15T07:38:17.420Z"
      },
      {
        "duration": 8,
        "start_time": "2021-07-15T07:38:17.427Z"
      },
      {
        "duration": 3,
        "start_time": "2021-07-15T07:38:35.484Z"
      },
      {
        "duration": 6,
        "start_time": "2021-07-15T07:38:36.724Z"
      },
      {
        "duration": 1578,
        "start_time": "2021-07-15T07:38:37.693Z"
      },
      {
        "duration": 6186,
        "start_time": "2021-07-15T07:38:57.745Z"
      },
      {
        "duration": 5009,
        "start_time": "2021-07-15T07:42:46.677Z"
      },
      {
        "duration": 13666,
        "start_time": "2021-07-15T07:43:27.869Z"
      },
      {
        "duration": 3452,
        "start_time": "2021-07-15T07:44:02.729Z"
      },
      {
        "duration": 495,
        "start_time": "2021-07-15T07:48:50.466Z"
      },
      {
        "duration": 4,
        "start_time": "2021-07-15T07:49:05.704Z"
      },
      {
        "duration": 33,
        "start_time": "2021-07-15T07:49:05.710Z"
      },
      {
        "duration": 7,
        "start_time": "2021-07-15T07:49:05.745Z"
      },
      {
        "duration": 7,
        "start_time": "2021-07-15T07:49:05.754Z"
      },
      {
        "duration": 12,
        "start_time": "2021-07-15T07:49:05.763Z"
      },
      {
        "duration": 9,
        "start_time": "2021-07-15T07:49:05.776Z"
      },
      {
        "duration": 5,
        "start_time": "2021-07-15T07:49:05.792Z"
      },
      {
        "duration": 4,
        "start_time": "2021-07-15T07:49:05.799Z"
      },
      {
        "duration": 7,
        "start_time": "2021-07-15T07:49:05.805Z"
      },
      {
        "duration": 12,
        "start_time": "2021-07-15T07:49:05.813Z"
      },
      {
        "duration": 11,
        "start_time": "2021-07-15T07:49:05.827Z"
      },
      {
        "duration": 965,
        "start_time": "2021-07-15T07:49:05.839Z"
      },
      {
        "duration": 314,
        "start_time": "2021-07-15T07:49:09.056Z"
      },
      {
        "duration": 965,
        "start_time": "2021-07-15T07:49:29.305Z"
      },
      {
        "duration": 198,
        "start_time": "2021-07-15T07:51:46.380Z"
      },
      {
        "duration": 286,
        "start_time": "2021-07-15T07:52:11.781Z"
      },
      {
        "duration": 347,
        "start_time": "2021-07-15T07:53:09.411Z"
      },
      {
        "duration": 303,
        "start_time": "2021-07-15T07:53:29.071Z"
      },
      {
        "duration": 307,
        "start_time": "2021-07-15T07:53:39.449Z"
      },
      {
        "duration": 289,
        "start_time": "2021-07-15T07:53:47.619Z"
      },
      {
        "duration": 195,
        "start_time": "2021-07-15T07:54:05.962Z"
      },
      {
        "duration": 391,
        "start_time": "2021-07-15T07:54:20.173Z"
      },
      {
        "duration": 286,
        "start_time": "2021-07-15T07:54:25.444Z"
      },
      {
        "duration": 219,
        "start_time": "2021-07-15T07:54:43.845Z"
      },
      {
        "duration": 200,
        "start_time": "2021-07-15T07:55:10.784Z"
      },
      {
        "duration": 196,
        "start_time": "2021-07-15T07:55:22.578Z"
      },
      {
        "duration": 185,
        "start_time": "2021-07-15T07:55:32.158Z"
      },
      {
        "duration": 331,
        "start_time": "2021-07-15T07:55:42.954Z"
      },
      {
        "duration": 544,
        "start_time": "2021-07-15T07:55:54.999Z"
      },
      {
        "duration": 192,
        "start_time": "2021-07-15T07:56:01.852Z"
      },
      {
        "duration": 205,
        "start_time": "2021-07-15T07:56:08.805Z"
      },
      {
        "duration": 312,
        "start_time": "2021-07-15T07:56:13.066Z"
      },
      {
        "duration": 99,
        "start_time": "2021-07-15T08:04:11.293Z"
      },
      {
        "duration": 4,
        "start_time": "2021-07-15T08:08:50.893Z"
      },
      {
        "duration": 35,
        "start_time": "2021-07-15T08:08:50.898Z"
      },
      {
        "duration": 6,
        "start_time": "2021-07-15T08:08:50.935Z"
      },
      {
        "duration": 7,
        "start_time": "2021-07-15T08:08:50.942Z"
      },
      {
        "duration": 13,
        "start_time": "2021-07-15T08:08:50.950Z"
      },
      {
        "duration": 7,
        "start_time": "2021-07-15T08:08:50.965Z"
      },
      {
        "duration": 5,
        "start_time": "2021-07-15T08:08:50.992Z"
      },
      {
        "duration": 6,
        "start_time": "2021-07-15T08:08:50.999Z"
      },
      {
        "duration": 9,
        "start_time": "2021-07-15T08:08:51.006Z"
      },
      {
        "duration": 15,
        "start_time": "2021-07-15T08:08:51.016Z"
      },
      {
        "duration": 9,
        "start_time": "2021-07-15T08:08:51.032Z"
      },
      {
        "duration": 1192,
        "start_time": "2021-07-15T08:08:51.042Z"
      },
      {
        "duration": 930,
        "start_time": "2021-07-15T08:08:52.235Z"
      },
      {
        "duration": 320,
        "start_time": "2021-07-15T08:08:53.167Z"
      },
      {
        "duration": 274,
        "start_time": "2021-07-15T08:08:53.491Z"
      },
      {
        "duration": 2,
        "start_time": "2021-07-15T08:08:53.767Z"
      },
      {
        "duration": 9,
        "start_time": "2021-07-15T08:08:53.770Z"
      },
      {
        "duration": 5,
        "start_time": "2021-07-15T08:08:53.791Z"
      },
      {
        "duration": 9,
        "start_time": "2021-07-15T08:08:53.797Z"
      },
      {
        "duration": 11,
        "start_time": "2021-07-15T08:08:53.807Z"
      },
      {
        "duration": 4,
        "start_time": "2021-07-15T08:08:53.819Z"
      },
      {
        "duration": 4,
        "start_time": "2021-07-15T08:08:53.825Z"
      },
      {
        "duration": 10,
        "start_time": "2021-07-15T08:08:53.831Z"
      },
      {
        "duration": 15,
        "start_time": "2021-07-15T08:08:53.842Z"
      },
      {
        "duration": 8,
        "start_time": "2021-07-15T08:08:53.859Z"
      },
      {
        "duration": 8,
        "start_time": "2021-07-15T08:08:53.868Z"
      },
      {
        "duration": 15,
        "start_time": "2021-07-15T08:08:53.878Z"
      },
      {
        "duration": 5010,
        "start_time": "2021-07-15T08:08:53.895Z"
      },
      {
        "duration": 3,
        "start_time": "2021-07-15T08:09:36.134Z"
      },
      {
        "duration": 34,
        "start_time": "2021-07-15T08:09:36.139Z"
      },
      {
        "duration": 6,
        "start_time": "2021-07-15T08:09:36.175Z"
      },
      {
        "duration": 12,
        "start_time": "2021-07-15T08:09:36.183Z"
      },
      {
        "duration": 12,
        "start_time": "2021-07-15T08:09:36.196Z"
      },
      {
        "duration": 8,
        "start_time": "2021-07-15T08:09:36.210Z"
      },
      {
        "duration": 9,
        "start_time": "2021-07-15T08:09:36.219Z"
      },
      {
        "duration": 10,
        "start_time": "2021-07-15T08:09:36.230Z"
      },
      {
        "duration": 5,
        "start_time": "2021-07-15T08:09:36.241Z"
      },
      {
        "duration": 14,
        "start_time": "2021-07-15T08:09:36.247Z"
      },
      {
        "duration": 10,
        "start_time": "2021-07-15T08:09:36.262Z"
      },
      {
        "duration": 1219,
        "start_time": "2021-07-15T08:09:36.274Z"
      },
      {
        "duration": 850,
        "start_time": "2021-07-15T08:09:37.495Z"
      },
      {
        "duration": 324,
        "start_time": "2021-07-15T08:09:38.346Z"
      },
      {
        "duration": 273,
        "start_time": "2021-07-15T08:09:38.672Z"
      },
      {
        "duration": 2,
        "start_time": "2021-07-15T08:09:38.947Z"
      },
      {
        "duration": 20,
        "start_time": "2021-07-15T08:09:38.950Z"
      },
      {
        "duration": 15,
        "start_time": "2021-07-15T08:09:38.971Z"
      },
      {
        "duration": 19,
        "start_time": "2021-07-15T08:09:38.987Z"
      },
      {
        "duration": 22,
        "start_time": "2021-07-15T08:09:39.007Z"
      },
      {
        "duration": 5,
        "start_time": "2021-07-15T08:09:39.030Z"
      },
      {
        "duration": 4,
        "start_time": "2021-07-15T08:09:39.036Z"
      },
      {
        "duration": 9,
        "start_time": "2021-07-15T08:09:39.042Z"
      },
      {
        "duration": 11,
        "start_time": "2021-07-15T08:09:39.053Z"
      },
      {
        "duration": 11,
        "start_time": "2021-07-15T08:09:39.065Z"
      },
      {
        "duration": 11,
        "start_time": "2021-07-15T08:09:39.077Z"
      },
      {
        "duration": 13,
        "start_time": "2021-07-15T08:09:39.089Z"
      },
      {
        "duration": 4414,
        "start_time": "2021-07-15T08:09:39.103Z"
      },
      {
        "duration": 4,
        "start_time": "2021-07-15T08:10:28.262Z"
      },
      {
        "duration": 41,
        "start_time": "2021-07-15T08:10:28.268Z"
      },
      {
        "duration": 6,
        "start_time": "2021-07-15T08:10:28.311Z"
      },
      {
        "duration": 7,
        "start_time": "2021-07-15T08:10:28.319Z"
      },
      {
        "duration": 11,
        "start_time": "2021-07-15T08:10:28.328Z"
      },
      {
        "duration": 7,
        "start_time": "2021-07-15T08:10:28.340Z"
      },
      {
        "duration": 6,
        "start_time": "2021-07-15T08:10:28.349Z"
      },
      {
        "duration": 6,
        "start_time": "2021-07-15T08:10:28.357Z"
      },
      {
        "duration": 28,
        "start_time": "2021-07-15T08:10:28.365Z"
      },
      {
        "duration": 11,
        "start_time": "2021-07-15T08:10:28.394Z"
      },
      {
        "duration": 8,
        "start_time": "2021-07-15T08:10:28.407Z"
      },
      {
        "duration": 1010,
        "start_time": "2021-07-15T08:10:28.416Z"
      },
      {
        "duration": 1025,
        "start_time": "2021-07-15T08:10:29.428Z"
      },
      {
        "duration": 436,
        "start_time": "2021-07-15T08:10:30.455Z"
      },
      {
        "duration": 281,
        "start_time": "2021-07-15T08:10:30.893Z"
      },
      {
        "duration": 2,
        "start_time": "2021-07-15T08:10:31.176Z"
      },
      {
        "duration": 12,
        "start_time": "2021-07-15T08:10:31.179Z"
      },
      {
        "duration": 22,
        "start_time": "2021-07-15T08:10:31.192Z"
      },
      {
        "duration": 12,
        "start_time": "2021-07-15T08:10:31.216Z"
      },
      {
        "duration": 9,
        "start_time": "2021-07-15T08:10:31.229Z"
      },
      {
        "duration": 5,
        "start_time": "2021-07-15T08:10:31.240Z"
      },
      {
        "duration": 12,
        "start_time": "2021-07-15T08:10:31.246Z"
      },
      {
        "duration": 20,
        "start_time": "2021-07-15T08:10:31.260Z"
      },
      {
        "duration": 12,
        "start_time": "2021-07-15T08:10:31.282Z"
      },
      {
        "duration": 10,
        "start_time": "2021-07-15T08:10:31.296Z"
      },
      {
        "duration": 10,
        "start_time": "2021-07-15T08:10:31.308Z"
      },
      {
        "duration": 14,
        "start_time": "2021-07-15T08:10:31.319Z"
      },
      {
        "duration": 13924,
        "start_time": "2021-07-15T08:10:31.335Z"
      },
      {
        "duration": 4,
        "start_time": "2021-07-15T08:11:45.362Z"
      },
      {
        "duration": 30,
        "start_time": "2021-07-15T08:11:45.368Z"
      },
      {
        "duration": 6,
        "start_time": "2021-07-15T08:11:45.400Z"
      },
      {
        "duration": 11,
        "start_time": "2021-07-15T08:11:45.407Z"
      },
      {
        "duration": 13,
        "start_time": "2021-07-15T08:11:45.420Z"
      },
      {
        "duration": 8,
        "start_time": "2021-07-15T08:11:45.434Z"
      },
      {
        "duration": 5,
        "start_time": "2021-07-15T08:11:45.444Z"
      },
      {
        "duration": 3,
        "start_time": "2021-07-15T08:11:45.451Z"
      },
      {
        "duration": 35,
        "start_time": "2021-07-15T08:11:45.456Z"
      },
      {
        "duration": 9,
        "start_time": "2021-07-15T08:11:45.493Z"
      },
      {
        "duration": 8,
        "start_time": "2021-07-15T08:11:45.503Z"
      },
      {
        "duration": 1095,
        "start_time": "2021-07-15T08:11:45.512Z"
      },
      {
        "duration": 900,
        "start_time": "2021-07-15T08:11:46.608Z"
      },
      {
        "duration": 329,
        "start_time": "2021-07-15T08:11:47.509Z"
      },
      {
        "duration": 422,
        "start_time": "2021-07-15T08:11:47.839Z"
      },
      {
        "duration": 2,
        "start_time": "2021-07-15T08:11:48.263Z"
      },
      {
        "duration": 9,
        "start_time": "2021-07-15T08:11:48.266Z"
      },
      {
        "duration": 15,
        "start_time": "2021-07-15T08:11:48.276Z"
      },
      {
        "duration": 13,
        "start_time": "2021-07-15T08:11:48.293Z"
      },
      {
        "duration": 10,
        "start_time": "2021-07-15T08:11:48.307Z"
      },
      {
        "duration": 6,
        "start_time": "2021-07-15T08:11:48.319Z"
      },
      {
        "duration": 4,
        "start_time": "2021-07-15T08:11:48.326Z"
      },
      {
        "duration": 12,
        "start_time": "2021-07-15T08:11:48.332Z"
      },
      {
        "duration": 9,
        "start_time": "2021-07-15T08:11:48.346Z"
      },
      {
        "duration": 9,
        "start_time": "2021-07-15T08:11:48.356Z"
      },
      {
        "duration": 8,
        "start_time": "2021-07-15T08:11:48.367Z"
      },
      {
        "duration": 16,
        "start_time": "2021-07-15T08:11:48.376Z"
      },
      {
        "duration": 23803,
        "start_time": "2021-07-15T08:11:48.393Z"
      },
      {
        "duration": 4,
        "start_time": "2021-07-15T08:12:45.900Z"
      },
      {
        "duration": 33,
        "start_time": "2021-07-15T08:12:45.905Z"
      },
      {
        "duration": 8,
        "start_time": "2021-07-15T08:12:45.940Z"
      },
      {
        "duration": 8,
        "start_time": "2021-07-15T08:12:45.950Z"
      },
      {
        "duration": 21,
        "start_time": "2021-07-15T08:12:45.959Z"
      },
      {
        "duration": 18,
        "start_time": "2021-07-15T08:12:45.982Z"
      },
      {
        "duration": 5,
        "start_time": "2021-07-15T08:12:46.002Z"
      },
      {
        "duration": 5,
        "start_time": "2021-07-15T08:12:46.009Z"
      },
      {
        "duration": 8,
        "start_time": "2021-07-15T08:12:46.015Z"
      },
      {
        "duration": 14,
        "start_time": "2021-07-15T08:12:46.024Z"
      },
      {
        "duration": 8,
        "start_time": "2021-07-15T08:12:46.039Z"
      },
      {
        "duration": 975,
        "start_time": "2021-07-15T08:12:46.048Z"
      },
      {
        "duration": 909,
        "start_time": "2021-07-15T08:12:47.025Z"
      },
      {
        "duration": 328,
        "start_time": "2021-07-15T08:12:47.936Z"
      },
      {
        "duration": 276,
        "start_time": "2021-07-15T08:12:48.266Z"
      },
      {
        "duration": 2,
        "start_time": "2021-07-15T08:12:48.544Z"
      },
      {
        "duration": 10,
        "start_time": "2021-07-15T08:12:48.547Z"
      },
      {
        "duration": 7,
        "start_time": "2021-07-15T08:12:48.558Z"
      },
      {
        "duration": 8,
        "start_time": "2021-07-15T08:12:48.567Z"
      },
      {
        "duration": 12,
        "start_time": "2021-07-15T08:12:48.590Z"
      },
      {
        "duration": 5,
        "start_time": "2021-07-15T08:12:48.603Z"
      },
      {
        "duration": 3,
        "start_time": "2021-07-15T08:12:48.610Z"
      },
      {
        "duration": 12,
        "start_time": "2021-07-15T08:12:48.614Z"
      },
      {
        "duration": 7,
        "start_time": "2021-07-15T08:12:48.627Z"
      },
      {
        "duration": 9,
        "start_time": "2021-07-15T08:12:48.635Z"
      },
      {
        "duration": 8,
        "start_time": "2021-07-15T08:12:48.646Z"
      },
      {
        "duration": 13,
        "start_time": "2021-07-15T08:12:48.656Z"
      },
      {
        "duration": 10247,
        "start_time": "2021-07-15T08:12:48.670Z"
      },
      {
        "duration": 4,
        "start_time": "2021-07-15T08:13:14.852Z"
      },
      {
        "duration": 31,
        "start_time": "2021-07-15T08:13:14.859Z"
      },
      {
        "duration": 7,
        "start_time": "2021-07-15T08:13:14.891Z"
      },
      {
        "duration": 7,
        "start_time": "2021-07-15T08:13:14.899Z"
      },
      {
        "duration": 11,
        "start_time": "2021-07-15T08:13:14.907Z"
      },
      {
        "duration": 8,
        "start_time": "2021-07-15T08:13:14.919Z"
      },
      {
        "duration": 7,
        "start_time": "2021-07-15T08:13:14.928Z"
      },
      {
        "duration": 3,
        "start_time": "2021-07-15T08:13:14.937Z"
      },
      {
        "duration": 9,
        "start_time": "2021-07-15T08:13:14.942Z"
      },
      {
        "duration": 41,
        "start_time": "2021-07-15T08:13:14.952Z"
      },
      {
        "duration": 5,
        "start_time": "2021-07-15T08:13:14.995Z"
      },
      {
        "duration": 1008,
        "start_time": "2021-07-15T08:13:15.002Z"
      },
      {
        "duration": 863,
        "start_time": "2021-07-15T08:13:16.012Z"
      },
      {
        "duration": 319,
        "start_time": "2021-07-15T08:13:16.877Z"
      },
      {
        "duration": 272,
        "start_time": "2021-07-15T08:13:17.198Z"
      },
      {
        "duration": 2,
        "start_time": "2021-07-15T08:13:17.472Z"
      },
      {
        "duration": 16,
        "start_time": "2021-07-15T08:13:17.476Z"
      },
      {
        "duration": 5,
        "start_time": "2021-07-15T08:13:17.493Z"
      },
      {
        "duration": 9,
        "start_time": "2021-07-15T08:13:17.499Z"
      },
      {
        "duration": 11,
        "start_time": "2021-07-15T08:13:17.509Z"
      },
      {
        "duration": 5,
        "start_time": "2021-07-15T08:13:17.521Z"
      },
      {
        "duration": 5,
        "start_time": "2021-07-15T08:13:17.527Z"
      },
      {
        "duration": 9,
        "start_time": "2021-07-15T08:13:17.535Z"
      },
      {
        "duration": 8,
        "start_time": "2021-07-15T08:13:17.545Z"
      },
      {
        "duration": 8,
        "start_time": "2021-07-15T08:13:17.554Z"
      },
      {
        "duration": 11,
        "start_time": "2021-07-15T08:13:17.564Z"
      },
      {
        "duration": 19,
        "start_time": "2021-07-15T08:13:17.576Z"
      },
      {
        "duration": 10231,
        "start_time": "2021-07-15T08:13:17.596Z"
      },
      {
        "duration": 3,
        "start_time": "2021-07-15T08:14:19.278Z"
      },
      {
        "duration": 35,
        "start_time": "2021-07-15T08:14:19.283Z"
      },
      {
        "duration": 6,
        "start_time": "2021-07-15T08:14:19.320Z"
      },
      {
        "duration": 9,
        "start_time": "2021-07-15T08:14:19.328Z"
      },
      {
        "duration": 12,
        "start_time": "2021-07-15T08:14:19.339Z"
      },
      {
        "duration": 8,
        "start_time": "2021-07-15T08:14:19.352Z"
      },
      {
        "duration": 7,
        "start_time": "2021-07-15T08:14:19.362Z"
      },
      {
        "duration": 21,
        "start_time": "2021-07-15T08:14:19.371Z"
      },
      {
        "duration": 3,
        "start_time": "2021-07-15T08:14:19.394Z"
      },
      {
        "duration": 10,
        "start_time": "2021-07-15T08:14:19.399Z"
      },
      {
        "duration": 8,
        "start_time": "2021-07-15T08:14:19.411Z"
      },
      {
        "duration": 1123,
        "start_time": "2021-07-15T08:14:19.420Z"
      },
      {
        "duration": 983,
        "start_time": "2021-07-15T08:14:20.544Z"
      },
      {
        "duration": 318,
        "start_time": "2021-07-15T08:14:21.529Z"
      },
      {
        "duration": 267,
        "start_time": "2021-07-15T08:14:21.848Z"
      },
      {
        "duration": 2,
        "start_time": "2021-07-15T08:14:22.117Z"
      },
      {
        "duration": 10,
        "start_time": "2021-07-15T08:14:22.120Z"
      },
      {
        "duration": 13,
        "start_time": "2021-07-15T08:14:22.132Z"
      },
      {
        "duration": 22,
        "start_time": "2021-07-15T08:14:22.147Z"
      },
      {
        "duration": 14,
        "start_time": "2021-07-15T08:14:22.170Z"
      },
      {
        "duration": 7,
        "start_time": "2021-07-15T08:14:22.186Z"
      },
      {
        "duration": 14,
        "start_time": "2021-07-15T08:14:22.194Z"
      },
      {
        "duration": 14,
        "start_time": "2021-07-15T08:14:22.209Z"
      },
      {
        "duration": 8,
        "start_time": "2021-07-15T08:14:22.224Z"
      },
      {
        "duration": 10,
        "start_time": "2021-07-15T08:14:22.233Z"
      },
      {
        "duration": 7,
        "start_time": "2021-07-15T08:14:22.244Z"
      },
      {
        "duration": 11,
        "start_time": "2021-07-15T08:14:22.253Z"
      },
      {
        "duration": 10191,
        "start_time": "2021-07-15T08:14:22.265Z"
      },
      {
        "duration": 5,
        "start_time": "2021-07-15T08:21:18.245Z"
      },
      {
        "duration": 32,
        "start_time": "2021-07-15T08:21:18.252Z"
      },
      {
        "duration": 8,
        "start_time": "2021-07-15T08:21:18.286Z"
      },
      {
        "duration": 18,
        "start_time": "2021-07-15T08:21:18.296Z"
      },
      {
        "duration": 20,
        "start_time": "2021-07-15T08:21:18.315Z"
      },
      {
        "duration": 20,
        "start_time": "2021-07-15T08:21:18.336Z"
      },
      {
        "duration": 16,
        "start_time": "2021-07-15T08:21:18.357Z"
      },
      {
        "duration": 5,
        "start_time": "2021-07-15T08:21:18.376Z"
      },
      {
        "duration": 8,
        "start_time": "2021-07-15T08:21:18.383Z"
      },
      {
        "duration": 12,
        "start_time": "2021-07-15T08:21:18.392Z"
      },
      {
        "duration": 8,
        "start_time": "2021-07-15T08:21:18.406Z"
      },
      {
        "duration": 989,
        "start_time": "2021-07-15T08:21:18.415Z"
      },
      {
        "duration": 1108,
        "start_time": "2021-07-15T08:21:19.406Z"
      },
      {
        "duration": 322,
        "start_time": "2021-07-15T08:21:20.516Z"
      },
      {
        "duration": 285,
        "start_time": "2021-07-15T08:21:20.840Z"
      },
      {
        "duration": 3,
        "start_time": "2021-07-15T08:21:21.126Z"
      },
      {
        "duration": 10,
        "start_time": "2021-07-15T08:21:21.130Z"
      },
      {
        "duration": 11,
        "start_time": "2021-07-15T08:21:21.142Z"
      },
      {
        "duration": 8,
        "start_time": "2021-07-15T08:21:21.155Z"
      },
      {
        "duration": 12,
        "start_time": "2021-07-15T08:21:21.165Z"
      },
      {
        "duration": 12,
        "start_time": "2021-07-15T08:21:21.179Z"
      },
      {
        "duration": 3,
        "start_time": "2021-07-15T08:21:21.192Z"
      },
      {
        "duration": 9,
        "start_time": "2021-07-15T08:21:21.198Z"
      },
      {
        "duration": 8,
        "start_time": "2021-07-15T08:21:21.208Z"
      },
      {
        "duration": 8,
        "start_time": "2021-07-15T08:21:21.218Z"
      },
      {
        "duration": 8,
        "start_time": "2021-07-15T08:21:21.227Z"
      },
      {
        "duration": 11,
        "start_time": "2021-07-15T08:21:21.237Z"
      },
      {
        "duration": 6561,
        "start_time": "2021-07-15T08:21:21.250Z"
      },
      {
        "duration": 6,
        "start_time": "2021-07-15T08:21:54.060Z"
      },
      {
        "duration": 5,
        "start_time": "2021-07-15T08:21:55.005Z"
      },
      {
        "duration": 4,
        "start_time": "2021-07-15T08:22:01.829Z"
      },
      {
        "duration": 32,
        "start_time": "2021-07-15T08:22:01.835Z"
      },
      {
        "duration": 6,
        "start_time": "2021-07-15T08:22:01.869Z"
      },
      {
        "duration": 8,
        "start_time": "2021-07-15T08:22:01.877Z"
      },
      {
        "duration": 11,
        "start_time": "2021-07-15T08:22:01.886Z"
      },
      {
        "duration": 7,
        "start_time": "2021-07-15T08:22:01.899Z"
      },
      {
        "duration": 10,
        "start_time": "2021-07-15T08:22:01.907Z"
      },
      {
        "duration": 5,
        "start_time": "2021-07-15T08:22:01.920Z"
      },
      {
        "duration": 15,
        "start_time": "2021-07-15T08:22:01.927Z"
      },
      {
        "duration": 17,
        "start_time": "2021-07-15T08:22:01.944Z"
      },
      {
        "duration": 9,
        "start_time": "2021-07-15T08:22:01.962Z"
      },
      {
        "duration": 957,
        "start_time": "2021-07-15T08:22:01.973Z"
      },
      {
        "duration": 914,
        "start_time": "2021-07-15T08:22:02.932Z"
      },
      {
        "duration": 329,
        "start_time": "2021-07-15T08:22:03.848Z"
      },
      {
        "duration": 274,
        "start_time": "2021-07-15T08:22:04.179Z"
      },
      {
        "duration": 2,
        "start_time": "2021-07-15T08:22:04.454Z"
      },
      {
        "duration": 8,
        "start_time": "2021-07-15T08:22:04.458Z"
      },
      {
        "duration": 6,
        "start_time": "2021-07-15T08:22:04.468Z"
      },
      {
        "duration": 31,
        "start_time": "2021-07-15T08:22:04.475Z"
      },
      {
        "duration": 16,
        "start_time": "2021-07-15T08:22:04.507Z"
      },
      {
        "duration": 7,
        "start_time": "2021-07-15T08:22:04.525Z"
      },
      {
        "duration": 5,
        "start_time": "2021-07-15T08:22:04.534Z"
      },
      {
        "duration": 7,
        "start_time": "2021-07-15T08:22:04.541Z"
      },
      {
        "duration": 10,
        "start_time": "2021-07-15T08:22:04.549Z"
      },
      {
        "duration": 10,
        "start_time": "2021-07-15T08:22:04.560Z"
      },
      {
        "duration": 21,
        "start_time": "2021-07-15T08:22:04.572Z"
      },
      {
        "duration": 13,
        "start_time": "2021-07-15T08:22:04.595Z"
      },
      {
        "duration": 31176,
        "start_time": "2021-07-15T08:22:04.609Z"
      },
      {
        "duration": 18,
        "start_time": "2021-07-15T08:22:35.786Z"
      },
      {
        "duration": 4,
        "start_time": "2021-07-15T08:22:35.993Z"
      },
      {
        "duration": 4,
        "start_time": "2021-07-15T08:23:24.432Z"
      },
      {
        "duration": 34,
        "start_time": "2021-07-15T08:23:24.438Z"
      },
      {
        "duration": 5,
        "start_time": "2021-07-15T08:23:24.474Z"
      },
      {
        "duration": 10,
        "start_time": "2021-07-15T08:23:24.481Z"
      },
      {
        "duration": 11,
        "start_time": "2021-07-15T08:23:24.492Z"
      },
      {
        "duration": 8,
        "start_time": "2021-07-15T08:23:24.504Z"
      },
      {
        "duration": 10,
        "start_time": "2021-07-15T08:23:24.514Z"
      },
      {
        "duration": 9,
        "start_time": "2021-07-15T08:23:24.526Z"
      },
      {
        "duration": 10,
        "start_time": "2021-07-15T08:23:24.537Z"
      },
      {
        "duration": 12,
        "start_time": "2021-07-15T08:23:24.548Z"
      },
      {
        "duration": 10,
        "start_time": "2021-07-15T08:23:24.562Z"
      },
      {
        "duration": 1253,
        "start_time": "2021-07-15T08:23:24.573Z"
      },
      {
        "duration": 925,
        "start_time": "2021-07-15T08:23:25.828Z"
      },
      {
        "duration": 323,
        "start_time": "2021-07-15T08:23:26.755Z"
      },
      {
        "duration": 284,
        "start_time": "2021-07-15T08:23:27.079Z"
      },
      {
        "duration": 2,
        "start_time": "2021-07-15T08:23:27.364Z"
      },
      {
        "duration": 8,
        "start_time": "2021-07-15T08:23:27.368Z"
      },
      {
        "duration": 14,
        "start_time": "2021-07-15T08:23:27.377Z"
      },
      {
        "duration": 13,
        "start_time": "2021-07-15T08:23:27.392Z"
      },
      {
        "duration": 14,
        "start_time": "2021-07-15T08:23:27.406Z"
      },
      {
        "duration": 5,
        "start_time": "2021-07-15T08:23:27.421Z"
      },
      {
        "duration": 4,
        "start_time": "2021-07-15T08:23:27.428Z"
      },
      {
        "duration": 8,
        "start_time": "2021-07-15T08:23:27.434Z"
      },
      {
        "duration": 8,
        "start_time": "2021-07-15T08:23:27.444Z"
      },
      {
        "duration": 10,
        "start_time": "2021-07-15T08:23:27.453Z"
      },
      {
        "duration": 27,
        "start_time": "2021-07-15T08:23:27.464Z"
      },
      {
        "duration": 9,
        "start_time": "2021-07-15T08:23:27.493Z"
      },
      {
        "duration": 17678,
        "start_time": "2021-07-15T08:23:27.503Z"
      },
      {
        "duration": 15,
        "start_time": "2021-07-15T08:23:45.183Z"
      },
      {
        "duration": 4,
        "start_time": "2021-07-15T08:23:45.200Z"
      },
      {
        "duration": 1108,
        "start_time": "2021-07-15T08:24:17.015Z"
      },
      {
        "duration": 29,
        "start_time": "2021-07-15T08:24:18.125Z"
      },
      {
        "duration": 12,
        "start_time": "2021-07-15T08:24:18.156Z"
      },
      {
        "duration": 19,
        "start_time": "2021-07-15T08:24:18.170Z"
      },
      {
        "duration": 10,
        "start_time": "2021-07-15T08:24:18.190Z"
      },
      {
        "duration": 7,
        "start_time": "2021-07-15T08:24:18.202Z"
      },
      {
        "duration": 9,
        "start_time": "2021-07-15T08:24:18.210Z"
      },
      {
        "duration": 4,
        "start_time": "2021-07-15T08:24:18.220Z"
      },
      {
        "duration": 6,
        "start_time": "2021-07-15T08:24:18.225Z"
      },
      {
        "duration": 16,
        "start_time": "2021-07-15T08:24:18.232Z"
      },
      {
        "duration": 5,
        "start_time": "2021-07-15T08:24:18.249Z"
      },
      {
        "duration": 962,
        "start_time": "2021-07-15T08:24:18.255Z"
      },
      {
        "duration": 917,
        "start_time": "2021-07-15T08:24:19.219Z"
      },
      {
        "duration": 322,
        "start_time": "2021-07-15T08:24:20.137Z"
      },
      {
        "duration": 277,
        "start_time": "2021-07-15T08:24:20.460Z"
      },
      {
        "duration": 2,
        "start_time": "2021-07-15T08:24:20.739Z"
      },
      {
        "duration": 16,
        "start_time": "2021-07-15T08:24:20.742Z"
      },
      {
        "duration": 5,
        "start_time": "2021-07-15T08:24:20.759Z"
      },
      {
        "duration": 8,
        "start_time": "2021-07-15T08:24:20.765Z"
      },
      {
        "duration": 23,
        "start_time": "2021-07-15T08:24:20.774Z"
      },
      {
        "duration": 6,
        "start_time": "2021-07-15T08:24:20.799Z"
      },
      {
        "duration": 5,
        "start_time": "2021-07-15T08:24:20.806Z"
      },
      {
        "duration": 5,
        "start_time": "2021-07-15T08:24:20.815Z"
      },
      {
        "duration": 9,
        "start_time": "2021-07-15T08:24:20.822Z"
      },
      {
        "duration": 9,
        "start_time": "2021-07-15T08:24:20.832Z"
      },
      {
        "duration": 14,
        "start_time": "2021-07-15T08:24:20.843Z"
      },
      {
        "duration": 10,
        "start_time": "2021-07-15T08:24:20.859Z"
      },
      {
        "duration": 8493,
        "start_time": "2021-07-15T08:24:20.871Z"
      },
      {
        "duration": 5,
        "start_time": "2021-07-15T08:24:29.366Z"
      },
      {
        "duration": 22,
        "start_time": "2021-07-15T08:24:29.373Z"
      },
      {
        "duration": 20942,
        "start_time": "2021-07-15T08:24:29.396Z"
      },
      {
        "duration": 14305,
        "start_time": "2021-07-15T08:24:50.340Z"
      },
      {
        "duration": 3,
        "start_time": "2021-07-15T08:25:04.647Z"
      },
      {
        "duration": 9,
        "start_time": "2021-07-15T08:25:04.652Z"
      },
      {
        "duration": 156,
        "start_time": "2021-07-15T08:25:04.662Z"
      },
      {
        "duration": 3,
        "start_time": "2021-07-15T08:25:04.819Z"
      },
      {
        "duration": 6,
        "start_time": "2021-07-15T08:25:04.823Z"
      },
      {
        "duration": 11,
        "start_time": "2021-07-15T08:25:04.831Z"
      },
      {
        "duration": 6,
        "start_time": "2021-07-15T08:25:04.844Z"
      },
      {
        "duration": 6,
        "start_time": "2021-07-15T08:25:04.851Z"
      },
      {
        "duration": 32,
        "start_time": "2021-07-15T08:25:04.859Z"
      },
      {
        "duration": 335,
        "start_time": "2021-07-15T08:28:39.116Z"
      },
      {
        "duration": 587,
        "start_time": "2021-07-15T08:28:49.219Z"
      },
      {
        "duration": 902,
        "start_time": "2021-07-15T08:29:12.524Z"
      },
      {
        "duration": 167,
        "start_time": "2021-07-15T08:34:03.719Z"
      },
      {
        "duration": 150,
        "start_time": "2021-07-15T08:34:23.689Z"
      },
      {
        "duration": 1094,
        "start_time": "2021-07-15T08:38:52.233Z"
      },
      {
        "duration": 30,
        "start_time": "2021-07-15T08:38:53.329Z"
      },
      {
        "duration": 8,
        "start_time": "2021-07-15T08:38:53.361Z"
      },
      {
        "duration": 8,
        "start_time": "2021-07-15T08:38:53.371Z"
      },
      {
        "duration": 17,
        "start_time": "2021-07-15T08:38:53.381Z"
      },
      {
        "duration": 8,
        "start_time": "2021-07-15T08:38:53.399Z"
      },
      {
        "duration": 8,
        "start_time": "2021-07-15T08:38:53.408Z"
      },
      {
        "duration": 6,
        "start_time": "2021-07-15T08:38:53.418Z"
      },
      {
        "duration": 6,
        "start_time": "2021-07-15T08:38:53.426Z"
      },
      {
        "duration": 15,
        "start_time": "2021-07-15T08:38:53.433Z"
      },
      {
        "duration": 5,
        "start_time": "2021-07-15T08:38:53.450Z"
      },
      {
        "duration": 1020,
        "start_time": "2021-07-15T08:38:53.457Z"
      },
      {
        "duration": 1199,
        "start_time": "2021-07-15T08:38:54.479Z"
      },
      {
        "duration": 350,
        "start_time": "2021-07-15T08:38:55.680Z"
      },
      {
        "duration": 309,
        "start_time": "2021-07-15T08:38:56.031Z"
      },
      {
        "duration": 2,
        "start_time": "2021-07-15T08:38:56.342Z"
      },
      {
        "duration": 12,
        "start_time": "2021-07-15T08:38:56.346Z"
      },
      {
        "duration": 17,
        "start_time": "2021-07-15T08:38:56.362Z"
      },
      {
        "duration": 30,
        "start_time": "2021-07-15T08:38:56.381Z"
      },
      {
        "duration": 14,
        "start_time": "2021-07-15T08:38:56.413Z"
      },
      {
        "duration": 11,
        "start_time": "2021-07-15T08:38:56.429Z"
      },
      {
        "duration": 8,
        "start_time": "2021-07-15T08:38:56.442Z"
      },
      {
        "duration": 8,
        "start_time": "2021-07-15T08:38:56.454Z"
      },
      {
        "duration": 8,
        "start_time": "2021-07-15T08:38:56.464Z"
      },
      {
        "duration": 11,
        "start_time": "2021-07-15T08:38:56.473Z"
      },
      {
        "duration": 8,
        "start_time": "2021-07-15T08:38:56.485Z"
      },
      {
        "duration": 13,
        "start_time": "2021-07-15T08:38:56.495Z"
      },
      {
        "duration": 12220,
        "start_time": "2021-07-15T08:38:56.509Z"
      },
      {
        "duration": 4,
        "start_time": "2021-07-15T08:39:08.730Z"
      },
      {
        "duration": 6,
        "start_time": "2021-07-15T08:39:08.736Z"
      },
      {
        "duration": 26901,
        "start_time": "2021-07-15T08:39:08.744Z"
      },
      {
        "duration": 13163,
        "start_time": "2021-07-15T08:39:35.646Z"
      },
      {
        "duration": 4,
        "start_time": "2021-07-15T08:39:48.811Z"
      },
      {
        "duration": 9,
        "start_time": "2021-07-15T08:39:48.817Z"
      },
      {
        "duration": 158,
        "start_time": "2021-07-15T08:39:48.828Z"
      },
      {
        "duration": 313,
        "start_time": "2021-07-15T08:39:48.988Z"
      },
      {
        "duration": 3909,
        "start_time": "2021-07-15T08:39:45.394Z"
      },
      {
        "duration": 3906,
        "start_time": "2021-07-15T08:39:45.398Z"
      },
      {
        "duration": 3904,
        "start_time": "2021-07-15T08:39:45.401Z"
      },
      {
        "duration": 3900,
        "start_time": "2021-07-15T08:39:45.406Z"
      },
      {
        "duration": 3899,
        "start_time": "2021-07-15T08:39:45.409Z"
      },
      {
        "duration": 3898,
        "start_time": "2021-07-15T08:39:45.411Z"
      },
      {
        "duration": 415,
        "start_time": "2021-07-15T08:40:15.506Z"
      },
      {
        "duration": 496,
        "start_time": "2021-07-15T08:40:46.563Z"
      },
      {
        "duration": 260,
        "start_time": "2021-07-15T08:42:19.351Z"
      },
      {
        "duration": 250,
        "start_time": "2021-07-15T08:42:34.599Z"
      },
      {
        "duration": 392,
        "start_time": "2021-07-15T08:43:43.228Z"
      },
      {
        "duration": 275,
        "start_time": "2021-07-15T08:43:48.499Z"
      },
      {
        "duration": 493,
        "start_time": "2021-07-15T08:45:57.447Z"
      },
      {
        "duration": 464,
        "start_time": "2021-07-15T08:46:15.461Z"
      },
      {
        "duration": 301,
        "start_time": "2021-07-15T08:46:41.084Z"
      },
      {
        "duration": 278,
        "start_time": "2021-07-15T08:47:04.492Z"
      },
      {
        "duration": 368,
        "start_time": "2021-07-15T08:47:29.692Z"
      },
      {
        "duration": 274,
        "start_time": "2021-07-15T08:47:39.224Z"
      },
      {
        "duration": 85,
        "start_time": "2021-07-15T08:48:19.949Z"
      },
      {
        "duration": 218,
        "start_time": "2021-07-15T08:48:34.772Z"
      },
      {
        "duration": 251,
        "start_time": "2021-07-15T08:48:55.856Z"
      },
      {
        "duration": 235,
        "start_time": "2021-07-15T08:49:08.717Z"
      },
      {
        "duration": 242,
        "start_time": "2021-07-15T08:50:06.872Z"
      },
      {
        "duration": 1492,
        "start_time": "2021-07-15T13:43:13.513Z"
      },
      {
        "duration": 43,
        "start_time": "2021-07-15T13:43:15.008Z"
      },
      {
        "duration": 15,
        "start_time": "2021-07-15T13:43:15.054Z"
      },
      {
        "duration": 24,
        "start_time": "2021-07-15T13:43:15.071Z"
      },
      {
        "duration": 18,
        "start_time": "2021-07-15T13:43:15.098Z"
      },
      {
        "duration": 12,
        "start_time": "2021-07-15T13:43:15.118Z"
      },
      {
        "duration": 13,
        "start_time": "2021-07-15T13:43:15.132Z"
      },
      {
        "duration": 38,
        "start_time": "2021-07-15T13:43:15.150Z"
      },
      {
        "duration": 9,
        "start_time": "2021-07-15T13:43:15.191Z"
      },
      {
        "duration": 30,
        "start_time": "2021-07-15T13:43:15.203Z"
      },
      {
        "duration": 8,
        "start_time": "2021-07-15T13:43:15.235Z"
      },
      {
        "duration": 1827,
        "start_time": "2021-07-15T13:43:15.245Z"
      },
      {
        "duration": 1587,
        "start_time": "2021-07-15T13:43:17.074Z"
      },
      {
        "duration": 622,
        "start_time": "2021-07-15T13:43:18.663Z"
      },
      {
        "duration": 504,
        "start_time": "2021-07-15T13:43:19.288Z"
      },
      {
        "duration": 476,
        "start_time": "2021-07-15T13:45:22.587Z"
      },
      {
        "duration": 350,
        "start_time": "2021-07-15T13:46:28.975Z"
      },
      {
        "duration": 323,
        "start_time": "2021-07-15T13:46:38.416Z"
      },
      {
        "duration": 18,
        "start_time": "2021-07-15T13:47:05.911Z"
      },
      {
        "duration": 331,
        "start_time": "2021-07-15T13:47:44.400Z"
      },
      {
        "duration": 875,
        "start_time": "2021-07-15T13:48:36.601Z"
      },
      {
        "duration": 918,
        "start_time": "2021-07-15T13:48:50.561Z"
      },
      {
        "duration": 883,
        "start_time": "2021-07-15T13:49:13.115Z"
      },
      {
        "duration": 892,
        "start_time": "2021-07-15T13:49:27.323Z"
      },
      {
        "duration": 886,
        "start_time": "2021-07-15T13:49:36.204Z"
      },
      {
        "duration": 546,
        "start_time": "2021-07-15T13:49:46.650Z"
      },
      {
        "duration": 1067,
        "start_time": "2021-07-15T13:50:00.665Z"
      },
      {
        "duration": 107,
        "start_time": "2021-07-15T13:50:05.325Z"
      },
      {
        "duration": 705,
        "start_time": "2021-07-15T13:50:11.518Z"
      },
      {
        "duration": 613,
        "start_time": "2021-07-15T13:51:18.438Z"
      },
      {
        "duration": 130,
        "start_time": "2021-07-15T13:51:56.379Z"
      },
      {
        "duration": 123,
        "start_time": "2021-07-15T13:52:06.137Z"
      },
      {
        "duration": 122,
        "start_time": "2021-07-15T13:52:16.368Z"
      },
      {
        "duration": 107,
        "start_time": "2021-07-15T13:52:37.027Z"
      },
      {
        "duration": 775,
        "start_time": "2021-07-15T13:52:50.035Z"
      },
      {
        "duration": 791,
        "start_time": "2021-07-15T13:53:02.955Z"
      },
      {
        "duration": 758,
        "start_time": "2021-07-15T13:53:11.429Z"
      },
      {
        "duration": 739,
        "start_time": "2021-07-15T13:53:24.109Z"
      },
      {
        "duration": 744,
        "start_time": "2021-07-15T13:53:28.593Z"
      },
      {
        "duration": 789,
        "start_time": "2021-07-15T13:53:44.131Z"
      },
      {
        "duration": 1031,
        "start_time": "2021-07-15T13:53:57.447Z"
      },
      {
        "duration": 559,
        "start_time": "2021-07-15T13:54:16.034Z"
      },
      {
        "duration": 752,
        "start_time": "2021-07-15T13:54:25.188Z"
      },
      {
        "duration": 1338,
        "start_time": "2021-07-15T13:54:37.074Z"
      },
      {
        "duration": 843,
        "start_time": "2021-07-15T13:54:58.507Z"
      },
      {
        "duration": 1582,
        "start_time": "2021-07-15T14:41:52.045Z"
      },
      {
        "duration": 45,
        "start_time": "2021-07-15T14:41:53.630Z"
      },
      {
        "duration": 15,
        "start_time": "2021-07-15T14:41:53.678Z"
      },
      {
        "duration": 15,
        "start_time": "2021-07-15T14:41:53.695Z"
      },
      {
        "duration": 20,
        "start_time": "2021-07-15T14:41:53.713Z"
      },
      {
        "duration": 13,
        "start_time": "2021-07-15T14:41:53.737Z"
      },
      {
        "duration": 22,
        "start_time": "2021-07-15T14:41:53.752Z"
      },
      {
        "duration": 5,
        "start_time": "2021-07-15T14:41:53.777Z"
      },
      {
        "duration": 7,
        "start_time": "2021-07-15T14:41:53.785Z"
      },
      {
        "duration": 19,
        "start_time": "2021-07-15T14:41:53.794Z"
      },
      {
        "duration": 8,
        "start_time": "2021-07-15T14:41:53.815Z"
      },
      {
        "duration": 2184,
        "start_time": "2021-07-15T14:41:53.825Z"
      },
      {
        "duration": 1649,
        "start_time": "2021-07-15T14:41:56.012Z"
      },
      {
        "duration": 606,
        "start_time": "2021-07-15T14:41:57.663Z"
      },
      {
        "duration": 924,
        "start_time": "2021-07-15T14:41:58.272Z"
      },
      {
        "duration": 533,
        "start_time": "2021-07-15T14:41:59.199Z"
      },
      {
        "duration": 4,
        "start_time": "2021-07-15T14:41:59.734Z"
      },
      {
        "duration": 13,
        "start_time": "2021-07-15T14:41:59.740Z"
      },
      {
        "duration": 32,
        "start_time": "2021-07-15T14:41:59.755Z"
      },
      {
        "duration": 14,
        "start_time": "2021-07-15T14:41:59.790Z"
      },
      {
        "duration": 16,
        "start_time": "2021-07-15T14:41:59.806Z"
      },
      {
        "duration": 8,
        "start_time": "2021-07-15T14:41:59.824Z"
      },
      {
        "duration": 49,
        "start_time": "2021-07-15T14:41:59.837Z"
      },
      {
        "duration": 12,
        "start_time": "2021-07-15T14:41:59.889Z"
      },
      {
        "duration": 7,
        "start_time": "2021-07-15T14:41:59.904Z"
      },
      {
        "duration": 7,
        "start_time": "2021-07-15T14:41:59.913Z"
      },
      {
        "duration": 5,
        "start_time": "2021-07-15T14:41:59.923Z"
      },
      {
        "duration": 59,
        "start_time": "2021-07-15T14:41:59.930Z"
      },
      {
        "duration": 20709,
        "start_time": "2021-07-15T14:41:59.992Z"
      },
      {
        "duration": 6,
        "start_time": "2021-07-15T14:42:20.703Z"
      },
      {
        "duration": 18,
        "start_time": "2021-07-15T14:42:20.712Z"
      },
      {
        "duration": 50310,
        "start_time": "2021-07-15T14:42:20.733Z"
      },
      {
        "duration": 21393,
        "start_time": "2021-07-15T14:43:11.045Z"
      },
      {
        "duration": 5,
        "start_time": "2021-07-15T14:43:32.441Z"
      },
      {
        "duration": 15,
        "start_time": "2021-07-15T14:43:32.448Z"
      },
      {
        "duration": 434,
        "start_time": "2021-07-15T14:43:32.465Z"
      },
      {
        "duration": 475,
        "start_time": "2021-07-15T14:43:32.901Z"
      },
      {
        "duration": 457,
        "start_time": "2021-07-15T14:43:33.386Z"
      },
      {
        "duration": 3,
        "start_time": "2021-07-15T14:43:33.845Z"
      },
      {
        "duration": 17,
        "start_time": "2021-07-15T14:43:33.850Z"
      },
      {
        "duration": 28,
        "start_time": "2021-07-15T14:43:33.869Z"
      },
      {
        "duration": 20,
        "start_time": "2021-07-15T14:43:33.899Z"
      },
      {
        "duration": 12,
        "start_time": "2021-07-15T14:43:33.922Z"
      },
      {
        "duration": 52,
        "start_time": "2021-07-15T14:43:33.936Z"
      },
      {
        "duration": 496,
        "start_time": "2021-07-15T14:49:25.736Z"
      },
      {
        "duration": 11,
        "start_time": "2021-07-15T14:49:51.421Z"
      },
      {
        "duration": 3,
        "start_time": "2021-07-15T14:50:04.190Z"
      },
      {
        "duration": 11,
        "start_time": "2021-07-15T14:50:10.777Z"
      },
      {
        "duration": 6,
        "start_time": "2021-07-15T14:50:37.864Z"
      },
      {
        "duration": 1577,
        "start_time": "2021-07-15T14:51:09.279Z"
      },
      {
        "duration": 40,
        "start_time": "2021-07-15T14:51:10.859Z"
      },
      {
        "duration": 14,
        "start_time": "2021-07-15T14:51:10.902Z"
      },
      {
        "duration": 11,
        "start_time": "2021-07-15T14:51:10.919Z"
      },
      {
        "duration": 62,
        "start_time": "2021-07-15T14:51:10.933Z"
      },
      {
        "duration": 14,
        "start_time": "2021-07-15T14:51:10.998Z"
      },
      {
        "duration": 12,
        "start_time": "2021-07-15T14:51:11.014Z"
      },
      {
        "duration": 11,
        "start_time": "2021-07-15T14:51:11.030Z"
      },
      {
        "duration": 44,
        "start_time": "2021-07-15T14:51:11.044Z"
      },
      {
        "duration": 16,
        "start_time": "2021-07-15T14:51:11.091Z"
      },
      {
        "duration": 8,
        "start_time": "2021-07-15T14:51:11.110Z"
      },
      {
        "duration": 1796,
        "start_time": "2021-07-15T14:51:11.122Z"
      },
      {
        "duration": 1659,
        "start_time": "2021-07-15T14:51:12.921Z"
      },
      {
        "duration": 623,
        "start_time": "2021-07-15T14:51:14.586Z"
      },
      {
        "duration": 861,
        "start_time": "2021-07-15T14:51:15.211Z"
      },
      {
        "duration": 546,
        "start_time": "2021-07-15T14:51:16.075Z"
      },
      {
        "duration": 5,
        "start_time": "2021-07-15T14:51:16.624Z"
      },
      {
        "duration": 15,
        "start_time": "2021-07-15T14:51:16.632Z"
      },
      {
        "duration": 41,
        "start_time": "2021-07-15T14:51:16.650Z"
      },
      {
        "duration": 10,
        "start_time": "2021-07-15T14:51:16.694Z"
      },
      {
        "duration": 18,
        "start_time": "2021-07-15T14:51:16.706Z"
      },
      {
        "duration": 11,
        "start_time": "2021-07-15T14:51:16.727Z"
      },
      {
        "duration": 45,
        "start_time": "2021-07-15T14:51:16.743Z"
      },
      {
        "duration": 14,
        "start_time": "2021-07-15T14:51:16.792Z"
      },
      {
        "duration": 11,
        "start_time": "2021-07-15T14:51:16.808Z"
      },
      {
        "duration": 9,
        "start_time": "2021-07-15T14:51:16.822Z"
      },
      {
        "duration": 52,
        "start_time": "2021-07-15T14:51:16.834Z"
      },
      {
        "duration": 12,
        "start_time": "2021-07-15T14:51:16.889Z"
      },
      {
        "duration": 1211,
        "start_time": "2021-07-15T14:51:16.904Z"
      },
      {
        "duration": 9,
        "start_time": "2021-07-15T14:51:18.118Z"
      },
      {
        "duration": 57,
        "start_time": "2021-07-15T14:51:18.131Z"
      },
      {
        "duration": 42226,
        "start_time": "2021-07-15T14:51:18.193Z"
      },
      {
        "duration": 21123,
        "start_time": "2021-07-15T14:52:00.422Z"
      },
      {
        "duration": 5,
        "start_time": "2021-07-15T14:52:21.547Z"
      },
      {
        "duration": 18,
        "start_time": "2021-07-15T14:52:21.555Z"
      },
      {
        "duration": 313,
        "start_time": "2021-07-15T14:52:21.576Z"
      },
      {
        "duration": 467,
        "start_time": "2021-07-15T14:52:21.892Z"
      },
      {
        "duration": 463,
        "start_time": "2021-07-15T14:52:22.362Z"
      },
      {
        "duration": 574,
        "start_time": "2021-07-15T14:52:22.827Z"
      },
      {
        "duration": 4,
        "start_time": "2021-07-15T14:52:23.404Z"
      },
      {
        "duration": 7,
        "start_time": "2021-07-15T14:52:23.411Z"
      },
      {
        "duration": 15,
        "start_time": "2021-07-15T14:52:23.420Z"
      },
      {
        "duration": 50,
        "start_time": "2021-07-15T14:52:23.437Z"
      },
      {
        "duration": 10,
        "start_time": "2021-07-15T14:52:23.489Z"
      },
      {
        "duration": 10,
        "start_time": "2021-07-15T14:52:23.501Z"
      },
      {
        "duration": 5,
        "start_time": "2021-07-15T14:56:19.820Z"
      },
      {
        "duration": 1474,
        "start_time": "2021-07-15T14:57:45.627Z"
      },
      {
        "duration": 40,
        "start_time": "2021-07-15T14:57:47.104Z"
      },
      {
        "duration": 16,
        "start_time": "2021-07-15T14:57:47.147Z"
      },
      {
        "duration": 11,
        "start_time": "2021-07-15T14:57:47.184Z"
      },
      {
        "duration": 17,
        "start_time": "2021-07-15T14:57:47.198Z"
      },
      {
        "duration": 14,
        "start_time": "2021-07-15T14:57:47.217Z"
      },
      {
        "duration": 52,
        "start_time": "2021-07-15T14:57:47.233Z"
      },
      {
        "duration": 6,
        "start_time": "2021-07-15T14:57:47.289Z"
      },
      {
        "duration": 7,
        "start_time": "2021-07-15T14:57:47.299Z"
      },
      {
        "duration": 16,
        "start_time": "2021-07-15T14:57:47.309Z"
      },
      {
        "duration": 9,
        "start_time": "2021-07-15T14:57:47.327Z"
      },
      {
        "duration": 1749,
        "start_time": "2021-07-15T14:57:47.338Z"
      },
      {
        "duration": 1777,
        "start_time": "2021-07-15T14:57:49.090Z"
      },
      {
        "duration": 634,
        "start_time": "2021-07-15T14:57:50.870Z"
      },
      {
        "duration": 895,
        "start_time": "2021-07-15T14:57:51.507Z"
      },
      {
        "duration": 539,
        "start_time": "2021-07-15T14:57:52.405Z"
      },
      {
        "duration": 4,
        "start_time": "2021-07-15T14:57:52.946Z"
      },
      {
        "duration": 35,
        "start_time": "2021-07-15T14:57:52.953Z"
      },
      {
        "duration": 8,
        "start_time": "2021-07-15T14:57:52.990Z"
      },
      {
        "duration": 27,
        "start_time": "2021-07-15T14:57:53.001Z"
      },
      {
        "duration": 18,
        "start_time": "2021-07-15T14:57:53.030Z"
      },
      {
        "duration": 37,
        "start_time": "2021-07-15T14:57:53.051Z"
      },
      {
        "duration": 6,
        "start_time": "2021-07-15T14:57:53.093Z"
      },
      {
        "duration": 13,
        "start_time": "2021-07-15T14:57:53.102Z"
      },
      {
        "duration": 14,
        "start_time": "2021-07-15T14:57:53.118Z"
      },
      {
        "duration": 28,
        "start_time": "2021-07-15T14:57:53.134Z"
      },
      {
        "duration": 37,
        "start_time": "2021-07-15T14:57:53.164Z"
      },
      {
        "duration": 30,
        "start_time": "2021-07-15T14:57:53.204Z"
      },
      {
        "duration": 1308,
        "start_time": "2021-07-15T14:57:53.237Z"
      },
      {
        "duration": 7,
        "start_time": "2021-07-15T14:57:54.547Z"
      },
      {
        "duration": 44,
        "start_time": "2021-07-15T14:57:54.557Z"
      },
      {
        "duration": 41303,
        "start_time": "2021-07-15T14:57:54.604Z"
      },
      {
        "duration": 21967,
        "start_time": "2021-07-15T14:58:35.909Z"
      },
      {
        "duration": 5,
        "start_time": "2021-07-15T14:58:57.879Z"
      },
      {
        "duration": 13,
        "start_time": "2021-07-15T14:58:57.886Z"
      },
      {
        "duration": 347,
        "start_time": "2021-07-15T14:58:57.902Z"
      },
      {
        "duration": 477,
        "start_time": "2021-07-15T14:58:58.252Z"
      },
      {
        "duration": 477,
        "start_time": "2021-07-15T14:58:58.732Z"
      },
      {
        "duration": 778,
        "start_time": "2021-07-15T14:58:59.213Z"
      },
      {
        "duration": 6,
        "start_time": "2021-07-15T14:58:59.995Z"
      },
      {
        "duration": 14,
        "start_time": "2021-07-15T14:59:00.004Z"
      },
      {
        "duration": 23,
        "start_time": "2021-07-15T14:59:00.022Z"
      },
      {
        "duration": 50,
        "start_time": "2021-07-15T14:59:00.049Z"
      },
      {
        "duration": 11,
        "start_time": "2021-07-15T14:59:00.103Z"
      },
      {
        "duration": 21,
        "start_time": "2021-07-15T14:59:00.117Z"
      },
      {
        "duration": 47,
        "start_time": "2021-07-15T14:59:00.141Z"
      }
    ],
    "kernelspec": {
      "display_name": "Python 3",
      "language": "python",
      "name": "python3"
    },
    "language_info": {
      "codemirror_mode": {
        "name": "ipython",
        "version": 3
      },
      "file_extension": ".py",
      "mimetype": "text/x-python",
      "name": "python",
      "nbconvert_exporter": "python",
      "pygments_lexer": "ipython3",
      "version": "3.7.8"
    },
    "toc": {
      "base_numbering": 1,
      "nav_menu": {
        "height": "285px",
        "width": "182px"
      },
      "number_sections": true,
      "sideBar": true,
      "skip_h1_title": true,
      "title_cell": "Содержание",
      "title_sidebar": "Contents",
      "toc_cell": true,
      "toc_position": {
        "height": "calc(100% - 180px)",
        "left": "10px",
        "top": "150px",
        "width": "165px"
      },
      "toc_section_display": true,
      "toc_window_display": true
    },
    "colab": {
      "name": "Копия 7 временные ряды модли норм.ipynb",
      "provenance": [],
      "collapsed_sections": []
    }
  },
  "cells": [
    {
      "cell_type": "markdown",
      "metadata": {
        "id": "-x-N0Te0togE"
      },
      "source": [
        "#  Прогнозирование заказов такси"
      ]
    },
    {
      "cell_type": "markdown",
      "metadata": {
        "id": "tPuauCaNtogF"
      },
      "source": [
        "### Импорт библиотек"
      ]
    },
    {
      "cell_type": "code",
      "metadata": {
        "id": "DHGaxN8BtogF",
        "colab": {
          "base_uri": "https://localhost:8080/"
        },
        "outputId": "dbf02f3c-00f4-4d45-e746-4ac425cb605f"
      },
      "source": [
        "import pandas as pd\n",
        "import numpy as np\n",
        "\n",
        "from sklearn.model_selection import train_test_split\n",
        "from statsmodels.tsa.seasonal import seasonal_decompose\n",
        "\n",
        "import matplotlib.pyplot as plt\n",
        "\n",
        "from sklearn.metrics import mean_squared_error\n",
        "\n",
        "from sklearn.preprocessing import StandardScaler\n",
        "from sklearn.model_selection import GridSearchCV\n",
        "\n",
        "from sklearn.dummy import DummyRegressor\n",
        "from sklearn.tree import DecisionTreeRegressor\n",
        "from sklearn.ensemble import RandomForestRegressor\n",
        "from sklearn.linear_model import LinearRegression\n",
        "from catboost import CatBoostRegressor"
      ],
      "execution_count": 3,
      "outputs": [
        {
          "output_type": "stream",
          "name": "stderr",
          "text": [
            "/usr/local/lib/python3.7/dist-packages/statsmodels/tools/_testing.py:19: FutureWarning: pandas.util.testing is deprecated. Use the functions in the public API at pandas.testing instead.\n",
            "  import pandas.util.testing as tm\n"
          ]
        }
      ]
    },
    {
      "cell_type": "markdown",
      "metadata": {
        "id": "pfznM93UKl7f"
      },
      "source": [
        "## Подготовка данных"
      ]
    },
    {
      "cell_type": "code",
      "metadata": {
        "id": "6GbgAWr-togG"
      },
      "source": [
        "taxi = pd.read_csv('/content/taxi.csv')"
      ],
      "execution_count": 4,
      "outputs": []
    },
    {
      "cell_type": "code",
      "metadata": {
        "colab": {
          "base_uri": "https://localhost:8080/",
          "height": 204
        },
        "id": "JpDfVF42togG",
        "outputId": "b9a3199f-7dfa-4a80-8008-f32482d323f3"
      },
      "source": [
        "taxi.head()"
      ],
      "execution_count": 5,
      "outputs": [
        {
          "output_type": "execute_result",
          "data": {
            "text/html": [
              "<div>\n",
              "<style scoped>\n",
              "    .dataframe tbody tr th:only-of-type {\n",
              "        vertical-align: middle;\n",
              "    }\n",
              "\n",
              "    .dataframe tbody tr th {\n",
              "        vertical-align: top;\n",
              "    }\n",
              "\n",
              "    .dataframe thead th {\n",
              "        text-align: right;\n",
              "    }\n",
              "</style>\n",
              "<table border=\"1\" class=\"dataframe\">\n",
              "  <thead>\n",
              "    <tr style=\"text-align: right;\">\n",
              "      <th></th>\n",
              "      <th>datetime</th>\n",
              "      <th>num_orders</th>\n",
              "    </tr>\n",
              "  </thead>\n",
              "  <tbody>\n",
              "    <tr>\n",
              "      <th>0</th>\n",
              "      <td>2018-03-01 00:00:00</td>\n",
              "      <td>9</td>\n",
              "    </tr>\n",
              "    <tr>\n",
              "      <th>1</th>\n",
              "      <td>2018-03-01 00:10:00</td>\n",
              "      <td>14</td>\n",
              "    </tr>\n",
              "    <tr>\n",
              "      <th>2</th>\n",
              "      <td>2018-03-01 00:20:00</td>\n",
              "      <td>28</td>\n",
              "    </tr>\n",
              "    <tr>\n",
              "      <th>3</th>\n",
              "      <td>2018-03-01 00:30:00</td>\n",
              "      <td>20</td>\n",
              "    </tr>\n",
              "    <tr>\n",
              "      <th>4</th>\n",
              "      <td>2018-03-01 00:40:00</td>\n",
              "      <td>32</td>\n",
              "    </tr>\n",
              "  </tbody>\n",
              "</table>\n",
              "</div>"
            ],
            "text/plain": [
              "              datetime  num_orders\n",
              "0  2018-03-01 00:00:00           9\n",
              "1  2018-03-01 00:10:00          14\n",
              "2  2018-03-01 00:20:00          28\n",
              "3  2018-03-01 00:30:00          20\n",
              "4  2018-03-01 00:40:00          32"
            ]
          },
          "metadata": {},
          "execution_count": 5
        }
      ]
    },
    {
      "cell_type": "code",
      "metadata": {
        "colab": {
          "base_uri": "https://localhost:8080/"
        },
        "id": "953IUzsqtogH",
        "outputId": "fc124bcf-34b6-44e3-be93-61c2e66428f0"
      },
      "source": [
        "taxi.info()"
      ],
      "execution_count": 6,
      "outputs": [
        {
          "output_type": "stream",
          "name": "stdout",
          "text": [
            "<class 'pandas.core.frame.DataFrame'>\n",
            "RangeIndex: 26496 entries, 0 to 26495\n",
            "Data columns (total 2 columns):\n",
            " #   Column      Non-Null Count  Dtype \n",
            "---  ------      --------------  ----- \n",
            " 0   datetime    26496 non-null  object\n",
            " 1   num_orders  26496 non-null  int64 \n",
            "dtypes: int64(1), object(1)\n",
            "memory usage: 414.1+ KB\n"
          ]
        }
      ]
    },
    {
      "cell_type": "markdown",
      "metadata": {
        "id": "MFIDlpsAtogI"
      },
      "source": [
        "Дата пока является объектом, пропуков нет, перейдем к подготовке данных"
      ]
    },
    {
      "cell_type": "markdown",
      "metadata": {
        "id": "CliaNeYntogI"
      },
      "source": [
        "### Подготовка данных"
      ]
    },
    {
      "cell_type": "code",
      "metadata": {
        "colab": {
          "base_uri": "https://localhost:8080/"
        },
        "id": "1DWGFxg8togI",
        "outputId": "e580cc94-4760-49be-f43a-531ce3e6964f"
      },
      "source": [
        "taxi.duplicated().sum()"
      ],
      "execution_count": 7,
      "outputs": [
        {
          "output_type": "execute_result",
          "data": {
            "text/plain": [
              "0"
            ]
          },
          "metadata": {},
          "execution_count": 7
        }
      ]
    },
    {
      "cell_type": "markdown",
      "metadata": {
        "id": "HGVJcCTwtogJ"
      },
      "source": [
        "Дубликатов нет, поэтому сейчас можно перевести время в дататайм и перенести его в индекс, чтобы было удобно работать. "
      ]
    },
    {
      "cell_type": "code",
      "metadata": {
        "id": "bCuVN3nTtogK",
        "colab": {
          "base_uri": "https://localhost:8080/"
        },
        "outputId": "793b84fb-d037-4d17-af5c-6c1a4b3f9d71"
      },
      "source": [
        "taxi['datetime'] = pd.to_datetime(taxi['datetime'], format = '%Y-%m-%d %H:%M:%S')\n",
        "taxi.index = taxi['datetime']\n",
        "taxi = taxi.drop('datetime', 1)\n",
        "taxi.index.is_monotonic"
      ],
      "execution_count": 8,
      "outputs": [
        {
          "output_type": "execute_result",
          "data": {
            "text/plain": [
              "True"
            ]
          },
          "metadata": {},
          "execution_count": 8
        }
      ]
    },
    {
      "cell_type": "markdown",
      "metadata": {
        "id": "shkLlSoRtogK"
      },
      "source": [
        "Проверка прошла успешно, время возрастает, временной ряд мононтонный."
      ]
    },
    {
      "cell_type": "markdown",
      "metadata": {
        "id": "F-w2CH3ztogK"
      },
      "source": [
        "### Ресэмплинг"
      ]
    },
    {
      "cell_type": "code",
      "metadata": {
        "scrolled": true,
        "id": "fmhqMGqytogK"
      },
      "source": [
        "taxi = taxi.resample('1H').sum()"
      ],
      "execution_count": 9,
      "outputs": []
    },
    {
      "cell_type": "code",
      "metadata": {
        "colab": {
          "base_uri": "https://localhost:8080/",
          "height": 235
        },
        "id": "8eiPgaPttogK",
        "outputId": "78b0e3a3-ce09-4352-831c-6f7ea0c32595"
      },
      "source": [
        "taxi.head()"
      ],
      "execution_count": 10,
      "outputs": [
        {
          "output_type": "execute_result",
          "data": {
            "text/html": [
              "<div>\n",
              "<style scoped>\n",
              "    .dataframe tbody tr th:only-of-type {\n",
              "        vertical-align: middle;\n",
              "    }\n",
              "\n",
              "    .dataframe tbody tr th {\n",
              "        vertical-align: top;\n",
              "    }\n",
              "\n",
              "    .dataframe thead th {\n",
              "        text-align: right;\n",
              "    }\n",
              "</style>\n",
              "<table border=\"1\" class=\"dataframe\">\n",
              "  <thead>\n",
              "    <tr style=\"text-align: right;\">\n",
              "      <th></th>\n",
              "      <th>num_orders</th>\n",
              "    </tr>\n",
              "    <tr>\n",
              "      <th>datetime</th>\n",
              "      <th></th>\n",
              "    </tr>\n",
              "  </thead>\n",
              "  <tbody>\n",
              "    <tr>\n",
              "      <th>2018-03-01 00:00:00</th>\n",
              "      <td>124</td>\n",
              "    </tr>\n",
              "    <tr>\n",
              "      <th>2018-03-01 01:00:00</th>\n",
              "      <td>85</td>\n",
              "    </tr>\n",
              "    <tr>\n",
              "      <th>2018-03-01 02:00:00</th>\n",
              "      <td>71</td>\n",
              "    </tr>\n",
              "    <tr>\n",
              "      <th>2018-03-01 03:00:00</th>\n",
              "      <td>66</td>\n",
              "    </tr>\n",
              "    <tr>\n",
              "      <th>2018-03-01 04:00:00</th>\n",
              "      <td>43</td>\n",
              "    </tr>\n",
              "  </tbody>\n",
              "</table>\n",
              "</div>"
            ],
            "text/plain": [
              "                     num_orders\n",
              "datetime                       \n",
              "2018-03-01 00:00:00         124\n",
              "2018-03-01 01:00:00          85\n",
              "2018-03-01 02:00:00          71\n",
              "2018-03-01 03:00:00          66\n",
              "2018-03-01 04:00:00          43"
            ]
          },
          "metadata": {},
          "execution_count": 10
        }
      ]
    },
    {
      "cell_type": "markdown",
      "metadata": {
        "id": "r9ROOx6JLkjQ"
      },
      "source": [
        "Ресэмплинг служит для уменьшения строк и прогнозирования с более широкими рамками времени."
      ]
    },
    {
      "cell_type": "markdown",
      "metadata": {
        "id": "R72f6vBUtogL"
      },
      "source": [
        "## Анализ"
      ]
    },
    {
      "cell_type": "markdown",
      "metadata": {
        "id": "qvip0nyutogL"
      },
      "source": [
        "Посмотрим графически на тренд, сезонность и остатки."
      ]
    },
    {
      "cell_type": "code",
      "metadata": {
        "colab": {
          "base_uri": "https://localhost:8080/",
          "height": 729
        },
        "id": "cT9N-S25togM",
        "outputId": "45d36793-9f22-4de2-c790-299342580971"
      },
      "source": [
        "decomposed = seasonal_decompose(taxi)\n",
        "\n",
        "plt.figure(figsize=(8, 10))\n",
        "plt.subplot(311)\n",
        "\n",
        "decomposed.trend.plot(ax=plt.gca(), grid = True)\n",
        "plt.title('Тренд')\n",
        "plt.ylabel('Количество заказов')\n",
        "plt.subplot(312)\n",
        "\n",
        "decomposed.seasonal.plot(ax=plt.gca(), grid = True)\n",
        "plt.title('Cезонность')\n",
        "plt.ylabel('Количество заказов')\n",
        "plt.subplot(313)\n",
        "\n",
        "decomposed.resid.plot(ax=plt.gca(), grid = True) \n",
        "plt.title('Остатки')\n",
        "plt.ylabel('Количество заказов')\n",
        "plt.tight_layout()"
      ],
      "execution_count": 11,
      "outputs": [
        {
          "output_type": "display_data",
          "data": {
            "image/png": "[encoded data removed]",
            "text/plain": [
              "<Figure size 576x720 with 3 Axes>"
            ]
          },
          "metadata": {
            "needs_background": "light"
          }
        }
      ]
    },
    {
      "cell_type": "markdown",
      "metadata": {
        "id": "UIKwlxc9MOjw"
      },
      "source": [
        "Графики не вполне понятны. При прогнозировании на час, тренд в несколько месяцев - избыточен, поэтому уменьшу временной интревал сначала дом месяца, затем до 2 недель."
      ]
    },
    {
      "cell_type": "code",
      "metadata": {
        "colab": {
          "base_uri": "https://localhost:8080/",
          "height": 729
        },
        "id": "jTF6zaOBtogN",
        "outputId": "011e1ec0-76b3-4ecd-dcdc-a659b2df8535"
      },
      "source": [
        "decomposed_1 = seasonal_decompose(taxi['2018-08-01':])\n",
        "\n",
        "plt.figure(figsize=(8, 10))\n",
        "plt.subplot(311)\n",
        "\n",
        "decomposed_1.trend.plot(ax=plt.gca(), grid = True)\n",
        "plt.title('Тренд Августа')\n",
        "plt.ylabel('Количество заказов')\n",
        "plt.subplot(312)\n",
        "\n",
        "decomposed_1.seasonal.plot(ax=plt.gca(), grid = True)\n",
        "plt.title('Cезонность Августа')\n",
        "plt.ylabel('Количество заказов')\n",
        "plt.subplot(313)\n",
        "\n",
        "decomposed_1.resid.plot(ax=plt.gca(), grid = True) \n",
        "plt.title('Остатки Августа')\n",
        "plt.ylabel('Количество заказов')\n",
        "plt.tight_layout()"
      ],
      "execution_count": 12,
      "outputs": [
        {
          "output_type": "display_data",
          "data": {
            "image/png": "[encoded data removed]",
            "text/plain": [
              "<Figure size 576x720 with 3 Axes>"
            ]
          },
          "metadata": {
            "needs_background": "light"
          }
        }
      ]
    },
    {
      "cell_type": "markdown",
      "metadata": {
        "id": "9E7sXNChtogN"
      },
      "source": [
        "Можно взглянуть отдельно на сезонность и ее увеличить."
      ]
    },
    {
      "cell_type": "code",
      "metadata": {
        "colab": {
          "base_uri": "https://localhost:8080/",
          "height": 427
        },
        "id": "hPSVDiLetogN",
        "outputId": "89f9f606-b1a7-46b5-ecd6-662ba6b5442e"
      },
      "source": [
        "decomposed_2 = seasonal_decompose(taxi['2018-08-01':'2018-08-07'])\n",
        "\n",
        "plt.figure(figsize=(8, 6))\n",
        "plt.subplot(211)\n",
        "decomposed_2.seasonal.plot(ax=plt.gca(), grid = True)\n",
        "plt.title('Cезонность за неделю')\n",
        "plt.ylabel('Количество заказов')\n",
        "\n",
        "\n",
        "decomposed_3 = seasonal_decompose(taxi['2018-08-01':'2018-08-02'])\n",
        "\n",
        "plt.subplot(212)\n",
        "decomposed_3.seasonal.plot(ax=plt.gca(), grid = True)\n",
        "plt.title('Cезонность за два дня')\n",
        "plt.ylabel('Количество заказов')\n",
        "\n",
        "del decomposed_1, decomposed_2, decomposed_3"
      ],
      "execution_count": 13,
      "outputs": [
        {
          "output_type": "display_data",
          "data": {
            "image/png": "[encoded data removed]",
            "text/plain": [
              "<Figure size 576x432 with 2 Axes>"
            ]
          },
          "metadata": {
            "needs_background": "light"
          }
        }
      ]
    },
    {
      "cell_type": "markdown",
      "metadata": {
        "id": "YA8NiyOntogO"
      },
      "source": [
        "За первую неделю августа можно сказать, что пик приходится чуть за полночь, а под утро идет довольно резкий спад, восстанавливающийся ближе к середине дня, и потом снова спад. Это график такси в аэропорту, поэтому во время утреннего и вечернего часа пик машин мало, т.к. люди, видимо, выбирают альтернативные способы добраться до аэропорта или дома, а такси будет забирать очень много времени (и денег). \n",
        "\n",
        "Сезонная составляющая - это периодически повторяющаяся компонента, поэтому она не зависит от месяца или дня недели и повторяется каждый день. Но если мы просуммируем значения за день и посмотрим на дневную сезонность?"
      ]
    },
    {
      "cell_type": "code",
      "metadata": {
        "colab": {
          "base_uri": "https://localhost:8080/",
          "height": 456
        },
        "id": "Q4fp-KqJtogO",
        "outputId": "4024b867-e006-44f1-d05b-b4e9feb47433"
      },
      "source": [
        "taxi1 = taxi.resample('1d').sum().copy()\n",
        "\n",
        "decomposed_1 = seasonal_decompose(taxi1['2018-08':])\n",
        "\n",
        "plt.figure(figsize=(8, 6))\n",
        "plt.subplot(211)\n",
        "decomposed_1.trend.plot(ax=plt.gca(), grid = True)\n",
        "plt.title('Тренд')\n",
        "plt.ylabel('Количество заказов')\n",
        "\n",
        "plt.subplot(212)\n",
        "decomposed_1.seasonal.plot(ax=plt.gca(), grid = True)\n",
        "plt.title('Дневная сезонность за месяц')\n",
        "plt.ylabel('Количество заказов')"
      ],
      "execution_count": 14,
      "outputs": [
        {
          "output_type": "execute_result",
          "data": {
            "text/plain": [
              "Text(0, 0.5, 'Количество заказов')"
            ]
          },
          "metadata": {},
          "execution_count": 14
        },
        {
          "output_type": "display_data",
          "data": {
            "image/png": "[encoded data removed]",
            "text/plain": [
              "<Figure size 576x432 with 2 Axes>"
            ]
          },
          "metadata": {
            "needs_background": "light"
          }
        }
      ]
    },
    {
      "cell_type": "markdown",
      "metadata": {
        "id": "dg-r1bletogO"
      },
      "source": [
        "При ресэмплинге по дням тренд не меняется, он всё так же восходящий, а график сезонности изменился. Теперь пики по субботам. И видимо, по субботам ночью.. Наверное, тогда и больше всего рейсов.\n",
        "\n",
        "Посмотрим на скользящее среднее."
      ]
    },
    {
      "cell_type": "code",
      "metadata": {
        "colab": {
          "base_uri": "https://localhost:8080/",
          "height": 433
        },
        "id": "A213eOo3togP",
        "outputId": "08bd0975-77bb-4ff2-b6d6-d14a3b3b0cec"
      },
      "source": [
        "taxi1 = taxi.copy()\n",
        "taxi1 = taxi1.resample('1D').mean()\n",
        "taxi1['mean'] = taxi1['num_orders'].rolling(10).mean()\n",
        "taxi1['std'] = taxi1['num_orders'].rolling(10).std()\n",
        "taxi1[['mean', 'std']].plot(grid = True, figsize = (8,6)) \n",
        "plt.title('Скользящее среднее с задержкой 10 дней')\n",
        "plt.ylabel('Количество заказов')"
      ],
      "execution_count": 15,
      "outputs": [
        {
          "output_type": "execute_result",
          "data": {
            "text/plain": [
              "Text(0, 0.5, 'Количество заказов')"
            ]
          },
          "metadata": {},
          "execution_count": 15
        },
        {
          "output_type": "display_data",
          "data": {
            "image/png": "[encoded data removed]",
            "text/plain": [
              "<Figure size 576x432 with 1 Axes>"
            ]
          },
          "metadata": {
            "needs_background": "light"
          }
        }
      ]
    },
    {
      "cell_type": "code",
      "metadata": {
        "id": "q5QFnf_xtogP"
      },
      "source": [
        "del taxi1"
      ],
      "execution_count": 16,
      "outputs": []
    },
    {
      "cell_type": "markdown",
      "metadata": {
        "id": "s-f2pwbBtogP"
      },
      "source": [
        "**Вывод**\n",
        "\n",
        "Графики с усреднением по 1 часу и по 1 дню показывают, что с количество заказов с течением года только растет, поэтому мы имеем дело с нестационарным стахостическим временным рядом. \n",
        "\n",
        "А с другой стороны, глядя на график, видно, что угол наклона аппроксимирующей прямой меняется после середины июня. "
      ]
    },
    {
      "cell_type": "markdown",
      "metadata": {
        "id": "4bk0byCgtogP"
      },
      "source": [
        "## Обучение моделей"
      ]
    },
    {
      "cell_type": "markdown",
      "metadata": {
        "id": "FoYmL0NJtogQ"
      },
      "source": [
        "### Подготовка признаков"
      ]
    },
    {
      "cell_type": "markdown",
      "metadata": {
        "id": "3Vy_9NDAtogQ"
      },
      "source": [
        "Для начала добавим немного признаков в наш датаферйм: день недели, час заказа, временной лаг в 1 и 2 часа и скользящее среднее. \n",
        "\n",
        "Год и день нам не нужны, т.к. это слишком большие факторы для прогноза на 1 час вперед. "
      ]
    },
    {
      "cell_type": "code",
      "metadata": {
        "id": "JWrMbCa1togQ"
      },
      "source": [
        "taxi['dayofweek'] = taxi.index.dayofweek\n",
        "taxi['hour'] = taxi.index.hour\n",
        "\n",
        "for lag in range(1, 3):\n",
        "    taxi['lag_{}'.format(lag)] = taxi['num_orders'].shift(lag)\n",
        "\n",
        "taxi['rolling_mean'] = taxi['num_orders'].shift().rolling(24).mean()"
      ],
      "execution_count": 17,
      "outputs": []
    },
    {
      "cell_type": "code",
      "metadata": {
        "colab": {
          "base_uri": "https://localhost:8080/",
          "height": 173
        },
        "id": "itqHZuBstogS",
        "outputId": "4bd9dbbb-cd4a-496c-c853-890a5c8162da"
      },
      "source": [
        "taxi.head(3)"
      ],
      "execution_count": 18,
      "outputs": [
        {
          "output_type": "execute_result",
          "data": {
            "text/html": [
              "<div>\n",
              "<style scoped>\n",
              "    .dataframe tbody tr th:only-of-type {\n",
              "        vertical-align: middle;\n",
              "    }\n",
              "\n",
              "    .dataframe tbody tr th {\n",
              "        vertical-align: top;\n",
              "    }\n",
              "\n",
              "    .dataframe thead th {\n",
              "        text-align: right;\n",
              "    }\n",
              "</style>\n",
              "<table border=\"1\" class=\"dataframe\">\n",
              "  <thead>\n",
              "    <tr style=\"text-align: right;\">\n",
              "      <th></th>\n",
              "      <th>num_orders</th>\n",
              "      <th>dayofweek</th>\n",
              "      <th>hour</th>\n",
              "      <th>lag_1</th>\n",
              "      <th>lag_2</th>\n",
              "      <th>rolling_mean</th>\n",
              "    </tr>\n",
              "    <tr>\n",
              "      <th>datetime</th>\n",
              "      <th></th>\n",
              "      <th></th>\n",
              "      <th></th>\n",
              "      <th></th>\n",
              "      <th></th>\n",
              "      <th></th>\n",
              "    </tr>\n",
              "  </thead>\n",
              "  <tbody>\n",
              "    <tr>\n",
              "      <th>2018-03-01 00:00:00</th>\n",
              "      <td>124</td>\n",
              "      <td>3</td>\n",
              "      <td>0</td>\n",
              "      <td>NaN</td>\n",
              "      <td>NaN</td>\n",
              "      <td>NaN</td>\n",
              "    </tr>\n",
              "    <tr>\n",
              "      <th>2018-03-01 01:00:00</th>\n",
              "      <td>85</td>\n",
              "      <td>3</td>\n",
              "      <td>1</td>\n",
              "      <td>124.0</td>\n",
              "      <td>NaN</td>\n",
              "      <td>NaN</td>\n",
              "    </tr>\n",
              "    <tr>\n",
              "      <th>2018-03-01 02:00:00</th>\n",
              "      <td>71</td>\n",
              "      <td>3</td>\n",
              "      <td>2</td>\n",
              "      <td>85.0</td>\n",
              "      <td>124.0</td>\n",
              "      <td>NaN</td>\n",
              "    </tr>\n",
              "  </tbody>\n",
              "</table>\n",
              "</div>"
            ],
            "text/plain": [
              "                     num_orders  dayofweek  hour  lag_1  lag_2  rolling_mean\n",
              "datetime                                                                    \n",
              "2018-03-01 00:00:00         124          3     0    NaN    NaN           NaN\n",
              "2018-03-01 01:00:00          85          3     1  124.0    NaN           NaN\n",
              "2018-03-01 02:00:00          71          3     2   85.0  124.0           NaN"
            ]
          },
          "metadata": {},
          "execution_count": 18
        }
      ]
    },
    {
      "cell_type": "markdown",
      "metadata": {
        "id": "OtWX3jTYtogT"
      },
      "source": [
        "Вот такой набор фич, подчистим наны и запустим модельки. "
      ]
    },
    {
      "cell_type": "code",
      "metadata": {
        "id": "BnJz3_0WtogT"
      },
      "source": [
        "taxi = taxi.dropna()"
      ],
      "execution_count": 19,
      "outputs": []
    },
    {
      "cell_type": "code",
      "metadata": {
        "id": "RL7e3aeetogT"
      },
      "source": [
        "X = taxi.drop('num_orders', 1)\n",
        "y = taxi['num_orders']"
      ],
      "execution_count": 20,
      "outputs": []
    },
    {
      "cell_type": "code",
      "metadata": {
        "id": "85UwK9H4togT"
      },
      "source": [
        "X_train, X_test, y_train, y_test = train_test_split (X, y, shuffle = False, test_size = 0.1)"
      ],
      "execution_count": 21,
      "outputs": []
    },
    {
      "cell_type": "code",
      "metadata": {
        "colab": {
          "base_uri": "https://localhost:8080/"
        },
        "id": "MTFha3ZwtogU",
        "outputId": "78048fef-fb85-471c-c866-810eb1d00fe0"
      },
      "source": [
        "print ('Размер обучающей выборки: ', X_train.shape[0])\n",
        "print ('Размер тестовой выборки: ', X_test.shape[0])"
      ],
      "execution_count": 22,
      "outputs": [
        {
          "output_type": "stream",
          "name": "stdout",
          "text": [
            "Размер обучающей выборки:  3952\n",
            "Размер тестовой выборки:  440\n"
          ]
        }
      ]
    },
    {
      "cell_type": "markdown",
      "metadata": {
        "id": "SxUTw96htogU"
      },
      "source": [
        "### Дамми Регрессор"
      ]
    },
    {
      "cell_type": "markdown",
      "metadata": {
        "id": "AA9sgBUctogU"
      },
      "source": [
        "Начнем с самой простой модельки, которая нам предскажет просто медианы."
      ]
    },
    {
      "cell_type": "code",
      "metadata": {
        "colab": {
          "base_uri": "https://localhost:8080/"
        },
        "id": "XeQbyY-UtogU",
        "outputId": "f6845fbb-8006-4ccc-d69e-cac952736dfe"
      },
      "source": [
        "dummy_regr = DummyRegressor(strategy=\"median\")\n",
        "dummy_regr.fit (X_train, y_train)\n",
        "dummy_pred = dummy_regr.predict (X_test)\n",
        "dummy_rmse = (mean_squared_error (y_test, dummy_pred))**0.5 \n",
        "\n",
        "print('RMSE медианной модели: {:.4f}'.format(dummy_rmse) )"
      ],
      "execution_count": 23,
      "outputs": [
        {
          "output_type": "stream",
          "name": "stdout",
          "text": [
            "RMSE медианной модели: 87.2109\n"
          ]
        }
      ]
    },
    {
      "cell_type": "code",
      "metadata": {
        "id": "Cfp_4Ef1togV"
      },
      "source": [
        "# Добавление даннных для финального отчета\n",
        "data = []\n",
        "data_columns = ['model', 'RMSE',]\n",
        "string = ['Dummy Median', dummy_rmse]\n",
        "\n",
        "data.append(string)"
      ],
      "execution_count": 24,
      "outputs": []
    },
    {
      "cell_type": "markdown",
      "metadata": {
        "id": "LIEAKzC-togV"
      },
      "source": [
        "### Дерево решений"
      ]
    },
    {
      "cell_type": "markdown",
      "metadata": {
        "id": "gy9JnhJWtogW"
      },
      "source": [
        "Отмасштабируем призаки для лучшей работы модели"
      ]
    },
    {
      "cell_type": "code",
      "metadata": {
        "id": "3rij9LEXtogW"
      },
      "source": [
        "pd.options.mode.chained_assignment = None\n",
        "\n",
        "scaler = StandardScaler()\n",
        "scaler.fit(X_train) \n",
        "\n",
        "X_train = scaler.transform(X_train)\n",
        "X_test = scaler.transform(X_test)"
      ],
      "execution_count": 25,
      "outputs": []
    },
    {
      "cell_type": "markdown",
      "metadata": {
        "id": "QJzoj5YXtogW"
      },
      "source": [
        "Запускаем модель дерева решений"
      ]
    },
    {
      "cell_type": "code",
      "metadata": {
        "colab": {
          "base_uri": "https://localhost:8080/"
        },
        "id": "oXrWcCvFtogW",
        "outputId": "a9218d34-5fdd-4003-fde3-8740eae6e74b"
      },
      "source": [
        "model_tree = DecisionTreeRegressor(random_state = 15)\n",
        "from sklearn.model_selection import TimeSeriesSplit\n",
        "\n",
        "#Создание сетки для выбора лучших параметров\n",
        "param_grid_tree = {\n",
        "    'max_depth' : range(9, 13),\n",
        "    'min_samples_leaf' : range(10,15)\n",
        "}\n",
        "\n",
        "split_index = TimeSeriesSplit(n_splits=8).split(X_train)\n",
        "\n",
        "grid_tree = GridSearchCV(estimator = model_tree, param_grid = param_grid_tree, \n",
        "                         scoring = 'neg_mean_squared_error', error_score='raise',\n",
        "                         cv=split_index)\n",
        "grid_tree.fit(X_train, y_train)\n",
        "\n",
        "print('Гиперпараметры модели:', grid_tree.best_params_)\n",
        "\n",
        "#Расчет RMSE для тестовой выборки\n",
        "tree_rmse = (mean_squared_error(y_test, grid_tree.predict(X_test)))**0.5\n",
        "\n",
        "print('Tree. Test best RMSE: {:.3f}'.format(tree_rmse))\n",
        "\n",
        "#Добавление строки в отчет\n",
        "string = ['DecisionTree', tree_rmse]\n",
        "\n",
        "data.append(string)"
      ],
      "execution_count": 26,
      "outputs": [
        {
          "output_type": "stream",
          "name": "stdout",
          "text": [
            "Гиперпараметры модели: {'max_depth': 12, 'min_samples_leaf': 13}\n",
            "Tree. Test best RMSE: 53.774\n"
          ]
        }
      ]
    },
    {
      "cell_type": "markdown",
      "metadata": {
        "id": "uwOh6BHMtogX"
      },
      "source": [
        "### Линейная регрессия"
      ]
    },
    {
      "cell_type": "code",
      "metadata": {
        "id": "lze3c5zCtogX"
      },
      "source": [
        "model_lin = LinearRegression()\n",
        "\n",
        "model_lin.fit(X_train, y_train)\n",
        "\n",
        "pred_lin = model_lin.predict(X_test)"
      ],
      "execution_count": 27,
      "outputs": []
    },
    {
      "cell_type": "code",
      "metadata": {
        "colab": {
          "base_uri": "https://localhost:8080/"
        },
        "id": "vP3ISN9WtogY",
        "outputId": "e28d6ec1-6978-4df9-d24a-9c6b5ffdf178"
      },
      "source": [
        "#Расчет RMSE для тестовой выборки\n",
        "lin_rmse = (mean_squared_error(y_test, pred_lin))**0.5\n",
        "\n",
        "print('LinearRegression. Test best RMSE: {:.3f}'.format(lin_rmse))\n",
        "\n",
        "#Добавление строки в отчет\n",
        "string = ['LinearRegression', lin_rmse]\n",
        "\n",
        "data.append(string)"
      ],
      "execution_count": 28,
      "outputs": [
        {
          "output_type": "stream",
          "name": "stdout",
          "text": [
            "LinearRegression. Test best RMSE: 51.296\n"
          ]
        }
      ]
    },
    {
      "cell_type": "markdown",
      "metadata": {
        "id": "2abX0_7BtogY"
      },
      "source": [
        "### Случайный лес"
      ]
    },
    {
      "cell_type": "code",
      "metadata": {
        "colab": {
          "base_uri": "https://localhost:8080/"
        },
        "id": "R023vclftogY",
        "outputId": "b6e8902d-c4cd-4480-9000-5a8bcf3aaf29"
      },
      "source": [
        "model_forest = RandomForestRegressor(random_state = 15)\n",
        "\n",
        "#Создание сетки для выбора лучших параметров\n",
        "param_grid_forest = {\n",
        "    'max_depth' : range(9,13),\n",
        "    'n_estimators': range(40, 71, 10)\n",
        "}\n",
        "\n",
        "split_index = TimeSeriesSplit(n_splits=8).split(X_train)\n",
        "\n",
        "grid_forest = GridSearchCV(estimator = model_forest, param_grid = param_grid_forest, \n",
        "                         scoring = 'neg_mean_squared_error', error_score='raise',cv = split_index)\n",
        "\n",
        "grid_forest.fit(X_train, y_train)\n",
        "\n",
        "\n",
        "print('Гиперпараметры модели:', grid_forest.best_params_)\n",
        "\n",
        "#Расчет RMSE для тестовой выборки\n",
        "forest_pred = grid_forest.predict(X_test)\n",
        "forest_rmse = (mean_squared_error(y_test, forest_pred))**0.5\n",
        "\n",
        "print('Tree. Test best RMSE: {:.3f}'.format(forest_rmse))\n",
        "\n",
        "#Добавление строки в отчет\n",
        "string = ['RandomForest', forest_rmse]\n",
        "\n",
        "data.append(string)"
      ],
      "execution_count": 29,
      "outputs": [
        {
          "output_type": "stream",
          "name": "stdout",
          "text": [
            "Гиперпараметры модели: {'max_depth': 12, 'n_estimators': 70}\n",
            "Tree. Test best RMSE: 45.962\n"
          ]
        }
      ]
    },
    {
      "cell_type": "markdown",
      "metadata": {
        "id": "72WRazcttogY"
      },
      "source": [
        "### Catboost"
      ]
    },
    {
      "cell_type": "markdown",
      "metadata": {
        "id": "JRv26mSItogZ"
      },
      "source": [
        "Кэтбуст и без настроек неплохо работает. "
      ]
    },
    {
      "cell_type": "code",
      "metadata": {
        "colab": {
          "base_uri": "https://localhost:8080/"
        },
        "id": "0mfXy3JstogZ",
        "outputId": "17a02c74-6a96-46ff-aada-51fa91202e43"
      },
      "source": [
        "cb = CatBoostRegressor(verbose=200, random_seed = 15)\n",
        "cb.fit(X_train, y_train, eval_set=(X_test,y_test))\n",
        "cb_predict = cb.predict(X_test)\n",
        "\n",
        "print('Лучшее значение RMSE для Catboost', cb.best_score_['validation']['RMSE'])\n",
        "\n",
        "#Добавление строки в отчет\n",
        "string = ['CatBoost', cb.best_score_['validation']['RMSE']]\n",
        "\n",
        "data.append(string)"
      ],
      "execution_count": 30,
      "outputs": [
        {
          "output_type": "stream",
          "name": "stdout",
          "text": [
            "Learning rate set to 0.063182\n",
            "0:\tlearn: 37.5499561\ttest: 83.0942559\tbest: 83.0942559 (0)\ttotal: 49.6ms\tremaining: 49.5s\n",
            "200:\tlearn: 20.1155691\ttest: 46.9077488\tbest: 46.9077488 (200)\ttotal: 366ms\tremaining: 1.45s\n",
            "400:\tlearn: 17.8392051\ttest: 45.1367367\tbest: 45.0898274 (383)\ttotal: 692ms\tremaining: 1.03s\n",
            "600:\tlearn: 16.5314724\ttest: 45.0199455\tbest: 44.9404712 (517)\ttotal: 1s\tremaining: 665ms\n",
            "800:\tlearn: 15.4508974\ttest: 45.3558851\tbest: 44.9404712 (517)\ttotal: 1.33s\tremaining: 330ms\n",
            "999:\tlearn: 14.5778162\ttest: 45.4152216\tbest: 44.9404712 (517)\ttotal: 1.66s\tremaining: 0us\n",
            "\n",
            "bestTest = 44.94047122\n",
            "bestIteration = 517\n",
            "\n",
            "Shrink model to first 518 iterations.\n",
            "Лучшее значение RMSE для Catboost 44.9404712170934\n"
          ]
        }
      ]
    },
    {
      "cell_type": "markdown",
      "metadata": {
        "id": "_Dul3RartogZ"
      },
      "source": [
        "## Результат работы моделей"
      ]
    },
    {
      "cell_type": "markdown",
      "metadata": {
        "id": "3yil_o3jtogZ"
      },
      "source": [
        "Т.к. тестирование было сразу при обучении моделей, то тут выведу только результаты тестирования"
      ]
    },
    {
      "cell_type": "code",
      "metadata": {
        "id": "CrcajtT3togZ"
      },
      "source": [
        "res = pd.DataFrame(data = data, columns = ['Model', 'RMSE'])"
      ],
      "execution_count": 31,
      "outputs": []
    },
    {
      "cell_type": "code",
      "metadata": {
        "colab": {
          "base_uri": "https://localhost:8080/",
          "height": 204
        },
        "id": "zk8seM6ntogZ",
        "outputId": "80dd6b7b-41e0-4a0a-ce0e-2ca8754d051a"
      },
      "source": [
        "res"
      ],
      "execution_count": 32,
      "outputs": [
        {
          "output_type": "execute_result",
          "data": {
            "text/html": [
              "<div>\n",
              "<style scoped>\n",
              "    .dataframe tbody tr th:only-of-type {\n",
              "        vertical-align: middle;\n",
              "    }\n",
              "\n",
              "    .dataframe tbody tr th {\n",
              "        vertical-align: top;\n",
              "    }\n",
              "\n",
              "    .dataframe thead th {\n",
              "        text-align: right;\n",
              "    }\n",
              "</style>\n",
              "<table border=\"1\" class=\"dataframe\">\n",
              "  <thead>\n",
              "    <tr style=\"text-align: right;\">\n",
              "      <th></th>\n",
              "      <th>Model</th>\n",
              "      <th>RMSE</th>\n",
              "    </tr>\n",
              "  </thead>\n",
              "  <tbody>\n",
              "    <tr>\n",
              "      <th>0</th>\n",
              "      <td>Dummy Median</td>\n",
              "      <td>87.210938</td>\n",
              "    </tr>\n",
              "    <tr>\n",
              "      <th>1</th>\n",
              "      <td>DecisionTree</td>\n",
              "      <td>53.774010</td>\n",
              "    </tr>\n",
              "    <tr>\n",
              "      <th>2</th>\n",
              "      <td>LinearRegression</td>\n",
              "      <td>51.296368</td>\n",
              "    </tr>\n",
              "    <tr>\n",
              "      <th>3</th>\n",
              "      <td>RandomForest</td>\n",
              "      <td>45.962306</td>\n",
              "    </tr>\n",
              "    <tr>\n",
              "      <th>4</th>\n",
              "      <td>CatBoost</td>\n",
              "      <td>44.940471</td>\n",
              "    </tr>\n",
              "  </tbody>\n",
              "</table>\n",
              "</div>"
            ],
            "text/plain": [
              "              Model       RMSE\n",
              "0      Dummy Median  87.210938\n",
              "1      DecisionTree  53.774010\n",
              "2  LinearRegression  51.296368\n",
              "3      RandomForest  45.962306\n",
              "4          CatBoost  44.940471"
            ]
          },
          "metadata": {},
          "execution_count": 32
        }
      ]
    },
    {
      "cell_type": "markdown",
      "metadata": {
        "id": "MSUq-Ayktoga"
      },
      "source": [
        "Чтобы увеличить масштаб около 48, я выкину дамми регрессор из графика"
      ]
    },
    {
      "cell_type": "code",
      "metadata": {
        "colab": {
          "base_uri": "https://localhost:8080/",
          "height": 497
        },
        "id": "yFLVUSSctoga",
        "outputId": "745227bc-89c8-43cd-f1f7-7c1b8476093b"
      },
      "source": [
        "res = res[res['Model'] != 'Dummy Median']\n",
        "res.index = res['Model']\n",
        "res.plot(kind = 'bar', grid = True, figsize = (8,6))\n",
        "plt.ylabel ('RMSE')\n",
        "plt.title ('Значение RMSE в зависимости от модели')"
      ],
      "execution_count": 33,
      "outputs": [
        {
          "output_type": "execute_result",
          "data": {
            "text/plain": [
              "Text(0.5, 1.0, 'Значение RMSE в зависимости от модели')"
            ]
          },
          "metadata": {},
          "execution_count": 33
        },
        {
          "output_type": "display_data",
          "data": {
            "image/png": "[encoded data removed]",
            "text/plain": [
              "<Figure size 576x432 with 1 Axes>"
            ]
          },
          "metadata": {
            "needs_background": "light"
          }
        }
      ]
    },
    {
      "cell_type": "markdown",
      "metadata": {
        "id": "tEUlebGYtoga"
      },
      "source": [
        "Как видно, заветную отметку в 48 лишних (или недостающих) машин перодолели только Случайный лес и Кэтбуст. Построю для них графики с правильными ответами и предсказаниями."
      ]
    },
    {
      "cell_type": "markdown",
      "metadata": {
        "id": "yo0rDYVFtogc"
      },
      "source": [
        "**RandomForest**"
      ]
    },
    {
      "cell_type": "code",
      "metadata": {
        "colab": {
          "base_uri": "https://localhost:8080/",
          "height": 427
        },
        "id": "d6SpZM06togc",
        "outputId": "7d02106a-492d-42ee-acb5-9a30e18a4b5b"
      },
      "source": [
        "pd.DataFrame(data = forest_pred, columns = ['RandomForest'], index = y_test.index).plot(style = 'v')\n",
        "y_test.plot(style = 'x', figsize = (12,6), grid = True, xlim = ['2018-08-15','2018-08-17'], ylim=[0, 250])\n",
        "plt.title ('Сравнение предсказаний и тестовых значений RandomForest')\n",
        "plt.ylabel ('Количество машин')\n",
        "plt.show()"
      ],
      "execution_count": 34,
      "outputs": [
        {
          "output_type": "display_data",
          "data": {
            "image/png": "[encoded data removed]",
            "text/plain": [
              "<Figure size 864x432 with 1 Axes>"
            ]
          },
          "metadata": {
            "needs_background": "light"
          }
        }
      ]
    },
    {
      "cell_type": "markdown",
      "metadata": {
        "id": "l8hGUZ-1togc"
      },
      "source": [
        "Крестики - правильные ответы, треугольнички - предсказания.\n",
        "\n",
        "**Вывод**\n",
        "\n",
        "Получается, что в среднем, наша модель ошибается в минус, и скорее всего наши клиенты уйдут к конкурирующему таксопарку.. Не самый хороший результат. Но посмотрим на результат кэтбуста."
      ]
    },
    {
      "cell_type": "markdown",
      "metadata": {
        "id": "Ym0weRNotogc"
      },
      "source": [
        "**Catboost**"
      ]
    },
    {
      "cell_type": "code",
      "metadata": {
        "colab": {
          "base_uri": "https://localhost:8080/",
          "height": 427
        },
        "id": "YdNRAIWhtogc",
        "outputId": "81a96210-7a7e-4702-d600-65a7f2acbfd4"
      },
      "source": [
        "pd.DataFrame(data = cb_predict, columns = ['Catboost'], index = y_test.index).plot(style = 'v')\n",
        "y_test.plot(style = 'x', figsize = (12,6), grid = True, xlim = ['2018-08-15','2018-08-17'], ylim=[0, 250])\n",
        "plt.title ('Сравнение предсказаний и тестовых значений Catboost')\n",
        "plt.ylabel ('Количество машин')\n",
        "plt.show()"
      ],
      "execution_count": 35,
      "outputs": [
        {
          "output_type": "display_data",
          "data": {
            "image/png": "[encoded data removed]",
            "text/plain": [
              "<Figure size 864x432 with 1 Axes>"
            ]
          },
          "metadata": {
            "needs_background": "light"
          }
        }
      ]
    },
    {
      "cell_type": "markdown",
      "metadata": {
        "id": "Gu3GqAvEtogd"
      },
      "source": [
        "Крестики - правильные ответы, треугольнички - предсказания.\n",
        "\n",
        "В среднем опять получается, что машин нам обычно не хватает, нежели они простаивают.. Лучше было бы наоборот.. А что будет если добавить каждый час по 15 машин, например? Проверим!"
      ]
    },
    {
      "cell_type": "code",
      "metadata": {
        "colab": {
          "base_uri": "https://localhost:8080/",
          "height": 427
        },
        "id": "2iNiketKtogd",
        "outputId": "fc74566e-f6fc-4103-a234-77100ce4e8e3"
      },
      "source": [
        "cb_predict += 15\n",
        "\n",
        "cb2_rmse = (mean_squared_error(y_test, cb_predict))**0.5\n",
        "\n",
        "pd.DataFrame(data = cb_predict, columns = ['Catboost'], index = y_test.index).plot(style = '-o')\n",
        "y_test.plot(style = '-x', figsize = (12,6), grid = True, xlim = ['2018-08-15','2018-08-17'], ylim=[0, 250])\n",
        "\n",
        "plt.title ('Сравнение предсказаний и тестовых значений Catboost')\n",
        "plt.ylabel ('Количество машин')\n",
        "plt.show()"
      ],
      "execution_count": 36,
      "outputs": [
        {
          "output_type": "display_data",
          "data": {
            "image/png": "[encoded data removed]",
            "text/plain": [
              "<Figure size 864x432 with 1 Axes>"
            ]
          },
          "metadata": {
            "needs_background": "light"
          }
        }
      ]
    },
    {
      "cell_type": "code",
      "metadata": {
        "colab": {
          "base_uri": "https://localhost:8080/"
        },
        "id": "0V-b_QM6togd",
        "outputId": "cba4d701-d3af-4ea2-cb26-f38bfffe2baa"
      },
      "source": [
        "print('Кэтбуст с небольшой добавкой, конечный RMSE: {:.3f}'.format(cb2_rmse))"
      ],
      "execution_count": 37,
      "outputs": [
        {
          "output_type": "stream",
          "name": "stdout",
          "text": [
            "Кэтбуст с небольшой добавкой, конечный RMSE: 41.637\n"
          ]
        }
      ]
    },
    {
      "cell_type": "markdown",
      "metadata": {
        "id": "dUmyEnc-togd"
      },
      "source": [
        "## Вывод\n",
        "\n",
        "\n",
        "С небольшой ручной добавкой в 15 машин мы получили снижение метрики RMSE на 6 единиц или на 8%. Неплохой результат, а? Но это подсветило проблему, что модель недостаточно учитывает тренд (по месяцам). На графике в самом начале было видно, что в августе идет сильный рост по сравнению с предыдущими месяцами, но модель этого знать не могла и не учла. \n",
        "Желательно бы, конечно, учитвать еще и годовую сезонность, чтобы предсказания были более точными. \n",
        "А также видно, что модель плохо работает с дневной сезонностью (по часам) и в период пиков или просадок притягивает предсказания к среднему, поэтому утром водителей предсказано слишком много, а в вечерний час-пик машин не хватает.."
      ]
    }
  ]
}