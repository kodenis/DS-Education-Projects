{
  "nbformat": 4,
  "nbformat_minor": 0,
  "metadata": {
    "ExecuteTimeLog": [
      {
        "duration": 1546,
        "start_time": "2021-06-08T14:45:25.889Z"
      },
      {
        "duration": 1041,
        "start_time": "2021-06-08T14:45:27.438Z"
      },
      {
        "duration": 52,
        "start_time": "2021-06-08T14:45:28.481Z"
      },
      {
        "duration": 5,
        "start_time": "2021-06-08T14:45:28.536Z"
      },
      {
        "duration": 26,
        "start_time": "2021-06-08T14:45:28.543Z"
      },
      {
        "duration": 45,
        "start_time": "2021-06-08T14:45:28.571Z"
      },
      {
        "duration": 39,
        "start_time": "2021-06-08T14:45:28.619Z"
      },
      {
        "duration": 49,
        "start_time": "2021-06-08T14:45:28.663Z"
      },
      {
        "duration": 27,
        "start_time": "2021-06-08T14:45:28.716Z"
      },
      {
        "duration": 52,
        "start_time": "2021-06-08T14:45:28.746Z"
      },
      {
        "duration": 40,
        "start_time": "2021-06-08T14:45:28.800Z"
      },
      {
        "duration": 20,
        "start_time": "2021-06-08T14:45:28.844Z"
      },
      {
        "duration": 19,
        "start_time": "2021-06-08T14:45:28.867Z"
      },
      {
        "duration": 26,
        "start_time": "2021-06-08T14:45:28.889Z"
      },
      {
        "duration": 27,
        "start_time": "2021-06-08T14:45:28.917Z"
      },
      {
        "duration": 10,
        "start_time": "2021-06-08T14:45:28.947Z"
      },
      {
        "duration": 17,
        "start_time": "2021-06-08T14:45:28.959Z"
      },
      {
        "duration": 16,
        "start_time": "2021-06-08T14:45:28.979Z"
      },
      {
        "duration": 19,
        "start_time": "2021-06-08T14:45:28.997Z"
      },
      {
        "duration": 44,
        "start_time": "2021-06-08T14:45:29.018Z"
      },
      {
        "duration": 28,
        "start_time": "2021-06-08T14:45:29.064Z"
      },
      {
        "duration": 29,
        "start_time": "2021-06-08T14:45:29.095Z"
      },
      {
        "duration": 37,
        "start_time": "2021-06-08T14:45:29.128Z"
      },
      {
        "duration": 12,
        "start_time": "2021-06-08T14:45:29.167Z"
      },
      {
        "duration": 17,
        "start_time": "2021-06-08T14:45:29.181Z"
      },
      {
        "duration": 52,
        "start_time": "2021-06-08T14:45:29.200Z"
      },
      {
        "duration": 30,
        "start_time": "2021-06-08T14:45:29.255Z"
      },
      {
        "duration": 122,
        "start_time": "2021-06-08T14:45:29.287Z"
      },
      {
        "duration": 5,
        "start_time": "2021-06-08T14:45:29.411Z"
      },
      {
        "duration": 31,
        "start_time": "2021-06-08T14:45:29.419Z"
      },
      {
        "duration": 28,
        "start_time": "2021-06-08T14:45:29.453Z"
      },
      {
        "duration": 5,
        "start_time": "2021-06-08T14:45:29.484Z"
      },
      {
        "duration": 42,
        "start_time": "2021-06-08T14:45:29.491Z"
      },
      {
        "duration": 368,
        "start_time": "2021-06-08T14:48:41.617Z"
      },
      {
        "duration": 10,
        "start_time": "2021-06-08T14:50:53.630Z"
      },
      {
        "duration": 9,
        "start_time": "2021-06-08T14:51:12.517Z"
      },
      {
        "duration": 7,
        "start_time": "2021-06-08T14:52:29.248Z"
      },
      {
        "duration": 735,
        "start_time": "2021-06-08T14:52:59.017Z"
      },
      {
        "duration": 11,
        "start_time": "2021-06-08T14:53:30.381Z"
      },
      {
        "duration": 11,
        "start_time": "2021-06-08T14:54:42.005Z"
      },
      {
        "duration": 358,
        "start_time": "2021-06-08T14:56:16.184Z"
      },
      {
        "duration": 9,
        "start_time": "2021-06-08T14:57:06.072Z"
      },
      {
        "duration": 9,
        "start_time": "2021-06-08T14:57:21.182Z"
      },
      {
        "duration": 891,
        "start_time": "2021-06-08T14:57:45.018Z"
      },
      {
        "duration": 7,
        "start_time": "2021-06-08T15:01:50.506Z"
      },
      {
        "duration": 468,
        "start_time": "2021-06-08T15:03:44.854Z"
      },
      {
        "duration": 28,
        "start_time": "2021-06-08T15:04:01.862Z"
      },
      {
        "duration": 497,
        "start_time": "2021-06-08T15:04:34.007Z"
      },
      {
        "duration": 5,
        "start_time": "2021-06-08T15:04:52.727Z"
      },
      {
        "duration": 983,
        "start_time": "2021-06-08T15:04:52.735Z"
      },
      {
        "duration": 31,
        "start_time": "2021-06-08T15:04:53.721Z"
      },
      {
        "duration": 4,
        "start_time": "2021-06-08T15:04:53.755Z"
      },
      {
        "duration": 12,
        "start_time": "2021-06-08T15:04:53.761Z"
      },
      {
        "duration": 54,
        "start_time": "2021-06-08T15:04:53.776Z"
      },
      {
        "duration": 5,
        "start_time": "2021-06-08T15:04:53.834Z"
      },
      {
        "duration": 10,
        "start_time": "2021-06-08T15:04:53.842Z"
      },
      {
        "duration": 10,
        "start_time": "2021-06-08T15:04:53.854Z"
      },
      {
        "duration": 68,
        "start_time": "2021-06-08T15:04:53.867Z"
      },
      {
        "duration": 28,
        "start_time": "2021-06-08T15:04:53.937Z"
      },
      {
        "duration": 43,
        "start_time": "2021-06-08T15:04:53.967Z"
      },
      {
        "duration": 7,
        "start_time": "2021-06-08T15:04:54.013Z"
      },
      {
        "duration": 8,
        "start_time": "2021-06-08T15:04:54.023Z"
      },
      {
        "duration": 12,
        "start_time": "2021-06-08T15:04:54.034Z"
      },
      {
        "duration": 6,
        "start_time": "2021-06-08T15:04:54.048Z"
      },
      {
        "duration": 58,
        "start_time": "2021-06-08T15:04:54.056Z"
      },
      {
        "duration": 7,
        "start_time": "2021-06-08T15:04:54.117Z"
      },
      {
        "duration": 14,
        "start_time": "2021-06-08T15:04:54.130Z"
      },
      {
        "duration": 9,
        "start_time": "2021-06-08T15:04:54.147Z"
      },
      {
        "duration": 51,
        "start_time": "2021-06-08T15:04:54.159Z"
      },
      {
        "duration": 14,
        "start_time": "2021-06-08T15:04:54.213Z"
      },
      {
        "duration": 37,
        "start_time": "2021-06-08T15:04:54.229Z"
      },
      {
        "duration": 9,
        "start_time": "2021-06-08T15:04:54.268Z"
      },
      {
        "duration": 31,
        "start_time": "2021-06-08T15:04:54.279Z"
      },
      {
        "duration": 30,
        "start_time": "2021-06-08T15:04:54.312Z"
      },
      {
        "duration": 10,
        "start_time": "2021-06-08T15:04:54.344Z"
      },
      {
        "duration": 211,
        "start_time": "2021-06-08T15:04:54.358Z"
      },
      {
        "duration": 6,
        "start_time": "2021-06-08T15:04:54.572Z"
      },
      {
        "duration": 34,
        "start_time": "2021-06-08T15:04:54.582Z"
      },
      {
        "duration": 15,
        "start_time": "2021-06-08T15:04:54.618Z"
      },
      {
        "duration": 5,
        "start_time": "2021-06-08T15:04:54.636Z"
      },
      {
        "duration": 21,
        "start_time": "2021-06-08T15:04:54.644Z"
      },
      {
        "duration": 399,
        "start_time": "2021-06-08T15:04:54.668Z"
      },
      {
        "duration": 10,
        "start_time": "2021-06-08T15:04:55.069Z"
      },
      {
        "duration": 27,
        "start_time": "2021-06-08T15:04:55.082Z"
      },
      {
        "duration": 11,
        "start_time": "2021-06-08T15:04:55.111Z"
      },
      {
        "duration": 12,
        "start_time": "2021-06-08T15:04:55.125Z"
      },
      {
        "duration": 360,
        "start_time": "2021-06-08T15:04:55.139Z"
      },
      {
        "duration": 36,
        "start_time": "2021-06-08T15:05:27.488Z"
      },
      {
        "duration": 12,
        "start_time": "2021-06-08T15:05:35.592Z"
      },
      {
        "duration": 361,
        "start_time": "2021-06-08T15:05:40.577Z"
      },
      {
        "duration": 11,
        "start_time": "2021-06-08T15:07:30.485Z"
      },
      {
        "duration": 4,
        "start_time": "2021-06-08T15:07:32.101Z"
      },
      {
        "duration": 6,
        "start_time": "2021-06-08T15:07:43.892Z"
      },
      {
        "duration": 4,
        "start_time": "2021-06-08T15:09:58.353Z"
      },
      {
        "duration": 4,
        "start_time": "2021-06-08T15:15:02.466Z"
      },
      {
        "duration": 4,
        "start_time": "2021-06-08T15:15:33.219Z"
      },
      {
        "duration": 287,
        "start_time": "2021-06-08T15:20:09.764Z"
      },
      {
        "duration": 310,
        "start_time": "2021-06-08T15:20:39.989Z"
      },
      {
        "duration": 258,
        "start_time": "2021-06-08T15:20:57.701Z"
      },
      {
        "duration": 266,
        "start_time": "2021-06-08T15:21:26.702Z"
      },
      {
        "duration": 283,
        "start_time": "2021-06-08T15:22:12.311Z"
      },
      {
        "duration": 257,
        "start_time": "2021-06-08T15:23:07.344Z"
      },
      {
        "duration": 589,
        "start_time": "2021-06-08T15:23:25.322Z"
      },
      {
        "duration": 729,
        "start_time": "2021-06-08T15:23:37.155Z"
      },
      {
        "duration": 262,
        "start_time": "2021-06-08T15:23:42.035Z"
      },
      {
        "duration": 273,
        "start_time": "2021-06-08T15:23:47.714Z"
      },
      {
        "duration": 307,
        "start_time": "2021-06-08T15:24:03.419Z"
      },
      {
        "duration": 289,
        "start_time": "2021-06-08T15:24:40.925Z"
      },
      {
        "duration": 406,
        "start_time": "2021-06-08T15:25:39.021Z"
      },
      {
        "duration": 286,
        "start_time": "2021-06-08T15:25:44.487Z"
      },
      {
        "duration": 286,
        "start_time": "2021-06-08T15:26:44.687Z"
      },
      {
        "duration": 364,
        "start_time": "2021-06-08T15:26:53.647Z"
      },
      {
        "duration": 319,
        "start_time": "2021-06-08T15:27:05.736Z"
      },
      {
        "duration": 303,
        "start_time": "2021-06-08T15:27:14.224Z"
      },
      {
        "duration": 330,
        "start_time": "2021-06-08T15:27:48.314Z"
      },
      {
        "duration": 700,
        "start_time": "2021-06-08T15:28:07.546Z"
      },
      {
        "duration": 339,
        "start_time": "2021-06-08T15:28:33.715Z"
      },
      {
        "duration": 332,
        "start_time": "2021-06-08T15:29:04.028Z"
      },
      {
        "duration": 626,
        "start_time": "2021-06-08T15:29:25.956Z"
      },
      {
        "duration": 404,
        "start_time": "2021-06-08T15:29:37.804Z"
      },
      {
        "duration": 390,
        "start_time": "2021-06-08T15:30:33.087Z"
      },
      {
        "duration": 395,
        "start_time": "2021-06-08T15:30:39.199Z"
      },
      {
        "duration": 967,
        "start_time": "2021-06-08T15:33:19.020Z"
      },
      {
        "duration": 728,
        "start_time": "2021-06-08T15:33:34.605Z"
      },
      {
        "duration": 834,
        "start_time": "2021-06-08T15:33:44.164Z"
      },
      {
        "duration": 724,
        "start_time": "2021-06-08T15:33:57.916Z"
      },
      {
        "duration": 985,
        "start_time": "2021-06-08T15:34:30.334Z"
      },
      {
        "duration": 404,
        "start_time": "2021-06-08T15:35:20.999Z"
      },
      {
        "duration": 403,
        "start_time": "2021-06-08T15:35:53.577Z"
      },
      {
        "duration": 410,
        "start_time": "2021-06-08T15:36:11.434Z"
      },
      {
        "duration": 332,
        "start_time": "2021-06-08T16:11:11.027Z"
      },
      {
        "duration": 1541,
        "start_time": "2021-06-08T16:11:52.306Z"
      },
      {
        "duration": 977,
        "start_time": "2021-06-08T16:11:53.849Z"
      },
      {
        "duration": 36,
        "start_time": "2021-06-08T16:11:54.829Z"
      },
      {
        "duration": 3,
        "start_time": "2021-06-08T16:11:54.867Z"
      },
      {
        "duration": 36,
        "start_time": "2021-06-08T16:11:54.873Z"
      },
      {
        "duration": 31,
        "start_time": "2021-06-08T16:11:54.912Z"
      },
      {
        "duration": 2,
        "start_time": "2021-06-08T16:11:54.946Z"
      },
      {
        "duration": 18,
        "start_time": "2021-06-08T16:11:54.952Z"
      },
      {
        "duration": 20,
        "start_time": "2021-06-08T16:11:54.973Z"
      },
      {
        "duration": 47,
        "start_time": "2021-06-08T16:11:54.995Z"
      },
      {
        "duration": 26,
        "start_time": "2021-06-08T16:11:55.044Z"
      },
      {
        "duration": 39,
        "start_time": "2021-06-08T16:11:55.072Z"
      },
      {
        "duration": 11,
        "start_time": "2021-06-08T16:11:55.113Z"
      },
      {
        "duration": 9,
        "start_time": "2021-06-08T16:11:55.127Z"
      },
      {
        "duration": 21,
        "start_time": "2021-06-08T16:11:55.139Z"
      },
      {
        "duration": 6,
        "start_time": "2021-06-08T16:11:55.163Z"
      },
      {
        "duration": 43,
        "start_time": "2021-06-08T16:11:55.172Z"
      },
      {
        "duration": 7,
        "start_time": "2021-06-08T16:11:55.219Z"
      },
      {
        "duration": 11,
        "start_time": "2021-06-08T16:11:55.229Z"
      },
      {
        "duration": 16,
        "start_time": "2021-06-08T16:11:55.243Z"
      },
      {
        "duration": 13,
        "start_time": "2021-06-08T16:11:55.262Z"
      },
      {
        "duration": 46,
        "start_time": "2021-06-08T16:11:55.277Z"
      },
      {
        "duration": 29,
        "start_time": "2021-06-08T16:11:55.330Z"
      },
      {
        "duration": 11,
        "start_time": "2021-06-08T16:11:55.363Z"
      },
      {
        "duration": 40,
        "start_time": "2021-06-08T16:11:55.377Z"
      },
      {
        "duration": 25,
        "start_time": "2021-06-08T16:11:55.421Z"
      },
      {
        "duration": 19,
        "start_time": "2021-06-08T16:11:55.447Z"
      },
      {
        "duration": 163,
        "start_time": "2021-06-08T16:11:55.468Z"
      },
      {
        "duration": 5,
        "start_time": "2021-06-08T16:11:55.633Z"
      },
      {
        "duration": 21,
        "start_time": "2021-06-08T16:11:55.640Z"
      },
      {
        "duration": 12,
        "start_time": "2021-06-08T16:11:55.663Z"
      },
      {
        "duration": 36,
        "start_time": "2021-06-08T16:11:55.678Z"
      },
      {
        "duration": 41,
        "start_time": "2021-06-08T16:11:55.717Z"
      },
      {
        "duration": 439,
        "start_time": "2021-06-08T16:11:55.760Z"
      },
      {
        "duration": 12,
        "start_time": "2021-06-08T16:11:56.202Z"
      },
      {
        "duration": 10,
        "start_time": "2021-06-08T16:11:56.218Z"
      },
      {
        "duration": 11,
        "start_time": "2021-06-08T16:11:56.230Z"
      },
      {
        "duration": 15,
        "start_time": "2021-06-08T16:11:56.243Z"
      },
      {
        "duration": 73,
        "start_time": "2021-06-08T16:11:56.260Z"
      },
      {
        "duration": 11,
        "start_time": "2021-06-08T16:11:56.335Z"
      },
      {
        "duration": 11,
        "start_time": "2021-06-08T16:11:56.348Z"
      },
      {
        "duration": 4,
        "start_time": "2021-06-08T16:11:56.361Z"
      },
      {
        "duration": 16,
        "start_time": "2021-06-08T16:11:56.367Z"
      },
      {
        "duration": 10,
        "start_time": "2021-06-08T16:11:56.413Z"
      },
      {
        "duration": 35,
        "start_time": "2021-06-08T16:11:56.426Z"
      },
      {
        "duration": 32,
        "start_time": "2021-06-08T16:11:56.464Z"
      },
      {
        "duration": 4,
        "start_time": "2021-06-08T16:11:56.498Z"
      },
      {
        "duration": 27,
        "start_time": "2021-06-08T16:11:56.504Z"
      },
      {
        "duration": 15,
        "start_time": "2021-06-08T16:11:56.534Z"
      },
      {
        "duration": 15,
        "start_time": "2021-06-08T16:11:56.552Z"
      },
      {
        "duration": 11,
        "start_time": "2021-06-08T16:11:56.569Z"
      },
      {
        "duration": 13,
        "start_time": "2021-06-08T16:11:56.613Z"
      },
      {
        "duration": 11,
        "start_time": "2021-06-08T16:11:56.629Z"
      },
      {
        "duration": 313,
        "start_time": "2021-06-08T16:11:56.643Z"
      },
      {
        "duration": 295,
        "start_time": "2021-06-08T16:11:56.959Z"
      },
      {
        "duration": 292,
        "start_time": "2021-06-08T16:11:57.257Z"
      },
      {
        "duration": 451,
        "start_time": "2021-06-08T16:11:57.551Z"
      },
      {
        "duration": 16,
        "start_time": "2021-06-08T16:11:58.005Z"
      },
      {
        "duration": 16,
        "start_time": "2021-06-08T16:11:58.024Z"
      },
      {
        "duration": 439,
        "start_time": "2021-06-08T16:11:58.042Z"
      },
      {
        "duration": 351,
        "start_time": "2021-06-08T16:11:58.483Z"
      },
      {
        "duration": 343,
        "start_time": "2021-06-08T16:11:58.836Z"
      },
      {
        "duration": 10,
        "start_time": "2021-06-08T16:11:59.181Z"
      },
      {
        "duration": 386,
        "start_time": "2021-06-08T16:11:59.193Z"
      },
      {
        "duration": 8,
        "start_time": "2021-06-08T16:11:59.581Z"
      },
      {
        "duration": 30,
        "start_time": "2021-06-08T16:11:59.591Z"
      },
      {
        "duration": 11,
        "start_time": "2021-06-08T16:11:59.624Z"
      },
      {
        "duration": 12,
        "start_time": "2021-06-08T16:11:59.644Z"
      },
      {
        "duration": 326,
        "start_time": "2021-06-08T16:11:59.659Z"
      },
      {
        "duration": 6,
        "start_time": "2021-06-08T16:11:59.987Z"
      },
      {
        "duration": 14,
        "start_time": "2021-06-08T16:11:59.995Z"
      },
      {
        "duration": 25,
        "start_time": "2021-06-08T16:12:00.014Z"
      },
      {
        "duration": 9,
        "start_time": "2021-06-08T16:12:00.042Z"
      },
      {
        "duration": 14,
        "start_time": "2021-06-08T16:12:00.053Z"
      },
      {
        "duration": 1148,
        "start_time": "2021-06-08T16:12:00.069Z"
      },
      {
        "duration": 1076,
        "start_time": "2021-06-08T16:12:01.225Z"
      },
      {
        "duration": 17,
        "start_time": "2021-06-08T16:12:02.305Z"
      },
      {
        "duration": 10,
        "start_time": "2021-06-08T16:12:02.325Z"
      },
      {
        "duration": 28,
        "start_time": "2021-06-08T16:12:02.337Z"
      },
      {
        "duration": 21,
        "start_time": "2021-06-08T16:12:02.367Z"
      },
      {
        "duration": 80,
        "start_time": "2021-06-08T16:12:02.409Z"
      },
      {
        "duration": 21,
        "start_time": "2021-06-08T16:12:02.492Z"
      },
      {
        "duration": 12,
        "start_time": "2021-06-08T16:12:02.517Z"
      },
      {
        "duration": 9,
        "start_time": "2021-06-08T16:12:02.532Z"
      },
      {
        "duration": 11,
        "start_time": "2021-06-08T16:12:02.544Z"
      },
      {
        "duration": 64,
        "start_time": "2021-06-08T16:12:02.558Z"
      },
      {
        "duration": 7,
        "start_time": "2021-06-08T16:12:02.625Z"
      },
      {
        "duration": 14,
        "start_time": "2021-06-08T16:12:02.635Z"
      },
      {
        "duration": 9,
        "start_time": "2021-06-08T16:12:02.651Z"
      },
      {
        "duration": 54,
        "start_time": "2021-06-08T16:12:02.663Z"
      },
      {
        "duration": 9,
        "start_time": "2021-06-08T16:12:02.721Z"
      },
      {
        "duration": 21,
        "start_time": "2021-06-08T16:12:02.732Z"
      },
      {
        "duration": 9,
        "start_time": "2021-06-08T16:12:02.756Z"
      },
      {
        "duration": 33,
        "start_time": "2021-06-08T16:12:02.768Z"
      },
      {
        "duration": 10,
        "start_time": "2021-06-08T16:12:02.810Z"
      },
      {
        "duration": 7444,
        "start_time": "2021-06-08T16:12:02.822Z"
      },
      {
        "duration": 222095,
        "start_time": "2021-06-08T16:12:10.269Z"
      },
      {
        "duration": 37334,
        "start_time": "2021-06-08T16:15:52.366Z"
      },
      {
        "duration": 7,
        "start_time": "2021-06-08T16:16:29.710Z"
      },
      {
        "duration": 42231,
        "start_time": "2021-06-08T16:16:29.720Z"
      },
      {
        "duration": 4,
        "start_time": "2021-06-08T16:17:11.954Z"
      },
      {
        "duration": 14,
        "start_time": "2021-06-08T16:17:11.960Z"
      },
      {
        "duration": 5,
        "start_time": "2021-06-08T16:17:21.248Z"
      },
      {
        "duration": 7,
        "start_time": "2021-06-08T16:17:45.676Z"
      },
      {
        "duration": 1120,
        "start_time": "2021-06-08T16:20:21.538Z"
      },
      {
        "duration": 6,
        "start_time": "2021-06-08T16:20:36.121Z"
      },
      {
        "duration": 5,
        "start_time": "2021-06-08T16:20:37.393Z"
      },
      {
        "duration": 8,
        "start_time": "2021-06-08T16:20:58.794Z"
      },
      {
        "duration": 52,
        "start_time": "2021-06-08T16:20:59.395Z"
      },
      {
        "duration": 6,
        "start_time": "2021-06-08T16:23:54.865Z"
      },
      {
        "duration": 2504,
        "start_time": "2021-06-08T16:23:55.368Z"
      },
      {
        "duration": 5,
        "start_time": "2021-06-08T16:24:22.769Z"
      },
      {
        "duration": 904,
        "start_time": "2021-06-08T16:29:12.091Z"
      },
      {
        "duration": 885,
        "start_time": "2021-06-08T16:29:59.099Z"
      },
      {
        "duration": 7,
        "start_time": "2021-06-08T16:34:55.037Z"
      },
      {
        "duration": 8,
        "start_time": "2021-06-08T16:35:09.956Z"
      },
      {
        "duration": 7,
        "start_time": "2021-06-08T16:35:17.852Z"
      },
      {
        "duration": 289,
        "start_time": "2021-06-08T16:40:35.015Z"
      },
      {
        "duration": 389,
        "start_time": "2021-06-08T16:41:00.430Z"
      },
      {
        "duration": 314,
        "start_time": "2021-06-08T16:41:15.215Z"
      },
      {
        "duration": 677,
        "start_time": "2021-06-08T16:41:39.679Z"
      },
      {
        "duration": 311,
        "start_time": "2021-06-08T16:41:49.544Z"
      },
      {
        "duration": 292,
        "start_time": "2021-06-08T16:42:09.417Z"
      },
      {
        "duration": 338,
        "start_time": "2021-06-08T16:44:53.470Z"
      },
      {
        "duration": 368,
        "start_time": "2021-06-08T16:45:07.102Z"
      },
      {
        "duration": 276,
        "start_time": "2021-06-08T16:45:09.134Z"
      },
      {
        "duration": 317,
        "start_time": "2021-06-08T16:46:47.089Z"
      },
      {
        "duration": 289,
        "start_time": "2021-06-08T16:46:56.594Z"
      },
      {
        "duration": 285,
        "start_time": "2021-06-08T16:47:05.962Z"
      },
      {
        "duration": 1559,
        "start_time": "2021-06-08T16:53:48.995Z"
      },
      {
        "duration": 975,
        "start_time": "2021-06-08T16:53:50.557Z"
      },
      {
        "duration": 35,
        "start_time": "2021-06-08T16:53:51.535Z"
      },
      {
        "duration": 5,
        "start_time": "2021-06-08T16:53:51.572Z"
      },
      {
        "duration": 34,
        "start_time": "2021-06-08T16:53:51.580Z"
      },
      {
        "duration": 41,
        "start_time": "2021-06-08T16:53:51.616Z"
      },
      {
        "duration": 3,
        "start_time": "2021-06-08T16:53:51.660Z"
      },
      {
        "duration": 16,
        "start_time": "2021-06-08T16:53:51.666Z"
      },
      {
        "duration": 10,
        "start_time": "2021-06-08T16:53:51.685Z"
      },
      {
        "duration": 31,
        "start_time": "2021-06-08T16:53:51.710Z"
      },
      {
        "duration": 28,
        "start_time": "2021-06-08T16:53:51.744Z"
      },
      {
        "duration": 43,
        "start_time": "2021-06-08T16:53:51.775Z"
      },
      {
        "duration": 9,
        "start_time": "2021-06-08T16:53:51.821Z"
      },
      {
        "duration": 9,
        "start_time": "2021-06-08T16:53:51.833Z"
      },
      {
        "duration": 15,
        "start_time": "2021-06-08T16:53:51.845Z"
      },
      {
        "duration": 49,
        "start_time": "2021-06-08T16:53:51.862Z"
      },
      {
        "duration": 11,
        "start_time": "2021-06-08T16:53:51.913Z"
      },
      {
        "duration": 6,
        "start_time": "2021-06-08T16:53:51.926Z"
      },
      {
        "duration": 9,
        "start_time": "2021-06-08T16:53:51.934Z"
      },
      {
        "duration": 21,
        "start_time": "2021-06-08T16:53:51.945Z"
      },
      {
        "duration": 13,
        "start_time": "2021-06-08T16:53:51.968Z"
      },
      {
        "duration": 11,
        "start_time": "2021-06-08T16:53:52.008Z"
      },
      {
        "duration": 31,
        "start_time": "2021-06-08T16:53:52.027Z"
      },
      {
        "duration": 49,
        "start_time": "2021-06-08T16:53:52.064Z"
      },
      {
        "duration": 10,
        "start_time": "2021-06-08T16:53:52.116Z"
      },
      {
        "duration": 23,
        "start_time": "2021-06-08T16:53:52.129Z"
      },
      {
        "duration": 14,
        "start_time": "2021-06-08T16:53:52.154Z"
      },
      {
        "duration": 151,
        "start_time": "2021-06-08T16:53:52.170Z"
      },
      {
        "duration": 5,
        "start_time": "2021-06-08T16:53:52.323Z"
      },
      {
        "duration": 13,
        "start_time": "2021-06-08T16:53:52.330Z"
      },
      {
        "duration": 10,
        "start_time": "2021-06-08T16:53:52.345Z"
      },
      {
        "duration": 5,
        "start_time": "2021-06-08T16:53:52.358Z"
      },
      {
        "duration": 43,
        "start_time": "2021-06-08T16:53:52.366Z"
      },
      {
        "duration": 387,
        "start_time": "2021-06-08T16:53:52.412Z"
      },
      {
        "duration": 12,
        "start_time": "2021-06-08T16:53:52.802Z"
      },
      {
        "duration": 13,
        "start_time": "2021-06-08T16:53:52.816Z"
      },
      {
        "duration": 14,
        "start_time": "2021-06-08T16:53:52.831Z"
      },
      {
        "duration": 13,
        "start_time": "2021-06-08T16:53:52.847Z"
      },
      {
        "duration": 70,
        "start_time": "2021-06-08T16:53:52.863Z"
      },
      {
        "duration": 13,
        "start_time": "2021-06-08T16:53:52.935Z"
      },
      {
        "duration": 14,
        "start_time": "2021-06-08T16:53:52.951Z"
      },
      {
        "duration": 6,
        "start_time": "2021-06-08T16:53:52.968Z"
      },
      {
        "duration": 5,
        "start_time": "2021-06-08T16:53:53.010Z"
      },
      {
        "duration": 10,
        "start_time": "2021-06-08T16:53:53.018Z"
      },
      {
        "duration": 8,
        "start_time": "2021-06-08T16:53:53.031Z"
      },
      {
        "duration": 29,
        "start_time": "2021-06-08T16:53:53.042Z"
      },
      {
        "duration": 37,
        "start_time": "2021-06-08T16:53:53.073Z"
      },
      {
        "duration": 31,
        "start_time": "2021-06-08T16:53:53.113Z"
      },
      {
        "duration": 20,
        "start_time": "2021-06-08T16:53:53.147Z"
      },
      {
        "duration": 25,
        "start_time": "2021-06-08T16:53:53.170Z"
      },
      {
        "duration": 12,
        "start_time": "2021-06-08T16:53:53.209Z"
      },
      {
        "duration": 11,
        "start_time": "2021-06-08T16:53:53.224Z"
      },
      {
        "duration": 11,
        "start_time": "2021-06-08T16:53:53.237Z"
      },
      {
        "duration": 312,
        "start_time": "2021-06-08T16:53:53.251Z"
      },
      {
        "duration": 292,
        "start_time": "2021-06-08T16:53:53.565Z"
      },
      {
        "duration": 285,
        "start_time": "2021-06-08T16:53:53.860Z"
      },
      {
        "duration": 435,
        "start_time": "2021-06-08T16:53:54.147Z"
      },
      {
        "duration": 11,
        "start_time": "2021-06-08T16:53:54.584Z"
      },
      {
        "duration": 11,
        "start_time": "2021-06-08T16:53:54.610Z"
      },
      {
        "duration": 439,
        "start_time": "2021-06-08T16:53:54.623Z"
      },
      {
        "duration": 346,
        "start_time": "2021-06-08T16:53:55.065Z"
      },
      {
        "duration": 336,
        "start_time": "2021-06-08T16:53:55.413Z"
      },
      {
        "duration": 10,
        "start_time": "2021-06-08T16:53:55.751Z"
      },
      {
        "duration": 338,
        "start_time": "2021-06-08T16:53:55.763Z"
      },
      {
        "duration": 8,
        "start_time": "2021-06-08T16:53:56.107Z"
      },
      {
        "duration": 23,
        "start_time": "2021-06-08T16:53:56.117Z"
      },
      {
        "duration": 20,
        "start_time": "2021-06-08T16:53:56.142Z"
      },
      {
        "duration": 15,
        "start_time": "2021-06-08T16:53:56.170Z"
      },
      {
        "duration": 297,
        "start_time": "2021-06-08T16:53:56.188Z"
      },
      {
        "duration": 21,
        "start_time": "2021-06-08T16:53:56.488Z"
      },
      {
        "duration": 20,
        "start_time": "2021-06-08T16:53:56.512Z"
      },
      {
        "duration": 12,
        "start_time": "2021-06-08T16:53:56.535Z"
      },
      {
        "duration": 14,
        "start_time": "2021-06-08T16:53:56.550Z"
      },
      {
        "duration": 15,
        "start_time": "2021-06-08T16:53:56.567Z"
      },
      {
        "duration": 1034,
        "start_time": "2021-06-08T16:53:56.584Z"
      },
      {
        "duration": 1063,
        "start_time": "2021-06-08T16:53:57.621Z"
      },
      {
        "duration": 11,
        "start_time": "2021-06-08T16:53:58.686Z"
      },
      {
        "duration": 10,
        "start_time": "2021-06-08T16:53:58.710Z"
      },
      {
        "duration": 30,
        "start_time": "2021-06-08T16:53:58.723Z"
      },
      {
        "duration": 33,
        "start_time": "2021-06-08T16:53:58.755Z"
      },
      {
        "duration": 76,
        "start_time": "2021-06-08T16:53:58.790Z"
      },
      {
        "duration": 7,
        "start_time": "2021-06-08T16:53:58.869Z"
      },
      {
        "duration": 15,
        "start_time": "2021-06-08T16:53:58.878Z"
      },
      {
        "duration": 8,
        "start_time": "2021-06-08T16:53:58.908Z"
      },
      {
        "duration": 15,
        "start_time": "2021-06-08T16:53:58.918Z"
      },
      {
        "duration": 20,
        "start_time": "2021-06-08T16:53:58.935Z"
      },
      {
        "duration": 5,
        "start_time": "2021-06-08T16:53:58.958Z"
      },
      {
        "duration": 12,
        "start_time": "2021-06-08T16:53:58.965Z"
      },
      {
        "duration": 36,
        "start_time": "2021-06-08T16:53:58.979Z"
      },
      {
        "duration": 14,
        "start_time": "2021-06-08T16:53:59.017Z"
      },
      {
        "duration": 12,
        "start_time": "2021-06-08T16:53:59.033Z"
      },
      {
        "duration": 23,
        "start_time": "2021-06-08T16:53:59.047Z"
      },
      {
        "duration": 8,
        "start_time": "2021-06-08T16:53:59.073Z"
      },
      {
        "duration": 31,
        "start_time": "2021-06-08T16:53:59.083Z"
      },
      {
        "duration": 11,
        "start_time": "2021-06-08T16:53:59.116Z"
      },
      {
        "duration": 5524,
        "start_time": "2021-06-08T16:53:59.129Z"
      },
      {
        "duration": 218870,
        "start_time": "2021-06-08T16:54:04.656Z"
      },
      {
        "duration": 31834,
        "start_time": "2021-06-08T16:57:43.528Z"
      },
      {
        "duration": 5,
        "start_time": "2021-06-08T16:58:15.364Z"
      },
      {
        "duration": 40164,
        "start_time": "2021-06-08T16:58:15.371Z"
      },
      {
        "duration": 4,
        "start_time": "2021-06-08T16:58:55.537Z"
      },
      {
        "duration": 14,
        "start_time": "2021-06-08T16:58:55.544Z"
      },
      {
        "duration": 2550,
        "start_time": "2021-06-08T16:58:55.561Z"
      },
      {
        "duration": 6,
        "start_time": "2021-06-08T16:58:58.115Z"
      },
      {
        "duration": 901,
        "start_time": "2021-06-08T16:58:58.123Z"
      },
      {
        "duration": 311,
        "start_time": "2021-06-08T16:58:59.026Z"
      },
      {
        "duration": 413,
        "start_time": "2021-06-08T16:58:59.340Z"
      },
      {
        "duration": 3307,
        "start_time": "2021-06-09T08:19:51.527Z"
      },
      {
        "duration": 1022,
        "start_time": "2021-06-09T08:19:54.837Z"
      },
      {
        "duration": 45,
        "start_time": "2021-06-09T08:19:55.862Z"
      },
      {
        "duration": 4,
        "start_time": "2021-06-09T08:19:55.910Z"
      },
      {
        "duration": 13,
        "start_time": "2021-06-09T08:19:55.917Z"
      },
      {
        "duration": 59,
        "start_time": "2021-06-09T08:19:55.932Z"
      },
      {
        "duration": 3,
        "start_time": "2021-06-09T08:19:55.994Z"
      },
      {
        "duration": 8,
        "start_time": "2021-06-09T08:19:56.189Z"
      },
      {
        "duration": 10,
        "start_time": "2021-06-09T08:20:10.915Z"
      },
      {
        "duration": 32,
        "start_time": "2021-06-09T08:20:12.008Z"
      },
      {
        "duration": 26,
        "start_time": "2021-06-09T08:20:12.195Z"
      },
      {
        "duration": 12,
        "start_time": "2021-06-09T08:20:12.636Z"
      },
      {
        "duration": 496,
        "start_time": "2021-06-09T08:20:23.804Z"
      },
      {
        "duration": 23,
        "start_time": "2021-06-09T08:20:56.002Z"
      },
      {
        "duration": 1426,
        "start_time": "2021-06-09T09:26:10.439Z"
      },
      {
        "duration": 972,
        "start_time": "2021-06-09T09:26:11.867Z"
      },
      {
        "duration": 40,
        "start_time": "2021-06-09T09:26:12.842Z"
      },
      {
        "duration": 3,
        "start_time": "2021-06-09T09:26:12.900Z"
      },
      {
        "duration": 12,
        "start_time": "2021-06-09T09:26:12.906Z"
      },
      {
        "duration": 28,
        "start_time": "2021-06-09T09:26:12.920Z"
      },
      {
        "duration": 4,
        "start_time": "2021-06-09T09:26:12.951Z"
      },
      {
        "duration": 41,
        "start_time": "2021-06-09T09:26:12.959Z"
      },
      {
        "duration": 6,
        "start_time": "2021-06-09T09:26:13.004Z"
      },
      {
        "duration": 31,
        "start_time": "2021-06-09T09:26:13.012Z"
      },
      {
        "duration": 23,
        "start_time": "2021-06-09T09:26:13.046Z"
      },
      {
        "duration": 11,
        "start_time": "2021-06-09T09:26:13.101Z"
      },
      {
        "duration": 10,
        "start_time": "2021-06-09T09:26:13.114Z"
      },
      {
        "duration": 9,
        "start_time": "2021-06-09T09:26:13.126Z"
      },
      {
        "duration": 17,
        "start_time": "2021-06-09T09:26:13.137Z"
      },
      {
        "duration": 4,
        "start_time": "2021-06-09T09:26:13.157Z"
      },
      {
        "duration": 41,
        "start_time": "2021-06-09T09:26:13.164Z"
      },
      {
        "duration": 9,
        "start_time": "2021-06-09T09:26:13.208Z"
      },
      {
        "duration": 6,
        "start_time": "2021-06-09T09:26:13.219Z"
      },
      {
        "duration": 15,
        "start_time": "2021-06-09T09:26:13.227Z"
      },
      {
        "duration": 10,
        "start_time": "2021-06-09T09:26:13.244Z"
      },
      {
        "duration": 52,
        "start_time": "2021-06-09T09:26:13.257Z"
      },
      {
        "duration": 29,
        "start_time": "2021-06-09T09:26:13.314Z"
      },
      {
        "duration": 11,
        "start_time": "2021-06-09T09:26:13.346Z"
      },
      {
        "duration": 4,
        "start_time": "2021-06-09T09:26:13.359Z"
      },
      {
        "duration": 19,
        "start_time": "2021-06-09T09:26:13.401Z"
      },
      {
        "duration": 16,
        "start_time": "2021-06-09T09:26:13.422Z"
      },
      {
        "duration": 122,
        "start_time": "2021-06-09T09:26:13.440Z"
      },
      {
        "duration": 4,
        "start_time": "2021-06-09T09:26:13.565Z"
      },
      {
        "duration": 28,
        "start_time": "2021-06-09T09:26:13.572Z"
      },
      {
        "duration": 10,
        "start_time": "2021-06-09T09:26:13.603Z"
      },
      {
        "duration": 5,
        "start_time": "2021-06-09T09:26:13.616Z"
      },
      {
        "duration": 7,
        "start_time": "2021-06-09T09:26:13.623Z"
      },
      {
        "duration": 413,
        "start_time": "2021-06-09T09:26:13.632Z"
      },
      {
        "duration": 10,
        "start_time": "2021-06-09T09:26:14.047Z"
      },
      {
        "duration": 6,
        "start_time": "2021-06-09T09:26:14.060Z"
      },
      {
        "duration": 37,
        "start_time": "2021-06-09T09:26:14.069Z"
      },
      {
        "duration": 10,
        "start_time": "2021-06-09T09:26:14.108Z"
      },
      {
        "duration": 31,
        "start_time": "2021-06-09T09:26:14.121Z"
      },
      {
        "duration": 10,
        "start_time": "2021-06-09T09:26:14.154Z"
      },
      {
        "duration": 11,
        "start_time": "2021-06-09T09:26:14.201Z"
      },
      {
        "duration": 5,
        "start_time": "2021-06-09T09:26:14.214Z"
      },
      {
        "duration": 6,
        "start_time": "2021-06-09T09:26:14.222Z"
      },
      {
        "duration": 13,
        "start_time": "2021-06-09T09:26:14.231Z"
      },
      {
        "duration": 418,
        "start_time": "2021-06-09T09:26:45.999Z"
      },
      {
        "duration": 8,
        "start_time": "2021-06-09T09:28:13.745Z"
      },
      {
        "duration": 5,
        "start_time": "2021-06-09T09:29:00.860Z"
      },
      {
        "duration": 1020,
        "start_time": "2021-06-09T09:29:00.867Z"
      },
      {
        "duration": 35,
        "start_time": "2021-06-09T09:29:01.890Z"
      },
      {
        "duration": 3,
        "start_time": "2021-06-09T09:29:01.928Z"
      },
      {
        "duration": 18,
        "start_time": "2021-06-09T09:29:01.933Z"
      },
      {
        "duration": 50,
        "start_time": "2021-06-09T09:29:01.954Z"
      },
      {
        "duration": 3,
        "start_time": "2021-06-09T09:29:02.008Z"
      },
      {
        "duration": 14,
        "start_time": "2021-06-09T09:29:02.014Z"
      },
      {
        "duration": 8,
        "start_time": "2021-06-09T09:29:02.031Z"
      },
      {
        "duration": 63,
        "start_time": "2021-06-09T09:29:02.041Z"
      },
      {
        "duration": 30,
        "start_time": "2021-06-09T09:29:02.107Z"
      },
      {
        "duration": 13,
        "start_time": "2021-06-09T09:29:02.140Z"
      },
      {
        "duration": 40,
        "start_time": "2021-06-09T09:29:02.156Z"
      },
      {
        "duration": 19,
        "start_time": "2021-06-09T09:29:02.201Z"
      },
      {
        "duration": 20,
        "start_time": "2021-06-09T09:29:02.223Z"
      },
      {
        "duration": 6,
        "start_time": "2021-06-09T09:29:02.246Z"
      },
      {
        "duration": 13,
        "start_time": "2021-06-09T09:29:02.255Z"
      },
      {
        "duration": 15,
        "start_time": "2021-06-09T09:29:02.271Z"
      },
      {
        "duration": 7,
        "start_time": "2021-06-09T09:29:02.306Z"
      },
      {
        "duration": 11,
        "start_time": "2021-06-09T09:29:02.317Z"
      },
      {
        "duration": 19,
        "start_time": "2021-06-09T09:29:02.331Z"
      },
      {
        "duration": 14,
        "start_time": "2021-06-09T09:29:02.353Z"
      },
      {
        "duration": 39,
        "start_time": "2021-06-09T09:29:02.401Z"
      },
      {
        "duration": 11,
        "start_time": "2021-06-09T09:29:02.443Z"
      },
      {
        "duration": 13,
        "start_time": "2021-06-09T09:29:02.457Z"
      },
      {
        "duration": 48,
        "start_time": "2021-06-09T09:29:02.472Z"
      },
      {
        "duration": 15,
        "start_time": "2021-06-09T09:29:02.523Z"
      },
      {
        "duration": 132,
        "start_time": "2021-06-09T09:29:02.540Z"
      },
      {
        "duration": 6,
        "start_time": "2021-06-09T09:29:02.675Z"
      },
      {
        "duration": 25,
        "start_time": "2021-06-09T09:29:02.685Z"
      },
      {
        "duration": 11,
        "start_time": "2021-06-09T09:29:02.713Z"
      },
      {
        "duration": 5,
        "start_time": "2021-06-09T09:29:02.726Z"
      },
      {
        "duration": 9,
        "start_time": "2021-06-09T09:29:02.733Z"
      },
      {
        "duration": 393,
        "start_time": "2021-06-09T09:29:02.744Z"
      },
      {
        "duration": 10,
        "start_time": "2021-06-09T09:29:03.139Z"
      },
      {
        "duration": 11,
        "start_time": "2021-06-09T09:29:03.152Z"
      },
      {
        "duration": 41,
        "start_time": "2021-06-09T09:29:03.166Z"
      },
      {
        "duration": 31,
        "start_time": "2021-06-09T09:29:03.210Z"
      },
      {
        "duration": 44,
        "start_time": "2021-06-09T09:29:03.244Z"
      },
      {
        "duration": 14,
        "start_time": "2021-06-09T09:29:03.291Z"
      }
    ],
    "kernelspec": {
      "display_name": "Python 3",
      "language": "python",
      "name": "python3"
    },
    "language_info": {
      "codemirror_mode": {
        "name": "ipython",
        "version": 3
      },
      "file_extension": ".py",
      "mimetype": "text/x-python",
      "name": "python",
      "nbconvert_exporter": "python",
      "pygments_lexer": "ipython3",
      "version": "3.7.8"
    },
    "toc": {
      "base_numbering": 1,
      "nav_menu": {},
      "number_sections": true,
      "sideBar": true,
      "skip_h1_title": true,
      "title_cell": "Содержание",
      "title_sidebar": "Contents",
      "toc_cell": true,
      "toc_position": {
        "height": "789px",
        "left": "164px",
        "top": "133px",
        "width": "221px"
      },
      "toc_section_display": true,
      "toc_window_display": true
    },
    "colab": {
      "name": "2-й сборный мой.ipynb",
      "provenance": [],
      "collapsed_sections": []
    }
  },
  "cells": [
    {
      "cell_type": "markdown",
      "metadata": {
        "id": "Ujp9S2K0LabP"
      },
      "source": [
        "# Восстановление золота из руды"
      ]
    },
    {
      "cell_type": "markdown",
      "metadata": {
        "id": "ZO42nKHlLabS"
      },
      "source": [
        "## Подготовка данных"
      ]
    },
    {
      "cell_type": "code",
      "metadata": {
        "id": "IicCgehnLabT"
      },
      "source": [
        "#Импорт библиотек\n",
        "\n",
        "import pandas as pd\n",
        "import numpy as np\n",
        "import matplotlib.pyplot as plt \n",
        "\n",
        "from sklearn.model_selection import cross_val_score\n",
        "\n",
        "from sklearn.tree import DecisionTreeRegressor\n",
        "from sklearn.linear_model import LinearRegression\n",
        "from sklearn.ensemble import RandomForestRegressor\n",
        "\n",
        "from sklearn.metrics import mean_absolute_error\n",
        "from sklearn.metrics.scorer import make_scorer"
      ],
      "execution_count": null,
      "outputs": []
    },
    {
      "cell_type": "code",
      "metadata": {
        "id": "1ryF3wuxLabV",
        "outputId": "4fd11b95-369e-44ba-f98d-9e66d302ccd5"
      },
      "source": [
        "df_train.head()"
      ],
      "execution_count": null,
      "outputs": [
        {
          "output_type": "execute_result",
          "data": {
            "text/html": [
              "<div>\n",
              "<style scoped>\n",
              "    .dataframe tbody tr th:only-of-type {\n",
              "        vertical-align: middle;\n",
              "    }\n",
              "\n",
              "    .dataframe tbody tr th {\n",
              "        vertical-align: top;\n",
              "    }\n",
              "\n",
              "    .dataframe thead th {\n",
              "        text-align: right;\n",
              "    }\n",
              "</style>\n",
              "<table border=\"1\" class=\"dataframe\">\n",
              "  <thead>\n",
              "    <tr style=\"text-align: right;\">\n",
              "      <th></th>\n",
              "      <th>date</th>\n",
              "      <th>final.output.concentrate_ag</th>\n",
              "      <th>final.output.concentrate_pb</th>\n",
              "      <th>final.output.concentrate_sol</th>\n",
              "      <th>final.output.concentrate_au</th>\n",
              "      <th>final.output.recovery</th>\n",
              "      <th>final.output.tail_ag</th>\n",
              "      <th>final.output.tail_pb</th>\n",
              "      <th>final.output.tail_sol</th>\n",
              "      <th>final.output.tail_au</th>\n",
              "      <th>...</th>\n",
              "      <th>secondary_cleaner.state.floatbank4_a_air</th>\n",
              "      <th>secondary_cleaner.state.floatbank4_a_level</th>\n",
              "      <th>secondary_cleaner.state.floatbank4_b_air</th>\n",
              "      <th>secondary_cleaner.state.floatbank4_b_level</th>\n",
              "      <th>secondary_cleaner.state.floatbank5_a_air</th>\n",
              "      <th>secondary_cleaner.state.floatbank5_a_level</th>\n",
              "      <th>secondary_cleaner.state.floatbank5_b_air</th>\n",
              "      <th>secondary_cleaner.state.floatbank5_b_level</th>\n",
              "      <th>secondary_cleaner.state.floatbank6_a_air</th>\n",
              "      <th>secondary_cleaner.state.floatbank6_a_level</th>\n",
              "    </tr>\n",
              "  </thead>\n",
              "  <tbody>\n",
              "    <tr>\n",
              "      <td>0</td>\n",
              "      <td>2016-01-15 00:00:00</td>\n",
              "      <td>6.055403</td>\n",
              "      <td>9.889648</td>\n",
              "      <td>5.507324</td>\n",
              "      <td>42.192020</td>\n",
              "      <td>70.541216</td>\n",
              "      <td>10.411962</td>\n",
              "      <td>0.895447</td>\n",
              "      <td>16.904297</td>\n",
              "      <td>2.143149</td>\n",
              "      <td>...</td>\n",
              "      <td>14.016835</td>\n",
              "      <td>-502.488007</td>\n",
              "      <td>12.099931</td>\n",
              "      <td>-504.715942</td>\n",
              "      <td>9.925633</td>\n",
              "      <td>-498.310211</td>\n",
              "      <td>8.079666</td>\n",
              "      <td>-500.470978</td>\n",
              "      <td>14.151341</td>\n",
              "      <td>-605.841980</td>\n",
              "    </tr>\n",
              "    <tr>\n",
              "      <td>1</td>\n",
              "      <td>2016-01-15 01:00:00</td>\n",
              "      <td>6.029369</td>\n",
              "      <td>9.968944</td>\n",
              "      <td>5.257781</td>\n",
              "      <td>42.701629</td>\n",
              "      <td>69.266198</td>\n",
              "      <td>10.462676</td>\n",
              "      <td>0.927452</td>\n",
              "      <td>16.634514</td>\n",
              "      <td>2.224930</td>\n",
              "      <td>...</td>\n",
              "      <td>13.992281</td>\n",
              "      <td>-505.503262</td>\n",
              "      <td>11.950531</td>\n",
              "      <td>-501.331529</td>\n",
              "      <td>10.039245</td>\n",
              "      <td>-500.169983</td>\n",
              "      <td>7.984757</td>\n",
              "      <td>-500.582168</td>\n",
              "      <td>13.998353</td>\n",
              "      <td>-599.787184</td>\n",
              "    </tr>\n",
              "    <tr>\n",
              "      <td>2</td>\n",
              "      <td>2016-01-15 02:00:00</td>\n",
              "      <td>6.055926</td>\n",
              "      <td>10.213995</td>\n",
              "      <td>5.383759</td>\n",
              "      <td>42.657501</td>\n",
              "      <td>68.116445</td>\n",
              "      <td>10.507046</td>\n",
              "      <td>0.953716</td>\n",
              "      <td>16.208849</td>\n",
              "      <td>2.257889</td>\n",
              "      <td>...</td>\n",
              "      <td>14.015015</td>\n",
              "      <td>-502.520901</td>\n",
              "      <td>11.912783</td>\n",
              "      <td>-501.133383</td>\n",
              "      <td>10.070913</td>\n",
              "      <td>-500.129135</td>\n",
              "      <td>8.013877</td>\n",
              "      <td>-500.517572</td>\n",
              "      <td>14.028663</td>\n",
              "      <td>-601.427363</td>\n",
              "    </tr>\n",
              "    <tr>\n",
              "      <td>3</td>\n",
              "      <td>2016-01-15 03:00:00</td>\n",
              "      <td>6.047977</td>\n",
              "      <td>9.977019</td>\n",
              "      <td>4.858634</td>\n",
              "      <td>42.689819</td>\n",
              "      <td>68.347543</td>\n",
              "      <td>10.422762</td>\n",
              "      <td>0.883763</td>\n",
              "      <td>16.532835</td>\n",
              "      <td>2.146849</td>\n",
              "      <td>...</td>\n",
              "      <td>14.036510</td>\n",
              "      <td>-500.857308</td>\n",
              "      <td>11.999550</td>\n",
              "      <td>-501.193686</td>\n",
              "      <td>9.970366</td>\n",
              "      <td>-499.201640</td>\n",
              "      <td>7.977324</td>\n",
              "      <td>-500.255908</td>\n",
              "      <td>14.005551</td>\n",
              "      <td>-599.996129</td>\n",
              "    </tr>\n",
              "    <tr>\n",
              "      <td>4</td>\n",
              "      <td>2016-01-15 04:00:00</td>\n",
              "      <td>6.148599</td>\n",
              "      <td>10.142511</td>\n",
              "      <td>4.939416</td>\n",
              "      <td>42.774141</td>\n",
              "      <td>66.927016</td>\n",
              "      <td>10.360302</td>\n",
              "      <td>0.792826</td>\n",
              "      <td>16.525686</td>\n",
              "      <td>2.055292</td>\n",
              "      <td>...</td>\n",
              "      <td>14.027298</td>\n",
              "      <td>-499.838632</td>\n",
              "      <td>11.953070</td>\n",
              "      <td>-501.053894</td>\n",
              "      <td>9.925709</td>\n",
              "      <td>-501.686727</td>\n",
              "      <td>7.894242</td>\n",
              "      <td>-500.356035</td>\n",
              "      <td>13.996647</td>\n",
              "      <td>-601.496691</td>\n",
              "    </tr>\n",
              "  </tbody>\n",
              "</table>\n",
              "<p>5 rows × 87 columns</p>\n",
              "</div>"
            ],
            "text/plain": [
              "                  date  final.output.concentrate_ag  \\\n",
              "0  2016-01-15 00:00:00                     6.055403   \n",
              "1  2016-01-15 01:00:00                     6.029369   \n",
              "2  2016-01-15 02:00:00                     6.055926   \n",
              "3  2016-01-15 03:00:00                     6.047977   \n",
              "4  2016-01-15 04:00:00                     6.148599   \n",
              "\n",
              "   final.output.concentrate_pb  final.output.concentrate_sol  \\\n",
              "0                     9.889648                      5.507324   \n",
              "1                     9.968944                      5.257781   \n",
              "2                    10.213995                      5.383759   \n",
              "3                     9.977019                      4.858634   \n",
              "4                    10.142511                      4.939416   \n",
              "\n",
              "   final.output.concentrate_au  final.output.recovery  final.output.tail_ag  \\\n",
              "0                    42.192020              70.541216             10.411962   \n",
              "1                    42.701629              69.266198             10.462676   \n",
              "2                    42.657501              68.116445             10.507046   \n",
              "3                    42.689819              68.347543             10.422762   \n",
              "4                    42.774141              66.927016             10.360302   \n",
              "\n",
              "   final.output.tail_pb  final.output.tail_sol  final.output.tail_au  ...  \\\n",
              "0              0.895447              16.904297              2.143149  ...   \n",
              "1              0.927452              16.634514              2.224930  ...   \n",
              "2              0.953716              16.208849              2.257889  ...   \n",
              "3              0.883763              16.532835              2.146849  ...   \n",
              "4              0.792826              16.525686              2.055292  ...   \n",
              "\n",
              "   secondary_cleaner.state.floatbank4_a_air  \\\n",
              "0                                 14.016835   \n",
              "1                                 13.992281   \n",
              "2                                 14.015015   \n",
              "3                                 14.036510   \n",
              "4                                 14.027298   \n",
              "\n",
              "   secondary_cleaner.state.floatbank4_a_level  \\\n",
              "0                                 -502.488007   \n",
              "1                                 -505.503262   \n",
              "2                                 -502.520901   \n",
              "3                                 -500.857308   \n",
              "4                                 -499.838632   \n",
              "\n",
              "   secondary_cleaner.state.floatbank4_b_air  \\\n",
              "0                                 12.099931   \n",
              "1                                 11.950531   \n",
              "2                                 11.912783   \n",
              "3                                 11.999550   \n",
              "4                                 11.953070   \n",
              "\n",
              "   secondary_cleaner.state.floatbank4_b_level  \\\n",
              "0                                 -504.715942   \n",
              "1                                 -501.331529   \n",
              "2                                 -501.133383   \n",
              "3                                 -501.193686   \n",
              "4                                 -501.053894   \n",
              "\n",
              "   secondary_cleaner.state.floatbank5_a_air  \\\n",
              "0                                  9.925633   \n",
              "1                                 10.039245   \n",
              "2                                 10.070913   \n",
              "3                                  9.970366   \n",
              "4                                  9.925709   \n",
              "\n",
              "   secondary_cleaner.state.floatbank5_a_level  \\\n",
              "0                                 -498.310211   \n",
              "1                                 -500.169983   \n",
              "2                                 -500.129135   \n",
              "3                                 -499.201640   \n",
              "4                                 -501.686727   \n",
              "\n",
              "   secondary_cleaner.state.floatbank5_b_air  \\\n",
              "0                                  8.079666   \n",
              "1                                  7.984757   \n",
              "2                                  8.013877   \n",
              "3                                  7.977324   \n",
              "4                                  7.894242   \n",
              "\n",
              "   secondary_cleaner.state.floatbank5_b_level  \\\n",
              "0                                 -500.470978   \n",
              "1                                 -500.582168   \n",
              "2                                 -500.517572   \n",
              "3                                 -500.255908   \n",
              "4                                 -500.356035   \n",
              "\n",
              "   secondary_cleaner.state.floatbank6_a_air  \\\n",
              "0                                 14.151341   \n",
              "1                                 13.998353   \n",
              "2                                 14.028663   \n",
              "3                                 14.005551   \n",
              "4                                 13.996647   \n",
              "\n",
              "   secondary_cleaner.state.floatbank6_a_level  \n",
              "0                                 -605.841980  \n",
              "1                                 -599.787184  \n",
              "2                                 -601.427363  \n",
              "3                                 -599.996129  \n",
              "4                                 -601.496691  \n",
              "\n",
              "[5 rows x 87 columns]"
            ]
          },
          "metadata": {
            "tags": []
          },
          "execution_count": 49
        }
      ]
    },
    {
      "cell_type": "code",
      "metadata": {
        "id": "KU4Q7t-1LabX"
      },
      "source": [
        "df_train['date'] = pd.to_datetime (df_train['date'], format = '%Y-%m-%d %H:%M:%S')"
      ],
      "execution_count": null,
      "outputs": []
    },
    {
      "cell_type": "code",
      "metadata": {
        "id": "_jQZYKtpLabY",
        "outputId": "9077c698-1437-416e-87f9-f3d18de19613"
      },
      "source": [
        "df_train.head(2)"
      ],
      "execution_count": null,
      "outputs": [
        {
          "output_type": "execute_result",
          "data": {
            "text/html": [
              "<div>\n",
              "<style scoped>\n",
              "    .dataframe tbody tr th:only-of-type {\n",
              "        vertical-align: middle;\n",
              "    }\n",
              "\n",
              "    .dataframe tbody tr th {\n",
              "        vertical-align: top;\n",
              "    }\n",
              "\n",
              "    .dataframe thead th {\n",
              "        text-align: right;\n",
              "    }\n",
              "</style>\n",
              "<table border=\"1\" class=\"dataframe\">\n",
              "  <thead>\n",
              "    <tr style=\"text-align: right;\">\n",
              "      <th></th>\n",
              "      <th>date</th>\n",
              "      <th>final.output.concentrate_ag</th>\n",
              "      <th>final.output.concentrate_pb</th>\n",
              "      <th>final.output.concentrate_sol</th>\n",
              "      <th>final.output.concentrate_au</th>\n",
              "      <th>final.output.recovery</th>\n",
              "      <th>final.output.tail_ag</th>\n",
              "      <th>final.output.tail_pb</th>\n",
              "      <th>final.output.tail_sol</th>\n",
              "      <th>final.output.tail_au</th>\n",
              "      <th>...</th>\n",
              "      <th>secondary_cleaner.state.floatbank4_a_air</th>\n",
              "      <th>secondary_cleaner.state.floatbank4_a_level</th>\n",
              "      <th>secondary_cleaner.state.floatbank4_b_air</th>\n",
              "      <th>secondary_cleaner.state.floatbank4_b_level</th>\n",
              "      <th>secondary_cleaner.state.floatbank5_a_air</th>\n",
              "      <th>secondary_cleaner.state.floatbank5_a_level</th>\n",
              "      <th>secondary_cleaner.state.floatbank5_b_air</th>\n",
              "      <th>secondary_cleaner.state.floatbank5_b_level</th>\n",
              "      <th>secondary_cleaner.state.floatbank6_a_air</th>\n",
              "      <th>secondary_cleaner.state.floatbank6_a_level</th>\n",
              "    </tr>\n",
              "  </thead>\n",
              "  <tbody>\n",
              "    <tr>\n",
              "      <td>0</td>\n",
              "      <td>2016-01-15 00:00:00</td>\n",
              "      <td>6.055403</td>\n",
              "      <td>9.889648</td>\n",
              "      <td>5.507324</td>\n",
              "      <td>42.192020</td>\n",
              "      <td>70.541216</td>\n",
              "      <td>10.411962</td>\n",
              "      <td>0.895447</td>\n",
              "      <td>16.904297</td>\n",
              "      <td>2.143149</td>\n",
              "      <td>...</td>\n",
              "      <td>14.016835</td>\n",
              "      <td>-502.488007</td>\n",
              "      <td>12.099931</td>\n",
              "      <td>-504.715942</td>\n",
              "      <td>9.925633</td>\n",
              "      <td>-498.310211</td>\n",
              "      <td>8.079666</td>\n",
              "      <td>-500.470978</td>\n",
              "      <td>14.151341</td>\n",
              "      <td>-605.841980</td>\n",
              "    </tr>\n",
              "    <tr>\n",
              "      <td>1</td>\n",
              "      <td>2016-01-15 01:00:00</td>\n",
              "      <td>6.029369</td>\n",
              "      <td>9.968944</td>\n",
              "      <td>5.257781</td>\n",
              "      <td>42.701629</td>\n",
              "      <td>69.266198</td>\n",
              "      <td>10.462676</td>\n",
              "      <td>0.927452</td>\n",
              "      <td>16.634514</td>\n",
              "      <td>2.224930</td>\n",
              "      <td>...</td>\n",
              "      <td>13.992281</td>\n",
              "      <td>-505.503262</td>\n",
              "      <td>11.950531</td>\n",
              "      <td>-501.331529</td>\n",
              "      <td>10.039245</td>\n",
              "      <td>-500.169983</td>\n",
              "      <td>7.984757</td>\n",
              "      <td>-500.582168</td>\n",
              "      <td>13.998353</td>\n",
              "      <td>-599.787184</td>\n",
              "    </tr>\n",
              "  </tbody>\n",
              "</table>\n",
              "<p>2 rows × 87 columns</p>\n",
              "</div>"
            ],
            "text/plain": [
              "                 date  final.output.concentrate_ag  \\\n",
              "0 2016-01-15 00:00:00                     6.055403   \n",
              "1 2016-01-15 01:00:00                     6.029369   \n",
              "\n",
              "   final.output.concentrate_pb  final.output.concentrate_sol  \\\n",
              "0                     9.889648                      5.507324   \n",
              "1                     9.968944                      5.257781   \n",
              "\n",
              "   final.output.concentrate_au  final.output.recovery  final.output.tail_ag  \\\n",
              "0                    42.192020              70.541216             10.411962   \n",
              "1                    42.701629              69.266198             10.462676   \n",
              "\n",
              "   final.output.tail_pb  final.output.tail_sol  final.output.tail_au  ...  \\\n",
              "0              0.895447              16.904297              2.143149  ...   \n",
              "1              0.927452              16.634514              2.224930  ...   \n",
              "\n",
              "   secondary_cleaner.state.floatbank4_a_air  \\\n",
              "0                                 14.016835   \n",
              "1                                 13.992281   \n",
              "\n",
              "   secondary_cleaner.state.floatbank4_a_level  \\\n",
              "0                                 -502.488007   \n",
              "1                                 -505.503262   \n",
              "\n",
              "   secondary_cleaner.state.floatbank4_b_air  \\\n",
              "0                                 12.099931   \n",
              "1                                 11.950531   \n",
              "\n",
              "   secondary_cleaner.state.floatbank4_b_level  \\\n",
              "0                                 -504.715942   \n",
              "1                                 -501.331529   \n",
              "\n",
              "   secondary_cleaner.state.floatbank5_a_air  \\\n",
              "0                                  9.925633   \n",
              "1                                 10.039245   \n",
              "\n",
              "   secondary_cleaner.state.floatbank5_a_level  \\\n",
              "0                                 -498.310211   \n",
              "1                                 -500.169983   \n",
              "\n",
              "   secondary_cleaner.state.floatbank5_b_air  \\\n",
              "0                                  8.079666   \n",
              "1                                  7.984757   \n",
              "\n",
              "   secondary_cleaner.state.floatbank5_b_level  \\\n",
              "0                                 -500.470978   \n",
              "1                                 -500.582168   \n",
              "\n",
              "   secondary_cleaner.state.floatbank6_a_air  \\\n",
              "0                                 14.151341   \n",
              "1                                 13.998353   \n",
              "\n",
              "   secondary_cleaner.state.floatbank6_a_level  \n",
              "0                                 -605.841980  \n",
              "1                                 -599.787184  \n",
              "\n",
              "[2 rows x 87 columns]"
            ]
          },
          "metadata": {
            "tags": []
          },
          "execution_count": 52
        }
      ]
    },
    {
      "cell_type": "markdown",
      "metadata": {
        "id": "NP2uoHopLabY"
      },
      "source": [
        "Преобразование даты прошло успешно, посмотрим пока на другие выборки"
      ]
    },
    {
      "cell_type": "code",
      "metadata": {
        "id": "5_L-VXXKLabY"
      },
      "source": [
        "df_test['date'] = pd.to_datetime (df_test['date'], format = '%Y-%m-%d %H:%M:%S')"
      ],
      "execution_count": null,
      "outputs": []
    },
    {
      "cell_type": "markdown",
      "metadata": {
        "id": "nV72oNYKLabY"
      },
      "source": [
        "Столбцов стало меньше, посмотрим каких нет (помимо целевого признака)"
      ]
    },
    {
      "cell_type": "code",
      "metadata": {
        "id": "n6j-BrS0LabZ",
        "outputId": "9ebee41c-f6ce-4d65-b0f6-6dd3aa36b590"
      },
      "source": [
        "columns_1 = df_train.columns\n",
        "columns_2 = df_test.columns\n",
        "print (len (columns_1[~columns_1.isin(columns_2)]))\n",
        "print (columns_1[~columns_1.isin(columns_2)])"
      ],
      "execution_count": null,
      "outputs": [
        {
          "output_type": "stream",
          "text": [
            "34\n",
            "Index(['final.output.concentrate_ag', 'final.output.concentrate_pb',\n",
            "       'final.output.concentrate_sol', 'final.output.concentrate_au',\n",
            "       'final.output.recovery', 'final.output.tail_ag', 'final.output.tail_pb',\n",
            "       'final.output.tail_sol', 'final.output.tail_au',\n",
            "       'primary_cleaner.output.concentrate_ag',\n",
            "       'primary_cleaner.output.concentrate_pb',\n",
            "       'primary_cleaner.output.concentrate_sol',\n",
            "       'primary_cleaner.output.concentrate_au',\n",
            "       'primary_cleaner.output.tail_ag', 'primary_cleaner.output.tail_pb',\n",
            "       'primary_cleaner.output.tail_sol', 'primary_cleaner.output.tail_au',\n",
            "       'rougher.calculation.sulfate_to_au_concentrate',\n",
            "       'rougher.calculation.floatbank10_sulfate_to_au_feed',\n",
            "       'rougher.calculation.floatbank11_sulfate_to_au_feed',\n",
            "       'rougher.calculation.au_pb_ratio', 'rougher.output.concentrate_ag',\n",
            "       'rougher.output.concentrate_pb', 'rougher.output.concentrate_sol',\n",
            "       'rougher.output.concentrate_au', 'rougher.output.recovery',\n",
            "       'rougher.output.tail_ag', 'rougher.output.tail_pb',\n",
            "       'rougher.output.tail_sol', 'rougher.output.tail_au',\n",
            "       'secondary_cleaner.output.tail_ag', 'secondary_cleaner.output.tail_pb',\n",
            "       'secondary_cleaner.output.tail_sol',\n",
            "       'secondary_cleaner.output.tail_au'],\n",
            "      dtype='object')\n"
          ],
          "name": "stdout"
        }
      ]
    },
    {
      "cell_type": "markdown",
      "metadata": {
        "id": "ACkAc46ELabZ"
      },
      "source": [
        "Видимо, пропали все признаки, содержащие часть output. Посмотрим теперь на полный датасет. "
      ]
    },
    {
      "cell_type": "code",
      "metadata": {
        "id": "FyI7YKTrLabZ",
        "outputId": "ad5b03d7-1fd2-424c-c436-93fe090fe6a3"
      },
      "source": [
        "df_full.head()"
      ],
      "execution_count": null,
      "outputs": [
        {
          "output_type": "execute_result",
          "data": {
            "text/html": [
              "<div>\n",
              "<style scoped>\n",
              "    .dataframe tbody tr th:only-of-type {\n",
              "        vertical-align: middle;\n",
              "    }\n",
              "\n",
              "    .dataframe tbody tr th {\n",
              "        vertical-align: top;\n",
              "    }\n",
              "\n",
              "    .dataframe thead th {\n",
              "        text-align: right;\n",
              "    }\n",
              "</style>\n",
              "<table border=\"1\" class=\"dataframe\">\n",
              "  <thead>\n",
              "    <tr style=\"text-align: right;\">\n",
              "      <th></th>\n",
              "      <th>date</th>\n",
              "      <th>final.output.concentrate_ag</th>\n",
              "      <th>final.output.concentrate_pb</th>\n",
              "      <th>final.output.concentrate_sol</th>\n",
              "      <th>final.output.concentrate_au</th>\n",
              "      <th>final.output.recovery</th>\n",
              "      <th>final.output.tail_ag</th>\n",
              "      <th>final.output.tail_pb</th>\n",
              "      <th>final.output.tail_sol</th>\n",
              "      <th>final.output.tail_au</th>\n",
              "      <th>...</th>\n",
              "      <th>secondary_cleaner.state.floatbank4_a_air</th>\n",
              "      <th>secondary_cleaner.state.floatbank4_a_level</th>\n",
              "      <th>secondary_cleaner.state.floatbank4_b_air</th>\n",
              "      <th>secondary_cleaner.state.floatbank4_b_level</th>\n",
              "      <th>secondary_cleaner.state.floatbank5_a_air</th>\n",
              "      <th>secondary_cleaner.state.floatbank5_a_level</th>\n",
              "      <th>secondary_cleaner.state.floatbank5_b_air</th>\n",
              "      <th>secondary_cleaner.state.floatbank5_b_level</th>\n",
              "      <th>secondary_cleaner.state.floatbank6_a_air</th>\n",
              "      <th>secondary_cleaner.state.floatbank6_a_level</th>\n",
              "    </tr>\n",
              "  </thead>\n",
              "  <tbody>\n",
              "    <tr>\n",
              "      <td>0</td>\n",
              "      <td>2016-01-15 00:00:00</td>\n",
              "      <td>6.055403</td>\n",
              "      <td>9.889648</td>\n",
              "      <td>5.507324</td>\n",
              "      <td>42.192020</td>\n",
              "      <td>70.541216</td>\n",
              "      <td>10.411962</td>\n",
              "      <td>0.895447</td>\n",
              "      <td>16.904297</td>\n",
              "      <td>2.143149</td>\n",
              "      <td>...</td>\n",
              "      <td>14.016835</td>\n",
              "      <td>-502.488007</td>\n",
              "      <td>12.099931</td>\n",
              "      <td>-504.715942</td>\n",
              "      <td>9.925633</td>\n",
              "      <td>-498.310211</td>\n",
              "      <td>8.079666</td>\n",
              "      <td>-500.470978</td>\n",
              "      <td>14.151341</td>\n",
              "      <td>-605.841980</td>\n",
              "    </tr>\n",
              "    <tr>\n",
              "      <td>1</td>\n",
              "      <td>2016-01-15 01:00:00</td>\n",
              "      <td>6.029369</td>\n",
              "      <td>9.968944</td>\n",
              "      <td>5.257781</td>\n",
              "      <td>42.701629</td>\n",
              "      <td>69.266198</td>\n",
              "      <td>10.462676</td>\n",
              "      <td>0.927452</td>\n",
              "      <td>16.634514</td>\n",
              "      <td>2.224930</td>\n",
              "      <td>...</td>\n",
              "      <td>13.992281</td>\n",
              "      <td>-505.503262</td>\n",
              "      <td>11.950531</td>\n",
              "      <td>-501.331529</td>\n",
              "      <td>10.039245</td>\n",
              "      <td>-500.169983</td>\n",
              "      <td>7.984757</td>\n",
              "      <td>-500.582168</td>\n",
              "      <td>13.998353</td>\n",
              "      <td>-599.787184</td>\n",
              "    </tr>\n",
              "    <tr>\n",
              "      <td>2</td>\n",
              "      <td>2016-01-15 02:00:00</td>\n",
              "      <td>6.055926</td>\n",
              "      <td>10.213995</td>\n",
              "      <td>5.383759</td>\n",
              "      <td>42.657501</td>\n",
              "      <td>68.116445</td>\n",
              "      <td>10.507046</td>\n",
              "      <td>0.953716</td>\n",
              "      <td>16.208849</td>\n",
              "      <td>2.257889</td>\n",
              "      <td>...</td>\n",
              "      <td>14.015015</td>\n",
              "      <td>-502.520901</td>\n",
              "      <td>11.912783</td>\n",
              "      <td>-501.133383</td>\n",
              "      <td>10.070913</td>\n",
              "      <td>-500.129135</td>\n",
              "      <td>8.013877</td>\n",
              "      <td>-500.517572</td>\n",
              "      <td>14.028663</td>\n",
              "      <td>-601.427363</td>\n",
              "    </tr>\n",
              "    <tr>\n",
              "      <td>3</td>\n",
              "      <td>2016-01-15 03:00:00</td>\n",
              "      <td>6.047977</td>\n",
              "      <td>9.977019</td>\n",
              "      <td>4.858634</td>\n",
              "      <td>42.689819</td>\n",
              "      <td>68.347543</td>\n",
              "      <td>10.422762</td>\n",
              "      <td>0.883763</td>\n",
              "      <td>16.532835</td>\n",
              "      <td>2.146849</td>\n",
              "      <td>...</td>\n",
              "      <td>14.036510</td>\n",
              "      <td>-500.857308</td>\n",
              "      <td>11.999550</td>\n",
              "      <td>-501.193686</td>\n",
              "      <td>9.970366</td>\n",
              "      <td>-499.201640</td>\n",
              "      <td>7.977324</td>\n",
              "      <td>-500.255908</td>\n",
              "      <td>14.005551</td>\n",
              "      <td>-599.996129</td>\n",
              "    </tr>\n",
              "    <tr>\n",
              "      <td>4</td>\n",
              "      <td>2016-01-15 04:00:00</td>\n",
              "      <td>6.148599</td>\n",
              "      <td>10.142511</td>\n",
              "      <td>4.939416</td>\n",
              "      <td>42.774141</td>\n",
              "      <td>66.927016</td>\n",
              "      <td>10.360302</td>\n",
              "      <td>0.792826</td>\n",
              "      <td>16.525686</td>\n",
              "      <td>2.055292</td>\n",
              "      <td>...</td>\n",
              "      <td>14.027298</td>\n",
              "      <td>-499.838632</td>\n",
              "      <td>11.953070</td>\n",
              "      <td>-501.053894</td>\n",
              "      <td>9.925709</td>\n",
              "      <td>-501.686727</td>\n",
              "      <td>7.894242</td>\n",
              "      <td>-500.356035</td>\n",
              "      <td>13.996647</td>\n",
              "      <td>-601.496691</td>\n",
              "    </tr>\n",
              "  </tbody>\n",
              "</table>\n",
              "<p>5 rows × 87 columns</p>\n",
              "</div>"
            ],
            "text/plain": [
              "                  date  final.output.concentrate_ag  \\\n",
              "0  2016-01-15 00:00:00                     6.055403   \n",
              "1  2016-01-15 01:00:00                     6.029369   \n",
              "2  2016-01-15 02:00:00                     6.055926   \n",
              "3  2016-01-15 03:00:00                     6.047977   \n",
              "4  2016-01-15 04:00:00                     6.148599   \n",
              "\n",
              "   final.output.concentrate_pb  final.output.concentrate_sol  \\\n",
              "0                     9.889648                      5.507324   \n",
              "1                     9.968944                      5.257781   \n",
              "2                    10.213995                      5.383759   \n",
              "3                     9.977019                      4.858634   \n",
              "4                    10.142511                      4.939416   \n",
              "\n",
              "   final.output.concentrate_au  final.output.recovery  final.output.tail_ag  \\\n",
              "0                    42.192020              70.541216             10.411962   \n",
              "1                    42.701629              69.266198             10.462676   \n",
              "2                    42.657501              68.116445             10.507046   \n",
              "3                    42.689819              68.347543             10.422762   \n",
              "4                    42.774141              66.927016             10.360302   \n",
              "\n",
              "   final.output.tail_pb  final.output.tail_sol  final.output.tail_au  ...  \\\n",
              "0              0.895447              16.904297              2.143149  ...   \n",
              "1              0.927452              16.634514              2.224930  ...   \n",
              "2              0.953716              16.208849              2.257889  ...   \n",
              "3              0.883763              16.532835              2.146849  ...   \n",
              "4              0.792826              16.525686              2.055292  ...   \n",
              "\n",
              "   secondary_cleaner.state.floatbank4_a_air  \\\n",
              "0                                 14.016835   \n",
              "1                                 13.992281   \n",
              "2                                 14.015015   \n",
              "3                                 14.036510   \n",
              "4                                 14.027298   \n",
              "\n",
              "   secondary_cleaner.state.floatbank4_a_level  \\\n",
              "0                                 -502.488007   \n",
              "1                                 -505.503262   \n",
              "2                                 -502.520901   \n",
              "3                                 -500.857308   \n",
              "4                                 -499.838632   \n",
              "\n",
              "   secondary_cleaner.state.floatbank4_b_air  \\\n",
              "0                                 12.099931   \n",
              "1                                 11.950531   \n",
              "2                                 11.912783   \n",
              "3                                 11.999550   \n",
              "4                                 11.953070   \n",
              "\n",
              "   secondary_cleaner.state.floatbank4_b_level  \\\n",
              "0                                 -504.715942   \n",
              "1                                 -501.331529   \n",
              "2                                 -501.133383   \n",
              "3                                 -501.193686   \n",
              "4                                 -501.053894   \n",
              "\n",
              "   secondary_cleaner.state.floatbank5_a_air  \\\n",
              "0                                  9.925633   \n",
              "1                                 10.039245   \n",
              "2                                 10.070913   \n",
              "3                                  9.970366   \n",
              "4                                  9.925709   \n",
              "\n",
              "   secondary_cleaner.state.floatbank5_a_level  \\\n",
              "0                                 -498.310211   \n",
              "1                                 -500.169983   \n",
              "2                                 -500.129135   \n",
              "3                                 -499.201640   \n",
              "4                                 -501.686727   \n",
              "\n",
              "   secondary_cleaner.state.floatbank5_b_air  \\\n",
              "0                                  8.079666   \n",
              "1                                  7.984757   \n",
              "2                                  8.013877   \n",
              "3                                  7.977324   \n",
              "4                                  7.894242   \n",
              "\n",
              "   secondary_cleaner.state.floatbank5_b_level  \\\n",
              "0                                 -500.470978   \n",
              "1                                 -500.582168   \n",
              "2                                 -500.517572   \n",
              "3                                 -500.255908   \n",
              "4                                 -500.356035   \n",
              "\n",
              "   secondary_cleaner.state.floatbank6_a_air  \\\n",
              "0                                 14.151341   \n",
              "1                                 13.998353   \n",
              "2                                 14.028663   \n",
              "3                                 14.005551   \n",
              "4                                 13.996647   \n",
              "\n",
              "   secondary_cleaner.state.floatbank6_a_level  \n",
              "0                                 -605.841980  \n",
              "1                                 -599.787184  \n",
              "2                                 -601.427363  \n",
              "3                                 -599.996129  \n",
              "4                                 -601.496691  \n",
              "\n",
              "[5 rows x 87 columns]"
            ]
          },
          "metadata": {
            "tags": []
          },
          "execution_count": 56
        }
      ]
    },
    {
      "cell_type": "code",
      "metadata": {
        "id": "QD421XxvLaba",
        "outputId": "22f2a970-05f4-4642-9362-54dbec3751c5"
      },
      "source": [
        "df_full.info()"
      ],
      "execution_count": null,
      "outputs": [
        {
          "output_type": "stream",
          "text": [
            "<class 'pandas.core.frame.DataFrame'>\n",
            "RangeIndex: 22716 entries, 0 to 22715\n",
            "Data columns (total 87 columns):\n",
            "date                                                  22716 non-null object\n",
            "final.output.concentrate_ag                           22627 non-null float64\n",
            "final.output.concentrate_pb                           22629 non-null float64\n",
            "final.output.concentrate_sol                          22331 non-null float64\n",
            "final.output.concentrate_au                           22630 non-null float64\n",
            "final.output.recovery                                 20753 non-null float64\n",
            "final.output.tail_ag                                  22633 non-null float64\n",
            "final.output.tail_pb                                  22516 non-null float64\n",
            "final.output.tail_sol                                 22445 non-null float64\n",
            "final.output.tail_au                                  22635 non-null float64\n",
            "primary_cleaner.input.sulfate                         21107 non-null float64\n",
            "primary_cleaner.input.depressant                      21170 non-null float64\n",
            "primary_cleaner.input.feed_size                       22716 non-null float64\n",
            "primary_cleaner.input.xanthate                        21565 non-null float64\n",
            "primary_cleaner.output.concentrate_ag                 22618 non-null float64\n",
            "primary_cleaner.output.concentrate_pb                 22268 non-null float64\n",
            "primary_cleaner.output.concentrate_sol                21918 non-null float64\n",
            "primary_cleaner.output.concentrate_au                 22618 non-null float64\n",
            "primary_cleaner.output.tail_ag                        22614 non-null float64\n",
            "primary_cleaner.output.tail_pb                        22594 non-null float64\n",
            "primary_cleaner.output.tail_sol                       22365 non-null float64\n",
            "primary_cleaner.output.tail_au                        22617 non-null float64\n",
            "primary_cleaner.state.floatbank8_a_air                22660 non-null float64\n",
            "primary_cleaner.state.floatbank8_a_level              22667 non-null float64\n",
            "primary_cleaner.state.floatbank8_b_air                22660 non-null float64\n",
            "primary_cleaner.state.floatbank8_b_level              22673 non-null float64\n",
            "primary_cleaner.state.floatbank8_c_air                22662 non-null float64\n",
            "primary_cleaner.state.floatbank8_c_level              22673 non-null float64\n",
            "primary_cleaner.state.floatbank8_d_air                22661 non-null float64\n",
            "primary_cleaner.state.floatbank8_d_level              22673 non-null float64\n",
            "rougher.calculation.sulfate_to_au_concentrate         22672 non-null float64\n",
            "rougher.calculation.floatbank10_sulfate_to_au_feed    22672 non-null float64\n",
            "rougher.calculation.floatbank11_sulfate_to_au_feed    22672 non-null float64\n",
            "rougher.calculation.au_pb_ratio                       21089 non-null float64\n",
            "rougher.input.feed_ag                                 22618 non-null float64\n",
            "rougher.input.feed_pb                                 22472 non-null float64\n",
            "rougher.input.feed_rate                               22163 non-null float64\n",
            "rougher.input.feed_size                               22277 non-null float64\n",
            "rougher.input.feed_sol                                22357 non-null float64\n",
            "rougher.input.feed_au                                 22617 non-null float64\n",
            "rougher.input.floatbank10_sulfate                     21415 non-null float64\n",
            "rougher.input.floatbank10_xanthate                    22247 non-null float64\n",
            "rougher.input.floatbank11_sulfate                     22038 non-null float64\n",
            "rougher.input.floatbank11_xanthate                    20459 non-null float64\n",
            "rougher.output.concentrate_ag                         22618 non-null float64\n",
            "rougher.output.concentrate_pb                         22618 non-null float64\n",
            "rougher.output.concentrate_sol                        22526 non-null float64\n",
            "rougher.output.concentrate_au                         22618 non-null float64\n",
            "rougher.output.recovery                               19597 non-null float64\n",
            "rougher.output.tail_ag                                19979 non-null float64\n",
            "rougher.output.tail_pb                                22618 non-null float64\n",
            "rougher.output.tail_sol                               19980 non-null float64\n",
            "rougher.output.tail_au                                19980 non-null float64\n",
            "rougher.state.floatbank10_a_air                       22646 non-null float64\n",
            "rougher.state.floatbank10_a_level                     22647 non-null float64\n",
            "rougher.state.floatbank10_b_air                       22646 non-null float64\n",
            "rougher.state.floatbank10_b_level                     22647 non-null float64\n",
            "rougher.state.floatbank10_c_air                       22646 non-null float64\n",
            "rougher.state.floatbank10_c_level                     22654 non-null float64\n",
            "rougher.state.floatbank10_d_air                       22641 non-null float64\n",
            "rougher.state.floatbank10_d_level                     22649 non-null float64\n",
            "rougher.state.floatbank10_e_air                       22096 non-null float64\n",
            "rougher.state.floatbank10_e_level                     22649 non-null float64\n",
            "rougher.state.floatbank10_f_air                       22641 non-null float64\n",
            "rougher.state.floatbank10_f_level                     22642 non-null float64\n",
            "secondary_cleaner.output.tail_ag                      22616 non-null float64\n",
            "secondary_cleaner.output.tail_pb                      22600 non-null float64\n",
            "secondary_cleaner.output.tail_sol                     20501 non-null float64\n",
            "secondary_cleaner.output.tail_au                      22618 non-null float64\n",
            "secondary_cleaner.state.floatbank2_a_air              22333 non-null float64\n",
            "secondary_cleaner.state.floatbank2_a_level            22591 non-null float64\n",
            "secondary_cleaner.state.floatbank2_b_air              22538 non-null float64\n",
            "secondary_cleaner.state.floatbank2_b_level            22588 non-null float64\n",
            "secondary_cleaner.state.floatbank3_a_air              22585 non-null float64\n",
            "secondary_cleaner.state.floatbank3_a_level            22587 non-null float64\n",
            "secondary_cleaner.state.floatbank3_b_air              22592 non-null float64\n",
            "secondary_cleaner.state.floatbank3_b_level            22590 non-null float64\n",
            "secondary_cleaner.state.floatbank4_a_air              22571 non-null float64\n",
            "secondary_cleaner.state.floatbank4_a_level            22587 non-null float64\n",
            "secondary_cleaner.state.floatbank4_b_air              22608 non-null float64\n",
            "secondary_cleaner.state.floatbank4_b_level            22607 non-null float64\n",
            "secondary_cleaner.state.floatbank5_a_air              22615 non-null float64\n",
            "secondary_cleaner.state.floatbank5_a_level            22615 non-null float64\n",
            "secondary_cleaner.state.floatbank5_b_air              22615 non-null float64\n",
            "secondary_cleaner.state.floatbank5_b_level            22616 non-null float64\n",
            "secondary_cleaner.state.floatbank6_a_air              22597 non-null float64\n",
            "secondary_cleaner.state.floatbank6_a_level            22615 non-null float64\n",
            "dtypes: float64(86), object(1)\n",
            "memory usage: 15.1+ MB\n"
          ],
          "name": "stdout"
        }
      ]
    },
    {
      "cell_type": "code",
      "metadata": {
        "id": "kFwL2m7bLaba"
      },
      "source": [
        "df_full['date'] = pd.to_datetime (df_full['date'], format = '%Y-%m-%d %H:%M:%S')"
      ],
      "execution_count": null,
      "outputs": []
    },
    {
      "cell_type": "markdown",
      "metadata": {
        "id": "OZKQb6UnLaba"
      },
      "source": [
        "Даже в полном датасете есть пропуски в целевом признаке. Запомним. "
      ]
    },
    {
      "cell_type": "markdown",
      "metadata": {
        "id": "vBTVUZfRLaba"
      },
      "source": [
        "### Проверка правильности расчета эффективности обогащения"
      ]
    },
    {
      "cell_type": "markdown",
      "metadata": {
        "id": "wF4QsrXSLabb"
      },
      "source": [
        "Ранее было обнаружены пропуски в целевых значениях, посмотрим на их количество."
      ]
    },
    {
      "cell_type": "code",
      "metadata": {
        "id": "D_8aicCuLabb",
        "outputId": "e124a723-0b94-41ae-b45c-898dd1cf175e"
      },
      "source": [
        "df_train.shape"
      ],
      "execution_count": null,
      "outputs": [
        {
          "output_type": "execute_result",
          "data": {
            "text/plain": [
              "(16860, 87)"
            ]
          },
          "metadata": {
            "tags": []
          },
          "execution_count": 59
        }
      ]
    },
    {
      "cell_type": "code",
      "metadata": {
        "id": "axgs8uN6Labb",
        "outputId": "19024ba6-8b13-4496-a593-4669528a89f1"
      },
      "source": [
        "df_train['final.output.recovery'].isna().sum()"
      ],
      "execution_count": null,
      "outputs": [
        {
          "output_type": "execute_result",
          "data": {
            "text/plain": [
              "1521"
            ]
          },
          "metadata": {
            "tags": []
          },
          "execution_count": 60
        }
      ]
    },
    {
      "cell_type": "markdown",
      "metadata": {
        "id": "wR55xQuxLabb"
      },
      "source": [
        "Почти 10% пропусков. Такая потеря, конечно, обидная, но придется пойти на эту жертву. Удалю строки, где есть пропуски целевых значений."
      ]
    },
    {
      "cell_type": "code",
      "metadata": {
        "id": "KgVs9sidLabb"
      },
      "source": [
        "df_train.dropna(subset = ['final.output.recovery'], inplace = True)"
      ],
      "execution_count": null,
      "outputs": []
    },
    {
      "cell_type": "code",
      "metadata": {
        "id": "VjeySvFOLabc",
        "outputId": "0f081c59-8e3d-47d3-d5aa-eac73fbe5141"
      },
      "source": [
        "df_train.shape #проверка удаления"
      ],
      "execution_count": null,
      "outputs": [
        {
          "output_type": "execute_result",
          "data": {
            "text/plain": [
              "(15339, 87)"
            ]
          },
          "metadata": {
            "tags": []
          },
          "execution_count": 62
        }
      ]
    },
    {
      "cell_type": "markdown",
      "metadata": {
        "id": "Ggc64sa6Labc"
      },
      "source": [
        "Проверим пропуски в строках, нужных для расчета. "
      ]
    },
    {
      "cell_type": "code",
      "metadata": {
        "id": "OpXgaU0zLabc",
        "outputId": "a0339ab6-0280-45d8-a144-2cf5ab24b629"
      },
      "source": [
        "print ('Пропуски в концентрате:', df_train['rougher.output.concentrate_au'].isna().sum())\n",
        "print ('Пропуски в подаче:', df_train['rougher.input.feed_au'].isna().sum())\n",
        "print ('Пропуски в хвостах:', df_train['rougher.output.tail_au'].isna().sum())"
      ],
      "execution_count": null,
      "outputs": [
        {
          "output_type": "stream",
          "text": [
            "Пропуски в концентрате: 0\n",
            "Пропуски в подаче: 0\n",
            "Пропуски в хвостах: 966\n"
          ],
          "name": "stdout"
        }
      ]
    },
    {
      "cell_type": "markdown",
      "metadata": {
        "id": "PGE6qEnuLabc"
      },
      "source": [
        "По условию задачи соседние строки близки по значению, поэтому заполню пропуски соседними значениями в Хвостах. "
      ]
    },
    {
      "cell_type": "code",
      "metadata": {
        "id": "QXTFnb55Labd"
      },
      "source": [
        "df_train['rougher.output.tail_au'] = df_train['rougher.output.tail_au'].fillna(method='ffill')"
      ],
      "execution_count": null,
      "outputs": []
    },
    {
      "cell_type": "code",
      "metadata": {
        "id": "vlRArHCpLabd",
        "outputId": "22e40bb6-c89b-43df-bc11-2e30ac3d4726"
      },
      "source": [
        "print ('Пропуски в хвостах:', df_train['rougher.output.tail_au'].isna().sum())"
      ],
      "execution_count": null,
      "outputs": [
        {
          "output_type": "stream",
          "text": [
            "Пропуски в хвостах: 0\n"
          ],
          "name": "stdout"
        }
      ]
    },
    {
      "cell_type": "markdown",
      "metadata": {
        "id": "xdbO51f8Labd"
      },
      "source": [
        "Проверка (расчет) эффективности обогощения. "
      ]
    },
    {
      "cell_type": "markdown",
      "metadata": {
        "id": "j8y6bze9uKDf"
      },
      "source": [
        "Формула для расчета эффективности обогощения выглядит так. \n",
        "Введем для расчета коэффициенты, как в формуле, и проверим правильность данных в файле. \n",
        "\n",
        "**recovery = (C * (F - T)) / (F * (C - T)) * 100**\n"
      ]
    },
    {
      "cell_type": "code",
      "metadata": {
        "id": "30KR8J8iLabn",
        "outputId": "207ea9a9-8db9-4b8c-8949-e6983fad5fe0"
      },
      "source": [
        "C = df_train['rougher.output.concentrate_au']\n",
        "F = df_train['rougher.input.feed_au']\n",
        "T = df_train['rougher.output.tail_au']\n",
        "\n",
        "recovery_t =df_train['rougher.output.recovery']\n",
        "\n",
        "recovery = (C * (F - T)) / (F * (C - T)) * 100\n",
        "\n",
        "# заменяем полученные в наборе бесконечности на ноль\n",
        "recovery = recovery.replace([np.inf, -np.inf], 0)\n",
        "\n",
        "# считаем среднюю абсолютную ошибку между величинами\n",
        "MAE = (abs(recovery - recovery_t)).sum() / len (recovery)\n",
        "MAE"
      ],
      "execution_count": null,
      "outputs": [
        {
          "output_type": "execute_result",
          "data": {
            "text/plain": [
              "8.833996145407206e-15"
            ]
          },
          "metadata": {
            "tags": []
          },
          "execution_count": 44
        }
      ]
    },
    {
      "cell_type": "markdown",
      "metadata": {
        "id": "gs6iZKpxLabn"
      },
      "source": [
        "### Признаки недоступные в тестовой выборке"
      ]
    },
    {
      "cell_type": "code",
      "metadata": {
        "id": "_AQGx74nLabo",
        "outputId": "4c02cc9d-73c4-40ac-9ddb-36f683efdaae"
      },
      "source": [
        "columns_1 = df_train.columns\n",
        "columns_2 = df_test.columns\n",
        "print (columns_1[~columns_1.isin(columns_2)])"
      ],
      "execution_count": null,
      "outputs": [
        {
          "output_type": "stream",
          "text": [
            "Index(['final.output.concentrate_ag', 'final.output.concentrate_pb',\n",
            "       'final.output.concentrate_sol', 'final.output.concentrate_au',\n",
            "       'final.output.recovery', 'final.output.tail_ag', 'final.output.tail_pb',\n",
            "       'final.output.tail_sol', 'final.output.tail_au',\n",
            "       'primary_cleaner.output.concentrate_ag',\n",
            "       'primary_cleaner.output.concentrate_pb',\n",
            "       'primary_cleaner.output.concentrate_sol',\n",
            "       'primary_cleaner.output.concentrate_au',\n",
            "       'primary_cleaner.output.tail_ag', 'primary_cleaner.output.tail_pb',\n",
            "       'primary_cleaner.output.tail_sol', 'primary_cleaner.output.tail_au',\n",
            "       'rougher.calculation.sulfate_to_au_concentrate',\n",
            "       'rougher.calculation.floatbank10_sulfate_to_au_feed',\n",
            "       'rougher.calculation.floatbank11_sulfate_to_au_feed',\n",
            "       'rougher.calculation.au_pb_ratio', 'rougher.output.concentrate_ag',\n",
            "       'rougher.output.concentrate_pb', 'rougher.output.concentrate_sol',\n",
            "       'rougher.output.concentrate_au', 'rougher.output.recovery',\n",
            "       'rougher.output.tail_ag', 'rougher.output.tail_pb',\n",
            "       'rougher.output.tail_sol', 'rougher.output.tail_au',\n",
            "       'secondary_cleaner.output.tail_ag', 'secondary_cleaner.output.tail_pb',\n",
            "       'secondary_cleaner.output.tail_sol', 'secondary_cleaner.output.tail_au',\n",
            "       'final.output.recovery.check'],\n",
            "      dtype='object')\n"
          ],
          "name": "stdout"
        }
      ]
    },
    {
      "cell_type": "markdown",
      "metadata": {
        "id": "SDcQWNSrLabo"
      },
      "source": [
        "Отсутствуют все выходные значения. Конечно, нет целевого признака - rougher.output.recovery. Но нет так же и тех, по которым показатель восстановления золота из рубы считался на предыдущем шаге. Есть только подача - input.feed_au. Значит задача моделей будет по косвенным признакам определить степень восстановления."
      ]
    },
    {
      "cell_type": "markdown",
      "metadata": {
        "id": "Bniw9gzeLabo"
      },
      "source": [
        "### Предобработка данных"
      ]
    },
    {
      "cell_type": "code",
      "metadata": {
        "id": "lp0laLWdLabo",
        "outputId": "74f17510-32af-4858-bec3-02b808a78659"
      },
      "source": [
        "df_train.shape"
      ],
      "execution_count": null,
      "outputs": [
        {
          "output_type": "execute_result",
          "data": {
            "text/plain": [
              "(15166, 88)"
            ]
          },
          "metadata": {
            "tags": []
          },
          "execution_count": 45
        }
      ]
    },
    {
      "cell_type": "markdown",
      "metadata": {
        "id": "MwaifZ4VLabp"
      },
      "source": [
        "Т.к. я подчистил немного выборки, заполню пропуски по ближайшим значенями и пойду дальше. "
      ]
    },
    {
      "cell_type": "code",
      "metadata": {
        "id": "-NnXPnipLabp"
      },
      "source": [
        "df_train = df_train.fillna(method='ffill')\n",
        "df_test = df_test.fillna(method='ffill')"
      ],
      "execution_count": null,
      "outputs": []
    },
    {
      "cell_type": "markdown",
      "metadata": {
        "id": "4jomFxPPLabq"
      },
      "source": [
        "## Анализ данных"
      ]
    },
    {
      "cell_type": "markdown",
      "metadata": {
        "id": "rKZxgARdLabq"
      },
      "source": [
        "### Изменения концентрация металлов (Au, Ag, Pb) на различных этапах очистки"
      ]
    },
    {
      "cell_type": "code",
      "metadata": {
        "id": "K2ob3kO1Labq",
        "outputId": "efe0423d-6ff8-4655-852a-1fd5e049496b"
      },
      "source": [
        "#Золото\n",
        "df_train[['rougher.input.feed_au', 'rougher.output.concentrate_au',\n",
        "         'primary_cleaner.output.concentrate_au', 'final.output.concentrate_au']].head()"
      ],
      "execution_count": null,
      "outputs": [
        {
          "output_type": "execute_result",
          "data": {
            "text/html": [
              "<div>\n",
              "<style scoped>\n",
              "    .dataframe tbody tr th:only-of-type {\n",
              "        vertical-align: middle;\n",
              "    }\n",
              "\n",
              "    .dataframe tbody tr th {\n",
              "        vertical-align: top;\n",
              "    }\n",
              "\n",
              "    .dataframe thead th {\n",
              "        text-align: right;\n",
              "    }\n",
              "</style>\n",
              "<table border=\"1\" class=\"dataframe\">\n",
              "  <thead>\n",
              "    <tr style=\"text-align: right;\">\n",
              "      <th></th>\n",
              "      <th>rougher.input.feed_au</th>\n",
              "      <th>rougher.output.concentrate_au</th>\n",
              "      <th>primary_cleaner.output.concentrate_au</th>\n",
              "      <th>final.output.concentrate_au</th>\n",
              "    </tr>\n",
              "  </thead>\n",
              "  <tbody>\n",
              "    <tr>\n",
              "      <td>0</td>\n",
              "      <td>6.486150</td>\n",
              "      <td>19.793808</td>\n",
              "      <td>34.174427</td>\n",
              "      <td>42.192020</td>\n",
              "    </tr>\n",
              "    <tr>\n",
              "      <td>1</td>\n",
              "      <td>6.478583</td>\n",
              "      <td>20.050975</td>\n",
              "      <td>34.118526</td>\n",
              "      <td>42.701629</td>\n",
              "    </tr>\n",
              "    <tr>\n",
              "      <td>2</td>\n",
              "      <td>6.362222</td>\n",
              "      <td>19.737170</td>\n",
              "      <td>33.969464</td>\n",
              "      <td>42.657501</td>\n",
              "    </tr>\n",
              "    <tr>\n",
              "      <td>3</td>\n",
              "      <td>6.118189</td>\n",
              "      <td>19.320810</td>\n",
              "      <td>28.260743</td>\n",
              "      <td>42.689819</td>\n",
              "    </tr>\n",
              "    <tr>\n",
              "      <td>4</td>\n",
              "      <td>5.663707</td>\n",
              "      <td>19.216101</td>\n",
              "      <td>33.044932</td>\n",
              "      <td>42.774141</td>\n",
              "    </tr>\n",
              "  </tbody>\n",
              "</table>\n",
              "</div>"
            ],
            "text/plain": [
              "   rougher.input.feed_au  rougher.output.concentrate_au  \\\n",
              "0               6.486150                      19.793808   \n",
              "1               6.478583                      20.050975   \n",
              "2               6.362222                      19.737170   \n",
              "3               6.118189                      19.320810   \n",
              "4               5.663707                      19.216101   \n",
              "\n",
              "   primary_cleaner.output.concentrate_au  final.output.concentrate_au  \n",
              "0                              34.174427                    42.192020  \n",
              "1                              34.118526                    42.701629  \n",
              "2                              33.969464                    42.657501  \n",
              "3                              28.260743                    42.689819  \n",
              "4                              33.044932                    42.774141  "
            ]
          },
          "metadata": {
            "tags": []
          },
          "execution_count": 48
        }
      ]
    },
    {
      "cell_type": "code",
      "metadata": {
        "id": "KwfMGftQLabq",
        "outputId": "037facfd-7c67-488a-a869-e548c3a398ad"
      },
      "source": [
        "#Серебро\n",
        "df_train[['rougher.input.feed_ag', 'rougher.output.concentrate_ag',\n",
        "         'primary_cleaner.output.concentrate_ag', 'final.output.concentrate_ag']].head()"
      ],
      "execution_count": null,
      "outputs": [
        {
          "output_type": "execute_result",
          "data": {
            "text/html": [
              "<div>\n",
              "<style scoped>\n",
              "    .dataframe tbody tr th:only-of-type {\n",
              "        vertical-align: middle;\n",
              "    }\n",
              "\n",
              "    .dataframe tbody tr th {\n",
              "        vertical-align: top;\n",
              "    }\n",
              "\n",
              "    .dataframe thead th {\n",
              "        text-align: right;\n",
              "    }\n",
              "</style>\n",
              "<table border=\"1\" class=\"dataframe\">\n",
              "  <thead>\n",
              "    <tr style=\"text-align: right;\">\n",
              "      <th></th>\n",
              "      <th>rougher.input.feed_ag</th>\n",
              "      <th>rougher.output.concentrate_ag</th>\n",
              "      <th>primary_cleaner.output.concentrate_ag</th>\n",
              "      <th>final.output.concentrate_ag</th>\n",
              "    </tr>\n",
              "  </thead>\n",
              "  <tbody>\n",
              "    <tr>\n",
              "      <td>0</td>\n",
              "      <td>6.100378</td>\n",
              "      <td>11.500771</td>\n",
              "      <td>8.547551</td>\n",
              "      <td>6.055403</td>\n",
              "    </tr>\n",
              "    <tr>\n",
              "      <td>1</td>\n",
              "      <td>6.161113</td>\n",
              "      <td>11.615865</td>\n",
              "      <td>8.558743</td>\n",
              "      <td>6.029369</td>\n",
              "    </tr>\n",
              "    <tr>\n",
              "      <td>2</td>\n",
              "      <td>6.116455</td>\n",
              "      <td>11.695753</td>\n",
              "      <td>8.603505</td>\n",
              "      <td>6.055926</td>\n",
              "    </tr>\n",
              "    <tr>\n",
              "      <td>3</td>\n",
              "      <td>6.043309</td>\n",
              "      <td>11.915047</td>\n",
              "      <td>7.221879</td>\n",
              "      <td>6.047977</td>\n",
              "    </tr>\n",
              "    <tr>\n",
              "      <td>4</td>\n",
              "      <td>6.060915</td>\n",
              "      <td>12.411054</td>\n",
              "      <td>9.089428</td>\n",
              "      <td>6.148599</td>\n",
              "    </tr>\n",
              "  </tbody>\n",
              "</table>\n",
              "</div>"
            ],
            "text/plain": [
              "   rougher.input.feed_ag  rougher.output.concentrate_ag  \\\n",
              "0               6.100378                      11.500771   \n",
              "1               6.161113                      11.615865   \n",
              "2               6.116455                      11.695753   \n",
              "3               6.043309                      11.915047   \n",
              "4               6.060915                      12.411054   \n",
              "\n",
              "   primary_cleaner.output.concentrate_ag  final.output.concentrate_ag  \n",
              "0                               8.547551                     6.055403  \n",
              "1                               8.558743                     6.029369  \n",
              "2                               8.603505                     6.055926  \n",
              "3                               7.221879                     6.047977  \n",
              "4                               9.089428                     6.148599  "
            ]
          },
          "metadata": {
            "tags": []
          },
          "execution_count": 49
        }
      ]
    },
    {
      "cell_type": "code",
      "metadata": {
        "id": "ZaEr8H9rLabr",
        "outputId": "6ddf96ee-e334-4d41-eb75-c569adb7032e"
      },
      "source": [
        "#Свинец\n",
        "df_train[['rougher.input.feed_pb', 'rougher.output.concentrate_pb',\n",
        "         'primary_cleaner.output.concentrate_pb', 'final.output.concentrate_pb']].head()"
      ],
      "execution_count": null,
      "outputs": [
        {
          "output_type": "execute_result",
          "data": {
            "text/html": [
              "<div>\n",
              "<style scoped>\n",
              "    .dataframe tbody tr th:only-of-type {\n",
              "        vertical-align: middle;\n",
              "    }\n",
              "\n",
              "    .dataframe tbody tr th {\n",
              "        vertical-align: top;\n",
              "    }\n",
              "\n",
              "    .dataframe thead th {\n",
              "        text-align: right;\n",
              "    }\n",
              "</style>\n",
              "<table border=\"1\" class=\"dataframe\">\n",
              "  <thead>\n",
              "    <tr style=\"text-align: right;\">\n",
              "      <th></th>\n",
              "      <th>rougher.input.feed_pb</th>\n",
              "      <th>rougher.output.concentrate_pb</th>\n",
              "      <th>primary_cleaner.output.concentrate_pb</th>\n",
              "      <th>final.output.concentrate_pb</th>\n",
              "    </tr>\n",
              "  </thead>\n",
              "  <tbody>\n",
              "    <tr>\n",
              "      <td>0</td>\n",
              "      <td>2.284912</td>\n",
              "      <td>7.101074</td>\n",
              "      <td>10.389648</td>\n",
              "      <td>9.889648</td>\n",
              "    </tr>\n",
              "    <tr>\n",
              "      <td>1</td>\n",
              "      <td>2.266033</td>\n",
              "      <td>7.278807</td>\n",
              "      <td>10.497069</td>\n",
              "      <td>9.968944</td>\n",
              "    </tr>\n",
              "    <tr>\n",
              "      <td>2</td>\n",
              "      <td>2.159622</td>\n",
              "      <td>7.216833</td>\n",
              "      <td>10.354494</td>\n",
              "      <td>10.213995</td>\n",
              "    </tr>\n",
              "    <tr>\n",
              "      <td>3</td>\n",
              "      <td>2.037807</td>\n",
              "      <td>7.175616</td>\n",
              "      <td>8.496563</td>\n",
              "      <td>9.977019</td>\n",
              "    </tr>\n",
              "    <tr>\n",
              "      <td>4</td>\n",
              "      <td>1.786875</td>\n",
              "      <td>7.240205</td>\n",
              "      <td>9.986786</td>\n",
              "      <td>10.142511</td>\n",
              "    </tr>\n",
              "  </tbody>\n",
              "</table>\n",
              "</div>"
            ],
            "text/plain": [
              "   rougher.input.feed_pb  rougher.output.concentrate_pb  \\\n",
              "0               2.284912                       7.101074   \n",
              "1               2.266033                       7.278807   \n",
              "2               2.159622                       7.216833   \n",
              "3               2.037807                       7.175616   \n",
              "4               1.786875                       7.240205   \n",
              "\n",
              "   primary_cleaner.output.concentrate_pb  final.output.concentrate_pb  \n",
              "0                              10.389648                     9.889648  \n",
              "1                              10.497069                     9.968944  \n",
              "2                              10.354494                    10.213995  \n",
              "3                               8.496563                     9.977019  \n",
              "4                               9.986786                    10.142511  "
            ]
          },
          "metadata": {
            "tags": []
          },
          "execution_count": 50
        }
      ]
    },
    {
      "cell_type": "code",
      "metadata": {
        "id": "Y5AiUbxbLabr",
        "outputId": "3e02646a-53d3-486d-ca31-08cca27c3ffd"
      },
      "source": [
        "#Золото, средние значения\n",
        "df_train[['rougher.input.feed_au', 'rougher.output.concentrate_au',\n",
        "         'primary_cleaner.output.concentrate_au', 'final.output.concentrate_au']].mean()"
      ],
      "execution_count": null,
      "outputs": [
        {
          "output_type": "execute_result",
          "data": {
            "text/plain": [
              "rougher.input.feed_au                     8.242625\n",
              "rougher.output.concentrate_au            19.442296\n",
              "primary_cleaner.output.concentrate_au    31.869465\n",
              "final.output.concentrate_au              43.076574\n",
              "dtype: float64"
            ]
          },
          "metadata": {
            "tags": []
          },
          "execution_count": 51
        }
      ]
    },
    {
      "cell_type": "code",
      "metadata": {
        "id": "1PSFxj8FLabr",
        "outputId": "7431aafe-674b-4a4f-8be5-b6d183e9a2f4"
      },
      "source": [
        "#Серебро, средние значения\n",
        "df_train[['rougher.input.feed_ag', 'rougher.output.concentrate_ag',\n",
        "         'primary_cleaner.output.concentrate_ag', 'final.output.concentrate_ag']].mean()"
      ],
      "execution_count": null,
      "outputs": [
        {
          "output_type": "execute_result",
          "data": {
            "text/plain": [
              "rougher.input.feed_ag                     8.938629\n",
              "rougher.output.concentrate_ag            12.014341\n",
              "primary_cleaner.output.concentrate_ag     8.502405\n",
              "final.output.concentrate_ag               5.582915\n",
              "dtype: float64"
            ]
          },
          "metadata": {
            "tags": []
          },
          "execution_count": 52
        }
      ]
    },
    {
      "cell_type": "code",
      "metadata": {
        "id": "si5UmfJdLabr",
        "outputId": "07aee3be-bae9-490f-9e92-be43559ec8e1"
      },
      "source": [
        "#Свинец, средние значения\n",
        "df_train[['rougher.input.feed_pb', 'rougher.output.concentrate_pb',\n",
        "         'primary_cleaner.output.concentrate_pb', 'final.output.concentrate_pb']].mean()"
      ],
      "execution_count": null,
      "outputs": [
        {
          "output_type": "execute_result",
          "data": {
            "text/plain": [
              "rougher.input.feed_pb                     3.968307\n",
              "rougher.output.concentrate_pb             7.991630\n",
              "primary_cleaner.output.concentrate_pb     9.768857\n",
              "final.output.concentrate_pb              10.348369\n",
              "dtype: float64"
            ]
          },
          "metadata": {
            "tags": []
          },
          "execution_count": 53
        }
      ]
    },
    {
      "cell_type": "markdown",
      "metadata": {
        "id": "Acm8cTv6Labs"
      },
      "source": [
        "**Вывод**\n",
        "\n",
        "Золото ведет себя наилучшим образом! У него растет концентрация от этапа к этапу, все-таки это золотодобывающее предприятие. Почти также ведет себя свинец, хотя на последнем этапе растет не сильно. А вот серебро ведет себя очень странно. Концентрация на входе выше, чем концетрация на выходе. Возомжно, так и надо, но серебро первый кандидат на удаление из признаков для обучения модели.  "
      ]
    },
    {
      "cell_type": "markdown",
      "metadata": {
        "id": "PSHOAz4hu3RZ"
      },
      "source": [
        "**Графическое представление изменения концентраций в процессе обогащения руды**"
      ]
    },
    {
      "cell_type": "code",
      "metadata": {
        "id": "109SA8whLabt",
        "outputId": "a8590a98-0d06-4314-da9b-7a1019ca620a"
      },
      "source": [
        "print('Изменение концентраций в процессе обогащения руды')\n",
        "\n",
        "#Золото\n",
        "df_train[['rougher.input.feed_au', 'rougher.output.concentrate_au',\n",
        "         'primary_cleaner.output.concentrate_au', 'final.output.concentrate_au']].mean().plot(\n",
        "    style='-x', grid = True,color = 'orange', label = 'Концентрация золота',legend = True, figsize = (9,6))\n",
        "\n",
        "#Свинец\n",
        "df_train[['rougher.input.feed_pb', 'rougher.output.concentrate_pb',\n",
        "         'primary_cleaner.output.concentrate_pb', 'final.output.concentrate_pb']].mean().plot(\n",
        "    style='-x', grid = True, label = 'Концентрация свинца', color = 'green',legend = True)\n",
        "\n",
        "#Серебро\n",
        "df_train[['rougher.input.feed_ag', 'rougher.output.concentrate_ag',\n",
        "         'primary_cleaner.output.concentrate_ag', 'final.output.concentrate_ag']].mean().plot(\n",
        "    style='-x', grid = True, label = 'Концентрация серебра', color = 'gray',legend = True)\n",
        "\n",
        "plt.xlabel('Этапы обогащения руды')\n",
        "plt.ylabel('Концентрация (%)')\n",
        "plt.show()"
      ],
      "execution_count": null,
      "outputs": [
        {
          "output_type": "stream",
          "text": [
            "Изменение концентраций в процессе обогащения руды\n"
          ],
          "name": "stdout"
        },
        {
          "output_type": "display_data",
          "data": {
            "image/png": "[encoded data removed]",
            "text/plain": [
              "<Figure size 648x432 with 1 Axes>"
            ]
          },
          "metadata": {
            "tags": [],
            "needs_background": "light"
          }
        }
      ]
    },
    {
      "cell_type": "markdown",
      "metadata": {
        "id": "Ta3RfEBBLabu"
      },
      "source": [
        "### Сравнение размеров гранул сырья"
      ]
    },
    {
      "cell_type": "markdown",
      "metadata": {
        "id": "ixYZHrF0Labu"
      },
      "source": [
        "Сравните распределения размеров гранул сырья на обучающей и тестовой выборках. Если распределения сильно отличаются друг от друга, оценка модели будет неправильной."
      ]
    },
    {
      "cell_type": "code",
      "metadata": {
        "id": "_r2eoYSLLabu",
        "outputId": "cfb2f43e-14e2-49b1-8ca1-43aade4220ab"
      },
      "source": [
        "#Тестовая\n",
        "df_test['primary_cleaner.input.feed_size'].describe()"
      ],
      "execution_count": null,
      "outputs": [
        {
          "output_type": "execute_result",
          "data": {
            "text/plain": [
              "count    5856.000000\n",
              "mean        7.264651\n",
              "std         0.611526\n",
              "min         5.650000\n",
              "25%         6.885625\n",
              "50%         7.259333\n",
              "75%         7.650000\n",
              "max        15.500000\n",
              "Name: primary_cleaner.input.feed_size, dtype: float64"
            ]
          },
          "metadata": {
            "tags": []
          },
          "execution_count": 58
        }
      ]
    },
    {
      "cell_type": "code",
      "metadata": {
        "id": "Xvpin4CgLabv",
        "outputId": "1b97b38c-7938-4129-ae28-8057298a19db"
      },
      "source": [
        "#Обучающая\n",
        "df_train['primary_cleaner.input.feed_size'].describe()"
      ],
      "execution_count": null,
      "outputs": [
        {
          "output_type": "execute_result",
          "data": {
            "text/plain": [
              "count    15166.000000\n",
              "mean         7.796677\n",
              "std          6.742211\n",
              "min          1.080000\n",
              "25%          6.940000\n",
              "50%          7.290000\n",
              "75%          7.690000\n",
              "max        100.000000\n",
              "Name: primary_cleaner.input.feed_size, dtype: float64"
            ]
          },
          "metadata": {
            "tags": []
          },
          "execution_count": 59
        }
      ]
    },
    {
      "cell_type": "markdown",
      "metadata": {
        "id": "5_P1T2auLabv"
      },
      "source": [
        "Уже видно, что на обучающей выборке есть очень маленькие и очень большие значения. Посмотрим на распределения и потом избавимся от них."
      ]
    },
    {
      "cell_type": "code",
      "metadata": {
        "id": "pdjPqTd_Labv",
        "outputId": "0dd8a135-3c8e-4767-b56a-eb5a0f985ec2"
      },
      "source": [
        "df_test['primary_cleaner.input.feed_size'].plot(kind = 'hist', grid = True, figsize = (8,5), title='Тестовая выборка')"
      ],
      "execution_count": null,
      "outputs": [
        {
          "output_type": "execute_result",
          "data": {
            "text/plain": [
              "<matplotlib.axes._subplots.AxesSubplot at 0x7f8bef76f7d0>"
            ]
          },
          "metadata": {
            "tags": []
          },
          "execution_count": 60
        },
        {
          "output_type": "display_data",
          "data": {
            "image/png": "[encoded data removed]",
            "text/plain": [
              "<Figure size 576x360 with 1 Axes>"
            ]
          },
          "metadata": {
            "tags": [],
            "needs_background": "light"
          }
        }
      ]
    },
    {
      "cell_type": "code",
      "metadata": {
        "id": "hl_83CLKLabw",
        "outputId": "2885a886-b963-4af1-e7f9-6487669b1b6f"
      },
      "source": [
        "df_train['primary_cleaner.input.feed_size'].plot(style = 'x', grid = True, title='Обучающая выборка')"
      ],
      "execution_count": null,
      "outputs": [
        {
          "output_type": "execute_result",
          "data": {
            "text/plain": [
              "<matplotlib.axes._subplots.AxesSubplot at 0x7f8be5a69f10>"
            ]
          },
          "metadata": {
            "tags": []
          },
          "execution_count": 61
        },
        {
          "output_type": "display_data",
          "data": {
            "image/png": "[encoded data removed]",
            "text/plain": [
              "<Figure size 432x288 with 1 Axes>"
            ]
          },
          "metadata": {
            "tags": [],
            "needs_background": "light"
          }
        }
      ]
    },
    {
      "cell_type": "markdown",
      "metadata": {
        "id": "57K5np3xLabw"
      },
      "source": [
        "Как видно, между средними значенями и максимальными нет ничего. Поэтому они явно вбросы. Удалю их."
      ]
    },
    {
      "cell_type": "code",
      "metadata": {
        "id": "1kHkUpphLabw",
        "outputId": "f76e9133-921c-4d20-8589-d6170c21f0bc"
      },
      "source": [
        "df_train['primary_cleaner.input.feed_size'].plot(kind = 'hist', grid = True, xlim = (0,15), title='Обучающая выборка')"
      ],
      "execution_count": null,
      "outputs": [
        {
          "output_type": "execute_result",
          "data": {
            "text/plain": [
              "<matplotlib.axes._subplots.AxesSubplot at 0x7f8be5a52cd0>"
            ]
          },
          "metadata": {
            "tags": []
          },
          "execution_count": 62
        },
        {
          "output_type": "display_data",
          "data": {
            "image/png": "[encoded data removed]",
            "text/plain": [
              "<Figure size 432x288 with 1 Axes>"
            ]
          },
          "metadata": {
            "tags": [],
            "needs_background": "light"
          }
        }
      ]
    },
    {
      "cell_type": "markdown",
      "metadata": {
        "id": "dUdry7MqLabw"
      },
      "source": [
        "C распределением есть кое-какие проблемы. Сейчас выкинем очень большие значения. "
      ]
    },
    {
      "cell_type": "code",
      "metadata": {
        "id": "W_OyPXZyLabw"
      },
      "source": [
        "df_train = df_train[df_train['primary_cleaner.input.feed_size']<20]"
      ],
      "execution_count": null,
      "outputs": []
    },
    {
      "cell_type": "code",
      "metadata": {
        "id": "Qq60GRM8Labx",
        "outputId": "0246b687-5e55-447a-cfc6-4298cf7c7af9"
      },
      "source": [
        "df_train['primary_cleaner.input.feed_size'].plot(kind = 'hist', grid = True, figsize = (8, 5), title='Обучающая выборка без вбросов')"
      ],
      "execution_count": null,
      "outputs": [
        {
          "output_type": "execute_result",
          "data": {
            "text/plain": [
              "<matplotlib.axes._subplots.AxesSubplot at 0x7f8be5957490>"
            ]
          },
          "metadata": {
            "tags": []
          },
          "execution_count": 64
        },
        {
          "output_type": "display_data",
          "data": {
            "image/png": "[encoded data removed]",
            "text/plain": [
              "<Figure size 576x360 with 1 Axes>"
            ]
          },
          "metadata": {
            "tags": [],
            "needs_background": "light"
          }
        }
      ]
    },
    {
      "cell_type": "markdown",
      "metadata": {
        "id": "uZ0ErUoILabx"
      },
      "source": [
        "Вот теперь распределения стали похожи. Посмотрим, сколько у нас значений очень мелких фракций (меньше 4) и заодно избавимся и от них. "
      ]
    },
    {
      "cell_type": "code",
      "metadata": {
        "id": "lIR1yUMbLabx",
        "outputId": "43144c27-993a-4ff2-b4dd-ab97c51b43fe"
      },
      "source": [
        "df_train[df_train['primary_cleaner.input.feed_size'] < 4]['date'].count()"
      ],
      "execution_count": null,
      "outputs": [
        {
          "output_type": "execute_result",
          "data": {
            "text/plain": [
              "8"
            ]
          },
          "metadata": {
            "tags": []
          },
          "execution_count": 65
        }
      ]
    },
    {
      "cell_type": "code",
      "metadata": {
        "id": "gNv5rSLkLabx"
      },
      "source": [
        "#невелика потеря, удалю их\n",
        "df_train = df_train[df_train['primary_cleaner.input.feed_size'] > 4]"
      ],
      "execution_count": null,
      "outputs": []
    },
    {
      "cell_type": "code",
      "metadata": {
        "id": "s1I_zGGlLaby",
        "outputId": "ab45daef-b09e-4d3a-fc68-8dc5a4977139"
      },
      "source": [
        "#Train data\n",
        "df_train['primary_cleaner.input.feed_size'].describe()"
      ],
      "execution_count": null,
      "outputs": [
        {
          "output_type": "execute_result",
          "data": {
            "text/plain": [
              "count    15078.000000\n",
              "mean         7.311033\n",
              "std          0.594480\n",
              "min          4.970000\n",
              "25%          6.940000\n",
              "50%          7.282583\n",
              "75%          7.680000\n",
              "max         10.470000\n",
              "Name: primary_cleaner.input.feed_size, dtype: float64"
            ]
          },
          "metadata": {
            "tags": []
          },
          "execution_count": 67
        }
      ]
    },
    {
      "cell_type": "code",
      "metadata": {
        "id": "GxzYi2LWLaby",
        "outputId": "aad7eed6-6dd5-460a-84c6-77b0f4aaf365"
      },
      "source": [
        "#Test data\n",
        "df_test['primary_cleaner.input.feed_size'].describe()"
      ],
      "execution_count": null,
      "outputs": [
        {
          "output_type": "execute_result",
          "data": {
            "text/plain": [
              "count    5856.000000\n",
              "mean        7.264651\n",
              "std         0.611526\n",
              "min         5.650000\n",
              "25%         6.885625\n",
              "50%         7.259333\n",
              "75%         7.650000\n",
              "max        15.500000\n",
              "Name: primary_cleaner.input.feed_size, dtype: float64"
            ]
          },
          "metadata": {
            "tags": []
          },
          "execution_count": 68
        }
      ]
    },
    {
      "cell_type": "markdown",
      "metadata": {
        "id": "TLaJjOXFLaby"
      },
      "source": [
        "На тестовой выборке тоже надо избавиться от подобных значений, если они есть."
      ]
    },
    {
      "cell_type": "code",
      "metadata": {
        "id": "WQZ96FofLaby",
        "outputId": "086ab9a9-d6f8-4f00-a97b-841fdac38935"
      },
      "source": [
        "df_test['primary_cleaner.input.feed_size'].plot(style = 'x', grid = True)"
      ],
      "execution_count": null,
      "outputs": [
        {
          "output_type": "execute_result",
          "data": {
            "text/plain": [
              "<matplotlib.axes._subplots.AxesSubplot at 0x7f8bef7de490>"
            ]
          },
          "metadata": {
            "tags": []
          },
          "execution_count": 69
        },
        {
          "output_type": "display_data",
          "data": {
            "image/png": "[encoded data removed]",
            "text/plain": [
              "<Figure size 432x288 with 1 Axes>"
            ]
          },
          "metadata": {
            "tags": [],
            "needs_background": "light"
          }
        }
      ]
    },
    {
      "cell_type": "code",
      "metadata": {
        "id": "PADmoWuXLabz"
      },
      "source": [
        "#тут два значения всего выше 10, удалю их.\n",
        "df_test = df_test[df_test['primary_cleaner.input.feed_size']<10]"
      ],
      "execution_count": null,
      "outputs": []
    },
    {
      "cell_type": "markdown",
      "metadata": {
        "id": "PpkqF5K2Labz"
      },
      "source": [
        "**Вывод**\n",
        "\n",
        "Теперь распределния стали похожи. Среднее и стандартное отклонение очень близки. Поэтому можно переходить к следующему шагу. "
      ]
    },
    {
      "cell_type": "markdown",
      "metadata": {
        "id": "isMN-T0DLab0"
      },
      "source": [
        "### Исследование суммарной концентрации всех веществ"
      ]
    },
    {
      "cell_type": "code",
      "metadata": {
        "id": "9VHFXXnuLab0"
      },
      "source": [
        "concentrate = []\n",
        "for name in df_train.columns:\n",
        "    if 'concentrate' in name:\n",
        "        concentrate.append(name)"
      ],
      "execution_count": null,
      "outputs": []
    },
    {
      "cell_type": "code",
      "metadata": {
        "id": "OHy_bioFLab0",
        "outputId": "5d93a6fa-4eac-4554-c057-243ec8530afa"
      },
      "source": [
        "concentrate"
      ],
      "execution_count": null,
      "outputs": [
        {
          "output_type": "execute_result",
          "data": {
            "text/plain": [
              "['final.output.concentrate_ag',\n",
              " 'final.output.concentrate_pb',\n",
              " 'final.output.concentrate_sol',\n",
              " 'final.output.concentrate_au',\n",
              " 'primary_cleaner.output.concentrate_ag',\n",
              " 'primary_cleaner.output.concentrate_pb',\n",
              " 'primary_cleaner.output.concentrate_sol',\n",
              " 'primary_cleaner.output.concentrate_au',\n",
              " 'rougher.calculation.sulfate_to_au_concentrate',\n",
              " 'rougher.output.concentrate_ag',\n",
              " 'rougher.output.concentrate_pb',\n",
              " 'rougher.output.concentrate_sol',\n",
              " 'rougher.output.concentrate_au']"
            ]
          },
          "metadata": {
            "tags": []
          },
          "execution_count": 72
        }
      ]
    },
    {
      "cell_type": "code",
      "metadata": {
        "id": "a_O02FsBLab1"
      },
      "source": [
        "concentrate.remove('rougher.calculation.sulfate_to_au_concentrate')"
      ],
      "execution_count": null,
      "outputs": []
    },
    {
      "cell_type": "code",
      "metadata": {
        "id": "rUl77zHeLab1",
        "outputId": "1586cae9-d61b-4129-9e2a-e88366aa4fe0"
      },
      "source": [
        "df_train[concentrate].agg('sum')"
      ],
      "execution_count": null,
      "outputs": [
        {
          "output_type": "execute_result",
          "data": {
            "text/plain": [
              "final.output.concentrate_ag                76638.301582\n",
              "final.output.concentrate_pb               148837.375498\n",
              "final.output.concentrate_sol              134238.579308\n",
              "final.output.concentrate_au               644952.428866\n",
              "primary_cleaner.output.concentrate_ag     120888.762229\n",
              "primary_cleaner.output.concentrate_pb     140037.372840\n",
              "primary_cleaner.output.concentrate_sol    148354.700116\n",
              "primary_cleaner.output.concentrate_au     475082.769345\n",
              "rougher.output.concentrate_ag             174127.773356\n",
              "rougher.output.concentrate_pb             113109.454287\n",
              "rougher.output.concentrate_sol            418042.012228\n",
              "rougher.output.concentrate_au             286720.327469\n",
              "dtype: float64"
            ]
          },
          "metadata": {
            "tags": []
          },
          "execution_count": 74
        }
      ]
    },
    {
      "cell_type": "code",
      "metadata": {
        "id": "K_IbZTlbLab1",
        "outputId": "46cff113-d2f0-4c35-a185-a4608d284b7c"
      },
      "source": [
        "df_train[concentrate].plot(kind='hist', figsize = (10,10), grid = True, alpha = 0.3, title='Концентрация веществ в руде')"
      ],
      "execution_count": null,
      "outputs": [
        {
          "output_type": "execute_result",
          "data": {
            "text/plain": [
              "<matplotlib.axes._subplots.AxesSubplot at 0x7f8be5897b90>"
            ]
          },
          "metadata": {
            "tags": []
          },
          "execution_count": 75
        },
        {
          "output_type": "display_data",
          "data": {
            "image/png": "[encoded data removed]",
            "text/plain": [
              "<Figure size 720x720 with 1 Axes>"
            ]
          },
          "metadata": {
            "tags": [],
            "needs_background": "light"
          }
        }
      ]
    },
    {
      "cell_type": "code",
      "metadata": {
        "id": "C9xWOFRuLab1",
        "outputId": "6458a733-836b-4e26-bb5c-4e9b479a39ff"
      },
      "source": [
        "df_train[concentrate].plot(\n",
        "    kind='hist', figsize = (6,6), grid = True, alpha = 0.3, \n",
        "    xlim = (50,100), ylim = (0,70), title='Концентрация веществ в руде около 100%'\n",
        ")"
      ],
      "execution_count": null,
      "outputs": [
        {
          "output_type": "execute_result",
          "data": {
            "text/plain": [
              "<matplotlib.axes._subplots.AxesSubplot at 0x7f8be5697a50>"
            ]
          },
          "metadata": {
            "tags": []
          },
          "execution_count": 76
        },
        {
          "output_type": "display_data",
          "data": {
            "image/png": "[encoded data removed]",
            "text/plain": [
              "<Figure size 432x432 with 1 Axes>"
            ]
          },
          "metadata": {
            "tags": [],
            "needs_background": "light"
          }
        }
      ]
    },
    {
      "cell_type": "markdown",
      "metadata": {
        "id": "OQ_SxmAdLab2"
      },
      "source": [
        "Видны вборсы в районе 100"
      ]
    },
    {
      "cell_type": "code",
      "metadata": {
        "id": "CoJAL5JjLab2",
        "outputId": "6937f8df-7166-47d2-9108-3d28062c0526"
      },
      "source": [
        "df_train[concentrate].max()"
      ],
      "execution_count": null,
      "outputs": [
        {
          "output_type": "execute_result",
          "data": {
            "text/plain": [
              "final.output.concentrate_ag                16.001945\n",
              "final.output.concentrate_pb                17.031899\n",
              "final.output.concentrate_sol               18.124851\n",
              "final.output.concentrate_au                52.756638\n",
              "primary_cleaner.output.concentrate_ag      16.081632\n",
              "primary_cleaner.output.concentrate_pb     100.000000\n",
              "primary_cleaner.output.concentrate_sol    100.000000\n",
              "primary_cleaner.output.concentrate_au      45.933934\n",
              "rougher.output.concentrate_ag              24.480271\n",
              "rougher.output.concentrate_pb              15.389648\n",
              "rougher.output.concentrate_sol            100.000000\n",
              "rougher.output.concentrate_au              28.146838\n",
              "dtype: float64"
            ]
          },
          "metadata": {
            "tags": []
          },
          "execution_count": 77
        }
      ]
    },
    {
      "cell_type": "markdown",
      "metadata": {
        "id": "eCHkxUnOLab2"
      },
      "source": [
        "Есть три аномальные концентрации, т.к. распределение не сплошное и в районе 100 процентов есть островок аномалий. Исходя из этого делаю вывод, что такие данные являются вбросами и их надо удалить. Но в задании сказано, что их надо удалить из обеих выборок, т.е. можно предположить, что они есть в ТЕСТЕ (хотя их там быть не должно), но проверим по индексам - времени"
      ]
    },
    {
      "cell_type": "code",
      "metadata": {
        "id": "OhRflaaJLab2",
        "outputId": "2b85932f-9d13-4178-bb75-c97428baffe4"
      },
      "source": [
        "df_train[df_train['primary_cleaner.output.concentrate_pb'] > 80]['date'].head()"
      ],
      "execution_count": null,
      "outputs": [
        {
          "output_type": "execute_result",
          "data": {
            "text/plain": [
              "7330     2017-03-17 09:59:59\n",
              "7331     2017-03-17 10:59:59\n",
              "13556    2018-04-02 19:59:59\n",
              "Name: date, dtype: object"
            ]
          },
          "metadata": {
            "tags": []
          },
          "execution_count": 78
        }
      ]
    },
    {
      "cell_type": "code",
      "metadata": {
        "id": "oY0eUYyvLab2",
        "outputId": "fcd86818-51e3-48f9-ee93-0e175dbb5737"
      },
      "source": [
        "df_test[df_test['date'].isin(df_train[df_train['primary_cleaner.output.concentrate_pb'] > 80]['date'])]['date'].count()"
      ],
      "execution_count": null,
      "outputs": [
        {
          "output_type": "execute_result",
          "data": {
            "text/plain": [
              "0"
            ]
          },
          "metadata": {
            "tags": []
          },
          "execution_count": 79
        }
      ]
    },
    {
      "cell_type": "markdown",
      "metadata": {
        "id": "OViYsF0QLab3"
      },
      "source": [
        "Т.к. в тест не попадают значения из обучающей выборки, такхи индексов в тестовой не нашлось. Поэтому удаляю аномалии только из обучающей выборки. "
      ]
    },
    {
      "cell_type": "code",
      "metadata": {
        "id": "TCqeKk9OLab3"
      },
      "source": [
        "df_train = df_train[df_train['primary_cleaner.output.concentrate_pb'] < 80]\n",
        "df_train = df_train[df_train['primary_cleaner.output.concentrate_sol'] < 80]\n",
        "df_train = df_train[df_train['rougher.output.concentrate_sol'] < 80]"
      ],
      "execution_count": null,
      "outputs": []
    },
    {
      "cell_type": "code",
      "metadata": {
        "id": "vBdYK0HILab3",
        "outputId": "a511f51f-40a1-4eac-da8b-8ce38088b344"
      },
      "source": [
        "df_train[concentrate].describe()"
      ],
      "execution_count": null,
      "outputs": [
        {
          "output_type": "execute_result",
          "data": {
            "text/html": [
              "<div>\n",
              "<style scoped>\n",
              "    .dataframe tbody tr th:only-of-type {\n",
              "        vertical-align: middle;\n",
              "    }\n",
              "\n",
              "    .dataframe tbody tr th {\n",
              "        vertical-align: top;\n",
              "    }\n",
              "\n",
              "    .dataframe thead th {\n",
              "        text-align: right;\n",
              "    }\n",
              "</style>\n",
              "<table border=\"1\" class=\"dataframe\">\n",
              "  <thead>\n",
              "    <tr style=\"text-align: right;\">\n",
              "      <th></th>\n",
              "      <th>final.output.concentrate_ag</th>\n",
              "      <th>final.output.concentrate_pb</th>\n",
              "      <th>final.output.concentrate_sol</th>\n",
              "      <th>final.output.concentrate_au</th>\n",
              "      <th>primary_cleaner.output.concentrate_ag</th>\n",
              "      <th>primary_cleaner.output.concentrate_pb</th>\n",
              "      <th>primary_cleaner.output.concentrate_sol</th>\n",
              "      <th>primary_cleaner.output.concentrate_au</th>\n",
              "      <th>rougher.output.concentrate_ag</th>\n",
              "      <th>rougher.output.concentrate_pb</th>\n",
              "      <th>rougher.output.concentrate_sol</th>\n",
              "      <th>rougher.output.concentrate_au</th>\n",
              "    </tr>\n",
              "  </thead>\n",
              "  <tbody>\n",
              "    <tr>\n",
              "      <td>count</td>\n",
              "      <td>15064.000000</td>\n",
              "      <td>15064.000000</td>\n",
              "      <td>15064.000000</td>\n",
              "      <td>15064.000000</td>\n",
              "      <td>15064.000000</td>\n",
              "      <td>15064.000000</td>\n",
              "      <td>15064.000000</td>\n",
              "      <td>15064.000000</td>\n",
              "      <td>15064.000000</td>\n",
              "      <td>15064.000000</td>\n",
              "      <td>15064.000000</td>\n",
              "      <td>15064.000000</td>\n",
              "    </tr>\n",
              "    <tr>\n",
              "      <td>mean</td>\n",
              "      <td>5.083893</td>\n",
              "      <td>9.874504</td>\n",
              "      <td>8.906036</td>\n",
              "      <td>42.786744</td>\n",
              "      <td>8.018754</td>\n",
              "      <td>9.271093</td>\n",
              "      <td>9.772536</td>\n",
              "      <td>31.507209</td>\n",
              "      <td>11.548608</td>\n",
              "      <td>7.501002</td>\n",
              "      <td>27.701777</td>\n",
              "      <td>19.013236</td>\n",
              "    </tr>\n",
              "    <tr>\n",
              "      <td>std</td>\n",
              "      <td>1.656406</td>\n",
              "      <td>2.260929</td>\n",
              "      <td>3.196188</td>\n",
              "      <td>8.403420</td>\n",
              "      <td>2.384444</td>\n",
              "      <td>3.085829</td>\n",
              "      <td>4.376554</td>\n",
              "      <td>7.641300</td>\n",
              "      <td>3.267939</td>\n",
              "      <td>2.181183</td>\n",
              "      <td>7.472950</td>\n",
              "      <td>4.775076</td>\n",
              "    </tr>\n",
              "    <tr>\n",
              "      <td>min</td>\n",
              "      <td>0.000000</td>\n",
              "      <td>0.000000</td>\n",
              "      <td>0.000000</td>\n",
              "      <td>0.000000</td>\n",
              "      <td>0.000000</td>\n",
              "      <td>0.000000</td>\n",
              "      <td>0.000000</td>\n",
              "      <td>0.000000</td>\n",
              "      <td>0.000000</td>\n",
              "      <td>0.000000</td>\n",
              "      <td>0.000000</td>\n",
              "      <td>0.000000</td>\n",
              "    </tr>\n",
              "    <tr>\n",
              "      <td>25%</td>\n",
              "      <td>4.169718</td>\n",
              "      <td>9.209803</td>\n",
              "      <td>7.281912</td>\n",
              "      <td>42.962350</td>\n",
              "      <td>6.998249</td>\n",
              "      <td>7.981207</td>\n",
              "      <td>7.134801</td>\n",
              "      <td>30.535327</td>\n",
              "      <td>10.406615</td>\n",
              "      <td>6.762186</td>\n",
              "      <td>26.472960</td>\n",
              "      <td>18.271887</td>\n",
              "    </tr>\n",
              "    <tr>\n",
              "      <td>50%</td>\n",
              "      <td>4.987178</td>\n",
              "      <td>10.238614</td>\n",
              "      <td>8.756064</td>\n",
              "      <td>44.754662</td>\n",
              "      <td>8.194040</td>\n",
              "      <td>9.827682</td>\n",
              "      <td>9.562287</td>\n",
              "      <td>33.033603</td>\n",
              "      <td>11.729889</td>\n",
              "      <td>7.734390</td>\n",
              "      <td>29.236106</td>\n",
              "      <td>19.910625</td>\n",
              "    </tr>\n",
              "    <tr>\n",
              "      <td>75%</td>\n",
              "      <td>5.893712</td>\n",
              "      <td>11.144484</td>\n",
              "      <td>10.456678</td>\n",
              "      <td>46.102436</td>\n",
              "      <td>9.520302</td>\n",
              "      <td>11.241539</td>\n",
              "      <td>12.954685</td>\n",
              "      <td>35.215077</td>\n",
              "      <td>13.475012</td>\n",
              "      <td>8.595496</td>\n",
              "      <td>31.806743</td>\n",
              "      <td>21.414365</td>\n",
              "    </tr>\n",
              "    <tr>\n",
              "      <td>max</td>\n",
              "      <td>16.001945</td>\n",
              "      <td>17.031899</td>\n",
              "      <td>18.124851</td>\n",
              "      <td>52.756638</td>\n",
              "      <td>16.081632</td>\n",
              "      <td>17.081278</td>\n",
              "      <td>22.280845</td>\n",
              "      <td>45.933934</td>\n",
              "      <td>24.480271</td>\n",
              "      <td>15.389648</td>\n",
              "      <td>40.089993</td>\n",
              "      <td>28.146838</td>\n",
              "    </tr>\n",
              "  </tbody>\n",
              "</table>\n",
              "</div>"
            ],
            "text/plain": [
              "       final.output.concentrate_ag  final.output.concentrate_pb  \\\n",
              "count                 15064.000000                 15064.000000   \n",
              "mean                      5.083893                     9.874504   \n",
              "std                       1.656406                     2.260929   \n",
              "min                       0.000000                     0.000000   \n",
              "25%                       4.169718                     9.209803   \n",
              "50%                       4.987178                    10.238614   \n",
              "75%                       5.893712                    11.144484   \n",
              "max                      16.001945                    17.031899   \n",
              "\n",
              "       final.output.concentrate_sol  final.output.concentrate_au  \\\n",
              "count                  15064.000000                 15064.000000   \n",
              "mean                       8.906036                    42.786744   \n",
              "std                        3.196188                     8.403420   \n",
              "min                        0.000000                     0.000000   \n",
              "25%                        7.281912                    42.962350   \n",
              "50%                        8.756064                    44.754662   \n",
              "75%                       10.456678                    46.102436   \n",
              "max                       18.124851                    52.756638   \n",
              "\n",
              "       primary_cleaner.output.concentrate_ag  \\\n",
              "count                           15064.000000   \n",
              "mean                                8.018754   \n",
              "std                                 2.384444   \n",
              "min                                 0.000000   \n",
              "25%                                 6.998249   \n",
              "50%                                 8.194040   \n",
              "75%                                 9.520302   \n",
              "max                                16.081632   \n",
              "\n",
              "       primary_cleaner.output.concentrate_pb  \\\n",
              "count                           15064.000000   \n",
              "mean                                9.271093   \n",
              "std                                 3.085829   \n",
              "min                                 0.000000   \n",
              "25%                                 7.981207   \n",
              "50%                                 9.827682   \n",
              "75%                                11.241539   \n",
              "max                                17.081278   \n",
              "\n",
              "       primary_cleaner.output.concentrate_sol  \\\n",
              "count                            15064.000000   \n",
              "mean                                 9.772536   \n",
              "std                                  4.376554   \n",
              "min                                  0.000000   \n",
              "25%                                  7.134801   \n",
              "50%                                  9.562287   \n",
              "75%                                 12.954685   \n",
              "max                                 22.280845   \n",
              "\n",
              "       primary_cleaner.output.concentrate_au  rougher.output.concentrate_ag  \\\n",
              "count                           15064.000000                   15064.000000   \n",
              "mean                               31.507209                      11.548608   \n",
              "std                                 7.641300                       3.267939   \n",
              "min                                 0.000000                       0.000000   \n",
              "25%                                30.535327                      10.406615   \n",
              "50%                                33.033603                      11.729889   \n",
              "75%                                35.215077                      13.475012   \n",
              "max                                45.933934                      24.480271   \n",
              "\n",
              "       rougher.output.concentrate_pb  rougher.output.concentrate_sol  \\\n",
              "count                   15064.000000                    15064.000000   \n",
              "mean                        7.501002                       27.701777   \n",
              "std                         2.181183                        7.472950   \n",
              "min                         0.000000                        0.000000   \n",
              "25%                         6.762186                       26.472960   \n",
              "50%                         7.734390                       29.236106   \n",
              "75%                         8.595496                       31.806743   \n",
              "max                        15.389648                       40.089993   \n",
              "\n",
              "       rougher.output.concentrate_au  \n",
              "count                   15064.000000  \n",
              "mean                       19.013236  \n",
              "std                         4.775076  \n",
              "min                         0.000000  \n",
              "25%                        18.271887  \n",
              "50%                        19.910625  \n",
              "75%                        21.414365  \n",
              "max                        28.146838  "
            ]
          },
          "metadata": {
            "tags": []
          },
          "execution_count": 81
        }
      ]
    },
    {
      "cell_type": "markdown",
      "metadata": {
        "id": "mEWR2HMALab3"
      },
      "source": [
        "Теперь с концентрациями все в порядке. Можно двигаться дальше."
      ]
    },
    {
      "cell_type": "markdown",
      "metadata": {
        "id": "v10KG5RoLab4"
      },
      "source": [
        "## Модель"
      ]
    },
    {
      "cell_type": "markdown",
      "metadata": {
        "id": "_teNUrI-Lab4"
      },
      "source": [
        "### Функция для расчета sMAPE"
      ]
    },
    {
      "cell_type": "code",
      "metadata": {
        "id": "CQJJ9dxSLab5"
      },
      "source": [
        "def smape(target, prediction):\n",
        "    scores = []\n",
        "    result = 0\n",
        "    target = pd.Series(target).reset_index(drop=True)\n",
        "    prediction = pd.Series(prediction).reset_index(drop=True)\n",
        "    \n",
        "    for i in range(1, len(target)):\n",
        "        if (np.abs(target[i]) + np.abs(prediction[i])) < 0.01:\n",
        "            score = 1 # в result будет перевод в проценты, 1 эквивалентно 100%\n",
        "        else:\n",
        "            score = (2 * np.abs(target[i] - prediction[i])) / (np.abs(target[i])+ np.abs(prediction[i]))\n",
        "        scores.append(score)\n",
        "    scores = pd.Series(scores)\n",
        "    result = scores.sum()*100/(len(scores))\n",
        "    return result\n",
        "\n",
        "def smape_final (smape_rougher, smape_final):\n",
        "    result = 0.25*smape_rougher + 0.75*smape_final\n",
        "    return result"
      ],
      "execution_count": null,
      "outputs": []
    },
    {
      "cell_type": "markdown",
      "metadata": {
        "id": "iwB3NdPILab5"
      },
      "source": [
        "Проверка работаспособности"
      ]
    },
    {
      "cell_type": "code",
      "metadata": {
        "id": "aeXR2ZcMLab5",
        "outputId": "d7eb586c-97f8-4cd5-80f0-8b3463d2d52f"
      },
      "source": [
        "y = [0]*10\n",
        "x = [1]*10\n",
        "print ('Проверка, 200% = ', smape(x,y))"
      ],
      "execution_count": null,
      "outputs": [
        {
          "output_type": "stream",
          "text": [
            "Проверка, 200% =  200.0\n"
          ],
          "name": "stdout"
        }
      ]
    },
    {
      "cell_type": "code",
      "metadata": {
        "id": "zNrKhNu1Lab5",
        "outputId": "bda81788-5c5f-4217-c935-fb767a17ed2d"
      },
      "source": [
        "y = [0]*10\n",
        "x = [0]*10\n",
        "print ('Проверка, 100% = ', smape(x,y))"
      ],
      "execution_count": null,
      "outputs": [
        {
          "output_type": "stream",
          "text": [
            "Проверка, 100% =  100.0\n"
          ],
          "name": "stdout"
        }
      ]
    },
    {
      "cell_type": "code",
      "metadata": {
        "id": "Dco5wIRLLab6",
        "outputId": "22415263-3a9a-4ac5-e6b9-ad6ad043946d"
      },
      "source": [
        "y = [0]*10\n",
        "x = [0]*10\n",
        "print ('Проверка, 100% = ', smape_final(smape(x,y), smape(x,y)))"
      ],
      "execution_count": null,
      "outputs": [
        {
          "output_type": "stream",
          "text": [
            "Проверка, 100% =  100.0\n"
          ],
          "name": "stdout"
        }
      ]
    },
    {
      "cell_type": "markdown",
      "metadata": {
        "id": "_RRVcDmLLab6"
      },
      "source": [
        "### Подготовка выборок"
      ]
    },
    {
      "cell_type": "markdown",
      "metadata": {
        "id": "4sJ3DNFnLab6"
      },
      "source": [
        "Разобьем выборки на признаки и цели для обучающей выборки"
      ]
    },
    {
      "cell_type": "code",
      "metadata": {
        "id": "xyb5OSyFLab6"
      },
      "source": [
        "list_features = df_test.columns\n",
        "\n",
        "df_train = df_train.reset_index(drop=True)\n",
        "\n",
        "features_train = df_train[list_features]\n",
        "features_train = features_train.drop(['date'], axis = 1)\n",
        "\n",
        "target_train_fin = df_train ['final.output.recovery']\n",
        "target_train_rou = df_train ['rougher.output.recovery']"
      ],
      "execution_count": null,
      "outputs": []
    },
    {
      "cell_type": "code",
      "metadata": {
        "id": "CcJuK9LtLab7",
        "outputId": "6494b8a5-23db-4021-c461-3c1851aefd98"
      },
      "source": [
        "features_train.shape, target_train_rou.shape, target_train_fin.shape"
      ],
      "execution_count": null,
      "outputs": [
        {
          "output_type": "execute_result",
          "data": {
            "text/plain": [
              "((15064, 52), (15064,), (15064,))"
            ]
          },
          "metadata": {
            "tags": []
          },
          "execution_count": 87
        }
      ]
    },
    {
      "cell_type": "markdown",
      "metadata": {
        "id": "5r_Um6eRLab7"
      },
      "source": [
        "Добавим целевые признаки на тестовую выборку (из полной, по параметру дата)"
      ]
    },
    {
      "cell_type": "code",
      "metadata": {
        "id": "jafzIpSOLab7"
      },
      "source": [
        "df_test_2 = df_full[df_full['date'].isin(df_test['date'])]"
      ],
      "execution_count": null,
      "outputs": []
    },
    {
      "cell_type": "code",
      "metadata": {
        "id": "BlCA_1BOLab7",
        "outputId": "0419581e-15e6-4393-a280-cc921ff2d3b1"
      },
      "source": [
        "df_test_2 = df_test_2[['date', 'final.output.recovery', 'rougher.output.recovery']]\n",
        "df_test_2.shape"
      ],
      "execution_count": null,
      "outputs": [
        {
          "output_type": "execute_result",
          "data": {
            "text/plain": [
              "(5854, 3)"
            ]
          },
          "metadata": {
            "tags": []
          },
          "execution_count": 89
        }
      ]
    },
    {
      "cell_type": "code",
      "metadata": {
        "id": "kybZnVdCLab8"
      },
      "source": [
        "df_test = df_test.merge(df_test_2, on = 'date', how = 'left')"
      ],
      "execution_count": null,
      "outputs": []
    },
    {
      "cell_type": "markdown",
      "metadata": {
        "id": "6tEN0c6bLab8"
      },
      "source": [
        "Целевые признаки есть не везде, поэтому удалим пропущенные по таргету строки."
      ]
    },
    {
      "cell_type": "code",
      "metadata": {
        "id": "zLaKHiHvLab8",
        "outputId": "717cd898-8796-4d3a-a283-6346a7350751"
      },
      "source": [
        "df_test.dropna(subset = ['final.output.recovery'], inplace = True)\n",
        "df_test.dropna(subset = ['rougher.output.recovery'], inplace = True)\n",
        "df_test = df_test.reset_index(drop=True)\n",
        "df_test.shape"
      ],
      "execution_count": null,
      "outputs": [
        {
          "output_type": "execute_result",
          "data": {
            "text/plain": [
              "(5288, 55)"
            ]
          },
          "metadata": {
            "tags": []
          },
          "execution_count": 92
        }
      ]
    },
    {
      "cell_type": "markdown",
      "metadata": {
        "id": "x32R3-R7Lab9"
      },
      "source": [
        "Отделяю обучающие признаки от целевого для тестовой выборки"
      ]
    },
    {
      "cell_type": "code",
      "metadata": {
        "id": "SrKXOZU_Lab9"
      },
      "source": [
        "features_test = df_test[list_features]\n",
        "features_test = df_test.drop(['date', 'final.output.recovery', 'rougher.output.recovery'], axis = 1)\n",
        "\n",
        "target_test_fin = df_test ['final.output.recovery']\n",
        "target_test_rou = df_test ['rougher.output.recovery']"
      ],
      "execution_count": null,
      "outputs": []
    },
    {
      "cell_type": "code",
      "metadata": {
        "id": "f6c-8eJPLab9",
        "outputId": "7a171b28-a994-4bdc-dafc-ba8c472a9db8"
      },
      "source": [
        "features_test.shape, target_test_fin.shape, target_test_rou.shape"
      ],
      "execution_count": null,
      "outputs": [
        {
          "output_type": "execute_result",
          "data": {
            "text/plain": [
              "((5288, 52), (5288,), (5288,))"
            ]
          },
          "metadata": {
            "tags": []
          },
          "execution_count": 94
        }
      ]
    },
    {
      "cell_type": "markdown",
      "metadata": {
        "id": "LY4T91juLab9"
      },
      "source": [
        "### Лучшая модель на кросс-валидации"
      ]
    },
    {
      "cell_type": "code",
      "metadata": {
        "id": "xyERyGe5Lab-"
      },
      "source": [
        "#Метрика оценки sMAPE\n",
        "smape_score = make_scorer(smape, greater_is_better=True)"
      ],
      "execution_count": null,
      "outputs": []
    },
    {
      "cell_type": "markdown",
      "metadata": {
        "id": "HBpRlZCeLab-"
      },
      "source": [
        "#### Линейная регрессия"
      ]
    },
    {
      "cell_type": "code",
      "metadata": {
        "id": "T8eCiyxtLab-",
        "outputId": "efee9a85-e464-400e-9c00-c8dc02639637"
      },
      "source": [
        "model_lin = LinearRegression(normalize = True)\n",
        "\n",
        "scores_rou = cross_val_score(model_lin, features_train, target_train_rou, cv=5, scoring = smape_score)\n",
        "scores_fin = cross_val_score(model_lin, features_train, target_train_fin, cv=5, scoring = smape_score)\n",
        "\n",
        "scores_rougher = scores_rou.sum() / 5\n",
        "scores_final = scores_fin.sum() / 5\n",
        "\n",
        "score_linear = smape_final (scores_rougher, scores_final)\n",
        "print('Средняя оценка качества модели линейной регрессии: {:.3f}'.format(score_linear))"
      ],
      "execution_count": null,
      "outputs": [
        {
          "output_type": "stream",
          "text": [
            "Средняя оценка качества модели линейной регрессии: 14.058\n"
          ],
          "name": "stdout"
        }
      ]
    },
    {
      "cell_type": "markdown",
      "metadata": {
        "id": "6xKpgXnaLab-"
      },
      "source": [
        "#### Случайный лес"
      ]
    },
    {
      "cell_type": "code",
      "metadata": {
        "id": "yVThkxC2Lab_",
        "outputId": "7b50c24e-41be-49ed-be25-585cce4cd0d4"
      },
      "source": [
        "%%time\n",
        "\n",
        "best_model_forest = None\n",
        "best_score_forest = 10000\n",
        "best_depth_forest = 0\n",
        "best_est_forest = 0\n",
        "\n",
        "for depth in range(5, 6):\n",
        "    for est in range(40, 51, 10):\n",
        "        model_forest = RandomForestRegressor(\n",
        "            max_depth = depth, n_estimators = est, random_state = 12321)\n",
        "        \n",
        "        scores_rou = cross_val_score(model_forest, features_train, target_train_rou, cv=5, scoring = smape_score)\n",
        "        scores_fin = cross_val_score(model_forest, features_train, target_train_fin, cv=5, scoring = smape_score)\n",
        "\n",
        "        scores_rougher = scores_rou.sum() / 5\n",
        "        scores_final = scores_fin.sum() / 5\n",
        "    \n",
        "        score_forest = smape_final (scores_rougher, scores_final)\n",
        "    \n",
        "        if score_forest < best_score_forest:\n",
        "            best_model_forest = model_forest\n",
        "            best_score_forest = score_forest\n",
        "            best_depth_forest = depth\n",
        "            best_est_forest = est\n",
        "            \n",
        "        \n",
        "print ('Модель случайного леса')\n",
        "print ('Средняя оценка качества модели случайного леса: {:.3f}'.format(best_score_forest))\n",
        "print ('Глубина дерева: {:}'.format(best_depth_forest))\n",
        "print ('Количество деревьев: {:}'.format(best_est_forest))"
      ],
      "execution_count": null,
      "outputs": [
        {
          "output_type": "stream",
          "text": [
            "Модель случайного леса\n",
            "Средняя оценка качества модели случайного леса: 10.890\n",
            "Глубина дерева: 5\n",
            "Количество деревьев: 50\n",
            "CPU times: user 3min 36s, sys: 14.2 ms, total: 3min 36s\n",
            "Wall time: 3min 38s\n"
          ],
          "name": "stdout"
        }
      ]
    },
    {
      "cell_type": "markdown",
      "metadata": {
        "id": "0qrB3b6dLab_"
      },
      "source": [
        "#### Дерево предсказаний"
      ]
    },
    {
      "cell_type": "code",
      "metadata": {
        "id": "LC-MU8iILab_",
        "outputId": "6a182236-bae9-468a-ce68-3787b7acf0b2"
      },
      "source": [
        "best_model_tree = None\n",
        "best_score_tree = 10000\n",
        "best_depth_tree = 0\n",
        "\n",
        "for depth in range(1, 7):\n",
        "    model_tree = DecisionTreeRegressor(max_depth = depth, random_state = 12321)\n",
        "    scores_rou = cross_val_score(model_tree, features_train, target_train_rou, cv=5, scoring = smape_score)\n",
        "    scores_fin = cross_val_score(model_tree, features_train, target_train_fin, cv=5, scoring = smape_score)\n",
        "\n",
        "    scores_rougher = scores_rou.sum() / 5\n",
        "    scores_final = scores_fin.sum() / 5\n",
        "    \n",
        "    score_tree = smape_final (scores_rougher, scores_final)\n",
        "    \n",
        "    if score_tree < best_score_tree:\n",
        "        best_model_tree = model_tree\n",
        "        best_score_tree = score_tree\n",
        "        best_depth_tree = depth\n",
        "        \n",
        "print ('Модель предсказательного дерева')\n",
        "print ('Средняя оценка качества модели дерева: {:.3f}'.format(best_score_tree))\n",
        "print ('Глубина дерева: {:}'.format(best_depth_tree))"
      ],
      "execution_count": null,
      "outputs": [
        {
          "output_type": "stream",
          "text": [
            "Модель предсказательного дерева\n",
            "Средняя оценка качества модели дерева: 11.479\n",
            "Глубина дерева: 3\n"
          ],
          "name": "stdout"
        }
      ]
    },
    {
      "cell_type": "markdown",
      "metadata": {
        "id": "QAGeQT5rLacA"
      },
      "source": [
        "#### Результаты расчетов"
      ]
    },
    {
      "cell_type": "code",
      "metadata": {
        "id": "U7nUbggCLacA",
        "outputId": "be41dd55-9f4e-49a9-ef1c-a9afa2d24236"
      },
      "source": [
        "print('Средняя оценка качества модели линейной регрессии: {:.3f}'.format(score_linear))\n",
        "print ('Средняя оценка качества модели дерева: {:.3f}'.format(best_score_tree))\n",
        "print ('Средняя оценка качества модели случайного леса: {:.3f}'.format(best_score_forest))"
      ],
      "execution_count": null,
      "outputs": [
        {
          "output_type": "stream",
          "text": [
            "Средняя оценка качества модели линейной регрессии: 14.058\n",
            "Средняя оценка качества модели дерева: 11.479\n",
            "Средняя оценка качества модели случайного леса: 10.890\n"
          ],
          "name": "stdout"
        }
      ]
    },
    {
      "cell_type": "markdown",
      "metadata": {
        "id": "0wlMRH0xLacA"
      },
      "source": [
        "**Вывод**\n",
        "\n",
        "Побеждает модель случайного леса, для которой и проведем предсказания на тестовой выборке. Как и в тренажере, из простых моделей предсказуемо побеждает случайный лес. Самая долгосчитаемая модель и дает самый точный результат."
      ]
    },
    {
      "cell_type": "markdown",
      "metadata": {
        "id": "XUE9kaGRLacA"
      },
      "source": [
        "### Проверка на тестовой выборке"
      ]
    },
    {
      "cell_type": "code",
      "metadata": {
        "id": "qRK5wQ2uLacB"
      },
      "source": [
        "model_forest = RandomForestRegressor(\n",
        "            max_depth = 5, n_estimators = 50, random_state = 12321)\n",
        "        \n",
        "t_scores_rou = cross_val_score(model_forest, features_test, target_test_rou, cv=5, scoring = smape_score)\n",
        "t_scores_fin = cross_val_score(model_forest, features_test, target_test_fin, cv=5, scoring = smape_score)\n",
        "\n",
        "scores_rougher = t_scores_rou.sum() / 5\n",
        "scores_final = t_scores_fin.sum() / 5\n",
        "    \n",
        "test_score = smape_final (scores_rougher, scores_final)"
      ],
      "execution_count": null,
      "outputs": []
    },
    {
      "cell_type": "code",
      "metadata": {
        "id": "IpvCetN5LacB",
        "outputId": "0a79ddac-0ace-4c19-d617-afcd9fab6b2a"
      },
      "source": [
        "print ('Итоговый sMAPE для тестовой выборки на лучшей модели: {:.3f}%'.format(test_score))"
      ],
      "execution_count": null,
      "outputs": [
        {
          "output_type": "stream",
          "text": [
            "Итоговый sMAPE для тестовой выборки на лучшей модели: 11.364%\n"
          ],
          "name": "stdout"
        }
      ]
    },
    {
      "cell_type": "markdown",
      "metadata": {
        "id": "JBOXWWgMLacB"
      },
      "source": [
        "###  Сравнение с константной моделью"
      ]
    },
    {
      "cell_type": "markdown",
      "metadata": {
        "id": "dxby3paqLacB"
      },
      "source": [
        "Найдем медиану по целевым признакам и сделаю из них массив нужной длины. "
      ]
    },
    {
      "cell_type": "code",
      "metadata": {
        "id": "RsaPV5AXLacC"
      },
      "source": [
        "median_rou = [target_train_rou.median()] * len(target_train_rou)\n",
        "median_fin = [target_train_fin.median()] * len(target_train_fin)"
      ],
      "execution_count": null,
      "outputs": []
    },
    {
      "cell_type": "code",
      "metadata": {
        "id": "66U9ejhXLacG",
        "outputId": "7b6fdb7f-3227-4cc1-9cf5-e0e0e3ca15ab"
      },
      "source": [
        "score_median_rougher = smape (target_train_rou, median_rou)\n",
        "score_median_final = smape (target_train_fin, median_fin)\n",
        "\n",
        "score_median = smape_final (score_median_rougher, score_median_final)\n",
        "print('Средняя оценка качества константной модели: {:.3f}'.format(score_median))"
      ],
      "execution_count": null,
      "outputs": [
        {
          "output_type": "stream",
          "text": [
            "Средняя оценка качества константной модели: 11.917\n"
          ],
          "name": "stdout"
        }
      ]
    },
    {
      "cell_type": "code",
      "metadata": {
        "id": "A5pwgmg9LacG",
        "outputId": "d06b5a2d-970d-45f0-d7d1-a49d12915252"
      },
      "source": [
        "print('Средняя оценка качества модели линейной регрессии: {:.3f}'.format(score_linear))\n",
        "print ('Средняя оценка качества модели дерева: {:.3f}'.format(best_score_tree))\n",
        "print ('Средняя оценка качества модели случайного леса: {:.3f}'.format(best_score_forest))"
      ],
      "execution_count": null,
      "outputs": [
        {
          "output_type": "stream",
          "text": [
            "Средняя оценка качества модели линейной регрессии: 14.058\n",
            "Средняя оценка качества модели дерева: 11.479\n",
            "Средняя оценка качества модели случайного леса: 10.890\n"
          ],
          "name": "stdout"
        }
      ]
    },
    {
      "cell_type": "markdown",
      "metadata": {
        "id": "ws1thmcQLacH"
      },
      "source": [
        "Очень интерсный результат! Линейная регрессия предсказывает хуже, чем просто медиана. Но зато две другие модели работают лучше (не на много, правда)"
      ]
    },
    {
      "cell_type": "markdown",
      "metadata": {
        "id": "0WQ0-n0pwxLy"
      },
      "source": [
        "## Вывод"
      ]
    },
    {
      "cell_type": "markdown",
      "metadata": {
        "id": "CJC8y74Kw08O"
      },
      "source": [
        "В результате проекта была выбрана модель для предсказания степени обогащения золотоносной руды. Итоговая погрешность составила 11 процентов, что является неплохим результатом. Хотя и немногим ниже константной модели. "
      ]
    }
  ]
}