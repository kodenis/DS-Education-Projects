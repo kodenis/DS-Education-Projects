{
  "nbformat": 4,
  "nbformat_minor": 0,
  "metadata": {
    "ExecuteTimeLog": [
      {
        "duration": 2798,
        "start_time": "2021-09-26T11:37:24.613Z"
      },
      {
        "duration": 67857,
        "start_time": "2021-09-26T11:37:27.414Z"
      },
      {
        "duration": 4930,
        "start_time": "2021-09-26T11:38:35.273Z"
      },
      {
        "duration": 5,
        "start_time": "2021-09-26T11:39:11.256Z"
      },
      {
        "duration": 99,
        "start_time": "2021-09-26T11:39:21.534Z"
      },
      {
        "duration": 243,
        "start_time": "2021-09-26T11:39:23.410Z"
      },
      {
        "duration": 228,
        "start_time": "2021-09-26T11:39:23.820Z"
      },
      {
        "duration": 102,
        "start_time": "2021-09-26T11:39:33.945Z"
      },
      {
        "duration": 10,
        "start_time": "2021-09-26T11:39:37.127Z"
      },
      {
        "duration": 14,
        "start_time": "2021-09-26T11:39:37.782Z"
      },
      {
        "duration": 7,
        "start_time": "2021-09-26T11:39:38.969Z"
      },
      {
        "duration": 9,
        "start_time": "2021-09-26T11:39:39.293Z"
      },
      {
        "duration": 7,
        "start_time": "2021-09-26T11:39:39.635Z"
      },
      {
        "duration": 7,
        "start_time": "2021-09-26T11:39:39.954Z"
      },
      {
        "duration": 13,
        "start_time": "2021-09-26T11:39:40.123Z"
      },
      {
        "duration": 6,
        "start_time": "2021-09-26T11:39:40.443Z"
      },
      {
        "duration": 9,
        "start_time": "2021-09-26T11:39:40.839Z"
      },
      {
        "duration": 5,
        "start_time": "2021-09-26T11:39:42.247Z"
      },
      {
        "duration": 8,
        "start_time": "2021-09-26T11:39:42.445Z"
      },
      {
        "duration": 9,
        "start_time": "2021-09-26T11:39:42.676Z"
      },
      {
        "duration": 888,
        "start_time": "2021-09-26T11:39:44.175Z"
      },
      {
        "duration": 189,
        "start_time": "2021-09-26T11:39:45.065Z"
      },
      {
        "duration": 24,
        "start_time": "2021-09-26T11:39:45.256Z"
      },
      {
        "duration": 189,
        "start_time": "2021-09-26T11:39:45.520Z"
      },
      {
        "duration": 8,
        "start_time": "2021-09-26T11:39:45.775Z"
      },
      {
        "duration": 195,
        "start_time": "2021-09-26T11:39:46.266Z"
      },
      {
        "duration": 5,
        "start_time": "2021-09-26T11:39:47.129Z"
      },
      {
        "duration": 784,
        "start_time": "2021-09-26T11:39:48.024Z"
      },
      {
        "duration": 23,
        "start_time": "2021-09-26T11:39:52.085Z"
      },
      {
        "duration": 7,
        "start_time": "2021-09-26T11:39:54.161Z"
      },
      {
        "duration": 8,
        "start_time": "2021-09-26T11:39:54.774Z"
      },
      {
        "duration": 8,
        "start_time": "2021-09-26T11:39:55.839Z"
      },
      {
        "duration": 601,
        "start_time": "2021-09-26T11:39:56.239Z"
      },
      {
        "duration": 19,
        "start_time": "2021-09-26T11:39:56.842Z"
      },
      {
        "duration": 10,
        "start_time": "2021-09-26T11:39:57.989Z"
      },
      {
        "duration": 11,
        "start_time": "2021-09-26T11:39:58.582Z"
      },
      {
        "duration": 10,
        "start_time": "2021-09-26T11:39:58.770Z"
      },
      {
        "duration": 6,
        "start_time": "2021-09-26T11:40:00.596Z"
      },
      {
        "duration": 6,
        "start_time": "2021-09-26T11:40:00.753Z"
      },
      {
        "duration": 13,
        "start_time": "2021-09-26T11:40:01.457Z"
      },
      {
        "duration": 6,
        "start_time": "2021-09-26T11:40:01.628Z"
      },
      {
        "duration": 13,
        "start_time": "2021-09-26T11:40:02.202Z"
      },
      {
        "duration": 10,
        "start_time": "2021-09-26T11:40:03.155Z"
      },
      {
        "duration": 11,
        "start_time": "2021-09-26T11:40:03.514Z"
      },
      {
        "duration": 5,
        "start_time": "2021-09-26T11:40:04.328Z"
      },
      {
        "duration": 10,
        "start_time": "2021-09-26T11:40:04.535Z"
      },
      {
        "duration": 12,
        "start_time": "2021-09-26T11:40:05.032Z"
      },
      {
        "duration": 9,
        "start_time": "2021-09-26T11:40:05.206Z"
      },
      {
        "duration": 5,
        "start_time": "2021-09-26T11:40:05.826Z"
      },
      {
        "duration": 10,
        "start_time": "2021-09-26T11:40:06.499Z"
      },
      {
        "duration": 9,
        "start_time": "2021-09-26T11:40:06.789Z"
      },
      {
        "duration": 21,
        "start_time": "2021-09-26T11:40:12.557Z"
      },
      {
        "duration": 10,
        "start_time": "2021-09-26T11:52:54.978Z"
      },
      {
        "duration": 4,
        "start_time": "2021-09-26T11:53:01.232Z"
      },
      {
        "duration": 25,
        "start_time": "2021-09-26T11:53:02.105Z"
      },
      {
        "duration": 3,
        "start_time": "2021-09-26T11:53:03.104Z"
      },
      {
        "duration": 219273,
        "start_time": "2021-09-26T11:53:04.902Z"
      },
      {
        "duration": 201,
        "start_time": "2021-09-26T11:56:44.177Z"
      },
      {
        "duration": 43209,
        "start_time": "2021-09-26T11:58:54.492Z"
      },
      {
        "duration": 7,
        "start_time": "2021-09-26T12:02:04.335Z"
      },
      {
        "duration": 4,
        "start_time": "2021-09-26T12:02:06.234Z"
      },
      {
        "duration": 3,
        "start_time": "2021-09-26T12:02:07.619Z"
      },
      {
        "duration": 229508,
        "start_time": "2021-09-26T12:02:10.218Z"
      },
      {
        "duration": 56640,
        "start_time": "2021-09-26T12:05:59.728Z"
      },
      {
        "duration": 3475,
        "start_time": "2021-09-28T14:46:46.964Z"
      },
      {
        "duration": 4092,
        "start_time": "2021-09-28T14:46:50.442Z"
      },
      {
        "duration": 7348,
        "start_time": "2021-09-28T14:46:54.538Z"
      },
      {
        "duration": 10,
        "start_time": "2021-09-28T14:47:01.885Z"
      },
      {
        "duration": 7,
        "start_time": "2021-09-28T14:47:01.890Z"
      },
      {
        "duration": 3,
        "start_time": "2021-09-28T14:47:01.896Z"
      },
      {
        "duration": 0,
        "start_time": "2021-09-28T14:47:01.901Z"
      },
      {
        "duration": -4,
        "start_time": "2021-09-28T14:47:01.906Z"
      },
      {
        "duration": -7,
        "start_time": "2021-09-28T14:47:01.911Z"
      },
      {
        "duration": -10,
        "start_time": "2021-09-28T14:47:01.916Z"
      },
      {
        "duration": -12,
        "start_time": "2021-09-28T14:47:01.920Z"
      },
      {
        "duration": -15,
        "start_time": "2021-09-28T14:47:01.925Z"
      },
      {
        "duration": -22,
        "start_time": "2021-09-28T14:47:01.934Z"
      },
      {
        "duration": -25,
        "start_time": "2021-09-28T14:47:01.939Z"
      },
      {
        "duration": -28,
        "start_time": "2021-09-28T14:47:01.944Z"
      },
      {
        "duration": -32,
        "start_time": "2021-09-28T14:47:01.949Z"
      },
      {
        "duration": -34,
        "start_time": "2021-09-28T14:47:01.953Z"
      },
      {
        "duration": -37,
        "start_time": "2021-09-28T14:47:01.957Z"
      },
      {
        "duration": -40,
        "start_time": "2021-09-28T14:47:01.962Z"
      },
      {
        "duration": -45,
        "start_time": "2021-09-28T14:47:01.968Z"
      },
      {
        "duration": -48,
        "start_time": "2021-09-28T14:47:01.973Z"
      },
      {
        "duration": -53,
        "start_time": "2021-09-28T14:47:01.979Z"
      },
      {
        "duration": -56,
        "start_time": "2021-09-28T14:47:01.984Z"
      },
      {
        "duration": -59,
        "start_time": "2021-09-28T14:47:01.989Z"
      },
      {
        "duration": -63,
        "start_time": "2021-09-28T14:47:01.994Z"
      },
      {
        "duration": -67,
        "start_time": "2021-09-28T14:47:01.999Z"
      },
      {
        "duration": -70,
        "start_time": "2021-09-28T14:47:02.004Z"
      },
      {
        "duration": -73,
        "start_time": "2021-09-28T14:47:02.008Z"
      },
      {
        "duration": -78,
        "start_time": "2021-09-28T14:47:02.015Z"
      },
      {
        "duration": -82,
        "start_time": "2021-09-28T14:47:02.020Z"
      },
      {
        "duration": -83,
        "start_time": "2021-09-28T14:47:02.023Z"
      },
      {
        "duration": -95,
        "start_time": "2021-09-28T14:47:02.036Z"
      },
      {
        "duration": -97,
        "start_time": "2021-09-28T14:47:02.040Z"
      },
      {
        "duration": -101,
        "start_time": "2021-09-28T14:47:02.045Z"
      },
      {
        "duration": -105,
        "start_time": "2021-09-28T14:47:02.050Z"
      },
      {
        "duration": -107,
        "start_time": "2021-09-28T14:47:02.054Z"
      },
      {
        "duration": -139,
        "start_time": "2021-09-28T14:47:02.087Z"
      },
      {
        "duration": -141,
        "start_time": "2021-09-28T14:47:02.091Z"
      },
      {
        "duration": -145,
        "start_time": "2021-09-28T14:47:02.096Z"
      },
      {
        "duration": -147,
        "start_time": "2021-09-28T14:47:02.100Z"
      },
      {
        "duration": -150,
        "start_time": "2021-09-28T14:47:02.104Z"
      },
      {
        "duration": -177,
        "start_time": "2021-09-28T14:47:02.133Z"
      },
      {
        "duration": -187,
        "start_time": "2021-09-28T14:47:02.144Z"
      },
      {
        "duration": -150,
        "start_time": "2021-09-28T14:47:02.169Z"
      },
      {
        "duration": -152,
        "start_time": "2021-09-28T14:47:02.173Z"
      },
      {
        "duration": -178,
        "start_time": "2021-09-28T14:47:02.201Z"
      },
      {
        "duration": -180,
        "start_time": "2021-09-28T14:47:02.205Z"
      },
      {
        "duration": -183,
        "start_time": "2021-09-28T14:47:02.209Z"
      },
      {
        "duration": -208,
        "start_time": "2021-09-28T14:47:02.236Z"
      },
      {
        "duration": -310,
        "start_time": "2021-09-28T14:47:02.339Z"
      },
      {
        "duration": -516,
        "start_time": "2021-09-28T14:47:02.547Z"
      },
      {
        "duration": -519,
        "start_time": "2021-09-28T14:47:02.551Z"
      },
      {
        "duration": -521,
        "start_time": "2021-09-28T14:47:02.555Z"
      },
      {
        "duration": -524,
        "start_time": "2021-09-28T14:47:02.559Z"
      },
      {
        "duration": -527,
        "start_time": "2021-09-28T14:47:02.564Z"
      },
      {
        "duration": -530,
        "start_time": "2021-09-28T14:47:02.568Z"
      },
      {
        "duration": -532,
        "start_time": "2021-09-28T14:47:02.572Z"
      },
      {
        "duration": -535,
        "start_time": "2021-09-28T14:47:02.576Z"
      },
      {
        "duration": -538,
        "start_time": "2021-09-28T14:47:02.580Z"
      },
      {
        "duration": -540,
        "start_time": "2021-09-28T14:47:02.584Z"
      },
      {
        "duration": -561,
        "start_time": "2021-09-28T14:47:02.606Z"
      },
      {
        "duration": -564,
        "start_time": "2021-09-28T14:47:02.611Z"
      },
      {
        "duration": -577,
        "start_time": "2021-09-28T14:47:02.625Z"
      },
      {
        "duration": -580,
        "start_time": "2021-09-28T14:47:02.629Z"
      },
      {
        "duration": -591,
        "start_time": "2021-09-28T14:47:02.642Z"
      },
      {
        "duration": -595,
        "start_time": "2021-09-28T14:47:02.647Z"
      },
      {
        "duration": -605,
        "start_time": "2021-09-28T14:47:02.659Z"
      },
      {
        "duration": -547,
        "start_time": "2021-09-28T14:47:02.663Z"
      },
      {
        "duration": -570,
        "start_time": "2021-09-28T14:47:02.688Z"
      },
      {
        "duration": -580,
        "start_time": "2021-09-28T14:47:02.699Z"
      },
      {
        "duration": -581,
        "start_time": "2021-09-28T14:47:02.702Z"
      },
      {
        "duration": -591,
        "start_time": "2021-09-28T14:47:02.713Z"
      },
      {
        "duration": -593,
        "start_time": "2021-09-28T14:47:02.717Z"
      },
      {
        "duration": -596,
        "start_time": "2021-09-28T14:47:02.721Z"
      },
      {
        "duration": -598,
        "start_time": "2021-09-28T14:47:02.725Z"
      },
      {
        "duration": -600,
        "start_time": "2021-09-28T14:47:02.729Z"
      },
      {
        "duration": -603,
        "start_time": "2021-09-28T14:47:02.733Z"
      },
      {
        "duration": 948,
        "start_time": "2021-09-28T14:47:32.335Z"
      },
      {
        "duration": 586,
        "start_time": "2021-09-28T14:47:52.654Z"
      },
      {
        "duration": 456,
        "start_time": "2021-09-28T14:48:43.488Z"
      },
      {
        "duration": 428,
        "start_time": "2021-09-28T14:48:49.781Z"
      },
      {
        "duration": 9,
        "start_time": "2021-09-28T14:49:02.698Z"
      },
      {
        "duration": 3350,
        "start_time": "2021-09-28T14:49:11.600Z"
      },
      {
        "duration": 3369,
        "start_time": "2021-09-28T14:49:14.953Z"
      },
      {
        "duration": 5625,
        "start_time": "2021-09-28T14:49:18.326Z"
      },
      {
        "duration": 118,
        "start_time": "2021-09-28T14:49:23.954Z"
      },
      {
        "duration": 16,
        "start_time": "2021-09-28T14:49:24.075Z"
      },
      {
        "duration": 28,
        "start_time": "2021-09-28T14:49:24.094Z"
      },
      {
        "duration": 12,
        "start_time": "2021-09-28T14:49:24.125Z"
      },
      {
        "duration": 14,
        "start_time": "2021-09-28T14:49:24.141Z"
      },
      {
        "duration": 9,
        "start_time": "2021-09-28T14:49:24.158Z"
      },
      {
        "duration": 13,
        "start_time": "2021-09-28T14:49:24.170Z"
      },
      {
        "duration": 50,
        "start_time": "2021-09-28T14:49:24.185Z"
      },
      {
        "duration": 10,
        "start_time": "2021-09-28T14:49:24.237Z"
      },
      {
        "duration": 16,
        "start_time": "2021-09-28T14:49:24.249Z"
      },
      {
        "duration": 4,
        "start_time": "2021-09-28T14:49:24.268Z"
      },
      {
        "duration": 48,
        "start_time": "2021-09-28T14:49:24.275Z"
      },
      {
        "duration": 15,
        "start_time": "2021-09-28T14:49:24.326Z"
      },
      {
        "duration": 1328,
        "start_time": "2021-09-28T14:49:24.344Z"
      },
      {
        "duration": 319,
        "start_time": "2021-09-28T14:49:25.674Z"
      },
      {
        "duration": 44,
        "start_time": "2021-09-28T14:49:25.996Z"
      },
      {
        "duration": 432,
        "start_time": "2021-09-28T14:49:26.043Z"
      },
      {
        "duration": 14,
        "start_time": "2021-09-28T14:49:26.478Z"
      },
      {
        "duration": 438,
        "start_time": "2021-09-28T14:49:26.495Z"
      },
      {
        "duration": 8,
        "start_time": "2021-09-28T14:49:26.943Z"
      },
      {
        "duration": 1125,
        "start_time": "2021-09-28T14:49:26.955Z"
      },
      {
        "duration": 45,
        "start_time": "2021-09-28T14:49:28.083Z"
      },
      {
        "duration": 10,
        "start_time": "2021-09-28T14:49:28.131Z"
      },
      {
        "duration": 14,
        "start_time": "2021-09-28T14:49:28.144Z"
      },
      {
        "duration": 11,
        "start_time": "2021-09-28T14:49:28.161Z"
      },
      {
        "duration": 1059,
        "start_time": "2021-09-28T14:49:28.174Z"
      },
      {
        "duration": 34,
        "start_time": "2021-09-28T14:49:29.236Z"
      },
      {
        "duration": 14,
        "start_time": "2021-09-28T14:49:29.272Z"
      },
      {
        "duration": 16,
        "start_time": "2021-09-28T14:49:29.316Z"
      },
      {
        "duration": 14,
        "start_time": "2021-09-28T14:49:29.335Z"
      },
      {
        "duration": 11,
        "start_time": "2021-09-28T14:49:29.352Z"
      },
      {
        "duration": 10,
        "start_time": "2021-09-28T14:49:29.366Z"
      },
      {
        "duration": 57,
        "start_time": "2021-09-28T14:49:29.379Z"
      },
      {
        "duration": 9,
        "start_time": "2021-09-28T14:49:29.439Z"
      },
      {
        "duration": 27,
        "start_time": "2021-09-28T14:49:29.451Z"
      },
      {
        "duration": 45,
        "start_time": "2021-09-28T14:49:29.481Z"
      },
      {
        "duration": 21,
        "start_time": "2021-09-28T14:49:29.529Z"
      },
      {
        "duration": 8,
        "start_time": "2021-09-28T14:49:29.553Z"
      },
      {
        "duration": 60,
        "start_time": "2021-09-28T14:49:29.564Z"
      },
      {
        "duration": 19,
        "start_time": "2021-09-28T14:49:29.627Z"
      },
      {
        "duration": 16,
        "start_time": "2021-09-28T14:49:29.649Z"
      },
      {
        "duration": 7,
        "start_time": "2021-09-28T14:49:29.667Z"
      },
      {
        "duration": 51,
        "start_time": "2021-09-28T14:49:29.676Z"
      },
      {
        "duration": 15,
        "start_time": "2021-09-28T14:49:29.729Z"
      },
      {
        "duration": 32,
        "start_time": "2021-09-28T14:49:29.746Z"
      },
      {
        "duration": 46,
        "start_time": "2021-09-28T14:49:29.780Z"
      },
      {
        "duration": 6,
        "start_time": "2021-09-28T14:49:29.828Z"
      },
      {
        "duration": 952,
        "start_time": "2021-09-28T14:49:29.837Z"
      },
      {
        "duration": 14,
        "start_time": "2021-09-28T14:49:30.779Z"
      },
      {
        "duration": 12,
        "start_time": "2021-09-28T14:49:30.783Z"
      },
      {
        "duration": 8,
        "start_time": "2021-09-28T14:49:30.788Z"
      },
      {
        "duration": 5,
        "start_time": "2021-09-28T14:49:30.793Z"
      },
      {
        "duration": 3,
        "start_time": "2021-09-28T14:49:30.797Z"
      },
      {
        "duration": 1,
        "start_time": "2021-09-28T14:49:30.801Z"
      },
      {
        "duration": -2,
        "start_time": "2021-09-28T14:49:30.806Z"
      },
      {
        "duration": -5,
        "start_time": "2021-09-28T14:49:30.810Z"
      },
      {
        "duration": -7,
        "start_time": "2021-09-28T14:49:30.814Z"
      },
      {
        "duration": -9,
        "start_time": "2021-09-28T14:49:30.818Z"
      },
      {
        "duration": -11,
        "start_time": "2021-09-28T14:49:30.822Z"
      },
      {
        "duration": -20,
        "start_time": "2021-09-28T14:49:30.832Z"
      },
      {
        "duration": -23,
        "start_time": "2021-09-28T14:49:30.836Z"
      },
      {
        "duration": -25,
        "start_time": "2021-09-28T14:49:30.840Z"
      },
      {
        "duration": -27,
        "start_time": "2021-09-28T14:49:30.844Z"
      },
      {
        "duration": -30,
        "start_time": "2021-09-28T14:49:30.848Z"
      },
      {
        "duration": -31,
        "start_time": "2021-09-28T14:49:30.851Z"
      },
      {
        "duration": -36,
        "start_time": "2021-09-28T14:49:30.858Z"
      },
      {
        "duration": -38,
        "start_time": "2021-09-28T14:49:30.862Z"
      },
      {
        "duration": -42,
        "start_time": "2021-09-28T14:49:30.867Z"
      },
      {
        "duration": -44,
        "start_time": "2021-09-28T14:49:30.871Z"
      },
      {
        "duration": -47,
        "start_time": "2021-09-28T14:49:30.876Z"
      },
      {
        "duration": -48,
        "start_time": "2021-09-28T14:49:30.879Z"
      },
      {
        "duration": -54,
        "start_time": "2021-09-28T14:49:30.886Z"
      },
      {
        "duration": -57,
        "start_time": "2021-09-28T14:49:30.891Z"
      },
      {
        "duration": -59,
        "start_time": "2021-09-28T14:49:30.895Z"
      },
      {
        "duration": 34,
        "start_time": "2021-09-28T14:50:29.799Z"
      },
      {
        "duration": 4,
        "start_time": "2021-09-28T14:50:31.026Z"
      },
      {
        "duration": 317214,
        "start_time": "2021-09-28T14:50:32.468Z"
      },
      {
        "duration": 320,
        "start_time": "2021-09-28T14:55:49.684Z"
      },
      {
        "duration": 391,
        "start_time": "2021-09-28T15:09:27.367Z"
      },
      {
        "duration": 409,
        "start_time": "2021-09-28T15:09:42.896Z"
      },
      {
        "duration": 35,
        "start_time": "2021-09-28T15:10:30.124Z"
      },
      {
        "duration": 421,
        "start_time": "2021-09-28T15:11:18.525Z"
      },
      {
        "duration": 27,
        "start_time": "2021-09-28T15:12:03.317Z"
      },
      {
        "duration": 414,
        "start_time": "2021-09-28T15:13:48.083Z"
      },
      {
        "duration": 37,
        "start_time": "2021-09-28T15:14:01.121Z"
      },
      {
        "duration": 492,
        "start_time": "2021-09-28T15:14:54.144Z"
      },
      {
        "duration": 31,
        "start_time": "2021-09-28T15:15:53.649Z"
      },
      {
        "duration": 42,
        "start_time": "2021-09-28T15:17:05.943Z"
      },
      {
        "duration": 34,
        "start_time": "2021-09-28T15:17:23.026Z"
      },
      {
        "duration": 625,
        "start_time": "2021-09-28T15:20:18.052Z"
      },
      {
        "duration": 13,
        "start_time": "2021-09-28T15:20:27.786Z"
      },
      {
        "duration": 4,
        "start_time": "2021-09-28T15:21:34.011Z"
      },
      {
        "duration": 3427,
        "start_time": "2021-09-28T15:21:44.066Z"
      },
      {
        "duration": 3353,
        "start_time": "2021-09-28T15:21:47.496Z"
      },
      {
        "duration": 8,
        "start_time": "2021-09-28T15:21:50.853Z"
      },
      {
        "duration": 142,
        "start_time": "2021-09-28T15:21:50.865Z"
      },
      {
        "duration": 12,
        "start_time": "2021-09-28T15:21:51.009Z"
      },
      {
        "duration": 40,
        "start_time": "2021-09-28T15:21:51.024Z"
      },
      {
        "duration": 29,
        "start_time": "2021-09-28T15:21:51.067Z"
      },
      {
        "duration": 32,
        "start_time": "2021-09-28T15:21:51.099Z"
      },
      {
        "duration": 32,
        "start_time": "2021-09-28T15:21:51.134Z"
      },
      {
        "duration": 28,
        "start_time": "2021-09-28T15:21:51.169Z"
      },
      {
        "duration": 36,
        "start_time": "2021-09-28T15:21:51.200Z"
      },
      {
        "duration": 13,
        "start_time": "2021-09-28T15:21:51.240Z"
      },
      {
        "duration": 30,
        "start_time": "2021-09-28T15:21:51.256Z"
      },
      {
        "duration": 25,
        "start_time": "2021-09-28T15:21:51.288Z"
      },
      {
        "duration": 33,
        "start_time": "2021-09-28T15:21:51.315Z"
      },
      {
        "duration": 25,
        "start_time": "2021-09-28T15:21:51.351Z"
      },
      {
        "duration": 1292,
        "start_time": "2021-09-28T15:21:51.379Z"
      },
      {
        "duration": 12,
        "start_time": "2021-09-28T15:21:52.674Z"
      },
      {
        "duration": 330,
        "start_time": "2021-09-28T15:21:52.689Z"
      },
      {
        "duration": 23,
        "start_time": "2021-09-28T15:21:53.022Z"
      },
      {
        "duration": 349,
        "start_time": "2021-09-28T15:21:53.047Z"
      },
      {
        "duration": 19,
        "start_time": "2021-09-28T15:21:53.399Z"
      },
      {
        "duration": 341,
        "start_time": "2021-09-28T15:21:53.424Z"
      },
      {
        "duration": 4,
        "start_time": "2021-09-28T15:21:53.768Z"
      },
      {
        "duration": 1131,
        "start_time": "2021-09-28T15:21:53.774Z"
      },
      {
        "duration": 37,
        "start_time": "2021-09-28T15:21:54.908Z"
      },
      {
        "duration": 10,
        "start_time": "2021-09-28T15:21:54.948Z"
      },
      {
        "duration": 14,
        "start_time": "2021-09-28T15:21:54.960Z"
      },
      {
        "duration": 48,
        "start_time": "2021-09-28T15:21:54.976Z"
      },
      {
        "duration": 1039,
        "start_time": "2021-09-28T15:21:55.026Z"
      },
      {
        "duration": 23,
        "start_time": "2021-09-28T15:21:56.067Z"
      },
      {
        "duration": 55,
        "start_time": "2021-09-28T15:21:56.093Z"
      },
      {
        "duration": 13,
        "start_time": "2021-09-28T15:21:56.150Z"
      },
      {
        "duration": 16,
        "start_time": "2021-09-28T15:21:56.165Z"
      },
      {
        "duration": 40,
        "start_time": "2021-09-28T15:21:56.184Z"
      },
      {
        "duration": 7,
        "start_time": "2021-09-28T15:21:56.226Z"
      },
      {
        "duration": 6,
        "start_time": "2021-09-28T15:21:56.236Z"
      },
      {
        "duration": 20,
        "start_time": "2021-09-28T15:21:56.245Z"
      },
      {
        "duration": 7,
        "start_time": "2021-09-28T15:21:56.267Z"
      },
      {
        "duration": 57,
        "start_time": "2021-09-28T15:21:56.276Z"
      },
      {
        "duration": 11,
        "start_time": "2021-09-28T15:21:56.335Z"
      },
      {
        "duration": 20,
        "start_time": "2021-09-28T15:21:56.348Z"
      },
      {
        "duration": 8,
        "start_time": "2021-09-28T15:21:56.371Z"
      },
      {
        "duration": 46,
        "start_time": "2021-09-28T15:21:56.381Z"
      },
      {
        "duration": 19,
        "start_time": "2021-09-28T15:21:56.430Z"
      },
      {
        "duration": 15,
        "start_time": "2021-09-28T15:21:56.452Z"
      },
      {
        "duration": 46,
        "start_time": "2021-09-28T15:21:56.470Z"
      },
      {
        "duration": 17,
        "start_time": "2021-09-28T15:21:56.519Z"
      },
      {
        "duration": 17,
        "start_time": "2021-09-28T15:21:56.539Z"
      },
      {
        "duration": 69,
        "start_time": "2021-09-28T15:21:56.558Z"
      },
      {
        "duration": 13,
        "start_time": "2021-09-28T15:21:56.630Z"
      },
      {
        "duration": 5,
        "start_time": "2021-09-28T15:21:56.646Z"
      },
      {
        "duration": 79,
        "start_time": "2021-09-28T15:21:56.653Z"
      },
      {
        "duration": 4,
        "start_time": "2021-09-28T15:21:56.735Z"
      },
      {
        "duration": 127501,
        "start_time": "2021-09-28T15:21:56.743Z"
      },
      {
        "duration": 308,
        "start_time": "2021-09-28T15:24:04.246Z"
      },
      {
        "duration": 3604,
        "start_time": "2021-09-28T15:26:08.931Z"
      },
      {
        "duration": 3387,
        "start_time": "2021-09-28T15:26:12.538Z"
      },
      {
        "duration": 9,
        "start_time": "2021-09-28T15:26:15.928Z"
      },
      {
        "duration": 125,
        "start_time": "2021-09-28T15:26:15.940Z"
      },
      {
        "duration": 12,
        "start_time": "2021-09-28T15:26:16.068Z"
      },
      {
        "duration": 20,
        "start_time": "2021-09-28T15:26:16.082Z"
      },
      {
        "duration": 13,
        "start_time": "2021-09-28T15:26:16.104Z"
      },
      {
        "duration": 6,
        "start_time": "2021-09-28T15:26:16.120Z"
      },
      {
        "duration": 14,
        "start_time": "2021-09-28T15:26:16.129Z"
      },
      {
        "duration": 22,
        "start_time": "2021-09-28T15:26:16.145Z"
      },
      {
        "duration": 26,
        "start_time": "2021-09-28T15:26:16.169Z"
      },
      {
        "duration": 22,
        "start_time": "2021-09-28T15:26:16.198Z"
      },
      {
        "duration": 14,
        "start_time": "2021-09-28T15:26:16.223Z"
      },
      {
        "duration": 4,
        "start_time": "2021-09-28T15:26:16.239Z"
      },
      {
        "duration": 12,
        "start_time": "2021-09-28T15:26:16.245Z"
      },
      {
        "duration": 13,
        "start_time": "2021-09-28T15:26:16.259Z"
      },
      {
        "duration": 55,
        "start_time": "2021-09-28T15:26:16.275Z"
      },
      {
        "duration": 1335,
        "start_time": "2021-09-28T15:26:16.332Z"
      },
      {
        "duration": 14,
        "start_time": "2021-09-28T15:26:17.670Z"
      },
      {
        "duration": 320,
        "start_time": "2021-09-28T15:26:17.686Z"
      },
      {
        "duration": 28,
        "start_time": "2021-09-28T15:26:18.010Z"
      },
      {
        "duration": 551,
        "start_time": "2021-09-28T15:26:18.041Z"
      },
      {
        "duration": 21,
        "start_time": "2021-09-28T15:26:18.597Z"
      },
      {
        "duration": 348,
        "start_time": "2021-09-28T15:26:18.622Z"
      },
      {
        "duration": 4,
        "start_time": "2021-09-28T15:26:18.972Z"
      },
      {
        "duration": 1315,
        "start_time": "2021-09-28T15:26:18.978Z"
      },
      {
        "duration": 46,
        "start_time": "2021-09-28T15:26:20.295Z"
      },
      {
        "duration": 9,
        "start_time": "2021-09-28T15:26:20.344Z"
      },
      {
        "duration": 30,
        "start_time": "2021-09-28T15:26:20.356Z"
      },
      {
        "duration": 34,
        "start_time": "2021-09-28T15:26:20.388Z"
      },
      {
        "duration": 1036,
        "start_time": "2021-09-28T15:26:20.425Z"
      },
      {
        "duration": 22,
        "start_time": "2021-09-28T15:26:21.464Z"
      },
      {
        "duration": 56,
        "start_time": "2021-09-28T15:26:21.488Z"
      },
      {
        "duration": 12,
        "start_time": "2021-09-28T15:26:21.547Z"
      },
      {
        "duration": 37,
        "start_time": "2021-09-28T15:26:21.562Z"
      },
      {
        "duration": 30,
        "start_time": "2021-09-28T15:26:21.601Z"
      },
      {
        "duration": 30,
        "start_time": "2021-09-28T15:26:21.634Z"
      },
      {
        "duration": 21,
        "start_time": "2021-09-28T15:26:21.666Z"
      },
      {
        "duration": 42,
        "start_time": "2021-09-28T15:26:21.690Z"
      },
      {
        "duration": 23,
        "start_time": "2021-09-28T15:26:21.735Z"
      },
      {
        "duration": 33,
        "start_time": "2021-09-28T15:26:21.760Z"
      },
      {
        "duration": 33,
        "start_time": "2021-09-28T15:26:21.795Z"
      },
      {
        "duration": 37,
        "start_time": "2021-09-28T15:26:21.831Z"
      },
      {
        "duration": 21,
        "start_time": "2021-09-28T15:26:21.871Z"
      },
      {
        "duration": 27,
        "start_time": "2021-09-28T15:26:21.895Z"
      },
      {
        "duration": 29,
        "start_time": "2021-09-28T15:26:21.924Z"
      },
      {
        "duration": 23,
        "start_time": "2021-09-28T15:26:21.956Z"
      },
      {
        "duration": 19,
        "start_time": "2021-09-28T15:26:21.982Z"
      },
      {
        "duration": 33,
        "start_time": "2021-09-28T15:26:22.003Z"
      },
      {
        "duration": 14,
        "start_time": "2021-09-28T15:26:22.038Z"
      },
      {
        "duration": 36,
        "start_time": "2021-09-28T15:26:22.054Z"
      },
      {
        "duration": 13,
        "start_time": "2021-09-28T15:26:22.093Z"
      },
      {
        "duration": 8,
        "start_time": "2021-09-28T15:26:22.117Z"
      },
      {
        "duration": 59,
        "start_time": "2021-09-28T15:26:22.127Z"
      },
      {
        "duration": 12,
        "start_time": "2021-09-28T15:26:22.188Z"
      },
      {
        "duration": 171699,
        "start_time": "2021-09-28T15:26:22.203Z"
      },
      {
        "duration": 332,
        "start_time": "2021-09-28T15:29:13.905Z"
      },
      {
        "duration": 3435,
        "start_time": "2021-09-28T15:29:56.304Z"
      },
      {
        "duration": 3550,
        "start_time": "2021-09-28T15:29:59.742Z"
      },
      {
        "duration": 9,
        "start_time": "2021-09-28T15:30:03.296Z"
      },
      {
        "duration": 130,
        "start_time": "2021-09-28T15:30:03.308Z"
      },
      {
        "duration": 13,
        "start_time": "2021-09-28T15:30:03.441Z"
      },
      {
        "duration": 28,
        "start_time": "2021-09-28T15:30:03.457Z"
      },
      {
        "duration": 20,
        "start_time": "2021-09-28T15:30:03.487Z"
      },
      {
        "duration": 10,
        "start_time": "2021-09-28T15:30:03.512Z"
      },
      {
        "duration": 27,
        "start_time": "2021-09-28T15:30:03.526Z"
      },
      {
        "duration": 21,
        "start_time": "2021-09-28T15:30:03.556Z"
      },
      {
        "duration": 26,
        "start_time": "2021-09-28T15:30:03.581Z"
      },
      {
        "duration": 14,
        "start_time": "2021-09-28T15:30:03.610Z"
      },
      {
        "duration": 16,
        "start_time": "2021-09-28T15:30:03.627Z"
      },
      {
        "duration": 7,
        "start_time": "2021-09-28T15:30:03.645Z"
      },
      {
        "duration": 19,
        "start_time": "2021-09-28T15:30:03.654Z"
      },
      {
        "duration": 47,
        "start_time": "2021-09-28T15:30:03.676Z"
      },
      {
        "duration": 13,
        "start_time": "2021-09-28T15:30:03.726Z"
      },
      {
        "duration": 1470,
        "start_time": "2021-09-28T15:30:03.741Z"
      },
      {
        "duration": 13,
        "start_time": "2021-09-28T15:30:05.216Z"
      },
      {
        "duration": 344,
        "start_time": "2021-09-28T15:30:05.231Z"
      },
      {
        "duration": 38,
        "start_time": "2021-09-28T15:30:05.578Z"
      },
      {
        "duration": 359,
        "start_time": "2021-09-28T15:30:05.619Z"
      },
      {
        "duration": 11,
        "start_time": "2021-09-28T15:30:05.983Z"
      },
      {
        "duration": 370,
        "start_time": "2021-09-28T15:30:05.998Z"
      },
      {
        "duration": 7,
        "start_time": "2021-09-28T15:30:06.371Z"
      },
      {
        "duration": 1372,
        "start_time": "2021-09-28T15:30:06.381Z"
      },
      {
        "duration": 39,
        "start_time": "2021-09-28T15:30:07.755Z"
      },
      {
        "duration": 28,
        "start_time": "2021-09-28T15:30:07.797Z"
      },
      {
        "duration": 16,
        "start_time": "2021-09-28T15:30:07.827Z"
      },
      {
        "duration": 14,
        "start_time": "2021-09-28T15:30:07.845Z"
      },
      {
        "duration": 1343,
        "start_time": "2021-09-28T15:30:07.861Z"
      },
      {
        "duration": 28,
        "start_time": "2021-09-28T15:30:09.206Z"
      },
      {
        "duration": 37,
        "start_time": "2021-09-28T15:30:09.237Z"
      },
      {
        "duration": 41,
        "start_time": "2021-09-28T15:30:09.277Z"
      },
      {
        "duration": 18,
        "start_time": "2021-09-28T15:30:09.321Z"
      },
      {
        "duration": 14,
        "start_time": "2021-09-28T15:30:09.342Z"
      },
      {
        "duration": 8,
        "start_time": "2021-09-28T15:30:09.359Z"
      },
      {
        "duration": 48,
        "start_time": "2021-09-28T15:30:09.370Z"
      },
      {
        "duration": 21,
        "start_time": "2021-09-28T15:30:09.420Z"
      },
      {
        "duration": 8,
        "start_time": "2021-09-28T15:30:09.444Z"
      },
      {
        "duration": 25,
        "start_time": "2021-09-28T15:30:09.455Z"
      },
      {
        "duration": 35,
        "start_time": "2021-09-28T15:30:09.483Z"
      },
      {
        "duration": 31,
        "start_time": "2021-09-28T15:30:09.520Z"
      },
      {
        "duration": 11,
        "start_time": "2021-09-28T15:30:09.555Z"
      },
      {
        "duration": 22,
        "start_time": "2021-09-28T15:30:09.569Z"
      },
      {
        "duration": 21,
        "start_time": "2021-09-28T15:30:09.618Z"
      },
      {
        "duration": 16,
        "start_time": "2021-09-28T15:30:09.641Z"
      },
      {
        "duration": 10,
        "start_time": "2021-09-28T15:30:09.660Z"
      },
      {
        "duration": 54,
        "start_time": "2021-09-28T15:30:09.673Z"
      },
      {
        "duration": 16,
        "start_time": "2021-09-28T15:30:09.729Z"
      },
      {
        "duration": 36,
        "start_time": "2021-09-28T15:30:09.748Z"
      },
      {
        "duration": 37,
        "start_time": "2021-09-28T15:30:09.786Z"
      },
      {
        "duration": 12,
        "start_time": "2021-09-28T15:30:09.826Z"
      },
      {
        "duration": 56,
        "start_time": "2021-09-28T15:30:09.841Z"
      },
      {
        "duration": 17,
        "start_time": "2021-09-28T15:30:09.899Z"
      },
      {
        "duration": 152157,
        "start_time": "2021-09-28T15:30:09.919Z"
      },
      {
        "duration": 343,
        "start_time": "2021-09-28T15:32:42.078Z"
      },
      {
        "duration": 43383,
        "start_time": "2021-09-28T15:33:57.189Z"
      },
      {
        "duration": 10,
        "start_time": "2021-09-28T15:36:19.497Z"
      },
      {
        "duration": 5,
        "start_time": "2021-09-28T15:36:20.385Z"
      },
      {
        "duration": 4,
        "start_time": "2021-09-28T15:37:22.890Z"
      },
      {
        "duration": 120337,
        "start_time": "2021-09-28T15:37:23.572Z"
      },
      {
        "duration": 2895,
        "start_time": "2021-09-28T15:39:23.912Z"
      },
      {
        "duration": 9,
        "start_time": "2021-09-28T15:40:56.961Z"
      },
      {
        "duration": 6,
        "start_time": "2021-09-28T15:40:57.937Z"
      },
      {
        "duration": 4,
        "start_time": "2021-09-28T15:40:58.737Z"
      },
      {
        "duration": 114002,
        "start_time": "2021-09-28T15:40:59.561Z"
      },
      {
        "duration": 3444,
        "start_time": "2021-09-28T15:43:57.875Z"
      },
      {
        "duration": 3508,
        "start_time": "2021-09-28T15:44:01.323Z"
      },
      {
        "duration": 5540,
        "start_time": "2021-09-28T15:44:04.836Z"
      },
      {
        "duration": 124,
        "start_time": "2021-09-28T15:44:10.379Z"
      },
      {
        "duration": 11,
        "start_time": "2021-09-28T15:44:10.506Z"
      },
      {
        "duration": 23,
        "start_time": "2021-09-28T15:44:10.519Z"
      },
      {
        "duration": 9,
        "start_time": "2021-09-28T15:44:10.544Z"
      },
      {
        "duration": 14,
        "start_time": "2021-09-28T15:44:10.559Z"
      },
      {
        "duration": 45,
        "start_time": "2021-09-28T15:44:10.576Z"
      },
      {
        "duration": 9,
        "start_time": "2021-09-28T15:44:10.623Z"
      },
      {
        "duration": 23,
        "start_time": "2021-09-28T15:44:10.635Z"
      },
      {
        "duration": 7,
        "start_time": "2021-09-28T15:44:10.660Z"
      },
      {
        "duration": 51,
        "start_time": "2021-09-28T15:44:10.669Z"
      },
      {
        "duration": 3,
        "start_time": "2021-09-28T15:44:10.723Z"
      },
      {
        "duration": 12,
        "start_time": "2021-09-28T15:44:10.729Z"
      },
      {
        "duration": 12,
        "start_time": "2021-09-28T15:44:10.743Z"
      },
      {
        "duration": 14,
        "start_time": "2021-09-28T15:44:10.757Z"
      },
      {
        "duration": 1486,
        "start_time": "2021-09-28T15:44:10.773Z"
      },
      {
        "duration": 13,
        "start_time": "2021-09-28T15:44:12.261Z"
      },
      {
        "duration": 318,
        "start_time": "2021-09-28T15:44:12.276Z"
      },
      {
        "duration": 35,
        "start_time": "2021-09-28T15:44:12.596Z"
      },
      {
        "duration": 324,
        "start_time": "2021-09-28T15:44:12.633Z"
      },
      {
        "duration": 10,
        "start_time": "2021-09-28T15:44:12.964Z"
      },
      {
        "duration": 350,
        "start_time": "2021-09-28T15:44:12.977Z"
      },
      {
        "duration": 3,
        "start_time": "2021-09-28T15:44:13.330Z"
      },
      {
        "duration": 1301,
        "start_time": "2021-09-28T15:44:13.335Z"
      },
      {
        "duration": 36,
        "start_time": "2021-09-28T15:44:14.639Z"
      },
      {
        "duration": 10,
        "start_time": "2021-09-28T15:44:14.678Z"
      },
      {
        "duration": 12,
        "start_time": "2021-09-28T15:44:14.717Z"
      },
      {
        "duration": 16,
        "start_time": "2021-09-28T15:44:14.731Z"
      },
      {
        "duration": 1039,
        "start_time": "2021-09-28T15:44:14.749Z"
      },
      {
        "duration": 38,
        "start_time": "2021-09-28T15:44:15.791Z"
      },
      {
        "duration": 34,
        "start_time": "2021-09-28T15:44:15.831Z"
      },
      {
        "duration": 13,
        "start_time": "2021-09-28T15:44:15.867Z"
      },
      {
        "duration": 44,
        "start_time": "2021-09-28T15:44:15.882Z"
      },
      {
        "duration": 17,
        "start_time": "2021-09-28T15:44:15.928Z"
      },
      {
        "duration": 11,
        "start_time": "2021-09-28T15:44:15.948Z"
      },
      {
        "duration": 14,
        "start_time": "2021-09-28T15:44:15.961Z"
      },
      {
        "duration": 20,
        "start_time": "2021-09-28T15:44:15.977Z"
      },
      {
        "duration": 21,
        "start_time": "2021-09-28T15:44:15.999Z"
      },
      {
        "duration": 31,
        "start_time": "2021-09-28T15:44:16.023Z"
      },
      {
        "duration": 10,
        "start_time": "2021-09-28T15:44:16.057Z"
      },
      {
        "duration": 21,
        "start_time": "2021-09-28T15:44:16.069Z"
      },
      {
        "duration": 24,
        "start_time": "2021-09-28T15:44:16.093Z"
      },
      {
        "duration": 13,
        "start_time": "2021-09-28T15:44:16.120Z"
      },
      {
        "duration": 20,
        "start_time": "2021-09-28T15:44:16.135Z"
      },
      {
        "duration": 12,
        "start_time": "2021-09-28T15:44:16.157Z"
      },
      {
        "duration": 45,
        "start_time": "2021-09-28T15:44:16.171Z"
      },
      {
        "duration": 14,
        "start_time": "2021-09-28T15:44:16.219Z"
      },
      {
        "duration": 21,
        "start_time": "2021-09-28T15:44:16.235Z"
      },
      {
        "duration": 33,
        "start_time": "2021-09-28T15:44:16.258Z"
      },
      {
        "duration": 35,
        "start_time": "2021-09-28T15:44:16.293Z"
      },
      {
        "duration": 14,
        "start_time": "2021-09-28T15:44:16.330Z"
      },
      {
        "duration": 46,
        "start_time": "2021-09-28T15:44:16.346Z"
      },
      {
        "duration": 21,
        "start_time": "2021-09-28T15:44:16.395Z"
      },
      {
        "duration": 135213,
        "start_time": "2021-09-28T15:44:16.419Z"
      },
      {
        "duration": 316,
        "start_time": "2021-09-28T15:46:31.635Z"
      },
      {
        "duration": 39168,
        "start_time": "2021-09-28T15:46:31.954Z"
      },
      {
        "duration": 9,
        "start_time": "2021-09-28T15:47:11.124Z"
      },
      {
        "duration": 12,
        "start_time": "2021-09-28T15:47:11.136Z"
      },
      {
        "duration": 181,
        "start_time": "2021-09-28T15:47:11.150Z"
      },
      {
        "duration": 147667,
        "start_time": "2021-09-28T15:47:11.334Z"
      },
      {
        "duration": 3494,
        "start_time": "2021-09-28T15:49:39.004Z"
      },
      {
        "duration": 158,
        "start_time": "2021-09-28T15:49:42.345Z"
      },
      {
        "duration": 154,
        "start_time": "2021-09-28T15:49:42.351Z"
      },
      {
        "duration": 153,
        "start_time": "2021-09-28T15:49:42.355Z"
      },
      {
        "duration": 149,
        "start_time": "2021-09-28T15:49:42.361Z"
      },
      {
        "duration": 141,
        "start_time": "2021-09-28T15:49:42.372Z"
      },
      {
        "duration": 139,
        "start_time": "2021-09-28T15:49:42.377Z"
      },
      {
        "duration": 136,
        "start_time": "2021-09-28T15:49:42.382Z"
      },
      {
        "duration": 132,
        "start_time": "2021-09-28T15:49:42.389Z"
      },
      {
        "duration": 129,
        "start_time": "2021-09-28T15:49:42.394Z"
      },
      {
        "duration": 126,
        "start_time": "2021-09-28T15:49:42.399Z"
      },
      {
        "duration": 124,
        "start_time": "2021-09-28T15:49:42.404Z"
      },
      {
        "duration": 121,
        "start_time": "2021-09-28T15:49:42.409Z"
      },
      {
        "duration": 119,
        "start_time": "2021-09-28T15:49:42.413Z"
      },
      {
        "duration": 109,
        "start_time": "2021-09-28T15:49:42.425Z"
      },
      {
        "duration": 107,
        "start_time": "2021-09-28T15:49:42.430Z"
      },
      {
        "duration": 104,
        "start_time": "2021-09-28T15:49:42.435Z"
      },
      {
        "duration": 100,
        "start_time": "2021-09-28T15:49:42.440Z"
      },
      {
        "duration": 15,
        "start_time": "2021-09-28T15:54:06.124Z"
      },
      {
        "duration": 3432,
        "start_time": "2021-09-28T15:55:18.145Z"
      },
      {
        "duration": 3360,
        "start_time": "2021-09-28T15:55:21.580Z"
      },
      {
        "duration": 8,
        "start_time": "2021-09-28T15:55:24.944Z"
      },
      {
        "duration": 130,
        "start_time": "2021-09-28T15:55:24.956Z"
      },
      {
        "duration": 13,
        "start_time": "2021-09-28T15:55:25.088Z"
      },
      {
        "duration": 18,
        "start_time": "2021-09-28T15:55:25.104Z"
      },
      {
        "duration": 12,
        "start_time": "2021-09-28T15:55:25.125Z"
      },
      {
        "duration": 6,
        "start_time": "2021-09-28T15:55:25.142Z"
      },
      {
        "duration": 9,
        "start_time": "2021-09-28T15:55:25.152Z"
      },
      {
        "duration": 13,
        "start_time": "2021-09-28T15:55:25.164Z"
      },
      {
        "duration": 56,
        "start_time": "2021-09-28T15:55:25.179Z"
      },
      {
        "duration": 9,
        "start_time": "2021-09-28T15:55:25.238Z"
      },
      {
        "duration": 19,
        "start_time": "2021-09-28T15:55:25.249Z"
      },
      {
        "duration": 4,
        "start_time": "2021-09-28T15:55:25.271Z"
      },
      {
        "duration": 45,
        "start_time": "2021-09-28T15:55:25.278Z"
      },
      {
        "duration": 13,
        "start_time": "2021-09-28T15:55:25.326Z"
      },
      {
        "duration": 1121,
        "start_time": "2021-09-28T15:55:25.341Z"
      },
      {
        "duration": 13,
        "start_time": "2021-09-28T15:55:26.465Z"
      },
      {
        "duration": 314,
        "start_time": "2021-09-28T15:55:26.481Z"
      },
      {
        "duration": 33,
        "start_time": "2021-09-28T15:55:26.797Z"
      },
      {
        "duration": 339,
        "start_time": "2021-09-28T15:55:26.833Z"
      },
      {
        "duration": 14,
        "start_time": "2021-09-28T15:55:27.175Z"
      },
      {
        "duration": 342,
        "start_time": "2021-09-28T15:55:27.195Z"
      },
      {
        "duration": 3,
        "start_time": "2021-09-28T15:55:27.541Z"
      },
      {
        "duration": 1131,
        "start_time": "2021-09-28T15:55:27.546Z"
      },
      {
        "duration": 44,
        "start_time": "2021-09-28T15:55:28.680Z"
      },
      {
        "duration": 9,
        "start_time": "2021-09-28T15:55:28.727Z"
      },
      {
        "duration": 15,
        "start_time": "2021-09-28T15:55:28.739Z"
      },
      {
        "duration": 15,
        "start_time": "2021-09-28T15:55:28.756Z"
      },
      {
        "duration": 1054,
        "start_time": "2021-09-28T15:55:28.773Z"
      },
      {
        "duration": 22,
        "start_time": "2021-09-28T15:55:29.829Z"
      },
      {
        "duration": 33,
        "start_time": "2021-09-28T15:55:29.854Z"
      },
      {
        "duration": 12,
        "start_time": "2021-09-28T15:55:29.916Z"
      },
      {
        "duration": 21,
        "start_time": "2021-09-28T15:55:29.930Z"
      },
      {
        "duration": 11,
        "start_time": "2021-09-28T15:55:29.954Z"
      },
      {
        "duration": 8,
        "start_time": "2021-09-28T15:55:29.968Z"
      },
      {
        "duration": 42,
        "start_time": "2021-09-28T15:55:29.978Z"
      },
      {
        "duration": 31,
        "start_time": "2021-09-28T15:55:30.022Z"
      },
      {
        "duration": 17,
        "start_time": "2021-09-28T15:55:30.055Z"
      },
      {
        "duration": 25,
        "start_time": "2021-09-28T15:55:30.074Z"
      },
      {
        "duration": 39,
        "start_time": "2021-09-28T15:55:30.101Z"
      },
      {
        "duration": 21,
        "start_time": "2021-09-28T15:55:30.142Z"
      },
      {
        "duration": 8,
        "start_time": "2021-09-28T15:55:30.166Z"
      },
      {
        "duration": 27,
        "start_time": "2021-09-28T15:55:30.177Z"
      },
      {
        "duration": 23,
        "start_time": "2021-09-28T15:55:30.207Z"
      },
      {
        "duration": 23,
        "start_time": "2021-09-28T15:55:30.233Z"
      },
      {
        "duration": 7,
        "start_time": "2021-09-28T15:55:30.258Z"
      },
      {
        "duration": 21,
        "start_time": "2021-09-28T15:55:30.267Z"
      },
      {
        "duration": 31,
        "start_time": "2021-09-28T15:55:30.290Z"
      },
      {
        "duration": 35,
        "start_time": "2021-09-28T15:55:30.324Z"
      },
      {
        "duration": 28,
        "start_time": "2021-09-28T15:55:30.362Z"
      },
      {
        "duration": 7,
        "start_time": "2021-09-28T15:55:30.416Z"
      },
      {
        "duration": 68,
        "start_time": "2021-09-28T15:55:30.425Z"
      },
      {
        "duration": 27,
        "start_time": "2021-09-28T15:55:30.496Z"
      },
      {
        "duration": 140910,
        "start_time": "2021-09-28T15:55:30.525Z"
      },
      {
        "duration": 305,
        "start_time": "2021-09-28T15:57:51.437Z"
      },
      {
        "duration": 38844,
        "start_time": "2021-09-28T15:57:51.744Z"
      },
      {
        "duration": 10,
        "start_time": "2021-09-28T15:58:30.590Z"
      },
      {
        "duration": 28,
        "start_time": "2021-09-28T15:58:30.603Z"
      },
      {
        "duration": 26,
        "start_time": "2021-09-28T15:58:30.633Z"
      },
      {
        "duration": 139357,
        "start_time": "2021-09-28T15:58:30.662Z"
      },
      {
        "duration": 38,
        "start_time": "2021-09-28T16:00:50.023Z"
      },
      {
        "duration": 10,
        "start_time": "2021-09-28T16:01:29.088Z"
      },
      {
        "duration": 6,
        "start_time": "2021-09-28T16:01:29.737Z"
      },
      {
        "duration": 4,
        "start_time": "2021-09-28T16:01:30.488Z"
      },
      {
        "duration": 133866,
        "start_time": "2021-09-28T16:01:31.241Z"
      },
      {
        "duration": 14,
        "start_time": "2021-09-28T16:03:50.366Z"
      },
      {
        "duration": 18,
        "start_time": "2021-09-28T16:04:36.718Z"
      },
      {
        "duration": 19,
        "start_time": "2021-09-28T16:04:41.121Z"
      },
      {
        "duration": 13,
        "start_time": "2021-09-28T16:05:26.328Z"
      },
      {
        "duration": 7,
        "start_time": "2021-09-28T16:05:26.935Z"
      },
      {
        "duration": 15,
        "start_time": "2021-09-28T16:05:27.481Z"
      },
      {
        "duration": 4,
        "start_time": "2021-09-28T16:05:28.591Z"
      },
      {
        "duration": 157757,
        "start_time": "2021-09-28T16:05:29.344Z"
      },
      {
        "duration": 4739,
        "start_time": "2021-09-28T16:08:07.104Z"
      },
      {
        "duration": 3638,
        "start_time": "2021-09-28T16:11:32.129Z"
      },
      {
        "duration": 3946,
        "start_time": "2021-09-28T16:11:35.771Z"
      },
      {
        "duration": 9,
        "start_time": "2021-09-28T16:11:39.721Z"
      },
      {
        "duration": 159,
        "start_time": "2021-09-28T16:11:39.733Z"
      },
      {
        "duration": 13,
        "start_time": "2021-09-28T16:11:39.894Z"
      },
      {
        "duration": 35,
        "start_time": "2021-09-28T16:11:39.909Z"
      },
      {
        "duration": 22,
        "start_time": "2021-09-28T16:11:39.947Z"
      },
      {
        "duration": 33,
        "start_time": "2021-09-28T16:11:39.976Z"
      },
      {
        "duration": 30,
        "start_time": "2021-09-28T16:11:40.012Z"
      },
      {
        "duration": 27,
        "start_time": "2021-09-28T16:11:40.045Z"
      },
      {
        "duration": 50,
        "start_time": "2021-09-28T16:11:40.076Z"
      },
      {
        "duration": 12,
        "start_time": "2021-09-28T16:11:40.129Z"
      },
      {
        "duration": 42,
        "start_time": "2021-09-28T16:11:40.145Z"
      },
      {
        "duration": 23,
        "start_time": "2021-09-28T16:11:40.190Z"
      },
      {
        "duration": 24,
        "start_time": "2021-09-28T16:11:40.216Z"
      },
      {
        "duration": 23,
        "start_time": "2021-09-28T16:11:40.242Z"
      },
      {
        "duration": 1433,
        "start_time": "2021-09-28T16:11:40.267Z"
      },
      {
        "duration": 21,
        "start_time": "2021-09-28T16:11:41.704Z"
      },
      {
        "duration": 335,
        "start_time": "2021-09-28T16:11:41.728Z"
      },
      {
        "duration": 25,
        "start_time": "2021-09-28T16:11:42.066Z"
      },
      {
        "duration": 382,
        "start_time": "2021-09-28T16:11:42.093Z"
      },
      {
        "duration": 11,
        "start_time": "2021-09-28T16:11:42.477Z"
      },
      {
        "duration": 383,
        "start_time": "2021-09-28T16:11:42.493Z"
      },
      {
        "duration": 7,
        "start_time": "2021-09-28T16:11:42.879Z"
      },
      {
        "duration": 1417,
        "start_time": "2021-09-28T16:11:42.889Z"
      },
      {
        "duration": 37,
        "start_time": "2021-09-28T16:11:44.317Z"
      },
      {
        "duration": 12,
        "start_time": "2021-09-28T16:11:44.356Z"
      },
      {
        "duration": 30,
        "start_time": "2021-09-28T16:11:44.370Z"
      },
      {
        "duration": 13,
        "start_time": "2021-09-28T16:11:44.416Z"
      },
      {
        "duration": 1154,
        "start_time": "2021-09-28T16:11:44.432Z"
      },
      {
        "duration": 35,
        "start_time": "2021-09-28T16:11:45.590Z"
      },
      {
        "duration": 37,
        "start_time": "2021-09-28T16:11:45.628Z"
      },
      {
        "duration": 13,
        "start_time": "2021-09-28T16:11:45.668Z"
      },
      {
        "duration": 46,
        "start_time": "2021-09-28T16:11:45.684Z"
      },
      {
        "duration": 18,
        "start_time": "2021-09-28T16:11:45.733Z"
      },
      {
        "duration": 14,
        "start_time": "2021-09-28T16:11:45.754Z"
      },
      {
        "duration": 16,
        "start_time": "2021-09-28T16:11:45.771Z"
      },
      {
        "duration": 42,
        "start_time": "2021-09-28T16:11:45.789Z"
      },
      {
        "duration": 9,
        "start_time": "2021-09-28T16:11:45.834Z"
      },
      {
        "duration": 38,
        "start_time": "2021-09-28T16:11:45.846Z"
      },
      {
        "duration": 39,
        "start_time": "2021-09-28T16:11:45.886Z"
      },
      {
        "duration": 30,
        "start_time": "2021-09-28T16:11:45.929Z"
      },
      {
        "duration": 22,
        "start_time": "2021-09-28T16:11:45.962Z"
      },
      {
        "duration": 25,
        "start_time": "2021-09-28T16:11:45.987Z"
      },
      {
        "duration": 26,
        "start_time": "2021-09-28T16:11:46.015Z"
      },
      {
        "duration": 13,
        "start_time": "2021-09-28T16:11:46.044Z"
      },
      {
        "duration": 14,
        "start_time": "2021-09-28T16:11:46.059Z"
      },
      {
        "duration": 20,
        "start_time": "2021-09-28T16:11:46.075Z"
      },
      {
        "duration": 25,
        "start_time": "2021-09-28T16:11:46.098Z"
      },
      {
        "duration": 33,
        "start_time": "2021-09-28T16:11:46.126Z"
      },
      {
        "duration": 13,
        "start_time": "2021-09-28T16:11:46.162Z"
      },
      {
        "duration": 50,
        "start_time": "2021-09-28T16:11:46.178Z"
      },
      {
        "duration": 22,
        "start_time": "2021-09-28T16:11:46.231Z"
      },
      {
        "duration": 64,
        "start_time": "2021-09-28T16:11:46.256Z"
      },
      {
        "duration": 4,
        "start_time": "2021-09-28T16:11:46.322Z"
      },
      {
        "duration": 166789,
        "start_time": "2021-09-28T16:11:46.329Z"
      },
      {
        "duration": 334,
        "start_time": "2021-09-28T16:14:33.121Z"
      },
      {
        "duration": 51973,
        "start_time": "2021-09-28T16:14:33.458Z"
      },
      {
        "duration": 9,
        "start_time": "2021-09-28T16:15:25.434Z"
      },
      {
        "duration": 38,
        "start_time": "2021-09-28T16:15:25.446Z"
      },
      {
        "duration": 25,
        "start_time": "2021-09-28T16:15:25.487Z"
      },
      {
        "duration": 5,
        "start_time": "2021-09-28T16:15:25.515Z"
      },
      {
        "duration": 163673,
        "start_time": "2021-09-28T16:15:25.523Z"
      },
      {
        "duration": 76694,
        "start_time": "2021-09-28T16:18:09.199Z"
      },
      {
        "duration": 3597,
        "start_time": "2021-09-28T16:20:09.437Z"
      },
      {
        "duration": 3586,
        "start_time": "2021-09-28T16:20:13.037Z"
      },
      {
        "duration": 6057,
        "start_time": "2021-09-28T16:20:16.627Z"
      },
      {
        "duration": 125,
        "start_time": "2021-09-28T16:20:22.687Z"
      },
      {
        "duration": 16,
        "start_time": "2021-09-28T16:20:22.815Z"
      },
      {
        "duration": 52,
        "start_time": "2021-09-28T16:20:22.834Z"
      },
      {
        "duration": 14,
        "start_time": "2021-09-28T16:20:22.889Z"
      },
      {
        "duration": 18,
        "start_time": "2021-09-28T16:20:22.917Z"
      },
      {
        "duration": 17,
        "start_time": "2021-09-28T16:20:22.939Z"
      },
      {
        "duration": 21,
        "start_time": "2021-09-28T16:20:22.960Z"
      },
      {
        "duration": 53,
        "start_time": "2021-09-28T16:20:22.984Z"
      },
      {
        "duration": 9,
        "start_time": "2021-09-28T16:20:23.040Z"
      },
      {
        "duration": 47,
        "start_time": "2021-09-28T16:20:23.052Z"
      },
      {
        "duration": 13,
        "start_time": "2021-09-28T16:20:23.101Z"
      },
      {
        "duration": 32,
        "start_time": "2021-09-28T16:20:23.117Z"
      },
      {
        "duration": 23,
        "start_time": "2021-09-28T16:20:23.152Z"
      },
      {
        "duration": 1431,
        "start_time": "2021-09-28T16:20:23.177Z"
      },
      {
        "duration": 16,
        "start_time": "2021-09-28T16:20:24.611Z"
      },
      {
        "duration": 373,
        "start_time": "2021-09-28T16:20:24.632Z"
      },
      {
        "duration": 38,
        "start_time": "2021-09-28T16:20:25.009Z"
      },
      {
        "duration": 363,
        "start_time": "2021-09-28T16:20:25.050Z"
      },
      {
        "duration": 13,
        "start_time": "2021-09-28T16:20:25.416Z"
      },
      {
        "duration": 376,
        "start_time": "2021-09-28T16:20:25.437Z"
      },
      {
        "duration": 9,
        "start_time": "2021-09-28T16:20:25.820Z"
      },
      {
        "duration": 1172,
        "start_time": "2021-09-28T16:20:25.833Z"
      },
      {
        "duration": 37,
        "start_time": "2021-09-28T16:20:27.008Z"
      },
      {
        "duration": 10,
        "start_time": "2021-09-28T16:20:27.048Z"
      },
      {
        "duration": 15,
        "start_time": "2021-09-28T16:20:27.060Z"
      },
      {
        "duration": 50,
        "start_time": "2021-09-28T16:20:27.078Z"
      },
      {
        "duration": 1051,
        "start_time": "2021-09-28T16:20:27.132Z"
      },
      {
        "duration": 51,
        "start_time": "2021-09-28T16:20:28.185Z"
      },
      {
        "duration": 41,
        "start_time": "2021-09-28T16:20:28.238Z"
      },
      {
        "duration": 15,
        "start_time": "2021-09-28T16:20:28.282Z"
      },
      {
        "duration": 24,
        "start_time": "2021-09-28T16:20:28.300Z"
      },
      {
        "duration": 12,
        "start_time": "2021-09-28T16:20:28.333Z"
      },
      {
        "duration": 11,
        "start_time": "2021-09-28T16:20:28.349Z"
      },
      {
        "duration": 8,
        "start_time": "2021-09-28T16:20:28.363Z"
      },
      {
        "duration": 25,
        "start_time": "2021-09-28T16:20:28.374Z"
      },
      {
        "duration": 10,
        "start_time": "2021-09-28T16:20:28.403Z"
      },
      {
        "duration": 29,
        "start_time": "2021-09-28T16:20:28.418Z"
      },
      {
        "duration": 10,
        "start_time": "2021-09-28T16:20:28.450Z"
      },
      {
        "duration": 23,
        "start_time": "2021-09-28T16:20:28.463Z"
      },
      {
        "duration": 10,
        "start_time": "2021-09-28T16:20:28.489Z"
      },
      {
        "duration": 17,
        "start_time": "2021-09-28T16:20:28.501Z"
      },
      {
        "duration": 21,
        "start_time": "2021-09-28T16:20:28.522Z"
      },
      {
        "duration": 13,
        "start_time": "2021-09-28T16:20:28.547Z"
      },
      {
        "duration": 9,
        "start_time": "2021-09-28T16:20:28.563Z"
      },
      {
        "duration": 20,
        "start_time": "2021-09-28T16:20:28.574Z"
      },
      {
        "duration": 12,
        "start_time": "2021-09-28T16:20:28.596Z"
      },
      {
        "duration": 36,
        "start_time": "2021-09-28T16:20:28.611Z"
      },
      {
        "duration": 14,
        "start_time": "2021-09-28T16:20:28.650Z"
      },
      {
        "duration": 13,
        "start_time": "2021-09-28T16:20:28.666Z"
      },
      {
        "duration": 5,
        "start_time": "2021-09-28T16:20:28.682Z"
      },
      {
        "duration": 53,
        "start_time": "2021-09-28T16:20:28.690Z"
      },
      {
        "duration": 4,
        "start_time": "2021-09-28T16:20:28.746Z"
      },
      {
        "duration": 170696,
        "start_time": "2021-09-28T16:20:28.752Z"
      },
      {
        "duration": 328,
        "start_time": "2021-09-28T16:23:19.451Z"
      },
      {
        "duration": 47291,
        "start_time": "2021-09-28T16:23:19.782Z"
      },
      {
        "duration": 9,
        "start_time": "2021-09-28T16:24:07.076Z"
      },
      {
        "duration": 21,
        "start_time": "2021-09-28T16:24:07.088Z"
      },
      {
        "duration": 39,
        "start_time": "2021-09-28T16:24:07.111Z"
      },
      {
        "duration": 103,
        "start_time": "2021-09-28T16:24:07.155Z"
      },
      {
        "duration": 132894,
        "start_time": "2021-09-28T16:24:07.261Z"
      },
      {
        "duration": 3411,
        "start_time": "2021-09-28T16:27:04.043Z"
      },
      {
        "duration": 4,
        "start_time": "2021-09-28T16:27:07.457Z"
      },
      {
        "duration": 6129,
        "start_time": "2021-09-28T16:27:07.464Z"
      },
      {
        "duration": 117,
        "start_time": "2021-09-28T16:27:13.596Z"
      },
      {
        "duration": 13,
        "start_time": "2021-09-28T16:27:13.716Z"
      },
      {
        "duration": 23,
        "start_time": "2021-09-28T16:27:13.732Z"
      },
      {
        "duration": 9,
        "start_time": "2021-09-28T16:27:13.757Z"
      },
      {
        "duration": 46,
        "start_time": "2021-09-28T16:27:13.770Z"
      },
      {
        "duration": 10,
        "start_time": "2021-09-28T16:27:13.819Z"
      },
      {
        "duration": 23,
        "start_time": "2021-09-28T16:27:13.831Z"
      },
      {
        "duration": 37,
        "start_time": "2021-09-28T16:27:13.858Z"
      },
      {
        "duration": 7,
        "start_time": "2021-09-28T16:27:13.898Z"
      },
      {
        "duration": 22,
        "start_time": "2021-09-28T16:27:13.907Z"
      },
      {
        "duration": 4,
        "start_time": "2021-09-28T16:27:13.932Z"
      },
      {
        "duration": 19,
        "start_time": "2021-09-28T16:27:13.939Z"
      },
      {
        "duration": 32,
        "start_time": "2021-09-28T16:27:13.960Z"
      },
      {
        "duration": 1263,
        "start_time": "2021-09-28T16:27:13.994Z"
      },
      {
        "duration": 12,
        "start_time": "2021-09-28T16:27:15.260Z"
      },
      {
        "duration": 340,
        "start_time": "2021-09-28T16:27:15.274Z"
      },
      {
        "duration": 28,
        "start_time": "2021-09-28T16:27:15.617Z"
      },
      {
        "duration": 353,
        "start_time": "2021-09-28T16:27:15.647Z"
      },
      {
        "duration": 16,
        "start_time": "2021-09-28T16:27:16.002Z"
      },
      {
        "duration": 345,
        "start_time": "2021-09-28T16:27:16.028Z"
      },
      {
        "duration": 3,
        "start_time": "2021-09-28T16:27:16.376Z"
      },
      {
        "duration": 1189,
        "start_time": "2021-09-28T16:27:16.381Z"
      },
      {
        "duration": 46,
        "start_time": "2021-09-28T16:27:17.572Z"
      },
      {
        "duration": 10,
        "start_time": "2021-09-28T16:27:17.620Z"
      },
      {
        "duration": 14,
        "start_time": "2021-09-28T16:27:17.633Z"
      },
      {
        "duration": 11,
        "start_time": "2021-09-28T16:27:17.649Z"
      },
      {
        "duration": 1073,
        "start_time": "2021-09-28T16:27:17.663Z"
      },
      {
        "duration": 24,
        "start_time": "2021-09-28T16:27:18.739Z"
      },
      {
        "duration": 63,
        "start_time": "2021-09-28T16:27:18.765Z"
      },
      {
        "duration": 13,
        "start_time": "2021-09-28T16:27:18.831Z"
      },
      {
        "duration": 15,
        "start_time": "2021-09-28T16:27:18.846Z"
      },
      {
        "duration": 11,
        "start_time": "2021-09-28T16:27:18.864Z"
      },
      {
        "duration": 41,
        "start_time": "2021-09-28T16:27:18.878Z"
      },
      {
        "duration": 11,
        "start_time": "2021-09-28T16:27:18.922Z"
      },
      {
        "duration": 22,
        "start_time": "2021-09-28T16:27:18.935Z"
      },
      {
        "duration": 7,
        "start_time": "2021-09-28T16:27:18.960Z"
      },
      {
        "duration": 51,
        "start_time": "2021-09-28T16:27:18.970Z"
      },
      {
        "duration": 19,
        "start_time": "2021-09-28T16:27:19.024Z"
      },
      {
        "duration": 19,
        "start_time": "2021-09-28T16:27:19.046Z"
      },
      {
        "duration": 8,
        "start_time": "2021-09-28T16:27:19.067Z"
      },
      {
        "duration": 47,
        "start_time": "2021-09-28T16:27:19.077Z"
      },
      {
        "duration": 18,
        "start_time": "2021-09-28T16:27:19.127Z"
      },
      {
        "duration": 13,
        "start_time": "2021-09-28T16:27:19.147Z"
      },
      {
        "duration": 5,
        "start_time": "2021-09-28T16:27:19.162Z"
      },
      {
        "duration": 46,
        "start_time": "2021-09-28T16:27:19.170Z"
      },
      {
        "duration": 16,
        "start_time": "2021-09-28T16:27:19.220Z"
      },
      {
        "duration": 33,
        "start_time": "2021-09-28T16:27:19.239Z"
      },
      {
        "duration": 47,
        "start_time": "2021-09-28T16:27:19.275Z"
      },
      {
        "duration": 15,
        "start_time": "2021-09-28T16:27:19.326Z"
      },
      {
        "duration": 7,
        "start_time": "2021-09-28T16:27:19.344Z"
      },
      {
        "duration": 80,
        "start_time": "2021-09-28T16:27:19.354Z"
      },
      {
        "duration": 4,
        "start_time": "2021-09-28T16:27:19.438Z"
      },
      {
        "duration": 134976,
        "start_time": "2021-09-28T16:27:19.445Z"
      },
      {
        "duration": 362,
        "start_time": "2021-09-28T16:29:34.424Z"
      },
      {
        "duration": 18007,
        "start_time": "2021-09-28T16:29:34.789Z"
      },
      {
        "duration": 234,
        "start_time": "2021-09-28T16:29:52.566Z"
      },
      {
        "duration": 231,
        "start_time": "2021-09-28T16:29:52.571Z"
      },
      {
        "duration": 228,
        "start_time": "2021-09-28T16:29:52.575Z"
      },
      {
        "duration": 225,
        "start_time": "2021-09-28T16:29:52.580Z"
      },
      {
        "duration": 220,
        "start_time": "2021-09-28T16:29:52.586Z"
      },
      {
        "duration": 217,
        "start_time": "2021-09-28T16:29:52.591Z"
      },
      {
        "duration": 213,
        "start_time": "2021-09-28T16:29:52.596Z"
      },
      {
        "duration": 210,
        "start_time": "2021-09-28T16:29:52.601Z"
      },
      {
        "duration": 209,
        "start_time": "2021-09-28T16:29:52.604Z"
      },
      {
        "duration": 205,
        "start_time": "2021-09-28T16:29:52.609Z"
      },
      {
        "duration": 201,
        "start_time": "2021-09-28T16:29:52.614Z"
      },
      {
        "duration": 198,
        "start_time": "2021-09-28T16:29:52.619Z"
      },
      {
        "duration": 196,
        "start_time": "2021-09-28T16:29:52.623Z"
      },
      {
        "duration": 194,
        "start_time": "2021-09-28T16:29:52.627Z"
      },
      {
        "duration": 193,
        "start_time": "2021-09-28T16:29:52.631Z"
      },
      {
        "duration": 190,
        "start_time": "2021-09-28T16:29:52.635Z"
      },
      {
        "duration": 181,
        "start_time": "2021-09-28T16:29:52.646Z"
      },
      {
        "duration": 176,
        "start_time": "2021-09-28T16:29:52.652Z"
      },
      {
        "duration": 174,
        "start_time": "2021-09-28T16:29:52.656Z"
      },
      {
        "duration": 171,
        "start_time": "2021-09-28T16:29:52.660Z"
      },
      {
        "duration": 168,
        "start_time": "2021-09-28T16:29:52.664Z"
      },
      {
        "duration": 166,
        "start_time": "2021-09-28T16:29:52.668Z"
      },
      {
        "duration": 164,
        "start_time": "2021-09-28T16:29:52.672Z"
      },
      {
        "duration": 4,
        "start_time": "2021-09-28T16:29:55.688Z"
      },
      {
        "duration": 135766,
        "start_time": "2021-09-28T16:29:56.383Z"
      },
      {
        "duration": 471,
        "start_time": "2021-09-28T16:32:12.152Z"
      },
      {
        "duration": 51262,
        "start_time": "2021-09-28T16:32:26.237Z"
      },
      {
        "duration": 10,
        "start_time": "2021-09-28T16:33:17.503Z"
      },
      {
        "duration": 13,
        "start_time": "2021-09-28T16:33:17.516Z"
      },
      {
        "duration": 30,
        "start_time": "2021-09-28T16:33:17.533Z"
      },
      {
        "duration": 3,
        "start_time": "2021-09-28T16:33:17.566Z"
      },
      {
        "duration": 146924,
        "start_time": "2021-09-28T16:33:17.572Z"
      },
      {
        "duration": 72154,
        "start_time": "2021-09-28T16:35:44.500Z"
      },
      {
        "duration": 32,
        "start_time": "2021-09-28T16:36:56.659Z"
      },
      {
        "duration": 23,
        "start_time": "2021-09-28T16:36:56.694Z"
      },
      {
        "duration": 221,
        "start_time": "2021-09-28T16:36:56.720Z"
      },
      {
        "duration": 18133,
        "start_time": "2021-09-28T16:36:57.019Z"
      },
      {
        "duration": 75845,
        "start_time": "2021-09-28T16:37:15.155Z"
      },
      {
        "duration": 228,
        "start_time": "2021-09-28T16:38:30.774Z"
      },
      {
        "duration": 225,
        "start_time": "2021-09-28T16:38:30.779Z"
      },
      {
        "duration": 222,
        "start_time": "2021-09-28T16:38:30.783Z"
      },
      {
        "duration": 218,
        "start_time": "2021-09-28T16:38:30.788Z"
      },
      {
        "duration": 214,
        "start_time": "2021-09-28T16:38:30.794Z"
      },
      {
        "duration": 211,
        "start_time": "2021-09-28T16:38:30.798Z"
      },
      {
        "duration": 208,
        "start_time": "2021-09-28T16:38:30.803Z"
      },
      {
        "duration": 3250,
        "start_time": "2021-09-29T12:09:34.571Z"
      },
      {
        "duration": 4,
        "start_time": "2021-09-29T12:09:37.824Z"
      },
      {
        "duration": 5508,
        "start_time": "2021-09-29T12:09:37.831Z"
      },
      {
        "duration": 110,
        "start_time": "2021-09-29T12:09:43.342Z"
      },
      {
        "duration": 11,
        "start_time": "2021-09-29T12:09:43.455Z"
      },
      {
        "duration": 38,
        "start_time": "2021-09-29T12:09:43.468Z"
      },
      {
        "duration": 10,
        "start_time": "2021-09-29T12:09:43.815Z"
      },
      {
        "duration": 11,
        "start_time": "2021-09-29T12:09:46.483Z"
      },
      {
        "duration": 10,
        "start_time": "2021-09-29T12:09:48.965Z"
      },
      {
        "duration": 8,
        "start_time": "2021-09-29T12:09:53.293Z"
      },
      {
        "duration": 22,
        "start_time": "2021-09-29T12:09:53.927Z"
      },
      {
        "duration": 9,
        "start_time": "2021-09-29T12:10:03.291Z"
      },
      {
        "duration": 118,
        "start_time": "2021-09-29T12:12:25.469Z"
      },
      {
        "duration": 130,
        "start_time": "2021-09-29T12:13:31.080Z"
      },
      {
        "duration": 121,
        "start_time": "2021-09-29T12:13:44.752Z"
      },
      {
        "duration": 148,
        "start_time": "2021-09-29T12:14:38.993Z"
      },
      {
        "duration": 4,
        "start_time": "2021-09-29T12:15:47.851Z"
      },
      {
        "duration": 4,
        "start_time": "2021-09-29T12:15:52.782Z"
      },
      {
        "duration": 918,
        "start_time": "2021-09-29T12:16:20.830Z"
      },
      {
        "duration": 10,
        "start_time": "2021-09-29T12:17:30.466Z"
      },
      {
        "duration": 4,
        "start_time": "2021-09-29T12:17:31.824Z"
      },
      {
        "duration": 1527,
        "start_time": "2021-09-29T12:17:32.436Z"
      },
      {
        "duration": 5,
        "start_time": "2021-09-29T12:17:53.002Z"
      },
      {
        "duration": 1605,
        "start_time": "2021-09-29T12:18:20.560Z"
      },
      {
        "duration": 400,
        "start_time": "2021-09-29T12:18:50.319Z"
      },
      {
        "duration": 4,
        "start_time": "2021-09-29T12:18:54.804Z"
      },
      {
        "duration": 6,
        "start_time": "2021-09-29T12:18:57.187Z"
      },
      {
        "duration": 5,
        "start_time": "2021-09-29T12:19:03.667Z"
      },
      {
        "duration": 485,
        "start_time": "2021-09-29T12:19:19.119Z"
      },
      {
        "duration": 382,
        "start_time": "2021-09-29T12:21:29.404Z"
      },
      {
        "duration": 4,
        "start_time": "2021-09-29T12:21:42.623Z"
      },
      {
        "duration": 6,
        "start_time": "2021-09-29T12:21:43.579Z"
      },
      {
        "duration": 7,
        "start_time": "2021-09-29T12:21:45.020Z"
      },
      {
        "duration": 1531,
        "start_time": "2021-09-29T12:21:47.194Z"
      },
      {
        "duration": 386,
        "start_time": "2021-09-29T12:22:23.898Z"
      },
      {
        "duration": 4,
        "start_time": "2021-09-29T12:22:38.401Z"
      },
      {
        "duration": 5,
        "start_time": "2021-09-29T12:22:39.063Z"
      },
      {
        "duration": 6,
        "start_time": "2021-09-29T12:22:40.237Z"
      },
      {
        "duration": 6,
        "start_time": "2021-09-29T12:22:41.165Z"
      },
      {
        "duration": 418,
        "start_time": "2021-09-29T12:24:08.190Z"
      },
      {
        "duration": 3308,
        "start_time": "2021-09-29T12:24:31.347Z"
      },
      {
        "duration": 3,
        "start_time": "2021-09-29T12:24:34.658Z"
      },
      {
        "duration": 5293,
        "start_time": "2021-09-29T12:24:34.664Z"
      },
      {
        "duration": 111,
        "start_time": "2021-09-29T12:24:39.960Z"
      },
      {
        "duration": 11,
        "start_time": "2021-09-29T12:24:40.073Z"
      },
      {
        "duration": 38,
        "start_time": "2021-09-29T12:24:40.086Z"
      },
      {
        "duration": 9,
        "start_time": "2021-09-29T12:24:40.126Z"
      },
      {
        "duration": 19,
        "start_time": "2021-09-29T12:24:40.139Z"
      },
      {
        "duration": 14,
        "start_time": "2021-09-29T12:24:40.161Z"
      },
      {
        "duration": 21,
        "start_time": "2021-09-29T12:24:40.177Z"
      },
      {
        "duration": 38,
        "start_time": "2021-09-29T12:24:40.201Z"
      },
      {
        "duration": 8,
        "start_time": "2021-09-29T12:24:40.242Z"
      },
      {
        "duration": 869,
        "start_time": "2021-09-29T12:24:40.253Z"
      },
      {
        "duration": 2843,
        "start_time": "2021-09-29T12:24:38.285Z"
      },
      {
        "duration": 2837,
        "start_time": "2021-09-29T12:24:38.292Z"
      },
      {
        "duration": 2817,
        "start_time": "2021-09-29T12:24:38.313Z"
      },
      {
        "duration": 2813,
        "start_time": "2021-09-29T12:24:38.318Z"
      },
      {
        "duration": 2812,
        "start_time": "2021-09-29T12:24:38.321Z"
      },
      {
        "duration": 2802,
        "start_time": "2021-09-29T12:24:38.332Z"
      },
      {
        "duration": 2798,
        "start_time": "2021-09-29T12:24:38.338Z"
      },
      {
        "duration": 2787,
        "start_time": "2021-09-29T12:24:38.350Z"
      },
      {
        "duration": 2784,
        "start_time": "2021-09-29T12:24:38.355Z"
      },
      {
        "duration": 2775,
        "start_time": "2021-09-29T12:24:38.365Z"
      },
      {
        "duration": 2773,
        "start_time": "2021-09-29T12:24:38.368Z"
      },
      {
        "duration": 2771,
        "start_time": "2021-09-29T12:24:38.372Z"
      },
      {
        "duration": 2762,
        "start_time": "2021-09-29T12:24:38.382Z"
      },
      {
        "duration": 2759,
        "start_time": "2021-09-29T12:24:38.386Z"
      },
      {
        "duration": 2749,
        "start_time": "2021-09-29T12:24:38.397Z"
      },
      {
        "duration": 2747,
        "start_time": "2021-09-29T12:24:38.401Z"
      },
      {
        "duration": 2744,
        "start_time": "2021-09-29T12:24:38.405Z"
      },
      {
        "duration": 2734,
        "start_time": "2021-09-29T12:24:38.417Z"
      },
      {
        "duration": 2722,
        "start_time": "2021-09-29T12:24:38.430Z"
      },
      {
        "duration": 2720,
        "start_time": "2021-09-29T12:24:38.434Z"
      },
      {
        "duration": 2717,
        "start_time": "2021-09-29T12:24:38.438Z"
      },
      {
        "duration": 2705,
        "start_time": "2021-09-29T12:24:38.451Z"
      },
      {
        "duration": 2703,
        "start_time": "2021-09-29T12:24:38.455Z"
      },
      {
        "duration": 2693,
        "start_time": "2021-09-29T12:24:38.466Z"
      },
      {
        "duration": 2692,
        "start_time": "2021-09-29T12:24:38.469Z"
      },
      {
        "duration": 2680,
        "start_time": "2021-09-29T12:24:38.482Z"
      },
      {
        "duration": 2676,
        "start_time": "2021-09-29T12:24:38.488Z"
      },
      {
        "duration": 2553,
        "start_time": "2021-09-29T12:24:38.612Z"
      },
      {
        "duration": 2544,
        "start_time": "2021-09-29T12:24:38.623Z"
      },
      {
        "duration": 2534,
        "start_time": "2021-09-29T12:24:38.634Z"
      },
      {
        "duration": 2474,
        "start_time": "2021-09-29T12:24:38.695Z"
      },
      {
        "duration": 2472,
        "start_time": "2021-09-29T12:24:38.699Z"
      },
      {
        "duration": 2470,
        "start_time": "2021-09-29T12:24:38.702Z"
      },
      {
        "duration": 2467,
        "start_time": "2021-09-29T12:24:38.707Z"
      },
      {
        "duration": 2433,
        "start_time": "2021-09-29T12:24:38.742Z"
      },
      {
        "duration": 2424,
        "start_time": "2021-09-29T12:24:38.752Z"
      },
      {
        "duration": 2422,
        "start_time": "2021-09-29T12:24:38.756Z"
      },
      {
        "duration": 2413,
        "start_time": "2021-09-29T12:24:38.766Z"
      },
      {
        "duration": 2375,
        "start_time": "2021-09-29T12:24:38.805Z"
      },
      {
        "duration": 2373,
        "start_time": "2021-09-29T12:24:38.809Z"
      },
      {
        "duration": 2371,
        "start_time": "2021-09-29T12:24:38.812Z"
      },
      {
        "duration": 2368,
        "start_time": "2021-09-29T12:24:38.816Z"
      },
      {
        "duration": 2366,
        "start_time": "2021-09-29T12:24:38.819Z"
      },
      {
        "duration": 2364,
        "start_time": "2021-09-29T12:24:38.823Z"
      },
      {
        "duration": 2348,
        "start_time": "2021-09-29T12:24:38.840Z"
      },
      {
        "duration": 2346,
        "start_time": "2021-09-29T12:24:38.843Z"
      },
      {
        "duration": 2086,
        "start_time": "2021-09-29T12:24:39.105Z"
      },
      {
        "duration": 2083,
        "start_time": "2021-09-29T12:24:39.109Z"
      },
      {
        "duration": 2081,
        "start_time": "2021-09-29T12:24:39.112Z"
      },
      {
        "duration": 2078,
        "start_time": "2021-09-29T12:24:39.116Z"
      },
      {
        "duration": 2061,
        "start_time": "2021-09-29T12:24:39.134Z"
      },
      {
        "duration": 2058,
        "start_time": "2021-09-29T12:24:39.139Z"
      },
      {
        "duration": 2110,
        "start_time": "2021-09-29T12:24:39.149Z"
      },
      {
        "duration": 2110,
        "start_time": "2021-09-29T12:24:39.153Z"
      },
      {
        "duration": 2101,
        "start_time": "2021-09-29T12:24:39.163Z"
      },
      {
        "duration": 2100,
        "start_time": "2021-09-29T12:24:39.167Z"
      },
      {
        "duration": 2098,
        "start_time": "2021-09-29T12:24:39.171Z"
      },
      {
        "duration": 2088,
        "start_time": "2021-09-29T12:24:39.182Z"
      },
      {
        "duration": 2087,
        "start_time": "2021-09-29T12:24:39.185Z"
      },
      {
        "duration": 2084,
        "start_time": "2021-09-29T12:24:39.190Z"
      },
      {
        "duration": 2076,
        "start_time": "2021-09-29T12:24:39.200Z"
      },
      {
        "duration": 2072,
        "start_time": "2021-09-29T12:24:39.205Z"
      },
      {
        "duration": 2065,
        "start_time": "2021-09-29T12:24:39.214Z"
      },
      {
        "duration": 2062,
        "start_time": "2021-09-29T12:24:39.218Z"
      },
      {
        "duration": 2060,
        "start_time": "2021-09-29T12:24:39.222Z"
      },
      {
        "duration": 2052,
        "start_time": "2021-09-29T12:24:39.232Z"
      },
      {
        "duration": 2049,
        "start_time": "2021-09-29T12:24:39.236Z"
      },
      {
        "duration": 119,
        "start_time": "2021-09-29T12:26:44.582Z"
      },
      {
        "duration": 148,
        "start_time": "2021-09-29T12:26:55.267Z"
      },
      {
        "duration": 11034,
        "start_time": "2021-09-29T12:28:27.230Z"
      },
      {
        "duration": 415,
        "start_time": "2021-09-29T12:29:45.290Z"
      },
      {
        "duration": 25,
        "start_time": "2021-09-29T12:30:01.963Z"
      },
      {
        "duration": 400,
        "start_time": "2021-09-29T12:30:52.628Z"
      },
      {
        "duration": 400,
        "start_time": "2021-09-29T12:32:41.828Z"
      },
      {
        "duration": 454,
        "start_time": "2021-09-29T12:32:59.997Z"
      },
      {
        "duration": 23,
        "start_time": "2021-09-29T12:33:11.578Z"
      },
      {
        "duration": 5,
        "start_time": "2021-09-29T12:33:52.963Z"
      },
      {
        "duration": 3,
        "start_time": "2021-09-29T12:33:54.443Z"
      },
      {
        "duration": 23,
        "start_time": "2021-09-29T12:33:56.532Z"
      },
      {
        "duration": 9,
        "start_time": "2021-09-29T12:34:28.348Z"
      },
      {
        "duration": 388,
        "start_time": "2021-09-29T12:34:31.892Z"
      },
      {
        "duration": 7,
        "start_time": "2021-09-29T12:35:01.835Z"
      },
      {
        "duration": 12,
        "start_time": "2021-09-29T12:35:12.696Z"
      },
      {
        "duration": 16,
        "start_time": "2021-09-29T12:35:24.402Z"
      },
      {
        "duration": 415,
        "start_time": "2021-09-29T12:35:57.060Z"
      },
      {
        "duration": 13,
        "start_time": "2021-09-29T12:36:08.937Z"
      },
      {
        "duration": 15,
        "start_time": "2021-09-29T12:36:11.873Z"
      },
      {
        "duration": 412,
        "start_time": "2021-09-29T12:37:14.746Z"
      },
      {
        "duration": 626,
        "start_time": "2021-09-29T12:38:25.866Z"
      },
      {
        "duration": 380,
        "start_time": "2021-09-29T12:38:33.792Z"
      },
      {
        "duration": 1997,
        "start_time": "2021-09-29T12:38:39.930Z"
      },
      {
        "duration": 11,
        "start_time": "2021-09-29T12:38:47.933Z"
      },
      {
        "duration": 15,
        "start_time": "2021-09-29T12:38:49.441Z"
      },
      {
        "duration": 11,
        "start_time": "2021-09-29T12:38:58.045Z"
      },
      {
        "duration": 492,
        "start_time": "2021-09-29T12:39:19.396Z"
      },
      {
        "duration": 129,
        "start_time": "2021-09-29T12:39:36.227Z"
      },
      {
        "duration": 13,
        "start_time": "2021-09-29T12:39:38.377Z"
      },
      {
        "duration": 14,
        "start_time": "2021-09-29T12:39:45.522Z"
      },
      {
        "duration": 398,
        "start_time": "2021-09-29T12:43:34.475Z"
      },
      {
        "duration": 418,
        "start_time": "2021-09-29T12:43:49.354Z"
      },
      {
        "duration": 423,
        "start_time": "2021-09-29T12:45:26.641Z"
      },
      {
        "duration": 10,
        "start_time": "2021-09-29T12:45:28.540Z"
      },
      {
        "duration": 16,
        "start_time": "2021-09-29T12:45:41.722Z"
      },
      {
        "duration": 3423,
        "start_time": "2021-09-29T12:46:37.896Z"
      },
      {
        "duration": 4,
        "start_time": "2021-09-29T12:46:41.321Z"
      },
      {
        "duration": 5770,
        "start_time": "2021-09-29T12:46:41.328Z"
      },
      {
        "duration": 110,
        "start_time": "2021-09-29T12:46:47.101Z"
      },
      {
        "duration": 11,
        "start_time": "2021-09-29T12:46:47.214Z"
      },
      {
        "duration": 23,
        "start_time": "2021-09-29T12:46:47.228Z"
      },
      {
        "duration": 11,
        "start_time": "2021-09-29T12:46:47.253Z"
      },
      {
        "duration": 22,
        "start_time": "2021-09-29T12:46:47.267Z"
      },
      {
        "duration": 9,
        "start_time": "2021-09-29T12:46:47.292Z"
      },
      {
        "duration": 14,
        "start_time": "2021-09-29T12:46:47.303Z"
      },
      {
        "duration": 38,
        "start_time": "2021-09-29T12:46:47.320Z"
      },
      {
        "duration": 6,
        "start_time": "2021-09-29T12:46:47.361Z"
      },
      {
        "duration": 16,
        "start_time": "2021-09-29T12:46:47.369Z"
      },
      {
        "duration": 586,
        "start_time": "2021-09-29T12:46:47.387Z"
      },
      {
        "duration": 10,
        "start_time": "2021-09-29T12:46:47.975Z"
      },
      {
        "duration": 8,
        "start_time": "2021-09-29T12:46:47.987Z"
      },
      {
        "duration": 13,
        "start_time": "2021-09-29T12:46:47.997Z"
      },
      {
        "duration": 14,
        "start_time": "2021-09-29T12:46:48.013Z"
      },
      {
        "duration": 1203,
        "start_time": "2021-09-29T12:46:48.057Z"
      },
      {
        "duration": 13,
        "start_time": "2021-09-29T12:46:49.262Z"
      },
      {
        "duration": 313,
        "start_time": "2021-09-29T12:46:49.277Z"
      },
      {
        "duration": 24,
        "start_time": "2021-09-29T12:46:49.593Z"
      },
      {
        "duration": 348,
        "start_time": "2021-09-29T12:46:49.623Z"
      },
      {
        "duration": 11344,
        "start_time": "2021-09-29T12:46:49.975Z"
      },
      {
        "duration": 2868,
        "start_time": "2021-09-29T12:46:58.454Z"
      },
      {
        "duration": 2865,
        "start_time": "2021-09-29T12:46:58.459Z"
      },
      {
        "duration": 2861,
        "start_time": "2021-09-29T12:46:58.464Z"
      },
      {
        "duration": 2858,
        "start_time": "2021-09-29T12:46:58.469Z"
      },
      {
        "duration": 2855,
        "start_time": "2021-09-29T12:46:58.474Z"
      },
      {
        "duration": 2848,
        "start_time": "2021-09-29T12:46:58.482Z"
      },
      {
        "duration": 2845,
        "start_time": "2021-09-29T12:46:58.487Z"
      },
      {
        "duration": 2841,
        "start_time": "2021-09-29T12:46:58.492Z"
      },
      {
        "duration": 2839,
        "start_time": "2021-09-29T12:46:58.496Z"
      },
      {
        "duration": 2836,
        "start_time": "2021-09-29T12:46:58.500Z"
      },
      {
        "duration": 2834,
        "start_time": "2021-09-29T12:46:58.504Z"
      },
      {
        "duration": 2831,
        "start_time": "2021-09-29T12:46:58.508Z"
      },
      {
        "duration": 2829,
        "start_time": "2021-09-29T12:46:58.512Z"
      },
      {
        "duration": 2826,
        "start_time": "2021-09-29T12:46:58.516Z"
      },
      {
        "duration": 2824,
        "start_time": "2021-09-29T12:46:58.520Z"
      },
      {
        "duration": 2822,
        "start_time": "2021-09-29T12:46:58.523Z"
      },
      {
        "duration": 2819,
        "start_time": "2021-09-29T12:46:58.527Z"
      },
      {
        "duration": 2809,
        "start_time": "2021-09-29T12:46:58.539Z"
      },
      {
        "duration": 2806,
        "start_time": "2021-09-29T12:46:58.543Z"
      },
      {
        "duration": 2804,
        "start_time": "2021-09-29T12:46:58.547Z"
      },
      {
        "duration": 2801,
        "start_time": "2021-09-29T12:46:58.551Z"
      },
      {
        "duration": 2799,
        "start_time": "2021-09-29T12:46:58.555Z"
      },
      {
        "duration": 2796,
        "start_time": "2021-09-29T12:46:58.559Z"
      },
      {
        "duration": 2794,
        "start_time": "2021-09-29T12:46:58.563Z"
      },
      {
        "duration": 2791,
        "start_time": "2021-09-29T12:46:58.567Z"
      },
      {
        "duration": 2788,
        "start_time": "2021-09-29T12:46:58.571Z"
      },
      {
        "duration": 2786,
        "start_time": "2021-09-29T12:46:58.575Z"
      },
      {
        "duration": 2783,
        "start_time": "2021-09-29T12:46:58.579Z"
      },
      {
        "duration": 2781,
        "start_time": "2021-09-29T12:46:58.583Z"
      },
      {
        "duration": 2778,
        "start_time": "2021-09-29T12:46:58.587Z"
      },
      {
        "duration": 2775,
        "start_time": "2021-09-29T12:46:58.591Z"
      },
      {
        "duration": 2773,
        "start_time": "2021-09-29T12:46:58.595Z"
      },
      {
        "duration": 2770,
        "start_time": "2021-09-29T12:46:58.599Z"
      },
      {
        "duration": 2768,
        "start_time": "2021-09-29T12:46:58.603Z"
      },
      {
        "duration": 2727,
        "start_time": "2021-09-29T12:46:58.645Z"
      },
      {
        "duration": 2711,
        "start_time": "2021-09-29T12:46:58.662Z"
      },
      {
        "duration": 2709,
        "start_time": "2021-09-29T12:46:58.666Z"
      },
      {
        "duration": 2706,
        "start_time": "2021-09-29T12:46:58.670Z"
      },
      {
        "duration": 2692,
        "start_time": "2021-09-29T12:46:58.685Z"
      },
      {
        "duration": 2678,
        "start_time": "2021-09-29T12:46:58.701Z"
      },
      {
        "duration": 2675,
        "start_time": "2021-09-29T12:46:58.705Z"
      },
      {
        "duration": 2662,
        "start_time": "2021-09-29T12:46:58.719Z"
      },
      {
        "duration": 2661,
        "start_time": "2021-09-29T12:46:58.722Z"
      },
      {
        "duration": 2658,
        "start_time": "2021-09-29T12:46:58.726Z"
      },
      {
        "duration": 2650,
        "start_time": "2021-09-29T12:46:58.735Z"
      },
      {
        "duration": 2640,
        "start_time": "2021-09-29T12:46:58.747Z"
      },
      {
        "duration": 2630,
        "start_time": "2021-09-29T12:46:58.758Z"
      },
      {
        "duration": 2627,
        "start_time": "2021-09-29T12:46:58.762Z"
      },
      {
        "duration": 2626,
        "start_time": "2021-09-29T12:46:58.765Z"
      },
      {
        "duration": 2618,
        "start_time": "2021-09-29T12:46:58.774Z"
      },
      {
        "duration": 2615,
        "start_time": "2021-09-29T12:46:58.778Z"
      },
      {
        "duration": 2609,
        "start_time": "2021-09-29T12:46:58.786Z"
      },
      {
        "duration": 2603,
        "start_time": "2021-09-29T12:46:58.793Z"
      },
      {
        "duration": 2662,
        "start_time": "2021-09-29T12:46:58.796Z"
      },
      {
        "duration": 2640,
        "start_time": "2021-09-29T12:46:58.819Z"
      },
      {
        "duration": 2635,
        "start_time": "2021-09-29T12:46:58.826Z"
      },
      {
        "duration": 2632,
        "start_time": "2021-09-29T12:46:58.830Z"
      },
      {
        "duration": 2630,
        "start_time": "2021-09-29T12:46:58.833Z"
      },
      {
        "duration": 3490,
        "start_time": "2021-09-29T12:47:55.118Z"
      },
      {
        "duration": 4,
        "start_time": "2021-09-29T12:47:58.611Z"
      },
      {
        "duration": 5940,
        "start_time": "2021-09-29T12:47:58.618Z"
      },
      {
        "duration": 115,
        "start_time": "2021-09-29T12:48:04.561Z"
      },
      {
        "duration": 10,
        "start_time": "2021-09-29T12:48:04.679Z"
      },
      {
        "duration": 22,
        "start_time": "2021-09-29T12:48:04.692Z"
      },
      {
        "duration": 9,
        "start_time": "2021-09-29T12:48:04.716Z"
      },
      {
        "duration": 15,
        "start_time": "2021-09-29T12:48:04.729Z"
      },
      {
        "duration": 9,
        "start_time": "2021-09-29T12:48:04.759Z"
      },
      {
        "duration": 10,
        "start_time": "2021-09-29T12:48:04.771Z"
      },
      {
        "duration": 24,
        "start_time": "2021-09-29T12:48:04.783Z"
      },
      {
        "duration": 6,
        "start_time": "2021-09-29T12:48:04.809Z"
      },
      {
        "duration": 46,
        "start_time": "2021-09-29T12:48:04.818Z"
      },
      {
        "duration": 601,
        "start_time": "2021-09-29T12:48:04.867Z"
      },
      {
        "duration": 10,
        "start_time": "2021-09-29T12:48:05.470Z"
      },
      {
        "duration": 6,
        "start_time": "2021-09-29T12:48:05.483Z"
      },
      {
        "duration": 18,
        "start_time": "2021-09-29T12:48:05.492Z"
      },
      {
        "duration": 14,
        "start_time": "2021-09-29T12:48:05.513Z"
      },
      {
        "duration": 1138,
        "start_time": "2021-09-29T12:48:05.559Z"
      },
      {
        "duration": 13,
        "start_time": "2021-09-29T12:48:06.700Z"
      },
      {
        "duration": 312,
        "start_time": "2021-09-29T12:48:06.716Z"
      },
      {
        "duration": 31,
        "start_time": "2021-09-29T12:48:07.030Z"
      },
      {
        "duration": 334,
        "start_time": "2021-09-29T12:48:07.067Z"
      },
      {
        "duration": 10,
        "start_time": "2021-09-29T12:48:07.405Z"
      },
      {
        "duration": 339,
        "start_time": "2021-09-29T12:48:07.418Z"
      },
      {
        "duration": 3,
        "start_time": "2021-09-29T12:48:07.760Z"
      },
      {
        "duration": 1099,
        "start_time": "2021-09-29T12:48:07.766Z"
      },
      {
        "duration": 33,
        "start_time": "2021-09-29T12:48:08.868Z"
      },
      {
        "duration": 10,
        "start_time": "2021-09-29T12:48:08.903Z"
      },
      {
        "duration": 44,
        "start_time": "2021-09-29T12:48:08.915Z"
      },
      {
        "duration": 13,
        "start_time": "2021-09-29T12:48:08.961Z"
      },
      {
        "duration": 1072,
        "start_time": "2021-09-29T12:48:08.976Z"
      },
      {
        "duration": 26,
        "start_time": "2021-09-29T12:48:10.051Z"
      },
      {
        "duration": 35,
        "start_time": "2021-09-29T12:48:10.080Z"
      },
      {
        "duration": 42,
        "start_time": "2021-09-29T12:48:10.117Z"
      },
      {
        "duration": 15,
        "start_time": "2021-09-29T12:48:10.161Z"
      },
      {
        "duration": 11,
        "start_time": "2021-09-29T12:48:10.178Z"
      },
      {
        "duration": 7,
        "start_time": "2021-09-29T12:48:10.191Z"
      },
      {
        "duration": 13,
        "start_time": "2021-09-29T12:48:10.201Z"
      },
      {
        "duration": 52,
        "start_time": "2021-09-29T12:48:10.216Z"
      },
      {
        "duration": 8,
        "start_time": "2021-09-29T12:48:10.271Z"
      },
      {
        "duration": 30,
        "start_time": "2021-09-29T12:48:10.282Z"
      },
      {
        "duration": 18,
        "start_time": "2021-09-29T12:48:10.314Z"
      },
      {
        "duration": 35,
        "start_time": "2021-09-29T12:48:10.335Z"
      },
      {
        "duration": 8,
        "start_time": "2021-09-29T12:48:10.373Z"
      },
      {
        "duration": 18,
        "start_time": "2021-09-29T12:48:10.383Z"
      },
      {
        "duration": 55,
        "start_time": "2021-09-29T12:48:10.403Z"
      },
      {
        "duration": 14,
        "start_time": "2021-09-29T12:48:10.460Z"
      },
      {
        "duration": 8,
        "start_time": "2021-09-29T12:48:10.477Z"
      },
      {
        "duration": 17,
        "start_time": "2021-09-29T12:48:10.488Z"
      },
      {
        "duration": 50,
        "start_time": "2021-09-29T12:48:10.507Z"
      },
      {
        "duration": 30,
        "start_time": "2021-09-29T12:48:10.560Z"
      },
      {
        "duration": 16,
        "start_time": "2021-09-29T12:48:10.594Z"
      },
      {
        "duration": 47,
        "start_time": "2021-09-29T12:48:10.613Z"
      },
      {
        "duration": 7,
        "start_time": "2021-09-29T12:48:10.663Z"
      },
      {
        "duration": 45,
        "start_time": "2021-09-29T12:48:10.673Z"
      },
      {
        "duration": 4,
        "start_time": "2021-09-29T12:48:10.757Z"
      },
      {
        "duration": 148993,
        "start_time": "2021-09-29T12:48:10.764Z"
      },
      {
        "duration": 492,
        "start_time": "2021-09-29T12:50:39.760Z"
      },
      {
        "duration": 53451,
        "start_time": "2021-09-29T12:50:40.259Z"
      },
      {
        "duration": 17,
        "start_time": "2021-09-29T12:51:33.713Z"
      },
      {
        "duration": 13,
        "start_time": "2021-09-29T12:51:33.733Z"
      },
      {
        "duration": 15,
        "start_time": "2021-09-29T12:51:33.749Z"
      },
      {
        "duration": 153901,
        "start_time": "2021-09-29T12:51:33.767Z"
      },
      {
        "duration": 77400,
        "start_time": "2021-09-29T12:54:07.671Z"
      },
      {
        "duration": 29,
        "start_time": "2021-09-29T12:55:25.073Z"
      },
      {
        "duration": 15,
        "start_time": "2021-09-29T12:55:25.105Z"
      },
      {
        "duration": 239,
        "start_time": "2021-09-29T12:55:25.127Z"
      },
      {
        "duration": 16112,
        "start_time": "2021-09-29T12:55:25.370Z"
      },
      {
        "duration": 113732,
        "start_time": "2021-09-29T12:55:41.485Z"
      },
      {
        "duration": 50905,
        "start_time": "2021-09-29T12:57:35.220Z"
      },
      {
        "duration": 4,
        "start_time": "2021-09-29T12:58:26.127Z"
      },
      {
        "duration": 7,
        "start_time": "2021-09-29T12:58:26.133Z"
      },
      {
        "duration": 243263,
        "start_time": "2021-09-29T12:58:26.158Z"
      },
      {
        "duration": 6,
        "start_time": "2021-09-29T13:02:29.458Z"
      },
      {
        "duration": 384,
        "start_time": "2021-09-29T13:02:29.467Z"
      },
      {
        "duration": 7,
        "start_time": "2021-09-29T13:02:29.857Z"
      },
      {
        "duration": 23,
        "start_time": "2021-09-29T13:02:29.867Z"
      },
      {
        "duration": 55777,
        "start_time": "2021-09-29T13:02:29.892Z"
      },
      {
        "duration": 15,
        "start_time": "2021-09-29T13:03:25.671Z"
      },
      {
        "duration": 20,
        "start_time": "2021-09-29T13:03:25.688Z"
      },
      {
        "duration": 855,
        "start_time": "2021-09-29T13:03:25.711Z"
      },
      {
        "duration": 3496,
        "start_time": "2021-09-29T13:04:27.842Z"
      },
      {
        "duration": 4,
        "start_time": "2021-09-29T13:04:31.340Z"
      },
      {
        "duration": 6330,
        "start_time": "2021-09-29T13:04:31.347Z"
      },
      {
        "duration": 112,
        "start_time": "2021-09-29T13:04:37.680Z"
      },
      {
        "duration": 11,
        "start_time": "2021-09-29T13:04:37.794Z"
      },
      {
        "duration": 41,
        "start_time": "2021-09-29T13:04:37.808Z"
      },
      {
        "duration": 30,
        "start_time": "2021-09-29T13:04:37.852Z"
      },
      {
        "duration": 26,
        "start_time": "2021-09-29T13:04:37.886Z"
      },
      {
        "duration": 22,
        "start_time": "2021-09-29T13:04:37.916Z"
      },
      {
        "duration": 39,
        "start_time": "2021-09-29T13:04:37.941Z"
      },
      {
        "duration": 56,
        "start_time": "2021-09-29T13:04:37.984Z"
      },
      {
        "duration": 45,
        "start_time": "2021-09-29T13:04:38.043Z"
      },
      {
        "duration": 43,
        "start_time": "2021-09-29T13:04:38.092Z"
      },
      {
        "duration": 835,
        "start_time": "2021-09-29T13:04:38.138Z"
      },
      {
        "duration": 27,
        "start_time": "2021-09-29T13:04:38.977Z"
      },
      {
        "duration": 5,
        "start_time": "2021-09-29T13:04:39.007Z"
      },
      {
        "duration": 39,
        "start_time": "2021-09-29T13:04:39.014Z"
      },
      {
        "duration": 40,
        "start_time": "2021-09-29T13:04:39.055Z"
      },
      {
        "duration": 1084,
        "start_time": "2021-09-29T13:04:39.097Z"
      },
      {
        "duration": 13,
        "start_time": "2021-09-29T13:04:40.184Z"
      },
      {
        "duration": 404,
        "start_time": "2021-09-29T13:04:40.200Z"
      },
      {
        "duration": 24,
        "start_time": "2021-09-29T13:04:40.607Z"
      },
      {
        "duration": 331,
        "start_time": "2021-09-29T13:04:40.658Z"
      },
      {
        "duration": 11,
        "start_time": "2021-09-29T13:04:40.995Z"
      },
      {
        "duration": 732,
        "start_time": "2021-09-29T13:04:41.009Z"
      },
      {
        "duration": 3,
        "start_time": "2021-09-29T13:04:41.743Z"
      },
      {
        "duration": 1168,
        "start_time": "2021-09-29T13:04:41.757Z"
      },
      {
        "duration": 43,
        "start_time": "2021-09-29T13:04:42.927Z"
      },
      {
        "duration": 10,
        "start_time": "2021-09-29T13:04:42.972Z"
      },
      {
        "duration": 27,
        "start_time": "2021-09-29T13:04:42.984Z"
      },
      {
        "duration": 24,
        "start_time": "2021-09-29T13:04:43.013Z"
      },
      {
        "duration": 1148,
        "start_time": "2021-09-29T13:04:43.040Z"
      },
      {
        "duration": 21,
        "start_time": "2021-09-29T13:04:44.190Z"
      },
      {
        "duration": 50,
        "start_time": "2021-09-29T13:04:44.213Z"
      },
      {
        "duration": 11,
        "start_time": "2021-09-29T13:04:44.266Z"
      },
      {
        "duration": 32,
        "start_time": "2021-09-29T13:04:44.280Z"
      },
      {
        "duration": 10,
        "start_time": "2021-09-29T13:04:44.315Z"
      },
      {
        "duration": 35,
        "start_time": "2021-09-29T13:04:44.327Z"
      },
      {
        "duration": 28,
        "start_time": "2021-09-29T13:04:44.365Z"
      },
      {
        "duration": 35,
        "start_time": "2021-09-29T13:04:44.396Z"
      },
      {
        "duration": 25,
        "start_time": "2021-09-29T13:04:44.433Z"
      },
      {
        "duration": 31,
        "start_time": "2021-09-29T13:04:44.460Z"
      },
      {
        "duration": 34,
        "start_time": "2021-09-29T13:04:44.494Z"
      },
      {
        "duration": 36,
        "start_time": "2021-09-29T13:04:44.530Z"
      },
      {
        "duration": 30,
        "start_time": "2021-09-29T13:04:44.568Z"
      },
      {
        "duration": 25,
        "start_time": "2021-09-29T13:04:44.600Z"
      },
      {
        "duration": 15,
        "start_time": "2021-09-29T13:04:44.628Z"
      },
      {
        "duration": 19,
        "start_time": "2021-09-29T13:04:44.645Z"
      },
      {
        "duration": 18,
        "start_time": "2021-09-29T13:04:44.666Z"
      },
      {
        "duration": 26,
        "start_time": "2021-09-29T13:04:44.686Z"
      },
      {
        "duration": 19,
        "start_time": "2021-09-29T13:04:44.715Z"
      },
      {
        "duration": 37,
        "start_time": "2021-09-29T13:04:44.736Z"
      },
      {
        "duration": 17,
        "start_time": "2021-09-29T13:04:44.776Z"
      },
      {
        "duration": 15,
        "start_time": "2021-09-29T13:04:44.796Z"
      },
      {
        "duration": 15,
        "start_time": "2021-09-29T13:04:44.813Z"
      },
      {
        "duration": 39,
        "start_time": "2021-09-29T13:04:44.858Z"
      },
      {
        "duration": 23,
        "start_time": "2021-09-29T13:04:44.900Z"
      },
      {
        "duration": 168809,
        "start_time": "2021-09-29T13:04:44.926Z"
      },
      {
        "duration": 321,
        "start_time": "2021-09-29T13:07:33.737Z"
      },
      {
        "duration": 51607,
        "start_time": "2021-09-29T13:07:34.060Z"
      },
      {
        "duration": 8,
        "start_time": "2021-09-29T13:08:25.670Z"
      },
      {
        "duration": 29,
        "start_time": "2021-09-29T13:08:25.680Z"
      },
      {
        "duration": 8,
        "start_time": "2021-09-29T13:08:25.712Z"
      },
      {
        "duration": 136874,
        "start_time": "2021-09-29T13:08:25.723Z"
      },
      {
        "duration": 68363,
        "start_time": "2021-09-29T13:10:42.600Z"
      },
      {
        "duration": 31,
        "start_time": "2021-09-29T13:11:50.966Z"
      },
      {
        "duration": 34,
        "start_time": "2021-09-29T13:11:50.999Z"
      },
      {
        "duration": 222,
        "start_time": "2021-09-29T13:11:51.041Z"
      },
      {
        "duration": 15752,
        "start_time": "2021-09-29T13:11:51.270Z"
      },
      {
        "duration": 119212,
        "start_time": "2021-09-29T13:12:07.025Z"
      },
      {
        "duration": 32795,
        "start_time": "2021-09-29T13:14:06.240Z"
      },
      {
        "duration": 4,
        "start_time": "2021-09-29T13:14:39.037Z"
      },
      {
        "duration": 5,
        "start_time": "2021-09-29T13:14:39.058Z"
      },
      {
        "duration": 1250,
        "start_time": "2021-09-29T13:14:39.066Z"
      },
      {
        "duration": 2908,
        "start_time": "2021-09-29T13:14:37.410Z"
      },
      {
        "duration": 2906,
        "start_time": "2021-09-29T13:14:37.414Z"
      },
      {
        "duration": 2903,
        "start_time": "2021-09-29T13:14:37.419Z"
      },
      {
        "duration": 2900,
        "start_time": "2021-09-29T13:14:37.423Z"
      },
      {
        "duration": 2897,
        "start_time": "2021-09-29T13:14:37.427Z"
      },
      {
        "duration": 2894,
        "start_time": "2021-09-29T13:14:37.431Z"
      },
      {
        "duration": 2893,
        "start_time": "2021-09-29T13:14:37.434Z"
      },
      {
        "duration": 2890,
        "start_time": "2021-09-29T13:14:37.438Z"
      },
      {
        "duration": 3423,
        "start_time": "2021-09-29T13:17:50.496Z"
      },
      {
        "duration": 4,
        "start_time": "2021-09-29T13:17:53.922Z"
      },
      {
        "duration": 5603,
        "start_time": "2021-09-29T13:17:53.928Z"
      },
      {
        "duration": 186,
        "start_time": "2021-09-29T13:17:59.534Z"
      },
      {
        "duration": 11,
        "start_time": "2021-09-29T13:17:59.723Z"
      },
      {
        "duration": 39,
        "start_time": "2021-09-29T13:17:59.736Z"
      },
      {
        "duration": 9,
        "start_time": "2021-09-29T13:17:59.778Z"
      },
      {
        "duration": 20,
        "start_time": "2021-09-29T13:17:59.789Z"
      },
      {
        "duration": 12,
        "start_time": "2021-09-29T13:17:59.814Z"
      },
      {
        "duration": 28,
        "start_time": "2021-09-29T13:17:59.830Z"
      },
      {
        "duration": 37,
        "start_time": "2021-09-29T13:17:59.861Z"
      },
      {
        "duration": 7,
        "start_time": "2021-09-29T13:17:59.900Z"
      },
      {
        "duration": 17,
        "start_time": "2021-09-29T13:17:59.909Z"
      },
      {
        "duration": 600,
        "start_time": "2021-09-29T13:17:59.929Z"
      },
      {
        "duration": 10,
        "start_time": "2021-09-29T13:18:00.531Z"
      },
      {
        "duration": 16,
        "start_time": "2021-09-29T13:18:00.543Z"
      },
      {
        "duration": 38,
        "start_time": "2021-09-29T13:18:00.561Z"
      },
      {
        "duration": 25,
        "start_time": "2021-09-29T13:18:00.602Z"
      },
      {
        "duration": 1158,
        "start_time": "2021-09-29T13:18:00.630Z"
      },
      {
        "duration": 14,
        "start_time": "2021-09-29T13:18:01.791Z"
      },
      {
        "duration": 316,
        "start_time": "2021-09-29T13:18:01.807Z"
      },
      {
        "duration": 36,
        "start_time": "2021-09-29T13:18:02.125Z"
      },
      {
        "duration": 339,
        "start_time": "2021-09-29T13:18:02.164Z"
      },
      {
        "duration": 10,
        "start_time": "2021-09-29T13:18:02.505Z"
      },
      {
        "duration": 605,
        "start_time": "2021-09-29T13:18:02.517Z"
      },
      {
        "duration": 3,
        "start_time": "2021-09-29T13:18:03.124Z"
      },
      {
        "duration": 1141,
        "start_time": "2021-09-29T13:18:03.134Z"
      },
      {
        "duration": 32,
        "start_time": "2021-09-29T13:18:04.279Z"
      },
      {
        "duration": 10,
        "start_time": "2021-09-29T13:18:04.313Z"
      },
      {
        "duration": 45,
        "start_time": "2021-09-29T13:18:04.325Z"
      },
      {
        "duration": 11,
        "start_time": "2021-09-29T13:18:04.373Z"
      },
      {
        "duration": 1228,
        "start_time": "2021-09-29T13:18:04.386Z"
      },
      {
        "duration": 41,
        "start_time": "2021-09-29T13:18:05.617Z"
      },
      {
        "duration": 41,
        "start_time": "2021-09-29T13:18:05.661Z"
      },
      {
        "duration": 13,
        "start_time": "2021-09-29T13:18:05.705Z"
      },
      {
        "duration": 50,
        "start_time": "2021-09-29T13:18:05.721Z"
      },
      {
        "duration": 11,
        "start_time": "2021-09-29T13:18:05.774Z"
      },
      {
        "duration": 7,
        "start_time": "2021-09-29T13:18:05.788Z"
      },
      {
        "duration": 9,
        "start_time": "2021-09-29T13:18:05.798Z"
      },
      {
        "duration": 47,
        "start_time": "2021-09-29T13:18:05.810Z"
      },
      {
        "duration": 10,
        "start_time": "2021-09-29T13:18:05.860Z"
      },
      {
        "duration": 39,
        "start_time": "2021-09-29T13:18:05.873Z"
      },
      {
        "duration": 35,
        "start_time": "2021-09-29T13:18:05.915Z"
      },
      {
        "duration": 74,
        "start_time": "2021-09-29T13:18:05.952Z"
      },
      {
        "duration": 30,
        "start_time": "2021-09-29T13:18:06.029Z"
      },
      {
        "duration": 46,
        "start_time": "2021-09-29T13:18:06.062Z"
      },
      {
        "duration": 41,
        "start_time": "2021-09-29T13:18:06.110Z"
      },
      {
        "duration": 18,
        "start_time": "2021-09-29T13:18:06.154Z"
      },
      {
        "duration": 40,
        "start_time": "2021-09-29T13:18:06.174Z"
      },
      {
        "duration": 34,
        "start_time": "2021-09-29T13:18:06.216Z"
      },
      {
        "duration": 50,
        "start_time": "2021-09-29T13:18:06.252Z"
      },
      {
        "duration": 35,
        "start_time": "2021-09-29T13:18:06.304Z"
      },
      {
        "duration": 32,
        "start_time": "2021-09-29T13:18:06.342Z"
      },
      {
        "duration": 29,
        "start_time": "2021-09-29T13:18:06.377Z"
      },
      {
        "duration": 15,
        "start_time": "2021-09-29T13:18:06.408Z"
      },
      {
        "duration": 61,
        "start_time": "2021-09-29T13:18:06.425Z"
      },
      {
        "duration": 36,
        "start_time": "2021-09-29T13:18:06.489Z"
      },
      {
        "duration": 133351,
        "start_time": "2021-09-29T13:18:06.527Z"
      },
      {
        "duration": 307,
        "start_time": "2021-09-29T13:20:19.880Z"
      },
      {
        "duration": 38384,
        "start_time": "2021-09-29T13:20:20.190Z"
      },
      {
        "duration": 9,
        "start_time": "2021-09-29T13:20:58.576Z"
      },
      {
        "duration": 32,
        "start_time": "2021-09-29T13:20:58.587Z"
      },
      {
        "duration": 24,
        "start_time": "2021-09-29T13:20:58.621Z"
      },
      {
        "duration": 134259,
        "start_time": "2021-09-29T13:20:58.647Z"
      },
      {
        "duration": 75238,
        "start_time": "2021-09-29T13:23:12.909Z"
      },
      {
        "duration": 26,
        "start_time": "2021-09-29T13:24:28.150Z"
      },
      {
        "duration": 18,
        "start_time": "2021-09-29T13:24:28.178Z"
      },
      {
        "duration": 168,
        "start_time": "2021-09-29T13:24:28.199Z"
      },
      {
        "duration": 15251,
        "start_time": "2021-09-29T13:24:28.458Z"
      },
      {
        "duration": 113219,
        "start_time": "2021-09-29T13:24:43.712Z"
      },
      {
        "duration": 30635,
        "start_time": "2021-09-29T13:26:36.934Z"
      },
      {
        "duration": 4,
        "start_time": "2021-09-29T13:27:07.572Z"
      },
      {
        "duration": 13,
        "start_time": "2021-09-29T13:27:07.578Z"
      },
      {
        "duration": 1179,
        "start_time": "2021-09-29T13:27:07.593Z"
      },
      {
        "duration": 2892,
        "start_time": "2021-09-29T13:27:05.883Z"
      },
      {
        "duration": 2890,
        "start_time": "2021-09-29T13:27:05.887Z"
      },
      {
        "duration": 2886,
        "start_time": "2021-09-29T13:27:05.892Z"
      },
      {
        "duration": 2884,
        "start_time": "2021-09-29T13:27:05.896Z"
      },
      {
        "duration": 2882,
        "start_time": "2021-09-29T13:27:05.899Z"
      },
      {
        "duration": 2880,
        "start_time": "2021-09-29T13:27:05.903Z"
      },
      {
        "duration": 2877,
        "start_time": "2021-09-29T13:27:05.907Z"
      },
      {
        "duration": 2875,
        "start_time": "2021-09-29T13:27:05.910Z"
      },
      {
        "duration": 2873,
        "start_time": "2021-09-29T13:27:05.914Z"
      },
      {
        "duration": 307,
        "start_time": "2021-09-29T13:27:27.978Z"
      },
      {
        "duration": 413,
        "start_time": "2021-09-29T13:27:41.830Z"
      },
      {
        "duration": 404,
        "start_time": "2021-09-29T13:30:15.590Z"
      },
      {
        "duration": 3325,
        "start_time": "2021-09-29T13:42:25.441Z"
      },
      {
        "duration": 5,
        "start_time": "2021-09-29T13:42:28.769Z"
      },
      {
        "duration": 5267,
        "start_time": "2021-09-29T13:42:28.777Z"
      },
      {
        "duration": 113,
        "start_time": "2021-09-29T13:42:34.046Z"
      },
      {
        "duration": 11,
        "start_time": "2021-09-29T13:42:34.161Z"
      },
      {
        "duration": 22,
        "start_time": "2021-09-29T13:42:34.174Z"
      },
      {
        "duration": 10,
        "start_time": "2021-09-29T13:42:34.198Z"
      },
      {
        "duration": 12,
        "start_time": "2021-09-29T13:42:34.212Z"
      },
      {
        "duration": 9,
        "start_time": "2021-09-29T13:42:34.258Z"
      },
      {
        "duration": 10,
        "start_time": "2021-09-29T13:42:34.270Z"
      },
      {
        "duration": 22,
        "start_time": "2021-09-29T13:42:34.283Z"
      },
      {
        "duration": 7,
        "start_time": "2021-09-29T13:42:34.307Z"
      },
      {
        "duration": 45,
        "start_time": "2021-09-29T13:42:34.317Z"
      },
      {
        "duration": 557,
        "start_time": "2021-09-29T13:42:34.365Z"
      },
      {
        "duration": 3,
        "start_time": "2021-09-29T13:42:34.925Z"
      },
      {
        "duration": 14,
        "start_time": "2021-09-29T13:42:34.930Z"
      },
      {
        "duration": 12,
        "start_time": "2021-09-29T13:42:34.957Z"
      },
      {
        "duration": 1089,
        "start_time": "2021-09-29T13:42:34.971Z"
      },
      {
        "duration": 16,
        "start_time": "2021-09-29T13:42:36.063Z"
      },
      {
        "duration": 332,
        "start_time": "2021-09-29T13:42:36.082Z"
      },
      {
        "duration": 24,
        "start_time": "2021-09-29T13:42:36.416Z"
      },
      {
        "duration": 421,
        "start_time": "2021-09-29T13:42:36.457Z"
      },
      {
        "duration": 25,
        "start_time": "2021-09-29T13:42:36.888Z"
      },
      {
        "duration": 501,
        "start_time": "2021-09-29T13:42:36.926Z"
      },
      {
        "duration": 3,
        "start_time": "2021-09-29T13:42:37.429Z"
      },
      {
        "duration": 1078,
        "start_time": "2021-09-29T13:42:37.435Z"
      },
      {
        "duration": 50,
        "start_time": "2021-09-29T13:42:38.515Z"
      },
      {
        "duration": 10,
        "start_time": "2021-09-29T13:42:38.568Z"
      },
      {
        "duration": 18,
        "start_time": "2021-09-29T13:42:38.581Z"
      },
      {
        "duration": 17,
        "start_time": "2021-09-29T13:42:38.602Z"
      },
      {
        "duration": 1021,
        "start_time": "2021-09-29T13:42:38.622Z"
      },
      {
        "duration": 22,
        "start_time": "2021-09-29T13:42:39.657Z"
      },
      {
        "duration": 34,
        "start_time": "2021-09-29T13:42:39.682Z"
      },
      {
        "duration": 11,
        "start_time": "2021-09-29T13:42:39.718Z"
      },
      {
        "duration": 15,
        "start_time": "2021-09-29T13:42:39.758Z"
      },
      {
        "duration": 11,
        "start_time": "2021-09-29T13:42:39.775Z"
      },
      {
        "duration": 8,
        "start_time": "2021-09-29T13:42:39.788Z"
      },
      {
        "duration": 15,
        "start_time": "2021-09-29T13:42:39.798Z"
      },
      {
        "duration": 49,
        "start_time": "2021-09-29T13:42:39.816Z"
      },
      {
        "duration": 9,
        "start_time": "2021-09-29T13:42:39.868Z"
      },
      {
        "duration": 21,
        "start_time": "2021-09-29T13:42:39.880Z"
      },
      {
        "duration": 17,
        "start_time": "2021-09-29T13:42:39.904Z"
      },
      {
        "duration": 37,
        "start_time": "2021-09-29T13:42:39.924Z"
      },
      {
        "duration": 10,
        "start_time": "2021-09-29T13:42:39.964Z"
      },
      {
        "duration": 14,
        "start_time": "2021-09-29T13:42:39.977Z"
      },
      {
        "duration": 16,
        "start_time": "2021-09-29T13:42:39.994Z"
      },
      {
        "duration": 46,
        "start_time": "2021-09-29T13:42:40.012Z"
      },
      {
        "duration": 7,
        "start_time": "2021-09-29T13:42:40.061Z"
      },
      {
        "duration": 17,
        "start_time": "2021-09-29T13:42:40.071Z"
      },
      {
        "duration": 16,
        "start_time": "2021-09-29T13:42:40.090Z"
      },
      {
        "duration": 53,
        "start_time": "2021-09-29T13:42:40.108Z"
      },
      {
        "duration": 13,
        "start_time": "2021-09-29T13:42:40.163Z"
      },
      {
        "duration": 13,
        "start_time": "2021-09-29T13:42:40.178Z"
      },
      {
        "duration": 5,
        "start_time": "2021-09-29T13:42:40.194Z"
      },
      {
        "duration": 84,
        "start_time": "2021-09-29T13:42:40.201Z"
      },
      {
        "duration": 4,
        "start_time": "2021-09-29T13:42:40.287Z"
      },
      {
        "duration": 131412,
        "start_time": "2021-09-29T13:42:40.294Z"
      },
      {
        "duration": 295,
        "start_time": "2021-09-29T13:44:51.708Z"
      },
      {
        "duration": 37597,
        "start_time": "2021-09-29T13:44:52.005Z"
      },
      {
        "duration": 10,
        "start_time": "2021-09-29T13:45:29.605Z"
      },
      {
        "duration": 27,
        "start_time": "2021-09-29T13:45:29.617Z"
      },
      {
        "duration": 11,
        "start_time": "2021-09-29T13:45:29.646Z"
      },
      {
        "duration": 132069,
        "start_time": "2021-09-29T13:45:29.806Z"
      },
      {
        "duration": 53213,
        "start_time": "2021-09-29T13:47:41.878Z"
      },
      {
        "duration": 27,
        "start_time": "2021-09-29T13:48:35.094Z"
      },
      {
        "duration": 16,
        "start_time": "2021-09-29T13:48:35.123Z"
      },
      {
        "duration": 224,
        "start_time": "2021-09-29T13:48:35.141Z"
      },
      {
        "duration": 15550,
        "start_time": "2021-09-29T13:48:35.457Z"
      },
      {
        "duration": 111209,
        "start_time": "2021-09-29T13:48:51.010Z"
      },
      {
        "duration": 47215,
        "start_time": "2021-09-29T13:50:42.221Z"
      },
      {
        "duration": 4,
        "start_time": "2021-09-29T13:51:29.438Z"
      },
      {
        "duration": 15,
        "start_time": "2021-09-29T13:51:29.445Z"
      },
      {
        "duration": 2072,
        "start_time": "2021-09-29T13:51:29.462Z"
      },
      {
        "duration": 2990,
        "start_time": "2021-09-29T13:51:28.547Z"
      },
      {
        "duration": 2987,
        "start_time": "2021-09-29T13:51:28.551Z"
      },
      {
        "duration": 2984,
        "start_time": "2021-09-29T13:51:28.555Z"
      },
      {
        "duration": 2981,
        "start_time": "2021-09-29T13:51:28.559Z"
      },
      {
        "duration": 2979,
        "start_time": "2021-09-29T13:51:28.563Z"
      },
      {
        "duration": 2976,
        "start_time": "2021-09-29T13:51:28.567Z"
      },
      {
        "duration": 2974,
        "start_time": "2021-09-29T13:51:28.571Z"
      },
      {
        "duration": 2971,
        "start_time": "2021-09-29T13:51:28.575Z"
      },
      {
        "duration": 228734,
        "start_time": "2021-09-29T13:53:06.455Z"
      },
      {
        "duration": 8,
        "start_time": "2021-09-29T13:56:55.192Z"
      },
      {
        "duration": 405,
        "start_time": "2021-09-29T13:56:55.203Z"
      },
      {
        "duration": 7,
        "start_time": "2021-09-29T13:56:55.612Z"
      },
      {
        "duration": 37,
        "start_time": "2021-09-29T13:56:55.621Z"
      },
      {
        "duration": 55974,
        "start_time": "2021-09-29T13:56:55.660Z"
      },
      {
        "duration": 14,
        "start_time": "2021-09-29T13:57:51.637Z"
      },
      {
        "duration": 20,
        "start_time": "2021-09-29T13:57:51.654Z"
      },
      {
        "duration": 747,
        "start_time": "2021-09-29T13:57:51.677Z"
      },
      {
        "duration": 14,
        "start_time": "2021-09-29T14:01:53.049Z"
      },
      {
        "duration": 3508,
        "start_time": "2021-09-29T14:02:38.589Z"
      },
      {
        "duration": 4,
        "start_time": "2021-09-29T14:02:42.100Z"
      },
      {
        "duration": 5514,
        "start_time": "2021-09-29T14:02:42.107Z"
      },
      {
        "duration": 116,
        "start_time": "2021-09-29T14:02:47.624Z"
      },
      {
        "duration": 13,
        "start_time": "2021-09-29T14:02:47.742Z"
      },
      {
        "duration": 21,
        "start_time": "2021-09-29T14:02:47.758Z"
      },
      {
        "duration": 9,
        "start_time": "2021-09-29T14:02:47.781Z"
      },
      {
        "duration": 16,
        "start_time": "2021-09-29T14:02:47.793Z"
      },
      {
        "duration": 8,
        "start_time": "2021-09-29T14:02:47.812Z"
      },
      {
        "duration": 39,
        "start_time": "2021-09-29T14:02:47.822Z"
      },
      {
        "duration": 23,
        "start_time": "2021-09-29T14:02:47.864Z"
      },
      {
        "duration": 7,
        "start_time": "2021-09-29T14:02:47.889Z"
      },
      {
        "duration": 10,
        "start_time": "2021-09-29T14:02:47.899Z"
      },
      {
        "duration": 592,
        "start_time": "2021-09-29T14:02:47.911Z"
      },
      {
        "duration": 4,
        "start_time": "2021-09-29T14:02:48.505Z"
      },
      {
        "duration": 14,
        "start_time": "2021-09-29T14:02:48.511Z"
      },
      {
        "duration": 33,
        "start_time": "2021-09-29T14:02:48.528Z"
      },
      {
        "duration": 1134,
        "start_time": "2021-09-29T14:02:48.563Z"
      },
      {
        "duration": 14,
        "start_time": "2021-09-29T14:02:49.699Z"
      },
      {
        "duration": 345,
        "start_time": "2021-09-29T14:02:49.715Z"
      },
      {
        "duration": 22,
        "start_time": "2021-09-29T14:02:50.063Z"
      },
      {
        "duration": 351,
        "start_time": "2021-09-29T14:02:50.088Z"
      },
      {
        "duration": 20,
        "start_time": "2021-09-29T14:02:50.445Z"
      },
      {
        "duration": 437,
        "start_time": "2021-09-29T14:02:50.468Z"
      },
      {
        "duration": 4,
        "start_time": "2021-09-29T14:02:50.909Z"
      },
      {
        "duration": 1121,
        "start_time": "2021-09-29T14:02:50.916Z"
      },
      {
        "duration": 36,
        "start_time": "2021-09-29T14:02:52.040Z"
      },
      {
        "duration": 10,
        "start_time": "2021-09-29T14:02:52.078Z"
      },
      {
        "duration": 12,
        "start_time": "2021-09-29T14:02:52.091Z"
      },
      {
        "duration": 12,
        "start_time": "2021-09-29T14:02:52.105Z"
      },
      {
        "duration": 1068,
        "start_time": "2021-09-29T14:02:52.120Z"
      },
      {
        "duration": 22,
        "start_time": "2021-09-29T14:02:53.190Z"
      },
      {
        "duration": 58,
        "start_time": "2021-09-29T14:02:53.215Z"
      },
      {
        "duration": 12,
        "start_time": "2021-09-29T14:02:53.276Z"
      },
      {
        "duration": 24,
        "start_time": "2021-09-29T14:02:53.290Z"
      },
      {
        "duration": 15,
        "start_time": "2021-09-29T14:02:53.317Z"
      },
      {
        "duration": 28,
        "start_time": "2021-09-29T14:02:53.335Z"
      },
      {
        "duration": 7,
        "start_time": "2021-09-29T14:02:53.365Z"
      },
      {
        "duration": 18,
        "start_time": "2021-09-29T14:02:53.375Z"
      },
      {
        "duration": 7,
        "start_time": "2021-09-29T14:02:53.395Z"
      },
      {
        "duration": 20,
        "start_time": "2021-09-29T14:02:53.404Z"
      },
      {
        "duration": 38,
        "start_time": "2021-09-29T14:02:53.427Z"
      },
      {
        "duration": 16,
        "start_time": "2021-09-29T14:02:53.467Z"
      },
      {
        "duration": 8,
        "start_time": "2021-09-29T14:02:53.485Z"
      },
      {
        "duration": 17,
        "start_time": "2021-09-29T14:02:53.495Z"
      },
      {
        "duration": 54,
        "start_time": "2021-09-29T14:02:53.514Z"
      },
      {
        "duration": 13,
        "start_time": "2021-09-29T14:02:53.570Z"
      },
      {
        "duration": 7,
        "start_time": "2021-09-29T14:02:53.586Z"
      },
      {
        "duration": 15,
        "start_time": "2021-09-29T14:02:53.596Z"
      },
      {
        "duration": 45,
        "start_time": "2021-09-29T14:02:53.613Z"
      },
      {
        "duration": 28,
        "start_time": "2021-09-29T14:02:53.660Z"
      },
      {
        "duration": 12,
        "start_time": "2021-09-29T14:02:53.690Z"
      },
      {
        "duration": 54,
        "start_time": "2021-09-29T14:02:53.705Z"
      },
      {
        "duration": 6,
        "start_time": "2021-09-29T14:02:53.761Z"
      },
      {
        "duration": 37,
        "start_time": "2021-09-29T14:02:53.769Z"
      },
      {
        "duration": 4,
        "start_time": "2021-09-29T14:02:53.809Z"
      },
      {
        "duration": 136252,
        "start_time": "2021-09-29T14:02:53.816Z"
      },
      {
        "duration": 471,
        "start_time": "2021-09-29T14:05:10.071Z"
      },
      {
        "duration": 36853,
        "start_time": "2021-09-29T14:05:10.545Z"
      },
      {
        "duration": 8,
        "start_time": "2021-09-29T14:05:47.400Z"
      },
      {
        "duration": 14,
        "start_time": "2021-09-29T14:05:47.410Z"
      },
      {
        "duration": 6,
        "start_time": "2021-09-29T14:05:47.426Z"
      },
      {
        "duration": 147653,
        "start_time": "2021-09-29T14:05:47.586Z"
      },
      {
        "duration": 52015,
        "start_time": "2021-09-29T14:08:15.241Z"
      },
      {
        "duration": 31,
        "start_time": "2021-09-29T14:09:07.259Z"
      },
      {
        "duration": 17,
        "start_time": "2021-09-29T14:09:07.292Z"
      },
      {
        "duration": 256,
        "start_time": "2021-09-29T14:09:07.311Z"
      },
      {
        "duration": 16672,
        "start_time": "2021-09-29T14:09:07.666Z"
      },
      {
        "duration": 67146,
        "start_time": "2021-09-29T14:09:24.341Z"
      },
      {
        "duration": 3015,
        "start_time": "2021-09-29T14:10:28.476Z"
      },
      {
        "duration": 3013,
        "start_time": "2021-09-29T14:10:28.480Z"
      },
      {
        "duration": 3009,
        "start_time": "2021-09-29T14:10:28.485Z"
      },
      {
        "duration": 3006,
        "start_time": "2021-09-29T14:10:28.490Z"
      },
      {
        "duration": 3003,
        "start_time": "2021-09-29T14:10:28.494Z"
      },
      {
        "duration": 3002,
        "start_time": "2021-09-29T14:10:28.497Z"
      },
      {
        "duration": 2999,
        "start_time": "2021-09-29T14:10:28.502Z"
      },
      {
        "duration": 2997,
        "start_time": "2021-09-29T14:10:28.506Z"
      },
      {
        "duration": 2994,
        "start_time": "2021-09-29T14:10:28.511Z"
      },
      {
        "duration": 2991,
        "start_time": "2021-09-29T14:10:28.515Z"
      },
      {
        "duration": 2989,
        "start_time": "2021-09-29T14:10:28.519Z"
      },
      {
        "duration": 2986,
        "start_time": "2021-09-29T14:10:28.523Z"
      },
      {
        "duration": 2983,
        "start_time": "2021-09-29T14:10:28.528Z"
      },
      {
        "duration": 2979,
        "start_time": "2021-09-29T14:10:28.533Z"
      },
      {
        "duration": 3341,
        "start_time": "2021-09-29T14:10:37.569Z"
      },
      {
        "duration": 3,
        "start_time": "2021-09-29T14:10:40.913Z"
      },
      {
        "duration": 6015,
        "start_time": "2021-09-29T14:10:40.919Z"
      },
      {
        "duration": 114,
        "start_time": "2021-09-29T14:10:46.936Z"
      },
      {
        "duration": 15,
        "start_time": "2021-09-29T14:10:47.052Z"
      },
      {
        "duration": 24,
        "start_time": "2021-09-29T14:10:47.070Z"
      },
      {
        "duration": 17,
        "start_time": "2021-09-29T14:10:47.097Z"
      },
      {
        "duration": 14,
        "start_time": "2021-09-29T14:10:47.117Z"
      },
      {
        "duration": 35,
        "start_time": "2021-09-29T14:10:47.134Z"
      },
      {
        "duration": 17,
        "start_time": "2021-09-29T14:10:47.172Z"
      },
      {
        "duration": 25,
        "start_time": "2021-09-29T14:10:47.191Z"
      },
      {
        "duration": 6,
        "start_time": "2021-09-29T14:10:47.219Z"
      },
      {
        "duration": 39,
        "start_time": "2021-09-29T14:10:47.228Z"
      },
      {
        "duration": 598,
        "start_time": "2021-09-29T14:10:47.270Z"
      },
      {
        "duration": 3,
        "start_time": "2021-09-29T14:10:47.871Z"
      },
      {
        "duration": 13,
        "start_time": "2021-09-29T14:10:47.877Z"
      },
      {
        "duration": 13,
        "start_time": "2021-09-29T14:10:47.892Z"
      },
      {
        "duration": 1171,
        "start_time": "2021-09-29T14:10:47.907Z"
      },
      {
        "duration": 15,
        "start_time": "2021-09-29T14:10:49.080Z"
      },
      {
        "duration": 443,
        "start_time": "2021-09-29T14:10:49.097Z"
      },
      {
        "duration": 37,
        "start_time": "2021-09-29T14:10:49.542Z"
      },
      {
        "duration": 359,
        "start_time": "2021-09-29T14:10:49.581Z"
      },
      {
        "duration": 27,
        "start_time": "2021-09-29T14:10:49.946Z"
      },
      {
        "duration": 485,
        "start_time": "2021-09-29T14:10:49.979Z"
      },
      {
        "duration": 4,
        "start_time": "2021-09-29T14:10:50.468Z"
      },
      {
        "duration": 1231,
        "start_time": "2021-09-29T14:10:50.477Z"
      },
      {
        "duration": 52,
        "start_time": "2021-09-29T14:10:51.711Z"
      },
      {
        "duration": 12,
        "start_time": "2021-09-29T14:10:51.765Z"
      },
      {
        "duration": 13,
        "start_time": "2021-09-29T14:10:51.780Z"
      },
      {
        "duration": 12,
        "start_time": "2021-09-29T14:10:51.796Z"
      },
      {
        "duration": 1080,
        "start_time": "2021-09-29T14:10:51.811Z"
      },
      {
        "duration": 22,
        "start_time": "2021-09-29T14:10:52.894Z"
      },
      {
        "duration": 59,
        "start_time": "2021-09-29T14:10:52.919Z"
      },
      {
        "duration": 12,
        "start_time": "2021-09-29T14:10:52.981Z"
      },
      {
        "duration": 16,
        "start_time": "2021-09-29T14:10:52.995Z"
      },
      {
        "duration": 11,
        "start_time": "2021-09-29T14:10:53.014Z"
      },
      {
        "duration": 49,
        "start_time": "2021-09-29T14:10:53.027Z"
      },
      {
        "duration": 9,
        "start_time": "2021-09-29T14:10:53.078Z"
      },
      {
        "duration": 17,
        "start_time": "2021-09-29T14:10:53.090Z"
      },
      {
        "duration": 8,
        "start_time": "2021-09-29T14:10:53.109Z"
      },
      {
        "duration": 52,
        "start_time": "2021-09-29T14:10:53.120Z"
      },
      {
        "duration": 11,
        "start_time": "2021-09-29T14:10:53.174Z"
      },
      {
        "duration": 26,
        "start_time": "2021-09-29T14:10:53.188Z"
      },
      {
        "duration": 12,
        "start_time": "2021-09-29T14:10:53.217Z"
      },
      {
        "duration": 52,
        "start_time": "2021-09-29T14:10:53.232Z"
      },
      {
        "duration": 17,
        "start_time": "2021-09-29T14:10:53.287Z"
      },
      {
        "duration": 12,
        "start_time": "2021-09-29T14:10:53.306Z"
      },
      {
        "duration": 7,
        "start_time": "2021-09-29T14:10:53.320Z"
      },
      {
        "duration": 45,
        "start_time": "2021-09-29T14:10:53.330Z"
      },
      {
        "duration": 13,
        "start_time": "2021-09-29T14:10:53.377Z"
      },
      {
        "duration": 29,
        "start_time": "2021-09-29T14:10:53.392Z"
      },
      {
        "duration": 38,
        "start_time": "2021-09-29T14:10:53.423Z"
      },
      {
        "duration": 15,
        "start_time": "2021-09-29T14:10:53.463Z"
      },
      {
        "duration": 10,
        "start_time": "2021-09-29T14:10:53.481Z"
      },
      {
        "duration": 76,
        "start_time": "2021-09-29T14:10:53.493Z"
      },
      {
        "duration": 4,
        "start_time": "2021-09-29T14:10:53.572Z"
      },
      {
        "duration": 142267,
        "start_time": "2021-09-29T14:10:53.578Z"
      },
      {
        "duration": 334,
        "start_time": "2021-09-29T14:13:15.847Z"
      },
      {
        "duration": 39662,
        "start_time": "2021-09-29T14:13:16.184Z"
      },
      {
        "duration": 625,
        "start_time": "2021-09-29T14:13:55.849Z"
      },
      {
        "duration": 9,
        "start_time": "2021-09-29T14:13:56.477Z"
      },
      {
        "duration": 12,
        "start_time": "2021-09-29T14:13:56.488Z"
      },
      {
        "duration": 15,
        "start_time": "2021-09-29T14:13:56.503Z"
      },
      {
        "duration": 157798,
        "start_time": "2021-09-29T14:13:56.521Z"
      },
      {
        "duration": 52375,
        "start_time": "2021-09-29T14:16:34.322Z"
      },
      {
        "duration": 29,
        "start_time": "2021-09-29T14:17:26.700Z"
      },
      {
        "duration": 15,
        "start_time": "2021-09-29T14:17:26.732Z"
      },
      {
        "duration": 204,
        "start_time": "2021-09-29T14:17:26.760Z"
      },
      {
        "duration": 15140,
        "start_time": "2021-09-29T14:17:27.058Z"
      },
      {
        "duration": 109913,
        "start_time": "2021-09-29T14:17:42.200Z"
      },
      {
        "duration": 51213,
        "start_time": "2021-09-29T14:19:32.115Z"
      },
      {
        "duration": 4,
        "start_time": "2021-09-29T14:20:23.331Z"
      },
      {
        "duration": 21,
        "start_time": "2021-09-29T14:20:23.338Z"
      },
      {
        "duration": 230648,
        "start_time": "2021-09-29T14:20:23.363Z"
      },
      {
        "duration": 6,
        "start_time": "2021-09-29T14:24:14.057Z"
      },
      {
        "duration": 377,
        "start_time": "2021-09-29T14:24:14.066Z"
      },
      {
        "duration": 16,
        "start_time": "2021-09-29T14:24:14.446Z"
      },
      {
        "duration": 39,
        "start_time": "2021-09-29T14:24:14.465Z"
      },
      {
        "duration": 54905,
        "start_time": "2021-09-29T14:24:14.507Z"
      },
      {
        "duration": 14,
        "start_time": "2021-09-29T14:25:09.415Z"
      },
      {
        "duration": 19,
        "start_time": "2021-09-29T14:25:09.432Z"
      },
      {
        "duration": 14,
        "start_time": "2021-09-29T14:25:09.454Z"
      },
      {
        "duration": 3,
        "start_time": "2021-09-29T14:25:09.470Z"
      },
      {
        "duration": 634,
        "start_time": "2021-09-29T14:25:09.477Z"
      },
      {
        "duration": 604,
        "start_time": "2021-09-29T14:28:31.300Z"
      },
      {
        "duration": 4838,
        "start_time": "2021-09-29T22:11:41.994Z"
      },
      {
        "duration": 7,
        "start_time": "2021-09-29T22:11:55.732Z"
      },
      {
        "duration": 111,
        "start_time": "2021-09-29T22:12:06.405Z"
      },
      {
        "duration": 13,
        "start_time": "2021-09-29T22:12:09.135Z"
      },
      {
        "duration": 23,
        "start_time": "2021-09-29T22:12:09.290Z"
      },
      {
        "duration": 9,
        "start_time": "2021-09-29T22:12:10.096Z"
      },
      {
        "duration": 11,
        "start_time": "2021-09-29T22:12:10.462Z"
      },
      {
        "duration": 9,
        "start_time": "2021-09-29T22:12:10.974Z"
      },
      {
        "duration": 9,
        "start_time": "2021-09-29T22:12:11.297Z"
      },
      {
        "duration": 20,
        "start_time": "2021-09-29T22:12:11.455Z"
      },
      {
        "duration": 8,
        "start_time": "2021-09-29T22:12:12.058Z"
      },
      {
        "duration": 12,
        "start_time": "2021-09-29T22:12:12.368Z"
      },
      {
        "duration": 581,
        "start_time": "2021-09-29T22:12:13.732Z"
      },
      {
        "duration": 4,
        "start_time": "2021-09-29T22:12:14.407Z"
      },
      {
        "duration": 11,
        "start_time": "2021-09-29T22:12:15.154Z"
      },
      {
        "duration": 12,
        "start_time": "2021-09-29T22:12:15.299Z"
      },
      {
        "duration": 1074,
        "start_time": "2021-09-29T22:12:15.591Z"
      },
      {
        "duration": 13,
        "start_time": "2021-09-29T22:12:16.668Z"
      },
      {
        "duration": 328,
        "start_time": "2021-09-29T22:12:16.684Z"
      },
      {
        "duration": 26,
        "start_time": "2021-09-29T22:12:17.015Z"
      },
      {
        "duration": 371,
        "start_time": "2021-09-29T22:12:17.044Z"
      },
      {
        "duration": 11,
        "start_time": "2021-09-29T22:12:17.418Z"
      },
      {
        "duration": 438,
        "start_time": "2021-09-29T22:12:17.489Z"
      },
      {
        "duration": 4,
        "start_time": "2021-09-29T22:12:19.620Z"
      },
      {
        "duration": 1083,
        "start_time": "2021-09-29T22:12:19.627Z"
      },
      {
        "duration": 35,
        "start_time": "2021-09-29T22:12:20.713Z"
      },
      {
        "duration": 9,
        "start_time": "2021-09-29T22:12:20.750Z"
      },
      {
        "duration": 24,
        "start_time": "2021-09-29T22:12:20.762Z"
      },
      {
        "duration": 36,
        "start_time": "2021-09-29T22:12:20.788Z"
      },
      {
        "duration": 1034,
        "start_time": "2021-09-29T22:12:20.827Z"
      },
      {
        "duration": 23,
        "start_time": "2021-09-29T22:12:21.864Z"
      },
      {
        "duration": 53,
        "start_time": "2021-09-29T22:12:21.890Z"
      },
      {
        "duration": 12,
        "start_time": "2021-09-29T22:12:22.556Z"
      },
      {
        "duration": 15,
        "start_time": "2021-09-29T22:12:22.904Z"
      },
      {
        "duration": 14,
        "start_time": "2021-09-29T22:12:23.078Z"
      },
      {
        "duration": 8,
        "start_time": "2021-09-29T22:12:23.770Z"
      },
      {
        "duration": 6,
        "start_time": "2021-09-29T22:12:24.104Z"
      },
      {
        "duration": 15,
        "start_time": "2021-09-29T22:12:24.484Z"
      },
      {
        "duration": 9,
        "start_time": "2021-09-29T22:12:24.651Z"
      },
      {
        "duration": 19,
        "start_time": "2021-09-29T22:12:24.826Z"
      },
      {
        "duration": 13,
        "start_time": "2021-09-29T22:12:26.004Z"
      },
      {
        "duration": 15,
        "start_time": "2021-09-29T22:12:26.356Z"
      },
      {
        "duration": 5,
        "start_time": "2021-09-29T22:12:26.663Z"
      },
      {
        "duration": 16,
        "start_time": "2021-09-29T22:12:26.838Z"
      },
      {
        "duration": 16,
        "start_time": "2021-09-29T22:12:26.998Z"
      },
      {
        "duration": 13,
        "start_time": "2021-09-29T22:12:27.163Z"
      },
      {
        "duration": 6,
        "start_time": "2021-09-29T22:12:27.500Z"
      },
      {
        "duration": 16,
        "start_time": "2021-09-29T22:12:27.807Z"
      },
      {
        "duration": 13,
        "start_time": "2021-09-29T22:12:28.132Z"
      },
      {
        "duration": 28,
        "start_time": "2021-09-29T22:12:28.308Z"
      },
      {
        "duration": 12,
        "start_time": "2021-09-29T22:12:30.507Z"
      },
      {
        "duration": 15,
        "start_time": "2021-09-29T22:12:31.062Z"
      },
      {
        "duration": 12,
        "start_time": "2021-09-29T22:12:31.754Z"
      },
      {
        "duration": 3203,
        "start_time": "2021-09-30T05:08:39.013Z"
      },
      {
        "duration": 4,
        "start_time": "2021-09-30T05:08:42.219Z"
      },
      {
        "duration": 5172,
        "start_time": "2021-09-30T05:08:42.226Z"
      },
      {
        "duration": 97,
        "start_time": "2021-09-30T05:08:47.400Z"
      },
      {
        "duration": 12,
        "start_time": "2021-09-30T05:08:47.500Z"
      },
      {
        "duration": 20,
        "start_time": "2021-09-30T05:08:47.514Z"
      },
      {
        "duration": 9,
        "start_time": "2021-09-30T05:08:47.536Z"
      },
      {
        "duration": 13,
        "start_time": "2021-09-30T05:08:47.548Z"
      },
      {
        "duration": 9,
        "start_time": "2021-09-30T05:08:47.584Z"
      },
      {
        "duration": 10,
        "start_time": "2021-09-30T05:08:47.595Z"
      },
      {
        "duration": 22,
        "start_time": "2021-09-30T05:08:47.607Z"
      },
      {
        "duration": 6,
        "start_time": "2021-09-30T05:08:47.632Z"
      },
      {
        "duration": 51,
        "start_time": "2021-09-30T05:08:47.640Z"
      },
      {
        "duration": 575,
        "start_time": "2021-09-30T05:08:47.694Z"
      },
      {
        "duration": 3,
        "start_time": "2021-09-30T05:08:48.271Z"
      },
      {
        "duration": 13,
        "start_time": "2021-09-30T05:08:48.282Z"
      },
      {
        "duration": 11,
        "start_time": "2021-09-30T05:08:48.297Z"
      },
      {
        "duration": 1085,
        "start_time": "2021-09-30T05:08:48.310Z"
      },
      {
        "duration": 13,
        "start_time": "2021-09-30T05:08:49.397Z"
      },
      {
        "duration": 314,
        "start_time": "2021-09-30T05:08:49.412Z"
      },
      {
        "duration": 22,
        "start_time": "2021-09-30T05:08:49.728Z"
      },
      {
        "duration": 336,
        "start_time": "2021-09-30T05:08:49.752Z"
      },
      {
        "duration": 10,
        "start_time": "2021-09-30T05:08:50.094Z"
      },
      {
        "duration": 405,
        "start_time": "2021-09-30T05:08:50.109Z"
      },
      {
        "duration": 4,
        "start_time": "2021-09-30T05:08:50.517Z"
      },
      {
        "duration": 1050,
        "start_time": "2021-09-30T05:08:50.524Z"
      },
      {
        "duration": 32,
        "start_time": "2021-09-30T05:08:51.582Z"
      },
      {
        "duration": 10,
        "start_time": "2021-09-30T05:08:51.617Z"
      },
      {
        "duration": 11,
        "start_time": "2021-09-30T05:08:51.630Z"
      },
      {
        "duration": 45,
        "start_time": "2021-09-30T05:08:51.644Z"
      },
      {
        "duration": 996,
        "start_time": "2021-09-30T05:08:51.692Z"
      },
      {
        "duration": 23,
        "start_time": "2021-09-30T05:08:52.690Z"
      },
      {
        "duration": 36,
        "start_time": "2021-09-30T05:08:52.715Z"
      },
      {
        "duration": 13,
        "start_time": "2021-09-30T05:08:52.782Z"
      },
      {
        "duration": 16,
        "start_time": "2021-09-30T05:08:52.798Z"
      },
      {
        "duration": 15,
        "start_time": "2021-09-30T05:08:52.817Z"
      },
      {
        "duration": 49,
        "start_time": "2021-09-30T05:08:52.834Z"
      },
      {
        "duration": 6,
        "start_time": "2021-09-30T05:08:52.885Z"
      },
      {
        "duration": 16,
        "start_time": "2021-09-30T05:08:52.894Z"
      },
      {
        "duration": 8,
        "start_time": "2021-09-30T05:08:52.913Z"
      },
      {
        "duration": 17,
        "start_time": "2021-09-30T05:08:52.923Z"
      },
      {
        "duration": 43,
        "start_time": "2021-09-30T05:08:52.942Z"
      },
      {
        "duration": 19,
        "start_time": "2021-09-30T05:08:52.988Z"
      },
      {
        "duration": 6,
        "start_time": "2021-09-30T05:08:53.009Z"
      },
      {
        "duration": 15,
        "start_time": "2021-09-30T05:08:53.018Z"
      },
      {
        "duration": 53,
        "start_time": "2021-09-30T05:08:53.035Z"
      },
      {
        "duration": 13,
        "start_time": "2021-09-30T05:08:53.090Z"
      },
      {
        "duration": 5,
        "start_time": "2021-09-30T05:08:53.106Z"
      },
      {
        "duration": 16,
        "start_time": "2021-09-30T05:08:53.113Z"
      },
      {
        "duration": 11,
        "start_time": "2021-09-30T05:08:53.131Z"
      },
      {
        "duration": 56,
        "start_time": "2021-09-30T05:08:53.144Z"
      },
      {
        "duration": 12,
        "start_time": "2021-09-30T05:08:53.202Z"
      },
      {
        "duration": 12,
        "start_time": "2021-09-30T05:08:53.217Z"
      },
      {
        "duration": 5,
        "start_time": "2021-09-30T05:08:53.232Z"
      },
      {
        "duration": 143,
        "start_time": "2021-09-30T05:08:53.239Z"
      },
      {
        "duration": 3199,
        "start_time": "2021-09-30T05:08:50.187Z"
      },
      {
        "duration": 3196,
        "start_time": "2021-09-30T05:08:50.191Z"
      },
      {
        "duration": 3194,
        "start_time": "2021-09-30T05:08:50.195Z"
      },
      {
        "duration": 3191,
        "start_time": "2021-09-30T05:08:50.199Z"
      },
      {
        "duration": 3189,
        "start_time": "2021-09-30T05:08:50.203Z"
      },
      {
        "duration": 3187,
        "start_time": "2021-09-30T05:08:50.207Z"
      },
      {
        "duration": 3185,
        "start_time": "2021-09-30T05:08:50.210Z"
      },
      {
        "duration": 3183,
        "start_time": "2021-09-30T05:08:50.214Z"
      },
      {
        "duration": 3180,
        "start_time": "2021-09-30T05:08:50.218Z"
      },
      {
        "duration": 3180,
        "start_time": "2021-09-30T05:08:50.222Z"
      },
      {
        "duration": 3177,
        "start_time": "2021-09-30T05:08:50.226Z"
      },
      {
        "duration": 3175,
        "start_time": "2021-09-30T05:08:50.230Z"
      },
      {
        "duration": 3172,
        "start_time": "2021-09-30T05:08:50.234Z"
      },
      {
        "duration": 3170,
        "start_time": "2021-09-30T05:08:50.238Z"
      },
      {
        "duration": 3168,
        "start_time": "2021-09-30T05:08:50.241Z"
      },
      {
        "duration": 3166,
        "start_time": "2021-09-30T05:08:50.245Z"
      },
      {
        "duration": 3113,
        "start_time": "2021-09-30T05:08:50.299Z"
      },
      {
        "duration": 3109,
        "start_time": "2021-09-30T05:08:50.305Z"
      },
      {
        "duration": 3104,
        "start_time": "2021-09-30T05:08:50.311Z"
      },
      {
        "duration": 3101,
        "start_time": "2021-09-30T05:08:50.316Z"
      },
      {
        "duration": 3097,
        "start_time": "2021-09-30T05:08:50.321Z"
      },
      {
        "duration": 3092,
        "start_time": "2021-09-30T05:08:50.327Z"
      },
      {
        "duration": 3089,
        "start_time": "2021-09-30T05:08:50.332Z"
      },
      {
        "duration": 3084,
        "start_time": "2021-09-30T05:08:50.338Z"
      },
      {
        "duration": 3080,
        "start_time": "2021-09-30T05:08:50.344Z"
      },
      {
        "duration": 3076,
        "start_time": "2021-09-30T05:08:50.349Z"
      },
      {
        "duration": 3128,
        "start_time": "2021-09-30T05:08:50.354Z"
      },
      {
        "duration": 3125,
        "start_time": "2021-09-30T05:08:50.359Z"
      },
      {
        "duration": 3122,
        "start_time": "2021-09-30T05:08:50.363Z"
      },
      {
        "duration": 37,
        "start_time": "2021-09-30T05:25:52.241Z"
      },
      {
        "duration": 4,
        "start_time": "2021-09-30T05:25:52.416Z"
      },
      {
        "duration": 105798,
        "start_time": "2021-09-30T05:25:52.626Z"
      },
      {
        "duration": 326,
        "start_time": "2021-09-30T05:27:38.426Z"
      },
      {
        "duration": 38011,
        "start_time": "2021-09-30T05:27:38.756Z"
      },
      {
        "duration": 682,
        "start_time": "2021-09-30T05:28:16.771Z"
      },
      {
        "duration": 11,
        "start_time": "2021-09-30T05:28:17.456Z"
      },
      {
        "duration": 7,
        "start_time": "2021-09-30T05:28:17.484Z"
      },
      {
        "duration": 7,
        "start_time": "2021-09-30T05:28:17.494Z"
      },
      {
        "duration": 106328,
        "start_time": "2021-09-30T05:28:17.506Z"
      },
      {
        "duration": 50019,
        "start_time": "2021-09-30T05:30:03.837Z"
      },
      {
        "duration": 27,
        "start_time": "2021-09-30T05:30:53.859Z"
      },
      {
        "duration": 14,
        "start_time": "2021-09-30T05:30:53.888Z"
      },
      {
        "duration": 186,
        "start_time": "2021-09-30T05:30:53.905Z"
      },
      {
        "duration": 14562,
        "start_time": "2021-09-30T05:30:54.185Z"
      },
      {
        "duration": 104346,
        "start_time": "2021-09-30T05:31:08.749Z"
      },
      {
        "duration": 42901,
        "start_time": "2021-09-30T05:32:53.098Z"
      },
      {
        "duration": 4,
        "start_time": "2021-09-30T05:33:36.002Z"
      },
      {
        "duration": 10,
        "start_time": "2021-09-30T05:33:36.008Z"
      },
      {
        "duration": 231900,
        "start_time": "2021-09-30T05:33:36.020Z"
      },
      {
        "duration": 5,
        "start_time": "2021-09-30T05:37:27.923Z"
      },
      {
        "duration": 405,
        "start_time": "2021-09-30T05:37:27.931Z"
      },
      {
        "duration": 7,
        "start_time": "2021-09-30T05:37:28.338Z"
      },
      {
        "duration": 36,
        "start_time": "2021-09-30T05:37:28.348Z"
      },
      {
        "duration": 60675,
        "start_time": "2021-09-30T05:37:28.389Z"
      },
      {
        "duration": 13,
        "start_time": "2021-09-30T05:38:29.066Z"
      },
      {
        "duration": 18,
        "start_time": "2021-09-30T05:38:29.081Z"
      },
      {
        "duration": 15,
        "start_time": "2021-09-30T05:38:29.101Z"
      },
      {
        "duration": 3,
        "start_time": "2021-09-30T05:38:29.119Z"
      },
      {
        "duration": 286,
        "start_time": "2021-09-30T07:14:33.699Z"
      },
      {
        "duration": 2322,
        "start_time": "2021-09-30T07:14:40.186Z"
      },
      {
        "duration": 2,
        "start_time": "2021-09-30T07:14:42.510Z"
      },
      {
        "duration": 3854,
        "start_time": "2021-09-30T07:14:42.514Z"
      },
      {
        "duration": 94,
        "start_time": "2021-09-30T07:14:46.370Z"
      },
      {
        "duration": 8,
        "start_time": "2021-09-30T07:14:46.466Z"
      },
      {
        "duration": 15,
        "start_time": "2021-09-30T07:14:46.475Z"
      },
      {
        "duration": 5,
        "start_time": "2021-09-30T07:14:46.492Z"
      },
      {
        "duration": 6,
        "start_time": "2021-09-30T07:14:46.499Z"
      },
      {
        "duration": 7,
        "start_time": "2021-09-30T07:14:46.507Z"
      },
      {
        "duration": 5,
        "start_time": "2021-09-30T07:14:46.516Z"
      },
      {
        "duration": 30,
        "start_time": "2021-09-30T07:14:46.523Z"
      },
      {
        "duration": 4,
        "start_time": "2021-09-30T07:14:46.555Z"
      },
      {
        "duration": 8,
        "start_time": "2021-09-30T07:14:46.561Z"
      },
      {
        "duration": 320,
        "start_time": "2021-09-30T07:14:46.570Z"
      },
      {
        "duration": 10,
        "start_time": "2021-09-30T07:14:50.562Z"
      },
      {
        "duration": 215,
        "start_time": "2021-09-30T07:16:49.206Z"
      },
      {
        "duration": 2370,
        "start_time": "2021-09-30T07:20:33.457Z"
      },
      {
        "duration": 3,
        "start_time": "2021-09-30T07:20:35.829Z"
      },
      {
        "duration": 3829,
        "start_time": "2021-09-30T07:20:35.834Z"
      },
      {
        "duration": 93,
        "start_time": "2021-09-30T07:20:39.665Z"
      },
      {
        "duration": 8,
        "start_time": "2021-09-30T07:20:39.760Z"
      },
      {
        "duration": 15,
        "start_time": "2021-09-30T07:20:39.769Z"
      },
      {
        "duration": 7,
        "start_time": "2021-09-30T07:20:39.785Z"
      },
      {
        "duration": 6,
        "start_time": "2021-09-30T07:20:39.794Z"
      },
      {
        "duration": 8,
        "start_time": "2021-09-30T07:20:39.801Z"
      },
      {
        "duration": 7,
        "start_time": "2021-09-30T07:20:39.810Z"
      },
      {
        "duration": 32,
        "start_time": "2021-09-30T07:20:39.818Z"
      },
      {
        "duration": 7,
        "start_time": "2021-09-30T07:20:39.851Z"
      },
      {
        "duration": 8,
        "start_time": "2021-09-30T07:20:39.859Z"
      },
      {
        "duration": 319,
        "start_time": "2021-09-30T07:20:39.868Z"
      },
      {
        "duration": 9,
        "start_time": "2021-09-30T07:20:40.189Z"
      },
      {
        "duration": 235,
        "start_time": "2021-09-30T07:20:40.200Z"
      },
      {
        "duration": 8,
        "start_time": "2021-09-30T07:20:40.436Z"
      },
      {
        "duration": 9,
        "start_time": "2021-09-30T07:20:40.446Z"
      },
      {
        "duration": 7,
        "start_time": "2021-09-30T07:20:40.457Z"
      },
      {
        "duration": 608,
        "start_time": "2021-09-30T07:20:40.465Z"
      },
      {
        "duration": 9,
        "start_time": "2021-09-30T07:20:41.074Z"
      },
      {
        "duration": 182,
        "start_time": "2021-09-30T07:20:41.084Z"
      },
      {
        "duration": 14,
        "start_time": "2021-09-30T07:20:41.270Z"
      },
      {
        "duration": 199,
        "start_time": "2021-09-30T07:20:41.286Z"
      },
      {
        "duration": 7,
        "start_time": "2021-09-30T07:20:41.486Z"
      },
      {
        "duration": 244,
        "start_time": "2021-09-30T07:20:41.494Z"
      },
      {
        "duration": 5,
        "start_time": "2021-09-30T07:20:41.739Z"
      },
      {
        "duration": 594,
        "start_time": "2021-09-30T07:20:41.745Z"
      },
      {
        "duration": 18,
        "start_time": "2021-09-30T07:20:42.344Z"
      },
      {
        "duration": 6,
        "start_time": "2021-09-30T07:20:42.364Z"
      },
      {
        "duration": 8,
        "start_time": "2021-09-30T07:20:42.371Z"
      },
      {
        "duration": 9,
        "start_time": "2021-09-30T07:20:42.380Z"
      },
      {
        "duration": 692,
        "start_time": "2021-09-30T07:20:42.390Z"
      },
      {
        "duration": 14,
        "start_time": "2021-09-30T07:20:43.084Z"
      },
      {
        "duration": 20,
        "start_time": "2021-09-30T07:20:43.099Z"
      },
      {
        "duration": 27,
        "start_time": "2021-09-30T07:20:43.120Z"
      },
      {
        "duration": 12,
        "start_time": "2021-09-30T07:20:43.149Z"
      },
      {
        "duration": 7,
        "start_time": "2021-09-30T07:20:43.163Z"
      },
      {
        "duration": 5,
        "start_time": "2021-09-30T07:20:43.171Z"
      },
      {
        "duration": 8,
        "start_time": "2021-09-30T07:20:43.178Z"
      },
      {
        "duration": 19,
        "start_time": "2021-09-30T07:20:43.188Z"
      },
      {
        "duration": 7,
        "start_time": "2021-09-30T07:20:43.209Z"
      },
      {
        "duration": 35,
        "start_time": "2021-09-30T07:20:43.218Z"
      },
      {
        "duration": 13,
        "start_time": "2021-09-30T07:20:43.255Z"
      },
      {
        "duration": 12,
        "start_time": "2021-09-30T07:20:43.270Z"
      },
      {
        "duration": 5,
        "start_time": "2021-09-30T07:20:43.284Z"
      },
      {
        "duration": 11,
        "start_time": "2021-09-30T07:20:43.290Z"
      },
      {
        "duration": 10,
        "start_time": "2021-09-30T07:20:43.302Z"
      },
      {
        "duration": 8,
        "start_time": "2021-09-30T07:20:43.313Z"
      },
      {
        "duration": 4,
        "start_time": "2021-09-30T07:20:43.345Z"
      },
      {
        "duration": 11,
        "start_time": "2021-09-30T07:20:43.351Z"
      },
      {
        "duration": 8,
        "start_time": "2021-09-30T07:20:43.364Z"
      },
      {
        "duration": 16,
        "start_time": "2021-09-30T07:20:43.373Z"
      },
      {
        "duration": 8,
        "start_time": "2021-09-30T07:20:43.391Z"
      },
      {
        "duration": 14,
        "start_time": "2021-09-30T07:20:43.401Z"
      },
      {
        "duration": 4,
        "start_time": "2021-09-30T07:20:43.416Z"
      },
      {
        "duration": 26,
        "start_time": "2021-09-30T07:20:43.445Z"
      },
      {
        "duration": 5,
        "start_time": "2021-09-30T07:20:43.472Z"
      }
    ],
    "colab": {
      "name": "Telecom Churn.ipynb",
      "provenance": [],
      "collapsed_sections": []
    },
    "kernelspec": {
      "display_name": "Python 3",
      "language": "python",
      "name": "python3"
    },
    "language_info": {
      "codemirror_mode": {
        "name": "ipython",
        "version": 3
      },
      "file_extension": ".py",
      "mimetype": "text/x-python",
      "name": "python",
      "nbconvert_exporter": "python",
      "pygments_lexer": "ipython3",
      "version": "3.7.8"
    },
    "toc": {
      "base_numbering": 1,
      "nav_menu": {},
      "number_sections": true,
      "sideBar": true,
      "skip_h1_title": true,
      "title_cell": "Table of Contents",
      "title_sidebar": "Contents",
      "toc_cell": false,
      "toc_position": {},
      "toc_section_display": true,
      "toc_window_display": false
    }
  },
  "cells": [
    {
      "cell_type": "markdown",
      "metadata": {
        "id": "qVyb2ido5k4P"
      },
      "source": [
        "## Импорт библиотек"
      ]
    },
    {
      "cell_type": "code",
      "metadata": {
        "id": "HVSlKZrK4jlY"
      },
      "source": [
        "import pandas as pd\n",
        "import numpy as np\n",
        "import matplotlib.pyplot as plt\n",
        "from matplotlib.pyplot import figure\n",
        "from datetime import datetime\n",
        "\n",
        "from sklearn.model_selection import train_test_split\n",
        "\n",
        "#predective models\n",
        "from catboost import CatBoostClassifier\n",
        "from catboost import Pool, cv\n",
        "from sklearn.linear_model import LogisticRegression\n",
        "from sklearn.model_selection import GridSearchCV\n",
        "from sklearn.tree import DecisionTreeClassifier\n",
        "from sklearn.ensemble import RandomForestClassifier\n",
        "from sklearn.ensemble import GradientBoostingClassifier\n",
        "\n",
        "#import metrics\n",
        "from sklearn.metrics import roc_auc_score \n",
        "from sklearn.metrics import accuracy_score\n",
        "from sklearn.model_selection import cross_validate\n",
        "\n",
        "#neural network\n",
        "import tensorflow as tf\n",
        "from sklearn.pipeline import Pipeline\n",
        "from tensorflow.keras.wrappers.scikit_learn import KerasClassifier\n",
        "from sklearn.preprocessing import LabelEncoder\n",
        "from tensorflow.keras.models import Sequential\n",
        "from tensorflow.keras.layers import Dense\n",
        "from sklearn.model_selection import StratifiedKFold\n",
        "\n",
        "#for report\n",
        "from sklearn.metrics import roc_curve\n",
        "from sklearn.metrics import recall_score\n",
        "from sklearn.metrics import precision_score\n",
        "import seaborn as sns\n",
        "\n",
        "pd.options.mode.chained_assignment = None"
      ],
      "execution_count": 3,
      "outputs": []
    },
    {
      "cell_type": "markdown",
      "metadata": {
        "id": "NKn4YGsG56a1"
      },
      "source": [
        "## Исследование данных"
      ]
    },
    {
      "cell_type": "markdown",
      "metadata": {
        "id": "Fgvy8YFu74yz"
      },
      "source": [
        "Чтение данных:"
      ]
    },
    {
      "cell_type": "code",
      "metadata": {
        "id": "pnkgqoE8NAgX"
      },
      "source": [
        "contact = pd.read_csv('/content/contract.csv')\n",
        "internet = pd.read_csv('/content/internet.csv')\n",
        "personal = pd.read_csv('/content/personal.csv')\n",
        "phone = pd.read_csv('/content/phone.csv')"
      ],
      "execution_count": 4,
      "outputs": []
    },
    {
      "cell_type": "markdown",
      "metadata": {
        "id": "5LAHzGwb6OY0"
      },
      "source": [
        "### База контактов"
      ]
    },
    {
      "cell_type": "markdown",
      "metadata": {
        "id": "R8lvkG3X6GeI"
      },
      "source": [
        "Для начала поработаем с базой контактов."
      ]
    },
    {
      "cell_type": "code",
      "metadata": {
        "colab": {
          "base_uri": "https://localhost:8080/"
        },
        "id": "1DyRFewe8GH6",
        "outputId": "dbaaf964-af73-44b7-c3f9-91af1e8386bf"
      },
      "source": [
        "contact.info()"
      ],
      "execution_count": 5,
      "outputs": [
        {
          "output_type": "stream",
          "name": "stdout",
          "text": [
            "<class 'pandas.core.frame.DataFrame'>\n",
            "RangeIndex: 7043 entries, 0 to 7042\n",
            "Data columns (total 8 columns):\n",
            " #   Column            Non-Null Count  Dtype  \n",
            "---  ------            --------------  -----  \n",
            " 0   customerID        7043 non-null   object \n",
            " 1   BeginDate         7043 non-null   object \n",
            " 2   EndDate           7043 non-null   object \n",
            " 3   Type              7043 non-null   object \n",
            " 4   PaperlessBilling  7043 non-null   object \n",
            " 5   PaymentMethod     7043 non-null   object \n",
            " 6   MonthlyCharges    7043 non-null   float64\n",
            " 7   TotalCharges      7043 non-null   object \n",
            "dtypes: float64(1), object(7)\n",
            "memory usage: 440.3+ KB\n"
          ]
        }
      ]
    },
    {
      "cell_type": "code",
      "metadata": {
        "colab": {
          "base_uri": "https://localhost:8080/",
          "height": 204
        },
        "id": "MoAQcOqb6u7X",
        "outputId": "e159b8ab-8391-40cf-a17e-dc24f64ddf7f"
      },
      "source": [
        "contact.head()"
      ],
      "execution_count": 6,
      "outputs": [
        {
          "output_type": "execute_result",
          "data": {
            "text/html": [
              "<div>\n",
              "<style scoped>\n",
              "    .dataframe tbody tr th:only-of-type {\n",
              "        vertical-align: middle;\n",
              "    }\n",
              "\n",
              "    .dataframe tbody tr th {\n",
              "        vertical-align: top;\n",
              "    }\n",
              "\n",
              "    .dataframe thead th {\n",
              "        text-align: right;\n",
              "    }\n",
              "</style>\n",
              "<table border=\"1\" class=\"dataframe\">\n",
              "  <thead>\n",
              "    <tr style=\"text-align: right;\">\n",
              "      <th></th>\n",
              "      <th>customerID</th>\n",
              "      <th>BeginDate</th>\n",
              "      <th>EndDate</th>\n",
              "      <th>Type</th>\n",
              "      <th>PaperlessBilling</th>\n",
              "      <th>PaymentMethod</th>\n",
              "      <th>MonthlyCharges</th>\n",
              "      <th>TotalCharges</th>\n",
              "    </tr>\n",
              "  </thead>\n",
              "  <tbody>\n",
              "    <tr>\n",
              "      <th>0</th>\n",
              "      <td>7590-VHVEG</td>\n",
              "      <td>2020-01-01</td>\n",
              "      <td>No</td>\n",
              "      <td>Month-to-month</td>\n",
              "      <td>Yes</td>\n",
              "      <td>Electronic check</td>\n",
              "      <td>29.85</td>\n",
              "      <td>29.85</td>\n",
              "    </tr>\n",
              "    <tr>\n",
              "      <th>1</th>\n",
              "      <td>5575-GNVDE</td>\n",
              "      <td>2017-04-01</td>\n",
              "      <td>No</td>\n",
              "      <td>One year</td>\n",
              "      <td>No</td>\n",
              "      <td>Mailed check</td>\n",
              "      <td>56.95</td>\n",
              "      <td>1889.5</td>\n",
              "    </tr>\n",
              "    <tr>\n",
              "      <th>2</th>\n",
              "      <td>3668-QPYBK</td>\n",
              "      <td>2019-10-01</td>\n",
              "      <td>2019-12-01 00:00:00</td>\n",
              "      <td>Month-to-month</td>\n",
              "      <td>Yes</td>\n",
              "      <td>Mailed check</td>\n",
              "      <td>53.85</td>\n",
              "      <td>108.15</td>\n",
              "    </tr>\n",
              "    <tr>\n",
              "      <th>3</th>\n",
              "      <td>7795-CFOCW</td>\n",
              "      <td>2016-05-01</td>\n",
              "      <td>No</td>\n",
              "      <td>One year</td>\n",
              "      <td>No</td>\n",
              "      <td>Bank transfer (automatic)</td>\n",
              "      <td>42.30</td>\n",
              "      <td>1840.75</td>\n",
              "    </tr>\n",
              "    <tr>\n",
              "      <th>4</th>\n",
              "      <td>9237-HQITU</td>\n",
              "      <td>2019-09-01</td>\n",
              "      <td>2019-11-01 00:00:00</td>\n",
              "      <td>Month-to-month</td>\n",
              "      <td>Yes</td>\n",
              "      <td>Electronic check</td>\n",
              "      <td>70.70</td>\n",
              "      <td>151.65</td>\n",
              "    </tr>\n",
              "  </tbody>\n",
              "</table>\n",
              "</div>"
            ],
            "text/plain": [
              "   customerID   BeginDate  ... MonthlyCharges TotalCharges\n",
              "0  7590-VHVEG  2020-01-01  ...          29.85        29.85\n",
              "1  5575-GNVDE  2017-04-01  ...          56.95       1889.5\n",
              "2  3668-QPYBK  2019-10-01  ...          53.85       108.15\n",
              "3  7795-CFOCW  2016-05-01  ...          42.30      1840.75\n",
              "4  9237-HQITU  2019-09-01  ...          70.70       151.65\n",
              "\n",
              "[5 rows x 8 columns]"
            ]
          },
          "metadata": {},
          "execution_count": 6
        }
      ]
    },
    {
      "cell_type": "markdown",
      "metadata": {
        "id": "xpmdsa9Q8MVJ"
      },
      "source": [
        "CustomerID это объект, а не число, что не очень хорошо, но и по нему можно соединить несколько таблиц. Дата окончания договора - это целевой признак, который надо преобразовать к удобному виду (булевскому). Тип договора - категориальная переменная, ее тоже лучше преобрзовать. Безбумажный метод и вид оплаты - похожи на бесполезные признаки. Стоимость услуг и итоговая стоимость - это хорошие признаки, их оставим. Также добавлю признак, показывающий количество дней использования услуг абонентом."
      ]
    },
    {
      "cell_type": "markdown",
      "metadata": {
        "id": "0s67vdarqdrk"
      },
      "source": [
        "Посмотрим на целевой признак и его введем."
      ]
    },
    {
      "cell_type": "code",
      "metadata": {
        "colab": {
          "base_uri": "https://localhost:8080/"
        },
        "id": "Np7IYVwB7Dqq",
        "outputId": "1d69ec3b-232a-45be-fe2c-d504c07c9145"
      },
      "source": [
        "contact['EndDate'].value_counts()"
      ],
      "execution_count": 7,
      "outputs": [
        {
          "output_type": "execute_result",
          "data": {
            "text/plain": [
              "No                     5174\n",
              "2019-11-01 00:00:00     485\n",
              "2019-12-01 00:00:00     466\n",
              "2020-01-01 00:00:00     460\n",
              "2019-10-01 00:00:00     458\n",
              "Name: EndDate, dtype: int64"
            ]
          },
          "metadata": {},
          "execution_count": 7
        }
      ]
    },
    {
      "cell_type": "markdown",
      "metadata": {
        "id": "YgJ1-Q73qkBq"
      },
      "source": [
        "В последние 4 месяца уходит примерно равное количество людей. Нам не сильно важно, когда они ушли, но важен сам факт ухода к конкурирующей фирме. Поэтому ответ Нет заменим на сегодняшнюю дату (2020-02-01), и посчитаем \"время жизни\". После чего заменим его на ноль, а все уходы на единицу. Это и будет наш целевой показатель для оценки модели (Target)."
      ]
    },
    {
      "cell_type": "code",
      "metadata": {
        "id": "fs4KlrJd3kYn"
      },
      "source": [
        "contact['Target'] = contact['EndDate'].apply(lambda x: x if x == 'No' else 'Yes')\n",
        "contact['Target'] = contact['Target'].apply(lambda x: 1 if x == 'Yes' else 0)"
      ],
      "execution_count": 8,
      "outputs": []
    },
    {
      "cell_type": "markdown",
      "metadata": {
        "id": "DTmhCTvyKktX"
      },
      "source": [
        "Вводим новый признак - время жизни - TotalDays, который равен разнице дат между открытием и закрытием договора для ушедших абонентов и разницей между датой открытия договора и сегодняшним днем (2020-02-01). Для этого преобразуем дату начала договора к типу дататайм"
      ]
    },
    {
      "cell_type": "code",
      "metadata": {
        "id": "u6XOzUtV4Z3H"
      },
      "source": [
        "contact['BeginDate'] = pd.to_datetime(contact['BeginDate'], format='%Y-%m-%d')\n",
        "contact['EndDate'] = contact['EndDate'].apply(lambda x: '2020-02-01' if x == 'No' else x)\n",
        "contact['EndDate'] = pd.to_datetime(contact['EndDate'], format='%Y-%m-%d')\n",
        "contact['TotalDays'] = (contact['EndDate']-contact['BeginDate']).astype('timedelta64[D]').astype('int64')"
      ],
      "execution_count": 9,
      "outputs": []
    },
    {
      "cell_type": "markdown",
      "metadata": {
        "id": "yjVzrSWB3dU6"
      },
      "source": [
        "Посмотрим на остальные признаки в датасете. Тип договора:"
      ]
    },
    {
      "cell_type": "code",
      "metadata": {
        "colab": {
          "base_uri": "https://localhost:8080/"
        },
        "id": "oX4SSaWJq0k6",
        "outputId": "5264ebd4-c3a3-42eb-ff52-e484f968fc20"
      },
      "source": [
        "print ('Количество пропусков в Типе договора:', contact['Type'].isna().sum())\n",
        "print ('Виды договоров: \\n', contact['Type'].value_counts())"
      ],
      "execution_count": 10,
      "outputs": [
        {
          "output_type": "stream",
          "name": "stdout",
          "text": [
            "Количество пропусков в Типе договора: 0\n",
            "Виды договоров: \n",
            " Month-to-month    3875\n",
            "Two year          1695\n",
            "One year          1473\n",
            "Name: Type, dtype: int64\n"
          ]
        }
      ]
    },
    {
      "cell_type": "markdown",
      "metadata": {
        "id": "48NuQeOureAJ"
      },
      "source": [
        "Пропусков нет, лишних категорий тоже. Оставим эту переменную как есть, она категориальная, при необходимости пропустим ее через энкодер.\n",
        "\n",
        "Сейчас посмотрим на суммарные траты, которые изначально были тип-объект, приведем к числовому, заменив пропуски на Nan."
      ]
    },
    {
      "cell_type": "code",
      "metadata": {
        "id": "qosKS9aHsnth"
      },
      "source": [
        "contact['TotalCharges'] = pd.to_numeric(contact['TotalCharges'], errors = 'coerce' )"
      ],
      "execution_count": 11,
      "outputs": []
    },
    {
      "cell_type": "code",
      "metadata": {
        "colab": {
          "base_uri": "https://localhost:8080/",
          "height": 390
        },
        "id": "5qs6pYfIuLVN",
        "outputId": "a762043b-c863-478d-b4a0-2c106fcc22b9"
      },
      "source": [
        "contact [contact['TotalCharges'].isna() == True ]"
      ],
      "execution_count": 12,
      "outputs": [
        {
          "output_type": "execute_result",
          "data": {
            "text/html": [
              "<div>\n",
              "<style scoped>\n",
              "    .dataframe tbody tr th:only-of-type {\n",
              "        vertical-align: middle;\n",
              "    }\n",
              "\n",
              "    .dataframe tbody tr th {\n",
              "        vertical-align: top;\n",
              "    }\n",
              "\n",
              "    .dataframe thead th {\n",
              "        text-align: right;\n",
              "    }\n",
              "</style>\n",
              "<table border=\"1\" class=\"dataframe\">\n",
              "  <thead>\n",
              "    <tr style=\"text-align: right;\">\n",
              "      <th></th>\n",
              "      <th>customerID</th>\n",
              "      <th>BeginDate</th>\n",
              "      <th>EndDate</th>\n",
              "      <th>Type</th>\n",
              "      <th>PaperlessBilling</th>\n",
              "      <th>PaymentMethod</th>\n",
              "      <th>MonthlyCharges</th>\n",
              "      <th>TotalCharges</th>\n",
              "      <th>Target</th>\n",
              "      <th>TotalDays</th>\n",
              "    </tr>\n",
              "  </thead>\n",
              "  <tbody>\n",
              "    <tr>\n",
              "      <th>488</th>\n",
              "      <td>4472-LVYGI</td>\n",
              "      <td>2020-02-01</td>\n",
              "      <td>2020-02-01</td>\n",
              "      <td>Two year</td>\n",
              "      <td>Yes</td>\n",
              "      <td>Bank transfer (automatic)</td>\n",
              "      <td>52.55</td>\n",
              "      <td>NaN</td>\n",
              "      <td>0</td>\n",
              "      <td>0</td>\n",
              "    </tr>\n",
              "    <tr>\n",
              "      <th>753</th>\n",
              "      <td>3115-CZMZD</td>\n",
              "      <td>2020-02-01</td>\n",
              "      <td>2020-02-01</td>\n",
              "      <td>Two year</td>\n",
              "      <td>No</td>\n",
              "      <td>Mailed check</td>\n",
              "      <td>20.25</td>\n",
              "      <td>NaN</td>\n",
              "      <td>0</td>\n",
              "      <td>0</td>\n",
              "    </tr>\n",
              "    <tr>\n",
              "      <th>936</th>\n",
              "      <td>5709-LVOEQ</td>\n",
              "      <td>2020-02-01</td>\n",
              "      <td>2020-02-01</td>\n",
              "      <td>Two year</td>\n",
              "      <td>No</td>\n",
              "      <td>Mailed check</td>\n",
              "      <td>80.85</td>\n",
              "      <td>NaN</td>\n",
              "      <td>0</td>\n",
              "      <td>0</td>\n",
              "    </tr>\n",
              "    <tr>\n",
              "      <th>1082</th>\n",
              "      <td>4367-NUYAO</td>\n",
              "      <td>2020-02-01</td>\n",
              "      <td>2020-02-01</td>\n",
              "      <td>Two year</td>\n",
              "      <td>No</td>\n",
              "      <td>Mailed check</td>\n",
              "      <td>25.75</td>\n",
              "      <td>NaN</td>\n",
              "      <td>0</td>\n",
              "      <td>0</td>\n",
              "    </tr>\n",
              "    <tr>\n",
              "      <th>1340</th>\n",
              "      <td>1371-DWPAZ</td>\n",
              "      <td>2020-02-01</td>\n",
              "      <td>2020-02-01</td>\n",
              "      <td>Two year</td>\n",
              "      <td>No</td>\n",
              "      <td>Credit card (automatic)</td>\n",
              "      <td>56.05</td>\n",
              "      <td>NaN</td>\n",
              "      <td>0</td>\n",
              "      <td>0</td>\n",
              "    </tr>\n",
              "    <tr>\n",
              "      <th>3331</th>\n",
              "      <td>7644-OMVMY</td>\n",
              "      <td>2020-02-01</td>\n",
              "      <td>2020-02-01</td>\n",
              "      <td>Two year</td>\n",
              "      <td>No</td>\n",
              "      <td>Mailed check</td>\n",
              "      <td>19.85</td>\n",
              "      <td>NaN</td>\n",
              "      <td>0</td>\n",
              "      <td>0</td>\n",
              "    </tr>\n",
              "    <tr>\n",
              "      <th>3826</th>\n",
              "      <td>3213-VVOLG</td>\n",
              "      <td>2020-02-01</td>\n",
              "      <td>2020-02-01</td>\n",
              "      <td>Two year</td>\n",
              "      <td>No</td>\n",
              "      <td>Mailed check</td>\n",
              "      <td>25.35</td>\n",
              "      <td>NaN</td>\n",
              "      <td>0</td>\n",
              "      <td>0</td>\n",
              "    </tr>\n",
              "    <tr>\n",
              "      <th>4380</th>\n",
              "      <td>2520-SGTTA</td>\n",
              "      <td>2020-02-01</td>\n",
              "      <td>2020-02-01</td>\n",
              "      <td>Two year</td>\n",
              "      <td>No</td>\n",
              "      <td>Mailed check</td>\n",
              "      <td>20.00</td>\n",
              "      <td>NaN</td>\n",
              "      <td>0</td>\n",
              "      <td>0</td>\n",
              "    </tr>\n",
              "    <tr>\n",
              "      <th>5218</th>\n",
              "      <td>2923-ARZLG</td>\n",
              "      <td>2020-02-01</td>\n",
              "      <td>2020-02-01</td>\n",
              "      <td>One year</td>\n",
              "      <td>Yes</td>\n",
              "      <td>Mailed check</td>\n",
              "      <td>19.70</td>\n",
              "      <td>NaN</td>\n",
              "      <td>0</td>\n",
              "      <td>0</td>\n",
              "    </tr>\n",
              "    <tr>\n",
              "      <th>6670</th>\n",
              "      <td>4075-WKNIU</td>\n",
              "      <td>2020-02-01</td>\n",
              "      <td>2020-02-01</td>\n",
              "      <td>Two year</td>\n",
              "      <td>No</td>\n",
              "      <td>Mailed check</td>\n",
              "      <td>73.35</td>\n",
              "      <td>NaN</td>\n",
              "      <td>0</td>\n",
              "      <td>0</td>\n",
              "    </tr>\n",
              "    <tr>\n",
              "      <th>6754</th>\n",
              "      <td>2775-SEFEE</td>\n",
              "      <td>2020-02-01</td>\n",
              "      <td>2020-02-01</td>\n",
              "      <td>Two year</td>\n",
              "      <td>Yes</td>\n",
              "      <td>Bank transfer (automatic)</td>\n",
              "      <td>61.90</td>\n",
              "      <td>NaN</td>\n",
              "      <td>0</td>\n",
              "      <td>0</td>\n",
              "    </tr>\n",
              "  </tbody>\n",
              "</table>\n",
              "</div>"
            ],
            "text/plain": [
              "      customerID  BeginDate    EndDate  ... TotalCharges Target TotalDays\n",
              "488   4472-LVYGI 2020-02-01 2020-02-01  ...          NaN      0         0\n",
              "753   3115-CZMZD 2020-02-01 2020-02-01  ...          NaN      0         0\n",
              "936   5709-LVOEQ 2020-02-01 2020-02-01  ...          NaN      0         0\n",
              "1082  4367-NUYAO 2020-02-01 2020-02-01  ...          NaN      0         0\n",
              "1340  1371-DWPAZ 2020-02-01 2020-02-01  ...          NaN      0         0\n",
              "3331  7644-OMVMY 2020-02-01 2020-02-01  ...          NaN      0         0\n",
              "3826  3213-VVOLG 2020-02-01 2020-02-01  ...          NaN      0         0\n",
              "4380  2520-SGTTA 2020-02-01 2020-02-01  ...          NaN      0         0\n",
              "5218  2923-ARZLG 2020-02-01 2020-02-01  ...          NaN      0         0\n",
              "6670  4075-WKNIU 2020-02-01 2020-02-01  ...          NaN      0         0\n",
              "6754  2775-SEFEE 2020-02-01 2020-02-01  ...          NaN      0         0\n",
              "\n",
              "[11 rows x 10 columns]"
            ]
          },
          "metadata": {},
          "execution_count": 12
        }
      ]
    },
    {
      "cell_type": "markdown",
      "metadata": {
        "id": "8RaE9_1axup2"
      },
      "source": [
        "Нецифровые значения заменены на Nan. У всех таких абонентов дата открытия договора - февраль 2020, а это значит, что суммарные затраты совпадают с тратами первого месяца, на что и заменю пропуски."
      ]
    },
    {
      "cell_type": "code",
      "metadata": {
        "colab": {
          "base_uri": "https://localhost:8080/"
        },
        "id": "q2UZHSMGx-hV",
        "outputId": "bf2f1aae-0c16-4a95-b502-530b4ca4ecfb"
      },
      "source": [
        "contact['TotalCharges'] = contact['TotalCharges'].fillna(contact['MonthlyCharges'])\n",
        "print ('Количество пропусков в TotalCharges', contact['TotalCharges'].isna().sum())"
      ],
      "execution_count": 13,
      "outputs": [
        {
          "output_type": "stream",
          "name": "stdout",
          "text": [
            "Количество пропусков в TotalCharges 0\n"
          ]
        }
      ]
    },
    {
      "cell_type": "markdown",
      "metadata": {
        "id": "kECHFptxL3dl"
      },
      "source": [
        "Безбумажная бухгалтерия и метод оплаты - бесполезные признаки, я их удалю сразу, даже не буду с ними работать."
      ]
    },
    {
      "cell_type": "code",
      "metadata": {
        "id": "nVoyDD_ercXi"
      },
      "source": [
        "contact = contact.drop(['PaperlessBilling', 'PaymentMethod'], axis =1)"
      ],
      "execution_count": 14,
      "outputs": []
    },
    {
      "cell_type": "markdown",
      "metadata": {
        "id": "Swm6bwiJL_pQ"
      },
      "source": [
        "Получившиеся признаки и их типы:"
      ]
    },
    {
      "cell_type": "code",
      "metadata": {
        "colab": {
          "base_uri": "https://localhost:8080/"
        },
        "id": "HDn8DgZp4v6A",
        "outputId": "42413080-6078-47c7-bc80-ddaf2ff71106"
      },
      "source": [
        "contact.info()"
      ],
      "execution_count": 15,
      "outputs": [
        {
          "output_type": "stream",
          "name": "stdout",
          "text": [
            "<class 'pandas.core.frame.DataFrame'>\n",
            "RangeIndex: 7043 entries, 0 to 7042\n",
            "Data columns (total 8 columns):\n",
            " #   Column          Non-Null Count  Dtype         \n",
            "---  ------          --------------  -----         \n",
            " 0   customerID      7043 non-null   object        \n",
            " 1   BeginDate       7043 non-null   datetime64[ns]\n",
            " 2   EndDate         7043 non-null   datetime64[ns]\n",
            " 3   Type            7043 non-null   object        \n",
            " 4   MonthlyCharges  7043 non-null   float64       \n",
            " 5   TotalCharges    7043 non-null   float64       \n",
            " 6   Target          7043 non-null   int64         \n",
            " 7   TotalDays       7043 non-null   int64         \n",
            "dtypes: datetime64[ns](2), float64(2), int64(2), object(2)\n",
            "memory usage: 440.3+ KB\n"
          ]
        }
      ]
    },
    {
      "cell_type": "code",
      "metadata": {
        "colab": {
          "base_uri": "https://localhost:8080/"
        },
        "id": "MH0KXa9L57bd",
        "outputId": "00c6d499-a915-47cf-f2df-23b8372d03b8"
      },
      "source": [
        "contact.duplicated().sum()"
      ],
      "execution_count": 16,
      "outputs": [
        {
          "output_type": "execute_result",
          "data": {
            "text/plain": [
              "0"
            ]
          },
          "metadata": {},
          "execution_count": 16
        }
      ]
    },
    {
      "cell_type": "markdown",
      "metadata": {
        "id": "YvTQH9mt7fcS"
      },
      "source": [
        "Дубликатов нет, сейчас посмотрим на распределения значений, чтобы оценить наличие аномалий."
      ]
    },
    {
      "cell_type": "code",
      "metadata": {
        "colab": {
          "base_uri": "https://localhost:8080/",
          "height": 693
        },
        "id": "gkrdJj6r7Ovl",
        "outputId": "a31eef88-e87a-4994-c4ba-fdeb4947dcf2"
      },
      "source": [
        "contact.hist(figsize = (10,10))"
      ],
      "execution_count": 17,
      "outputs": [
        {
          "output_type": "execute_result",
          "data": {
            "text/plain": [
              "array([[<matplotlib.axes._subplots.AxesSubplot object at 0x7f41ad4df850>,\n",
              "        <matplotlib.axes._subplots.AxesSubplot object at 0x7f41ad4b3f50>],\n",
              "       [<matplotlib.axes._subplots.AxesSubplot object at 0x7f41ad477610>,\n",
              "        <matplotlib.axes._subplots.AxesSubplot object at 0x7f41ad429c10>]],\n",
              "      dtype=object)"
            ]
          },
          "metadata": {},
          "execution_count": 17
        },
        {
          "output_type": "display_data",
          "data": {
            "image/png": "[encoded data removed]",
            "text/plain": [
              "<Figure size 720x720 with 4 Axes>"
            ]
          },
          "metadata": {
            "needs_background": "light"
          }
        }
      ]
    },
    {
      "cell_type": "markdown",
      "metadata": {
        "id": "c-1wv1CB7wix"
      },
      "source": [
        "В целом распределения не особо равномерные. Существенный всплеск значений MonthlyCharges в районе 20у.е. может быть обусловлен самым дешевым (и потому популярным) тарифом. Посмотрим на него внимательней. Суммарные затраты похожи на экспоненциальное распределение, что похоже на правду, а вот TotalDays имеет очень странную структуру, со пиком околонулевых значений и в конце дальше 2000 дней. Посмотрим на него потом."
      ]
    },
    {
      "cell_type": "code",
      "metadata": {
        "colab": {
          "base_uri": "https://localhost:8080/",
          "height": 404
        },
        "id": "uC5Bys8Y8BNy",
        "outputId": "33b7eb21-b163-4ff3-bad6-681e6ccd61a1"
      },
      "source": [
        "contact[contact['MonthlyCharges'] <= 23]['MonthlyCharges'].hist(bins = 12, figsize = (6,6))\n",
        "plt.title(\"Месячные траты абонентов\")\n",
        "plt.xlabel(\"Траты (усл.единицы)\")\n",
        "plt.ylabel(\"Количество абонентов\")\n",
        "plt.show()"
      ],
      "execution_count": 18,
      "outputs": [
        {
          "output_type": "display_data",
          "data": {
            "image/png": "[encoded data removed]",
            "text/plain": [
              "<Figure size 432x432 with 1 Axes>"
            ]
          },
          "metadata": {
            "needs_background": "light"
          }
        }
      ]
    },
    {
      "cell_type": "code",
      "metadata": {
        "colab": {
          "base_uri": "https://localhost:8080/",
          "height": 391
        },
        "id": "sV7HdE3f8nZp",
        "outputId": "e8afa992-88f9-4a84-c75e-4558f08ee633"
      },
      "source": [
        "print(contact [contact['MonthlyCharges'] < 20.5 ]['MonthlyCharges'].value_counts(ascending = False).head(10))\n",
        "\n",
        "display(contact [contact['MonthlyCharges'] == 20].head())"
      ],
      "execution_count": 19,
      "outputs": [
        {
          "output_type": "stream",
          "name": "stdout",
          "text": [
            "20.05    61\n",
            "19.85    45\n",
            "19.95    44\n",
            "19.90    44\n",
            "19.70    43\n",
            "20.00    43\n",
            "19.65    43\n",
            "20.15    40\n",
            "19.55    40\n",
            "19.75    39\n",
            "Name: MonthlyCharges, dtype: int64\n"
          ]
        },
        {
          "output_type": "display_data",
          "data": {
            "text/html": [
              "<div>\n",
              "<style scoped>\n",
              "    .dataframe tbody tr th:only-of-type {\n",
              "        vertical-align: middle;\n",
              "    }\n",
              "\n",
              "    .dataframe tbody tr th {\n",
              "        vertical-align: top;\n",
              "    }\n",
              "\n",
              "    .dataframe thead th {\n",
              "        text-align: right;\n",
              "    }\n",
              "</style>\n",
              "<table border=\"1\" class=\"dataframe\">\n",
              "  <thead>\n",
              "    <tr style=\"text-align: right;\">\n",
              "      <th></th>\n",
              "      <th>customerID</th>\n",
              "      <th>BeginDate</th>\n",
              "      <th>EndDate</th>\n",
              "      <th>Type</th>\n",
              "      <th>MonthlyCharges</th>\n",
              "      <th>TotalCharges</th>\n",
              "      <th>Target</th>\n",
              "      <th>TotalDays</th>\n",
              "    </tr>\n",
              "  </thead>\n",
              "  <tbody>\n",
              "    <tr>\n",
              "      <th>213</th>\n",
              "      <td>4709-LKHYG</td>\n",
              "      <td>2017-09-01</td>\n",
              "      <td>2020-02-01</td>\n",
              "      <td>One year</td>\n",
              "      <td>20.0</td>\n",
              "      <td>540.05</td>\n",
              "      <td>0</td>\n",
              "      <td>883</td>\n",
              "    </tr>\n",
              "    <tr>\n",
              "      <th>458</th>\n",
              "      <td>4237-CLSMM</td>\n",
              "      <td>2019-12-01</td>\n",
              "      <td>2020-02-01</td>\n",
              "      <td>Month-to-month</td>\n",
              "      <td>20.0</td>\n",
              "      <td>38.00</td>\n",
              "      <td>0</td>\n",
              "      <td>62</td>\n",
              "    </tr>\n",
              "    <tr>\n",
              "      <th>584</th>\n",
              "      <td>2393-DIVAI</td>\n",
              "      <td>2019-11-01</td>\n",
              "      <td>2020-02-01</td>\n",
              "      <td>Month-to-month</td>\n",
              "      <td>20.0</td>\n",
              "      <td>61.70</td>\n",
              "      <td>0</td>\n",
              "      <td>92</td>\n",
              "    </tr>\n",
              "    <tr>\n",
              "      <th>624</th>\n",
              "      <td>1009-IRMNA</td>\n",
              "      <td>2019-04-01</td>\n",
              "      <td>2019-11-01</td>\n",
              "      <td>Month-to-month</td>\n",
              "      <td>20.0</td>\n",
              "      <td>137.60</td>\n",
              "      <td>1</td>\n",
              "      <td>214</td>\n",
              "    </tr>\n",
              "    <tr>\n",
              "      <th>798</th>\n",
              "      <td>3807-XHCJH</td>\n",
              "      <td>2020-01-01</td>\n",
              "      <td>2020-02-01</td>\n",
              "      <td>Month-to-month</td>\n",
              "      <td>20.0</td>\n",
              "      <td>20.00</td>\n",
              "      <td>0</td>\n",
              "      <td>31</td>\n",
              "    </tr>\n",
              "  </tbody>\n",
              "</table>\n",
              "</div>"
            ],
            "text/plain": [
              "     customerID  BeginDate    EndDate  ... TotalCharges  Target  TotalDays\n",
              "213  4709-LKHYG 2017-09-01 2020-02-01  ...       540.05       0        883\n",
              "458  4237-CLSMM 2019-12-01 2020-02-01  ...        38.00       0         62\n",
              "584  2393-DIVAI 2019-11-01 2020-02-01  ...        61.70       0         92\n",
              "624  1009-IRMNA 2019-04-01 2019-11-01  ...       137.60       1        214\n",
              "798  3807-XHCJH 2020-01-01 2020-02-01  ...        20.00       0         31\n",
              "\n",
              "[5 rows x 8 columns]"
            ]
          },
          "metadata": {}
        }
      ]
    },
    {
      "cell_type": "markdown",
      "metadata": {
        "id": "Oq2uaQpx9NAf"
      },
      "source": [
        "Похоже, что 20 у.е. это минимальный тариф, которое выбирает большинство абонентов. Поэтому всплекск есть, но его можно объяснить. Посмотрим сейчас на минимальный значения суммарных поступлений."
      ]
    },
    {
      "cell_type": "code",
      "metadata": {
        "colab": {
          "base_uri": "https://localhost:8080/",
          "height": 404
        },
        "id": "D-9G0BDj9NY-",
        "outputId": "c615c6e0-bb2e-431d-a43c-966b3349eb6c"
      },
      "source": [
        "contact[contact['TotalCharges'] <= 50]['TotalCharges'].hist(bins = 10, figsize = (6,6))\n",
        "plt.title(\"Количество абонентов с минимальным платежом\")\n",
        "plt.xlabel(\"Суммарные траты\")\n",
        "plt.ylabel(\"Количество абонентов\")\n",
        "plt.show()"
      ],
      "execution_count": 20,
      "outputs": [
        {
          "output_type": "display_data",
          "data": {
            "image/png": "[encoded data removed]",
            "text/plain": [
              "<Figure size 432x432 with 1 Axes>"
            ]
          },
          "metadata": {
            "needs_background": "light"
          }
        }
      ]
    },
    {
      "cell_type": "code",
      "metadata": {
        "colab": {
          "base_uri": "https://localhost:8080/"
        },
        "id": "-vBs9gFT9iSP",
        "outputId": "83c17e6c-f7f4-45af-bae3-133a82be2fb3"
      },
      "source": [
        "contact[contact['TotalCharges'] <= 25]['TotalDays'].value_counts()"
      ],
      "execution_count": 21,
      "outputs": [
        {
          "output_type": "execute_result",
          "data": {
            "text/plain": [
              "31    143\n",
              "30     35\n",
              "0       4\n",
              "Name: TotalDays, dtype: int64"
            ]
          },
          "metadata": {},
          "execution_count": 21
        }
      ]
    },
    {
      "cell_type": "markdown",
      "metadata": {
        "id": "hYlGMlcI5_2E"
      },
      "source": [
        "Люди, заплатившие до 25 у.е. пользуются услугами 1 месяц, это значит, что данные скорее верны, чем ошибочны. "
      ]
    },
    {
      "cell_type": "code",
      "metadata": {
        "colab": {
          "base_uri": "https://localhost:8080/",
          "height": 404
        },
        "id": "6JyLaWp_Fs8z",
        "outputId": "31ddf40f-7f38-413c-9a87-dfd61627bac3"
      },
      "source": [
        "contact['TotalDays'].hist(bins = 50, figsize = (6,6))\n",
        "plt.title(\"Вермя использования услуг (дни)\")\n",
        "plt.xlabel(\"Длительность использования услуг (дни)\")\n",
        "plt.ylabel(\"Количество абонентов\")\n",
        "plt.show()"
      ],
      "execution_count": 22,
      "outputs": [
        {
          "output_type": "display_data",
          "data": {
            "image/png": "[encoded data removed]",
            "text/plain": [
              "<Figure size 432x432 with 1 Axes>"
            ]
          },
          "metadata": {
            "needs_background": "light"
          }
        }
      ]
    },
    {
      "cell_type": "markdown",
      "metadata": {
        "id": "V7gFtFeVGJYR"
      },
      "source": [
        "Очень много новичков. Но и тех, кто пользуется услугами очень долго, тоже много. Получается, что надо либо оставлять середину от выборки, либо оставлять всё как есть, выбираю второй вариант. "
      ]
    },
    {
      "cell_type": "code",
      "metadata": {
        "colab": {
          "base_uri": "https://localhost:8080/",
          "height": 297
        },
        "id": "D_JOt2jzyYhR",
        "outputId": "d88e9272-7824-45cf-e426-a211f0269c3d"
      },
      "source": [
        "contact.describe()"
      ],
      "execution_count": 23,
      "outputs": [
        {
          "output_type": "execute_result",
          "data": {
            "text/html": [
              "<div>\n",
              "<style scoped>\n",
              "    .dataframe tbody tr th:only-of-type {\n",
              "        vertical-align: middle;\n",
              "    }\n",
              "\n",
              "    .dataframe tbody tr th {\n",
              "        vertical-align: top;\n",
              "    }\n",
              "\n",
              "    .dataframe thead th {\n",
              "        text-align: right;\n",
              "    }\n",
              "</style>\n",
              "<table border=\"1\" class=\"dataframe\">\n",
              "  <thead>\n",
              "    <tr style=\"text-align: right;\">\n",
              "      <th></th>\n",
              "      <th>MonthlyCharges</th>\n",
              "      <th>TotalCharges</th>\n",
              "      <th>Target</th>\n",
              "      <th>TotalDays</th>\n",
              "    </tr>\n",
              "  </thead>\n",
              "  <tbody>\n",
              "    <tr>\n",
              "      <th>count</th>\n",
              "      <td>7043.000000</td>\n",
              "      <td>7043.000000</td>\n",
              "      <td>7043.000000</td>\n",
              "      <td>7043.000000</td>\n",
              "    </tr>\n",
              "    <tr>\n",
              "      <th>mean</th>\n",
              "      <td>64.761692</td>\n",
              "      <td>2279.798992</td>\n",
              "      <td>0.265370</td>\n",
              "      <td>985.996166</td>\n",
              "    </tr>\n",
              "    <tr>\n",
              "      <th>std</th>\n",
              "      <td>30.090047</td>\n",
              "      <td>2266.730170</td>\n",
              "      <td>0.441561</td>\n",
              "      <td>747.587844</td>\n",
              "    </tr>\n",
              "    <tr>\n",
              "      <th>min</th>\n",
              "      <td>18.250000</td>\n",
              "      <td>18.800000</td>\n",
              "      <td>0.000000</td>\n",
              "      <td>0.000000</td>\n",
              "    </tr>\n",
              "    <tr>\n",
              "      <th>25%</th>\n",
              "      <td>35.500000</td>\n",
              "      <td>398.550000</td>\n",
              "      <td>0.000000</td>\n",
              "      <td>273.000000</td>\n",
              "    </tr>\n",
              "    <tr>\n",
              "      <th>50%</th>\n",
              "      <td>70.350000</td>\n",
              "      <td>1394.550000</td>\n",
              "      <td>0.000000</td>\n",
              "      <td>883.000000</td>\n",
              "    </tr>\n",
              "    <tr>\n",
              "      <th>75%</th>\n",
              "      <td>89.850000</td>\n",
              "      <td>3786.600000</td>\n",
              "      <td>1.000000</td>\n",
              "      <td>1676.000000</td>\n",
              "    </tr>\n",
              "    <tr>\n",
              "      <th>max</th>\n",
              "      <td>118.750000</td>\n",
              "      <td>8684.800000</td>\n",
              "      <td>1.000000</td>\n",
              "      <td>2191.000000</td>\n",
              "    </tr>\n",
              "  </tbody>\n",
              "</table>\n",
              "</div>"
            ],
            "text/plain": [
              "       MonthlyCharges  TotalCharges       Target    TotalDays\n",
              "count     7043.000000   7043.000000  7043.000000  7043.000000\n",
              "mean        64.761692   2279.798992     0.265370   985.996166\n",
              "std         30.090047   2266.730170     0.441561   747.587844\n",
              "min         18.250000     18.800000     0.000000     0.000000\n",
              "25%         35.500000    398.550000     0.000000   273.000000\n",
              "50%         70.350000   1394.550000     0.000000   883.000000\n",
              "75%         89.850000   3786.600000     1.000000  1676.000000\n",
              "max        118.750000   8684.800000     1.000000  2191.000000"
            ]
          },
          "metadata": {},
          "execution_count": 23
        }
      ]
    },
    {
      "cell_type": "markdown",
      "metadata": {
        "id": "NbooWDLsysTE"
      },
      "source": [
        "После обработки базы контактов данные выглядят так. Характерных вбросов нет,  максимальные и минимальные значения без аномалий. Можно переходить дальше."
      ]
    },
    {
      "cell_type": "markdown",
      "metadata": {
        "id": "0RZAiOielens"
      },
      "source": [
        "### Персональные данные"
      ]
    },
    {
      "cell_type": "code",
      "metadata": {
        "colab": {
          "base_uri": "https://localhost:8080/"
        },
        "id": "wsjVZrh_kOfB",
        "outputId": "82364ac8-c9d1-41d5-f997-9009b9c65536"
      },
      "source": [
        "personal.info()"
      ],
      "execution_count": 24,
      "outputs": [
        {
          "output_type": "stream",
          "name": "stdout",
          "text": [
            "<class 'pandas.core.frame.DataFrame'>\n",
            "RangeIndex: 7043 entries, 0 to 7042\n",
            "Data columns (total 5 columns):\n",
            " #   Column         Non-Null Count  Dtype \n",
            "---  ------         --------------  ----- \n",
            " 0   customerID     7043 non-null   object\n",
            " 1   gender         7043 non-null   object\n",
            " 2   SeniorCitizen  7043 non-null   int64 \n",
            " 3   Partner        7043 non-null   object\n",
            " 4   Dependents     7043 non-null   object\n",
            "dtypes: int64(1), object(4)\n",
            "memory usage: 275.2+ KB\n"
          ]
        }
      ]
    },
    {
      "cell_type": "code",
      "metadata": {
        "colab": {
          "base_uri": "https://localhost:8080/",
          "height": 111
        },
        "id": "AEFW5b_MkGoj",
        "outputId": "fb83f82b-e592-4bde-9ce1-907136a62e9a"
      },
      "source": [
        "personal.head(2)"
      ],
      "execution_count": 25,
      "outputs": [
        {
          "output_type": "execute_result",
          "data": {
            "text/html": [
              "<div>\n",
              "<style scoped>\n",
              "    .dataframe tbody tr th:only-of-type {\n",
              "        vertical-align: middle;\n",
              "    }\n",
              "\n",
              "    .dataframe tbody tr th {\n",
              "        vertical-align: top;\n",
              "    }\n",
              "\n",
              "    .dataframe thead th {\n",
              "        text-align: right;\n",
              "    }\n",
              "</style>\n",
              "<table border=\"1\" class=\"dataframe\">\n",
              "  <thead>\n",
              "    <tr style=\"text-align: right;\">\n",
              "      <th></th>\n",
              "      <th>customerID</th>\n",
              "      <th>gender</th>\n",
              "      <th>SeniorCitizen</th>\n",
              "      <th>Partner</th>\n",
              "      <th>Dependents</th>\n",
              "    </tr>\n",
              "  </thead>\n",
              "  <tbody>\n",
              "    <tr>\n",
              "      <th>0</th>\n",
              "      <td>7590-VHVEG</td>\n",
              "      <td>Female</td>\n",
              "      <td>0</td>\n",
              "      <td>Yes</td>\n",
              "      <td>No</td>\n",
              "    </tr>\n",
              "    <tr>\n",
              "      <th>1</th>\n",
              "      <td>5575-GNVDE</td>\n",
              "      <td>Male</td>\n",
              "      <td>0</td>\n",
              "      <td>No</td>\n",
              "      <td>No</td>\n",
              "    </tr>\n",
              "  </tbody>\n",
              "</table>\n",
              "</div>"
            ],
            "text/plain": [
              "   customerID  gender  SeniorCitizen Partner Dependents\n",
              "0  7590-VHVEG  Female              0     Yes         No\n",
              "1  5575-GNVDE    Male              0      No         No"
            ]
          },
          "metadata": {},
          "execution_count": 25
        }
      ]
    },
    {
      "cell_type": "markdown",
      "metadata": {
        "id": "dUuk_j24lpDx"
      },
      "source": [
        "Количество записей в персональных данных совпадает с их количеством в договорах, поэтому я планирую их объединить. Но сперва посмотрим. какие данные нам нужны. Пол человека - наверное, важный показатель, как и возраст. А вот партнер или иждивенец - тут всё не так очевидно. Посмотрим на них внимательней."
      ]
    },
    {
      "cell_type": "code",
      "metadata": {
        "id": "TQOf-VAUmsPn"
      },
      "source": [
        "personal['Partner'] = (personal['Partner'] == 'Yes') * 1\n",
        "personal['Dependents'] = (personal['Dependents'] == 'Yes') * 1\n",
        "personal['Female'] = (personal['gender'] == 'Female') * 1"
      ],
      "execution_count": 26,
      "outputs": []
    },
    {
      "cell_type": "code",
      "metadata": {
        "colab": {
          "base_uri": "https://localhost:8080/",
          "height": 693
        },
        "id": "uGhRXxMLmsXF",
        "outputId": "c919cbde-2808-4209-bea1-c5c3b8a645d4"
      },
      "source": [
        "personal.hist(figsize=(10,10))"
      ],
      "execution_count": 27,
      "outputs": [
        {
          "output_type": "execute_result",
          "data": {
            "text/plain": [
              "array([[<matplotlib.axes._subplots.AxesSubplot object at 0x7f41acbd2610>,\n",
              "        <matplotlib.axes._subplots.AxesSubplot object at 0x7f41acb87d90>],\n",
              "       [<matplotlib.axes._subplots.AxesSubplot object at 0x7f41acb48450>,\n",
              "        <matplotlib.axes._subplots.AxesSubplot object at 0x7f41acb7cad0>]],\n",
              "      dtype=object)"
            ]
          },
          "metadata": {},
          "execution_count": 27
        },
        {
          "output_type": "display_data",
          "data": {
            "image/png": "[encoded data removed]",
            "text/plain": [
              "<Figure size 720x720 with 4 Axes>"
            ]
          },
          "metadata": {
            "needs_background": "light"
          }
        }
      ]
    },
    {
      "cell_type": "markdown",
      "metadata": {
        "id": "8lJ6ppB5qbqw"
      },
      "source": [
        "Корреляцию методом Спирмена-Пирсона не померить между категориальными переменными, поэтому надо либо все добавлять, либо все удалять. Я добавлю, будет обидно выкидывать признаки, которые могут оказаться полезными. При осмотре важности признаков их можно будет удалить."
      ]
    },
    {
      "cell_type": "code",
      "metadata": {
        "colab": {
          "base_uri": "https://localhost:8080/",
          "height": 142
        },
        "id": "r1WKjhq_qqMW",
        "outputId": "86421a52-8376-40fb-cdf1-f87d19207415"
      },
      "source": [
        "personal =  personal.drop('gender', 1)\n",
        "personal.head(3)"
      ],
      "execution_count": 28,
      "outputs": [
        {
          "output_type": "execute_result",
          "data": {
            "text/html": [
              "<div>\n",
              "<style scoped>\n",
              "    .dataframe tbody tr th:only-of-type {\n",
              "        vertical-align: middle;\n",
              "    }\n",
              "\n",
              "    .dataframe tbody tr th {\n",
              "        vertical-align: top;\n",
              "    }\n",
              "\n",
              "    .dataframe thead th {\n",
              "        text-align: right;\n",
              "    }\n",
              "</style>\n",
              "<table border=\"1\" class=\"dataframe\">\n",
              "  <thead>\n",
              "    <tr style=\"text-align: right;\">\n",
              "      <th></th>\n",
              "      <th>customerID</th>\n",
              "      <th>SeniorCitizen</th>\n",
              "      <th>Partner</th>\n",
              "      <th>Dependents</th>\n",
              "      <th>Female</th>\n",
              "    </tr>\n",
              "  </thead>\n",
              "  <tbody>\n",
              "    <tr>\n",
              "      <th>0</th>\n",
              "      <td>7590-VHVEG</td>\n",
              "      <td>0</td>\n",
              "      <td>1</td>\n",
              "      <td>0</td>\n",
              "      <td>1</td>\n",
              "    </tr>\n",
              "    <tr>\n",
              "      <th>1</th>\n",
              "      <td>5575-GNVDE</td>\n",
              "      <td>0</td>\n",
              "      <td>0</td>\n",
              "      <td>0</td>\n",
              "      <td>0</td>\n",
              "    </tr>\n",
              "    <tr>\n",
              "      <th>2</th>\n",
              "      <td>3668-QPYBK</td>\n",
              "      <td>0</td>\n",
              "      <td>0</td>\n",
              "      <td>0</td>\n",
              "      <td>0</td>\n",
              "    </tr>\n",
              "  </tbody>\n",
              "</table>\n",
              "</div>"
            ],
            "text/plain": [
              "   customerID  SeniorCitizen  Partner  Dependents  Female\n",
              "0  7590-VHVEG              0        1           0       1\n",
              "1  5575-GNVDE              0        0           0       0\n",
              "2  3668-QPYBK              0        0           0       0"
            ]
          },
          "metadata": {},
          "execution_count": 28
        }
      ]
    },
    {
      "cell_type": "markdown",
      "metadata": {
        "id": "SL_qjR_hq47-"
      },
      "source": [
        "Объединим таблицы personal и contact в общую, с которой будем потом работать."
      ]
    },
    {
      "cell_type": "code",
      "metadata": {
        "id": "RiUwQGhOq4L_"
      },
      "source": [
        "df = contact.merge (personal, on = 'customerID', how = 'outer')"
      ],
      "execution_count": 29,
      "outputs": []
    },
    {
      "cell_type": "code",
      "metadata": {
        "colab": {
          "base_uri": "https://localhost:8080/"
        },
        "id": "9iZPZHPlrRxU",
        "outputId": "becbac66-e2d6-41aa-c4cb-a32e22f12ce4"
      },
      "source": [
        "df.info()"
      ],
      "execution_count": 30,
      "outputs": [
        {
          "output_type": "stream",
          "name": "stdout",
          "text": [
            "<class 'pandas.core.frame.DataFrame'>\n",
            "Int64Index: 7043 entries, 0 to 7042\n",
            "Data columns (total 12 columns):\n",
            " #   Column          Non-Null Count  Dtype         \n",
            "---  ------          --------------  -----         \n",
            " 0   customerID      7043 non-null   object        \n",
            " 1   BeginDate       7043 non-null   datetime64[ns]\n",
            " 2   EndDate         7043 non-null   datetime64[ns]\n",
            " 3   Type            7043 non-null   object        \n",
            " 4   MonthlyCharges  7043 non-null   float64       \n",
            " 5   TotalCharges    7043 non-null   float64       \n",
            " 6   Target          7043 non-null   int64         \n",
            " 7   TotalDays       7043 non-null   int64         \n",
            " 8   SeniorCitizen   7043 non-null   int64         \n",
            " 9   Partner         7043 non-null   int64         \n",
            " 10  Dependents      7043 non-null   int64         \n",
            " 11  Female          7043 non-null   int64         \n",
            "dtypes: datetime64[ns](2), float64(2), int64(6), object(2)\n",
            "memory usage: 715.3+ KB\n"
          ]
        }
      ]
    },
    {
      "cell_type": "markdown",
      "metadata": {
        "id": "HFeenhyIsGpD"
      },
      "source": [
        "Объединение прошло успешно. Переходим далее."
      ]
    },
    {
      "cell_type": "markdown",
      "metadata": {
        "id": "Js9yUyKlrk7t"
      },
      "source": [
        "### Телефон"
      ]
    },
    {
      "cell_type": "code",
      "metadata": {
        "colab": {
          "base_uri": "https://localhost:8080/"
        },
        "id": "ugGbMhQ4sfEK",
        "outputId": "bd5af89f-c700-4b3f-bd06-9b2970d33f62"
      },
      "source": [
        "phone.info()"
      ],
      "execution_count": 31,
      "outputs": [
        {
          "output_type": "stream",
          "name": "stdout",
          "text": [
            "<class 'pandas.core.frame.DataFrame'>\n",
            "RangeIndex: 6361 entries, 0 to 6360\n",
            "Data columns (total 2 columns):\n",
            " #   Column         Non-Null Count  Dtype \n",
            "---  ------         --------------  ----- \n",
            " 0   customerID     6361 non-null   object\n",
            " 1   MultipleLines  6361 non-null   object\n",
            "dtypes: object(2)\n",
            "memory usage: 99.5+ KB\n"
          ]
        }
      ]
    },
    {
      "cell_type": "code",
      "metadata": {
        "id": "5bSfWdRqsl3j"
      },
      "source": [
        "phone['MultipleLines'] = (phone['MultipleLines'] == 'Yes') * 1"
      ],
      "execution_count": 32,
      "outputs": []
    },
    {
      "cell_type": "markdown",
      "metadata": {
        "id": "lpRLi9vBtJCp"
      },
      "source": [
        "Тут только 1 параметр, но он не для всех пользователей. Видимо, те, кого тут нет, у них нет и телефона. Присоединим всех к уже существующей общей таблице. И добавим параметр Телефон, пропуски заменю на нули - нет телефона, нет мультилинии."
      ]
    },
    {
      "cell_type": "code",
      "metadata": {
        "id": "t7LzWBNhtH7K"
      },
      "source": [
        "df = df.merge(phone, on = 'customerID', how = 'left')"
      ],
      "execution_count": 33,
      "outputs": []
    },
    {
      "cell_type": "code",
      "metadata": {
        "id": "pZRGWXhkuuNT"
      },
      "source": [
        "df['Phone'] = (df['MultipleLines'].isna() == False) * 1\n",
        "df['MultipleLines'] = df['MultipleLines'].fillna(0).astype('int')"
      ],
      "execution_count": 34,
      "outputs": []
    },
    {
      "cell_type": "code",
      "metadata": {
        "colab": {
          "base_uri": "https://localhost:8080/",
          "height": 111
        },
        "id": "_hX-psSRvDxO",
        "outputId": "218ea7e1-a9c3-4960-d7a8-33ecd7407cac"
      },
      "source": [
        "df.head(2)\n",
        "#df.info()"
      ],
      "execution_count": 35,
      "outputs": [
        {
          "output_type": "execute_result",
          "data": {
            "text/html": [
              "<div>\n",
              "<style scoped>\n",
              "    .dataframe tbody tr th:only-of-type {\n",
              "        vertical-align: middle;\n",
              "    }\n",
              "\n",
              "    .dataframe tbody tr th {\n",
              "        vertical-align: top;\n",
              "    }\n",
              "\n",
              "    .dataframe thead th {\n",
              "        text-align: right;\n",
              "    }\n",
              "</style>\n",
              "<table border=\"1\" class=\"dataframe\">\n",
              "  <thead>\n",
              "    <tr style=\"text-align: right;\">\n",
              "      <th></th>\n",
              "      <th>customerID</th>\n",
              "      <th>BeginDate</th>\n",
              "      <th>EndDate</th>\n",
              "      <th>Type</th>\n",
              "      <th>MonthlyCharges</th>\n",
              "      <th>TotalCharges</th>\n",
              "      <th>Target</th>\n",
              "      <th>TotalDays</th>\n",
              "      <th>SeniorCitizen</th>\n",
              "      <th>Partner</th>\n",
              "      <th>Dependents</th>\n",
              "      <th>Female</th>\n",
              "      <th>MultipleLines</th>\n",
              "      <th>Phone</th>\n",
              "    </tr>\n",
              "  </thead>\n",
              "  <tbody>\n",
              "    <tr>\n",
              "      <th>0</th>\n",
              "      <td>7590-VHVEG</td>\n",
              "      <td>2020-01-01</td>\n",
              "      <td>2020-02-01</td>\n",
              "      <td>Month-to-month</td>\n",
              "      <td>29.85</td>\n",
              "      <td>29.85</td>\n",
              "      <td>0</td>\n",
              "      <td>31</td>\n",
              "      <td>0</td>\n",
              "      <td>1</td>\n",
              "      <td>0</td>\n",
              "      <td>1</td>\n",
              "      <td>0</td>\n",
              "      <td>0</td>\n",
              "    </tr>\n",
              "    <tr>\n",
              "      <th>1</th>\n",
              "      <td>5575-GNVDE</td>\n",
              "      <td>2017-04-01</td>\n",
              "      <td>2020-02-01</td>\n",
              "      <td>One year</td>\n",
              "      <td>56.95</td>\n",
              "      <td>1889.50</td>\n",
              "      <td>0</td>\n",
              "      <td>1036</td>\n",
              "      <td>0</td>\n",
              "      <td>0</td>\n",
              "      <td>0</td>\n",
              "      <td>0</td>\n",
              "      <td>0</td>\n",
              "      <td>1</td>\n",
              "    </tr>\n",
              "  </tbody>\n",
              "</table>\n",
              "</div>"
            ],
            "text/plain": [
              "   customerID  BeginDate    EndDate  ... Female  MultipleLines  Phone\n",
              "0  7590-VHVEG 2020-01-01 2020-02-01  ...      1              0      0\n",
              "1  5575-GNVDE 2017-04-01 2020-02-01  ...      0              0      1\n",
              "\n",
              "[2 rows x 14 columns]"
            ]
          },
          "metadata": {},
          "execution_count": 35
        }
      ]
    },
    {
      "cell_type": "markdown",
      "metadata": {
        "id": "IuRNa6hJvoZ2"
      },
      "source": [
        "Новый признак появлися, объединение прошло успешно. Осталось разобраться с интернетом."
      ]
    },
    {
      "cell_type": "markdown",
      "metadata": {
        "id": "zjJs_GDVjnmt"
      },
      "source": [
        "### Интернет"
      ]
    },
    {
      "cell_type": "code",
      "metadata": {
        "colab": {
          "base_uri": "https://localhost:8080/"
        },
        "id": "S4gyZzYMCM-S",
        "outputId": "a3d5fe0e-ef43-408e-93f1-0cceb0bfa77f"
      },
      "source": [
        "internet.info()"
      ],
      "execution_count": 36,
      "outputs": [
        {
          "output_type": "stream",
          "name": "stdout",
          "text": [
            "<class 'pandas.core.frame.DataFrame'>\n",
            "RangeIndex: 5517 entries, 0 to 5516\n",
            "Data columns (total 8 columns):\n",
            " #   Column            Non-Null Count  Dtype \n",
            "---  ------            --------------  ----- \n",
            " 0   customerID        5517 non-null   object\n",
            " 1   InternetService   5517 non-null   object\n",
            " 2   OnlineSecurity    5517 non-null   object\n",
            " 3   OnlineBackup      5517 non-null   object\n",
            " 4   DeviceProtection  5517 non-null   object\n",
            " 5   TechSupport       5517 non-null   object\n",
            " 6   StreamingTV       5517 non-null   object\n",
            " 7   StreamingMovies   5517 non-null   object\n",
            "dtypes: object(8)\n",
            "memory usage: 344.9+ KB\n"
          ]
        }
      ]
    },
    {
      "cell_type": "markdown",
      "metadata": {
        "id": "z0Tgajf5wAG8"
      },
      "source": [
        "Тут ситуация аналогичная с телефоном. Заполнены не все кастомер ай-ди, значит у некоторых нет интренета (они пользуются только телеофном (надо будет проверить)), поэтому можно ввести еще один признак - Интренет. "
      ]
    },
    {
      "cell_type": "code",
      "metadata": {
        "colab": {
          "base_uri": "https://localhost:8080/",
          "height": 204
        },
        "id": "1kER3jhJwaAr",
        "outputId": "40743db3-73b3-40fb-a1d8-4db89d96e961"
      },
      "source": [
        "internet.head(5)"
      ],
      "execution_count": 37,
      "outputs": [
        {
          "output_type": "execute_result",
          "data": {
            "text/html": [
              "<div>\n",
              "<style scoped>\n",
              "    .dataframe tbody tr th:only-of-type {\n",
              "        vertical-align: middle;\n",
              "    }\n",
              "\n",
              "    .dataframe tbody tr th {\n",
              "        vertical-align: top;\n",
              "    }\n",
              "\n",
              "    .dataframe thead th {\n",
              "        text-align: right;\n",
              "    }\n",
              "</style>\n",
              "<table border=\"1\" class=\"dataframe\">\n",
              "  <thead>\n",
              "    <tr style=\"text-align: right;\">\n",
              "      <th></th>\n",
              "      <th>customerID</th>\n",
              "      <th>InternetService</th>\n",
              "      <th>OnlineSecurity</th>\n",
              "      <th>OnlineBackup</th>\n",
              "      <th>DeviceProtection</th>\n",
              "      <th>TechSupport</th>\n",
              "      <th>StreamingTV</th>\n",
              "      <th>StreamingMovies</th>\n",
              "    </tr>\n",
              "  </thead>\n",
              "  <tbody>\n",
              "    <tr>\n",
              "      <th>0</th>\n",
              "      <td>7590-VHVEG</td>\n",
              "      <td>DSL</td>\n",
              "      <td>No</td>\n",
              "      <td>Yes</td>\n",
              "      <td>No</td>\n",
              "      <td>No</td>\n",
              "      <td>No</td>\n",
              "      <td>No</td>\n",
              "    </tr>\n",
              "    <tr>\n",
              "      <th>1</th>\n",
              "      <td>5575-GNVDE</td>\n",
              "      <td>DSL</td>\n",
              "      <td>Yes</td>\n",
              "      <td>No</td>\n",
              "      <td>Yes</td>\n",
              "      <td>No</td>\n",
              "      <td>No</td>\n",
              "      <td>No</td>\n",
              "    </tr>\n",
              "    <tr>\n",
              "      <th>2</th>\n",
              "      <td>3668-QPYBK</td>\n",
              "      <td>DSL</td>\n",
              "      <td>Yes</td>\n",
              "      <td>Yes</td>\n",
              "      <td>No</td>\n",
              "      <td>No</td>\n",
              "      <td>No</td>\n",
              "      <td>No</td>\n",
              "    </tr>\n",
              "    <tr>\n",
              "      <th>3</th>\n",
              "      <td>7795-CFOCW</td>\n",
              "      <td>DSL</td>\n",
              "      <td>Yes</td>\n",
              "      <td>No</td>\n",
              "      <td>Yes</td>\n",
              "      <td>Yes</td>\n",
              "      <td>No</td>\n",
              "      <td>No</td>\n",
              "    </tr>\n",
              "    <tr>\n",
              "      <th>4</th>\n",
              "      <td>9237-HQITU</td>\n",
              "      <td>Fiber optic</td>\n",
              "      <td>No</td>\n",
              "      <td>No</td>\n",
              "      <td>No</td>\n",
              "      <td>No</td>\n",
              "      <td>No</td>\n",
              "      <td>No</td>\n",
              "    </tr>\n",
              "  </tbody>\n",
              "</table>\n",
              "</div>"
            ],
            "text/plain": [
              "   customerID InternetService  ... StreamingTV StreamingMovies\n",
              "0  7590-VHVEG             DSL  ...          No              No\n",
              "1  5575-GNVDE             DSL  ...          No              No\n",
              "2  3668-QPYBK             DSL  ...          No              No\n",
              "3  7795-CFOCW             DSL  ...          No              No\n",
              "4  9237-HQITU     Fiber optic  ...          No              No\n",
              "\n",
              "[5 rows x 8 columns]"
            ]
          },
          "metadata": {},
          "execution_count": 37
        }
      ]
    },
    {
      "cell_type": "markdown",
      "metadata": {
        "id": "za8bhBhI-hHE"
      },
      "source": [
        "Нет уверенности. что доп услуги оказывают влияние на уходящих пользователей. Но все равно пока их оставим, а позже оценим важность этих признаков на итоговые предсказания модели."
      ]
    },
    {
      "cell_type": "code",
      "metadata": {
        "colab": {
          "base_uri": "https://localhost:8080/"
        },
        "id": "MO6WiZ9l_uo7",
        "outputId": "2fea6727-67c5-4949-94c2-2a43d4d27e60"
      },
      "source": [
        "internet.columns"
      ],
      "execution_count": 38,
      "outputs": [
        {
          "output_type": "execute_result",
          "data": {
            "text/plain": [
              "Index(['customerID', 'InternetService', 'OnlineSecurity', 'OnlineBackup',\n",
              "       'DeviceProtection', 'TechSupport', 'StreamingTV', 'StreamingMovies'],\n",
              "      dtype='object')"
            ]
          },
          "metadata": {},
          "execution_count": 38
        }
      ]
    },
    {
      "cell_type": "code",
      "metadata": {
        "id": "EaVhpfI6_zzb"
      },
      "source": [
        "cat_columns = ['OnlineSecurity', 'OnlineBackup', 'DeviceProtection', 'TechSupport', 'StreamingTV', 'StreamingMovies']\n",
        "for col in cat_columns:\n",
        "  internet[col] = (internet[col] == 'Yes') * 1"
      ],
      "execution_count": 39,
      "outputs": []
    },
    {
      "cell_type": "code",
      "metadata": {
        "id": "ZTit8ZDfwaDT"
      },
      "source": [
        "df = df.merge( internet, on = 'customerID', how = 'left')"
      ],
      "execution_count": 40,
      "outputs": []
    },
    {
      "cell_type": "code",
      "metadata": {
        "colab": {
          "base_uri": "https://localhost:8080/"
        },
        "id": "fY8xJFOY-wCk",
        "outputId": "fda99a65-46c8-4a7c-ef70-2d6da657f387"
      },
      "source": [
        "print ('Проверка на дорогах')\n",
        "print ('Количество пропусков в графе Интернет: ', df['InternetService'].isna().sum())\n",
        "print ('Количество телефонов в без интернета: ', df[df['InternetService'].isna() == True]['Phone'].sum())"
      ],
      "execution_count": 41,
      "outputs": [
        {
          "output_type": "stream",
          "name": "stdout",
          "text": [
            "Проверка на дорогах\n",
            "Количество пропусков в графе Интернет:  1526\n",
            "Количество телефонов в без интернета:  1526\n"
          ]
        }
      ]
    },
    {
      "cell_type": "markdown",
      "metadata": {
        "id": "uqPkvcpMAJyh"
      },
      "source": [
        "Всё сходится. Люди не имеющие интернета, имеют телефон. Но нектороые имеют и то и другое, поэтому интернет и телефон не будут взаимно коллинеарны."
      ]
    },
    {
      "cell_type": "code",
      "metadata": {
        "id": "-KYZHmR0-wHm"
      },
      "source": [
        "df['Internet'] = (df['InternetService'].isna() == False) * 1\n"
      ],
      "execution_count": 42,
      "outputs": []
    },
    {
      "cell_type": "markdown",
      "metadata": {
        "id": "FcgjFj6s8LFA"
      },
      "source": [
        "Тут мы заменим получившиеся пропуски на нули. Они образовались, когда соединяли таблицы у тех, у кого был только телефон."
      ]
    },
    {
      "cell_type": "code",
      "metadata": {
        "id": "7R20mZNQDCEx"
      },
      "source": [
        "df['InternetService'] = df['InternetService'].fillna(0)\n",
        "for cat in cat_columns:\n",
        "  df[cat] = df[cat].fillna(0)\n",
        "  df[cat] = df[cat].astype ('int')"
      ],
      "execution_count": 43,
      "outputs": []
    },
    {
      "cell_type": "markdown",
      "metadata": {
        "id": "A9LmNT3TD5NA"
      },
      "source": [
        "### Итоговые данные"
      ]
    },
    {
      "cell_type": "code",
      "metadata": {
        "colab": {
          "base_uri": "https://localhost:8080/"
        },
        "id": "3veHdk-nDEtI",
        "outputId": "fa232ee9-51bd-4d0f-c244-b77d661df3d5"
      },
      "source": [
        "df.info()"
      ],
      "execution_count": 44,
      "outputs": [
        {
          "output_type": "stream",
          "name": "stdout",
          "text": [
            "<class 'pandas.core.frame.DataFrame'>\n",
            "Int64Index: 7043 entries, 0 to 7042\n",
            "Data columns (total 22 columns):\n",
            " #   Column            Non-Null Count  Dtype         \n",
            "---  ------            --------------  -----         \n",
            " 0   customerID        7043 non-null   object        \n",
            " 1   BeginDate         7043 non-null   datetime64[ns]\n",
            " 2   EndDate           7043 non-null   datetime64[ns]\n",
            " 3   Type              7043 non-null   object        \n",
            " 4   MonthlyCharges    7043 non-null   float64       \n",
            " 5   TotalCharges      7043 non-null   float64       \n",
            " 6   Target            7043 non-null   int64         \n",
            " 7   TotalDays         7043 non-null   int64         \n",
            " 8   SeniorCitizen     7043 non-null   int64         \n",
            " 9   Partner           7043 non-null   int64         \n",
            " 10  Dependents        7043 non-null   int64         \n",
            " 11  Female            7043 non-null   int64         \n",
            " 12  MultipleLines     7043 non-null   int64         \n",
            " 13  Phone             7043 non-null   int64         \n",
            " 14  InternetService   7043 non-null   object        \n",
            " 15  OnlineSecurity    7043 non-null   int64         \n",
            " 16  OnlineBackup      7043 non-null   int64         \n",
            " 17  DeviceProtection  7043 non-null   int64         \n",
            " 18  TechSupport       7043 non-null   int64         \n",
            " 19  StreamingTV       7043 non-null   int64         \n",
            " 20  StreamingMovies   7043 non-null   int64         \n",
            " 21  Internet          7043 non-null   int64         \n",
            "dtypes: datetime64[ns](2), float64(2), int64(15), object(3)\n",
            "memory usage: 1.2+ MB\n"
          ]
        }
      ]
    },
    {
      "cell_type": "code",
      "metadata": {
        "colab": {
          "base_uri": "https://localhost:8080/",
          "height": 360
        },
        "id": "R_VRahaTD01K",
        "outputId": "bfcfa9ef-8369-4f4f-960e-52f091f4f886"
      },
      "source": [
        "df.head()"
      ],
      "execution_count": 45,
      "outputs": [
        {
          "output_type": "execute_result",
          "data": {
            "text/html": [
              "<div>\n",
              "<style scoped>\n",
              "    .dataframe tbody tr th:only-of-type {\n",
              "        vertical-align: middle;\n",
              "    }\n",
              "\n",
              "    .dataframe tbody tr th {\n",
              "        vertical-align: top;\n",
              "    }\n",
              "\n",
              "    .dataframe thead th {\n",
              "        text-align: right;\n",
              "    }\n",
              "</style>\n",
              "<table border=\"1\" class=\"dataframe\">\n",
              "  <thead>\n",
              "    <tr style=\"text-align: right;\">\n",
              "      <th></th>\n",
              "      <th>customerID</th>\n",
              "      <th>BeginDate</th>\n",
              "      <th>EndDate</th>\n",
              "      <th>Type</th>\n",
              "      <th>MonthlyCharges</th>\n",
              "      <th>TotalCharges</th>\n",
              "      <th>Target</th>\n",
              "      <th>TotalDays</th>\n",
              "      <th>SeniorCitizen</th>\n",
              "      <th>Partner</th>\n",
              "      <th>Dependents</th>\n",
              "      <th>Female</th>\n",
              "      <th>MultipleLines</th>\n",
              "      <th>Phone</th>\n",
              "      <th>InternetService</th>\n",
              "      <th>OnlineSecurity</th>\n",
              "      <th>OnlineBackup</th>\n",
              "      <th>DeviceProtection</th>\n",
              "      <th>TechSupport</th>\n",
              "      <th>StreamingTV</th>\n",
              "      <th>StreamingMovies</th>\n",
              "      <th>Internet</th>\n",
              "    </tr>\n",
              "  </thead>\n",
              "  <tbody>\n",
              "    <tr>\n",
              "      <th>0</th>\n",
              "      <td>7590-VHVEG</td>\n",
              "      <td>2020-01-01</td>\n",
              "      <td>2020-02-01</td>\n",
              "      <td>Month-to-month</td>\n",
              "      <td>29.85</td>\n",
              "      <td>29.85</td>\n",
              "      <td>0</td>\n",
              "      <td>31</td>\n",
              "      <td>0</td>\n",
              "      <td>1</td>\n",
              "      <td>0</td>\n",
              "      <td>1</td>\n",
              "      <td>0</td>\n",
              "      <td>0</td>\n",
              "      <td>DSL</td>\n",
              "      <td>0</td>\n",
              "      <td>1</td>\n",
              "      <td>0</td>\n",
              "      <td>0</td>\n",
              "      <td>0</td>\n",
              "      <td>0</td>\n",
              "      <td>1</td>\n",
              "    </tr>\n",
              "    <tr>\n",
              "      <th>1</th>\n",
              "      <td>5575-GNVDE</td>\n",
              "      <td>2017-04-01</td>\n",
              "      <td>2020-02-01</td>\n",
              "      <td>One year</td>\n",
              "      <td>56.95</td>\n",
              "      <td>1889.50</td>\n",
              "      <td>0</td>\n",
              "      <td>1036</td>\n",
              "      <td>0</td>\n",
              "      <td>0</td>\n",
              "      <td>0</td>\n",
              "      <td>0</td>\n",
              "      <td>0</td>\n",
              "      <td>1</td>\n",
              "      <td>DSL</td>\n",
              "      <td>1</td>\n",
              "      <td>0</td>\n",
              "      <td>1</td>\n",
              "      <td>0</td>\n",
              "      <td>0</td>\n",
              "      <td>0</td>\n",
              "      <td>1</td>\n",
              "    </tr>\n",
              "    <tr>\n",
              "      <th>2</th>\n",
              "      <td>3668-QPYBK</td>\n",
              "      <td>2019-10-01</td>\n",
              "      <td>2019-12-01</td>\n",
              "      <td>Month-to-month</td>\n",
              "      <td>53.85</td>\n",
              "      <td>108.15</td>\n",
              "      <td>1</td>\n",
              "      <td>61</td>\n",
              "      <td>0</td>\n",
              "      <td>0</td>\n",
              "      <td>0</td>\n",
              "      <td>0</td>\n",
              "      <td>0</td>\n",
              "      <td>1</td>\n",
              "      <td>DSL</td>\n",
              "      <td>1</td>\n",
              "      <td>1</td>\n",
              "      <td>0</td>\n",
              "      <td>0</td>\n",
              "      <td>0</td>\n",
              "      <td>0</td>\n",
              "      <td>1</td>\n",
              "    </tr>\n",
              "    <tr>\n",
              "      <th>3</th>\n",
              "      <td>7795-CFOCW</td>\n",
              "      <td>2016-05-01</td>\n",
              "      <td>2020-02-01</td>\n",
              "      <td>One year</td>\n",
              "      <td>42.30</td>\n",
              "      <td>1840.75</td>\n",
              "      <td>0</td>\n",
              "      <td>1371</td>\n",
              "      <td>0</td>\n",
              "      <td>0</td>\n",
              "      <td>0</td>\n",
              "      <td>0</td>\n",
              "      <td>0</td>\n",
              "      <td>0</td>\n",
              "      <td>DSL</td>\n",
              "      <td>1</td>\n",
              "      <td>0</td>\n",
              "      <td>1</td>\n",
              "      <td>1</td>\n",
              "      <td>0</td>\n",
              "      <td>0</td>\n",
              "      <td>1</td>\n",
              "    </tr>\n",
              "    <tr>\n",
              "      <th>4</th>\n",
              "      <td>9237-HQITU</td>\n",
              "      <td>2019-09-01</td>\n",
              "      <td>2019-11-01</td>\n",
              "      <td>Month-to-month</td>\n",
              "      <td>70.70</td>\n",
              "      <td>151.65</td>\n",
              "      <td>1</td>\n",
              "      <td>61</td>\n",
              "      <td>0</td>\n",
              "      <td>0</td>\n",
              "      <td>0</td>\n",
              "      <td>1</td>\n",
              "      <td>0</td>\n",
              "      <td>1</td>\n",
              "      <td>Fiber optic</td>\n",
              "      <td>0</td>\n",
              "      <td>0</td>\n",
              "      <td>0</td>\n",
              "      <td>0</td>\n",
              "      <td>0</td>\n",
              "      <td>0</td>\n",
              "      <td>1</td>\n",
              "    </tr>\n",
              "  </tbody>\n",
              "</table>\n",
              "</div>"
            ],
            "text/plain": [
              "   customerID  BeginDate    EndDate  ... StreamingTV  StreamingMovies  Internet\n",
              "0  7590-VHVEG 2020-01-01 2020-02-01  ...           0                0         1\n",
              "1  5575-GNVDE 2017-04-01 2020-02-01  ...           0                0         1\n",
              "2  3668-QPYBK 2019-10-01 2019-12-01  ...           0                0         1\n",
              "3  7795-CFOCW 2016-05-01 2020-02-01  ...           0                0         1\n",
              "4  9237-HQITU 2019-09-01 2019-11-01  ...           0                0         1\n",
              "\n",
              "[5 rows x 22 columns]"
            ]
          },
          "metadata": {},
          "execution_count": 45
        }
      ]
    },
    {
      "cell_type": "markdown",
      "metadata": {
        "id": "yVwM4TdfEa2U"
      },
      "source": [
        "**Вывод**\n",
        "\n",
        "Данные подготовлены для обучения моделей. \n",
        "Осталось 3 столбца с типом 'object' - это ай-ди, тип договора и тип интренета. Для работы модели дата начала договора и дата его конца не нужна, есть дублирующие признак - год открытия договора и суммарное время (месяцы) пользования услугами. Целевой признак - Target. По нему будем вести предсказания. "
      ]
    },
    {
      "cell_type": "markdown",
      "metadata": {
        "id": "a_QpaWh_E-ht"
      },
      "source": [
        "## Создание и обучение моделей"
      ]
    },
    {
      "cell_type": "markdown",
      "metadata": {
        "id": "6E5n2l0dB-52"
      },
      "source": [
        "### Подготовка данных"
      ]
    },
    {
      "cell_type": "markdown",
      "metadata": {
        "id": "nKGwEkdhNAgz"
      },
      "source": [
        "Проверим корреляцию, между числовыми признаками, чтобы удалить мультиколлинеарность (если корреляция между признаками будет выше 0,8).\n"
      ]
    },
    {
      "cell_type": "code",
      "metadata": {
        "colab": {
          "base_uri": "https://localhost:8080/",
          "height": 142
        },
        "id": "KXC7QXYkNAgz",
        "outputId": "8fc7e996-b534-4692-ce81-2b8f17436606"
      },
      "source": [
        "df[['MonthlyCharges', 'TotalCharges', 'TotalDays']].corr()"
      ],
      "execution_count": 46,
      "outputs": [
        {
          "output_type": "execute_result",
          "data": {
            "text/html": [
              "<div>\n",
              "<style scoped>\n",
              "    .dataframe tbody tr th:only-of-type {\n",
              "        vertical-align: middle;\n",
              "    }\n",
              "\n",
              "    .dataframe tbody tr th {\n",
              "        vertical-align: top;\n",
              "    }\n",
              "\n",
              "    .dataframe thead th {\n",
              "        text-align: right;\n",
              "    }\n",
              "</style>\n",
              "<table border=\"1\" class=\"dataframe\">\n",
              "  <thead>\n",
              "    <tr style=\"text-align: right;\">\n",
              "      <th></th>\n",
              "      <th>MonthlyCharges</th>\n",
              "      <th>TotalCharges</th>\n",
              "      <th>TotalDays</th>\n",
              "    </tr>\n",
              "  </thead>\n",
              "  <tbody>\n",
              "    <tr>\n",
              "      <th>MonthlyCharges</th>\n",
              "      <td>1.000000</td>\n",
              "      <td>0.651182</td>\n",
              "      <td>0.247754</td>\n",
              "    </tr>\n",
              "    <tr>\n",
              "      <th>TotalCharges</th>\n",
              "      <td>0.651182</td>\n",
              "      <td>1.000000</td>\n",
              "      <td>0.826095</td>\n",
              "    </tr>\n",
              "    <tr>\n",
              "      <th>TotalDays</th>\n",
              "      <td>0.247754</td>\n",
              "      <td>0.826095</td>\n",
              "      <td>1.000000</td>\n",
              "    </tr>\n",
              "  </tbody>\n",
              "</table>\n",
              "</div>"
            ],
            "text/plain": [
              "                MonthlyCharges  TotalCharges  TotalDays\n",
              "MonthlyCharges        1.000000      0.651182   0.247754\n",
              "TotalCharges          0.651182      1.000000   0.826095\n",
              "TotalDays             0.247754      0.826095   1.000000"
            ]
          },
          "metadata": {},
          "execution_count": 46
        }
      ]
    },
    {
      "cell_type": "markdown",
      "metadata": {
        "id": "xnIhg-WjPU-h"
      },
      "source": [
        "Суммарные поступления и время использования договра коррелируются выше, чем 0,8, придется отазаться от одного из этих признаков. Откажемся от суммарных поступлений. Удалим все ненужные фичи при выделении признаком для обучения моделей."
      ]
    },
    {
      "cell_type": "code",
      "metadata": {
        "id": "p3UQ4e2QCDC9"
      },
      "source": [
        "features = df.drop(['customerID', 'BeginDate', 'EndDate', 'TotalCharges', 'Target'], axis = 1).copy()\n",
        "target = df['Target'].copy()"
      ],
      "execution_count": 47,
      "outputs": []
    },
    {
      "cell_type": "markdown",
      "metadata": {
        "id": "cg2WSpiGN4M0"
      },
      "source": [
        "Разобьем данные на обучающую и тестовую выборки в соотношениее 80-20%. Использовать валидационную не будем, т.к. большинство моделей работают с кросс-валидацией и сами сделают подвыборку из обучающей части для валидации. "
      ]
    },
    {
      "cell_type": "code",
      "metadata": {
        "colab": {
          "base_uri": "https://localhost:8080/"
        },
        "id": "zGbUGpIIN5Aj",
        "outputId": "300adde7-0b80-4c8e-d382-2417c8ee53e3"
      },
      "source": [
        "X_train, X_test, y_train, y_test = train_test_split(\n",
        "    features, target, test_size=0.2, random_state=2021)\n",
        "\n",
        "print ('Размер обучающей выборки: ', len(X_train))\n",
        "\n",
        "print ('Размер тестовой выборки: ',len(X_test))"
      ],
      "execution_count": 48,
      "outputs": [
        {
          "output_type": "stream",
          "name": "stdout",
          "text": [
            "Размер обучающей выборки:  5634\n",
            "Размер тестовой выборки:  1409\n"
          ]
        }
      ]
    },
    {
      "cell_type": "markdown",
      "metadata": {
        "id": "GsIAQ_V79Vxf"
      },
      "source": [
        "### Catboost"
      ]
    },
    {
      "cell_type": "markdown",
      "metadata": {
        "id": "7MGmukaK9Y5n"
      },
      "source": [
        "Зайдем с козырей - обучим категориальный бустинг и посмотрим важность признаков для него, чтобы последнующие модели могли обучаться на меньшем количестве данных."
      ]
    },
    {
      "cell_type": "code",
      "metadata": {
        "colab": {
          "base_uri": "https://localhost:8080/"
        },
        "id": "NyFDg9ksKQ-g",
        "outputId": "54b538f0-cea4-4bcb-98c5-4826d5323973"
      },
      "source": [
        "X_train.columns #для вывода категориальных переменных"
      ],
      "execution_count": 49,
      "outputs": [
        {
          "output_type": "execute_result",
          "data": {
            "text/plain": [
              "Index(['Type', 'MonthlyCharges', 'TotalDays', 'SeniorCitizen', 'Partner',\n",
              "       'Dependents', 'Female', 'MultipleLines', 'Phone', 'InternetService',\n",
              "       'OnlineSecurity', 'OnlineBackup', 'DeviceProtection', 'TechSupport',\n",
              "       'StreamingTV', 'StreamingMovies', 'Internet'],\n",
              "      dtype='object')"
            ]
          },
          "metadata": {},
          "execution_count": 49
        }
      ]
    },
    {
      "cell_type": "code",
      "metadata": {
        "id": "uObQ_gWqHwgU"
      },
      "source": [
        "cat_features =['Type', 'SeniorCitizen', 'Partner', 'Dependents', 'Female', 'MultipleLines',\n",
        "       'Phone', 'InternetService', 'OnlineSecurity', 'OnlineBackup',\n",
        "       'DeviceProtection', 'TechSupport', 'StreamingTV', 'StreamingMovies',\n",
        "       'Internet']\n",
        "\n",
        "cv_dataset = Pool(data=X_train,\n",
        "                  label=y_train,\n",
        "                  cat_features=cat_features)"
      ],
      "execution_count": 50,
      "outputs": []
    },
    {
      "cell_type": "code",
      "metadata": {
        "id": "lwbSguPVHwn3"
      },
      "source": [
        "params = {'loss_function': 'CrossEntropy',\n",
        "          'eval_metric': 'AUC', \n",
        "          \"verbose\": False,\n",
        "          'iterations' : 3000,\n",
        "          'depth' : 4}"
      ],
      "execution_count": 51,
      "outputs": []
    },
    {
      "cell_type": "code",
      "metadata": {
        "id": "p2p5tnwvIKK8",
        "colab": {
          "base_uri": "https://localhost:8080/"
        },
        "outputId": "21763c81-b21f-4be7-82d5-ca99baf86672"
      },
      "source": [
        "scores = cv(cv_dataset,\n",
        "            params,\n",
        "            fold_count=3)"
      ],
      "execution_count": 52,
      "outputs": [
        {
          "output_type": "stream",
          "name": "stdout",
          "text": [
            "Training on fold [0/3]\n",
            "\n",
            "bestTest = 0.910818733\n",
            "bestIteration = 2999\n",
            "\n",
            "Training on fold [1/3]\n",
            "\n",
            "bestTest = 0.9238018317\n",
            "bestIteration = 2965\n",
            "\n",
            "Training on fold [2/3]\n",
            "\n",
            "bestTest = 0.9264499025\n",
            "bestIteration = 2769\n",
            "\n"
          ]
        }
      ]
    },
    {
      "cell_type": "code",
      "metadata": {
        "colab": {
          "base_uri": "https://localhost:8080/",
          "height": 421
        },
        "id": "sN7HWE4GLt69",
        "outputId": "57bcce46-05e9-4d30-ba2b-ceb92a56974d"
      },
      "source": [
        "print ('ROC-AUC при CV: {:.5f}'.format(scores['test-AUC-mean'].max()))\n",
        "scores['test-AUC-mean'].plot(grid = True, figsize = (8,6))\n",
        "plt.title(\"ROC-AUC при CrossValid\")\n",
        "plt.xlabel(\"Количество итераций\")\n",
        "plt.ylabel(\"Значение метрики\")\n",
        "plt.show()"
      ],
      "execution_count": 53,
      "outputs": [
        {
          "output_type": "stream",
          "name": "stdout",
          "text": [
            "ROC-AUC при CV: 0.92032\n"
          ]
        },
        {
          "output_type": "display_data",
          "data": {
            "image/png": "[encoded data removed]",
            "text/plain": [
              "<Figure size 576x432 with 1 Axes>"
            ]
          },
          "metadata": {
            "needs_background": "light"
          }
        }
      ]
    },
    {
      "cell_type": "markdown",
      "metadata": {
        "id": "ZvJLc-rfAFUA"
      },
      "source": [
        "### Оценка влияния признаков на итоговое предсказание модели"
      ]
    },
    {
      "cell_type": "markdown",
      "metadata": {
        "id": "XDc03SKoM4nZ"
      },
      "source": [
        "Запустим Кэтбуст без настроек для определения важных фичей"
      ]
    },
    {
      "cell_type": "code",
      "metadata": {
        "colab": {
          "base_uri": "https://localhost:8080/"
        },
        "id": "hCFkPpQgEdNh",
        "outputId": "30310228-f91e-40d9-f950-8d3db469e068"
      },
      "source": [
        "cb = CatBoostClassifier(verbose=False, random_seed = 2021, eval_metric ='AUC', depth = 4)\n",
        "cb.fit(X_train, y_train, eval_set=(X_test,y_test), cat_features = cat_features)\n",
        "\n",
        "print('Важность признаков для итогового предсказания:')\n",
        "\n",
        "cat_range = pd.DataFrame (data = cb.get_feature_importance(), index = X_train.columns, columns = ['range'])\n",
        "print (cat_range.sort_values(by = 'range',ascending  = False))"
      ],
      "execution_count": 54,
      "outputs": [
        {
          "output_type": "stream",
          "name": "stdout",
          "text": [
            "Важность признаков для итогового предсказания:\n",
            "                      range\n",
            "TotalDays         66.888316\n",
            "MonthlyCharges    10.092498\n",
            "Type               9.379457\n",
            "InternetService    3.488468\n",
            "Internet           2.576968\n",
            "Phone              0.904237\n",
            "TechSupport        0.855185\n",
            "SeniorCitizen      0.806623\n",
            "OnlineSecurity     0.761925\n",
            "Female             0.757575\n",
            "MultipleLines      0.713427\n",
            "StreamingTV        0.658022\n",
            "Partner            0.646487\n",
            "StreamingMovies    0.583240\n",
            "Dependents         0.402363\n",
            "OnlineBackup       0.295873\n",
            "DeviceProtection   0.189335\n"
          ]
        }
      ]
    },
    {
      "cell_type": "code",
      "metadata": {
        "colab": {
          "base_uri": "https://localhost:8080/",
          "height": 589
        },
        "id": "zDAOsXldNAg1",
        "outputId": "d4ae6bc2-bdc8-4e19-93ae-929afd629d56"
      },
      "source": [
        "cat_range.sort_values(by = 'range',ascending  = False).plot(kind='bar', \n",
        "                                                            alpha = 0.75, legend = True, figsize = (12,8), grid = True)\n",
        "plt.title(\"Важность признаков для предсказания модели\")\n",
        "plt.xlabel(\"Фактор\")\n",
        "plt.ylabel(\"Важность фактора в условных единицах\")\n",
        "plt.show()"
      ],
      "execution_count": 55,
      "outputs": [
        {
          "output_type": "display_data",
          "data": {
            "image/png": "[encoded data removed]",
            "text/plain": [
              "<Figure size 864x576 with 1 Axes>"
            ]
          },
          "metadata": {
            "needs_background": "light"
          }
        }
      ]
    },
    {
      "cell_type": "markdown",
      "metadata": {
        "id": "J4HrgMpyAILG"
      },
      "source": [
        "Наибольшее влияение на модель оказывает время использования услуг. Что является очень подозрительным, как будто бы новые абоненты уходят чаще старых или наоборот. Разрберемся с этим позже. \n",
        "Оказывается, что не все введеные признаки оказались важны для работы модели. Например, наличие телефона практически не влияет на предсказание. А тип договора и ежемесячные траты, наоборот, оказались вторыми по важности признаками. \n",
        "Избавимся от наименее важных фич (FI < 2) и посмотрим на то, как изменится предсказание модели."
      ]
    },
    {
      "cell_type": "code",
      "metadata": {
        "id": "IXegNYtGNwOS"
      },
      "source": [
        "X_train_1 = X_train[['TotalDays', 'MonthlyCharges', 'Type',\n",
        "                     'InternetService', 'Internet']].copy()\n",
        "\n",
        "X_test_1 = X_test[['TotalDays', 'MonthlyCharges', 'Type',\n",
        "                     'InternetService', 'Internet']].copy()"
      ],
      "execution_count": 56,
      "outputs": []
    },
    {
      "cell_type": "code",
      "metadata": {
        "colab": {
          "base_uri": "https://localhost:8080/"
        },
        "id": "eSyU-kR0OcCl",
        "outputId": "ffb87421-52d4-4164-8ed2-5133170be6b8"
      },
      "source": [
        "X_train_1.columns"
      ],
      "execution_count": 57,
      "outputs": [
        {
          "output_type": "execute_result",
          "data": {
            "text/plain": [
              "Index(['TotalDays', 'MonthlyCharges', 'Type', 'InternetService', 'Internet'], dtype='object')"
            ]
          },
          "metadata": {},
          "execution_count": 57
        }
      ]
    },
    {
      "cell_type": "code",
      "metadata": {
        "id": "jJMGXEqfOeuJ"
      },
      "source": [
        "cat_features_1 = ['Type', 'InternetService', 'Internet']"
      ],
      "execution_count": 58,
      "outputs": []
    },
    {
      "cell_type": "code",
      "metadata": {
        "colab": {
          "base_uri": "https://localhost:8080/",
          "height": 676
        },
        "id": "H81EieyDONj4",
        "outputId": "d8ce6eaa-2fd7-45e7-cda2-d1f2a9bf6828"
      },
      "source": [
        "cv_dataset_1 = Pool(data=X_train_1,\n",
        "                  label=y_train,\n",
        "                  cat_features=cat_features_1)\n",
        "\n",
        "scores_1 = cv(cv_dataset_1,\n",
        "            params,\n",
        "            fold_count=3)\n",
        "\n",
        "print ('ROC-AUC при CV: {:.5f}'.format(scores_1['test-AUC-mean'].max()))\n",
        "scores_1['test-AUC-mean'].plot(grid = True, figsize = (8,6))\n",
        "plt.title(\"ROC-AUC при CrossValid\")\n",
        "plt.xlabel(\"Количество итераций\")\n",
        "plt.ylabel(\"Значение метрики\")\n",
        "plt.show()"
      ],
      "execution_count": 59,
      "outputs": [
        {
          "output_type": "stream",
          "name": "stdout",
          "text": [
            "Training on fold [0/3]\n",
            "\n",
            "bestTest = 0.9114673078\n",
            "bestIteration = 2971\n",
            "\n",
            "Training on fold [1/3]\n",
            "\n",
            "bestTest = 0.9339516477\n",
            "bestIteration = 2996\n",
            "\n",
            "Training on fold [2/3]\n",
            "\n",
            "bestTest = 0.9313646589\n",
            "bestIteration = 2984\n",
            "\n",
            "ROC-AUC при CV: 0.92556\n"
          ]
        },
        {
          "output_type": "display_data",
          "data": {
            "image/png": "[encoded data removed]",
            "text/plain": [
              "<Figure size 576x432 with 1 Axes>"
            ]
          },
          "metadata": {
            "needs_background": "light"
          }
        }
      ]
    },
    {
      "cell_type": "code",
      "metadata": {
        "colab": {
          "base_uri": "https://localhost:8080/"
        },
        "id": "1vSjyeaHjDOJ",
        "outputId": "d325cf1c-8b1f-4446-9daa-910e9470c0dc"
      },
      "source": [
        "cb_1 = CatBoostClassifier(verbose=False, random_seed = 2021, eval_metric ='AUC')\n",
        "\n",
        "cb_1.fit(X_train_1, y_train, eval_set=(X_test_1,y_test), cat_features = cat_features_1)\n",
        "\n",
        "cat_roc = cb_1.best_score_['validation']['AUC']\n",
        "cat_acc = accuracy_score(y_test, cb_1.predict(X_test_1))\n",
        "print('AUC valid: {:.5f}'.format(cat_roc))\n",
        "print('Accuracy test: {:.5f}'.format(cat_acc))"
      ],
      "execution_count": 60,
      "outputs": [
        {
          "output_type": "stream",
          "name": "stdout",
          "text": [
            "AUC valid: 0.92838\n",
            "Accuracy test: 0.87083\n"
          ]
        }
      ]
    },
    {
      "cell_type": "markdown",
      "metadata": {
        "id": "4OE8RLXWHgmj"
      },
      "source": [
        "Убрав фичи с важностью меньше 2, мы получили небольшой прирост метрики на 2%.Это очень неплохой результат! Можно посмотреть теперь на менее сложные модели, такие как Логистическая регрессия, дерево решений и случайный лес."
      ]
    },
    {
      "cell_type": "markdown",
      "metadata": {
        "id": "_5WW12U-KmWG"
      },
      "source": [
        "### Подготовка выборок для простых моделей"
      ]
    },
    {
      "cell_type": "markdown",
      "metadata": {
        "id": "VTNYpJL_N_Bv"
      },
      "source": [
        "Для работы с более простыми моделями проведем дамми-кодирование признаков. Масштабирование будет использовать то, которое уже вложено в модель. Будем использовать только те признаки, которые остались после работы фичерс-импортант."
      ]
    },
    {
      "cell_type": "code",
      "metadata": {
        "id": "QogzqWmCRHwq"
      },
      "source": [
        "#создание dummy-признаков\n",
        "X_train_dum = pd.get_dummies(X_train_1, drop_first=True)\n",
        "X_test_dum = pd.get_dummies(X_test_1, drop_first=True)"
      ],
      "execution_count": 61,
      "outputs": []
    },
    {
      "cell_type": "code",
      "metadata": {
        "colab": {
          "base_uri": "https://localhost:8080/",
          "height": 128
        },
        "id": "ZMgS9oxbbg4-",
        "outputId": "038d3bed-58be-46f4-e576-08d7bac0a90c"
      },
      "source": [
        "display(X_train_dum.head(2))\n",
        "print(X_train_dum.shape)"
      ],
      "execution_count": 62,
      "outputs": [
        {
          "output_type": "display_data",
          "data": {
            "text/html": [
              "<div>\n",
              "<style scoped>\n",
              "    .dataframe tbody tr th:only-of-type {\n",
              "        vertical-align: middle;\n",
              "    }\n",
              "\n",
              "    .dataframe tbody tr th {\n",
              "        vertical-align: top;\n",
              "    }\n",
              "\n",
              "    .dataframe thead th {\n",
              "        text-align: right;\n",
              "    }\n",
              "</style>\n",
              "<table border=\"1\" class=\"dataframe\">\n",
              "  <thead>\n",
              "    <tr style=\"text-align: right;\">\n",
              "      <th></th>\n",
              "      <th>TotalDays</th>\n",
              "      <th>MonthlyCharges</th>\n",
              "      <th>Internet</th>\n",
              "      <th>Type_One year</th>\n",
              "      <th>Type_Two year</th>\n",
              "      <th>InternetService_DSL</th>\n",
              "      <th>InternetService_Fiber optic</th>\n",
              "    </tr>\n",
              "  </thead>\n",
              "  <tbody>\n",
              "    <tr>\n",
              "      <th>6125</th>\n",
              "      <td>395</td>\n",
              "      <td>102.25</td>\n",
              "      <td>1</td>\n",
              "      <td>0</td>\n",
              "      <td>0</td>\n",
              "      <td>0</td>\n",
              "      <td>1</td>\n",
              "    </tr>\n",
              "    <tr>\n",
              "      <th>6958</th>\n",
              "      <td>396</td>\n",
              "      <td>19.75</td>\n",
              "      <td>0</td>\n",
              "      <td>0</td>\n",
              "      <td>1</td>\n",
              "      <td>0</td>\n",
              "      <td>0</td>\n",
              "    </tr>\n",
              "  </tbody>\n",
              "</table>\n",
              "</div>"
            ],
            "text/plain": [
              "      TotalDays  ...  InternetService_Fiber optic\n",
              "6125        395  ...                            1\n",
              "6958        396  ...                            0\n",
              "\n",
              "[2 rows x 7 columns]"
            ]
          },
          "metadata": {}
        },
        {
          "output_type": "stream",
          "name": "stdout",
          "text": [
            "(5634, 7)\n"
          ]
        }
      ]
    },
    {
      "cell_type": "markdown",
      "metadata": {
        "id": "VU50y9tftNw4"
      },
      "source": [
        "### Логистическая регрессия"
      ]
    },
    {
      "cell_type": "code",
      "metadata": {
        "colab": {
          "base_uri": "https://localhost:8080/"
        },
        "id": "pUB9N-L_K593",
        "outputId": "848eeb25-b34e-45ed-edd4-c8dbd3631870"
      },
      "source": [
        "model_log = LogisticRegression(class_weight = 'balanced', solver = 'saga')\n",
        "\n",
        "model_log.fit(X_train_dum, y_train)\n",
        "\n",
        "proba_log_test = model_log.predict_proba(X_test_dum)\n",
        "proba_log_1_test = proba_log_test[:, 1]\n",
        "\n",
        "log_roc = roc_auc_score(y_test, proba_log_1_test)\n",
        "log_acc = accuracy_score (y_test, model_log.predict(X_test_dum))  \n",
        "\n",
        "print('LogisticRegression. Test ROC_AUC: {:.5f}'.format(log_roc))\n",
        "print('LogisticRegression. Test Accuracy: {:.5f}'.format(log_acc))"
      ],
      "execution_count": 63,
      "outputs": [
        {
          "output_type": "stream",
          "name": "stdout",
          "text": [
            "LogisticRegression. Test ROC_AUC: 0.81063\n",
            "LogisticRegression. Test Accuracy: 0.68701\n"
          ]
        },
        {
          "output_type": "stream",
          "name": "stderr",
          "text": [
            "/usr/local/lib/python3.7/dist-packages/sklearn/linear_model/_sag.py:330: ConvergenceWarning: The max_iter was reached which means the coef_ did not converge\n",
            "  \"the coef_ did not converge\", ConvergenceWarning)\n"
          ]
        }
      ]
    },
    {
      "cell_type": "markdown",
      "metadata": {
        "id": "ic8yZ_ThcscB"
      },
      "source": [
        "### DecisionTree"
      ]
    },
    {
      "cell_type": "code",
      "metadata": {
        "colab": {
          "base_uri": "https://localhost:8080/"
        },
        "id": "-BKqz85WK6Ec",
        "outputId": "fc59a6ba-8897-4a28-f238-5d98841c4bc0"
      },
      "source": [
        "model_tree = DecisionTreeClassifier(random_state = 2021, class_weight='balanced')\n",
        "\n",
        "param_grid_tree = {\n",
        "    'max_depth' : [3,4,5,6,7,8],\n",
        "    'min_samples_leaf' : [10,20,40,60,80,100,120,140,160,180,200],\n",
        "    'max_leaf_nodes' : [6,8,10,12,14,16]\n",
        "}\n",
        "\n",
        "grid_tree = GridSearchCV(estimator = model_tree, param_grid = param_grid_tree, \n",
        "                         scoring = 'roc_auc', \n",
        "                         error_score='raise', cv=3\n",
        "                         )\n",
        "grid_tree.fit(X_train_dum, y_train)\n",
        "\n",
        "print('Гиперпараметры модели:', grid_tree.best_params_)\n",
        "\n",
        "proba_tree_test = grid_tree.predict_proba(X_test_dum)\n",
        "proba_tree_1_test = proba_tree_test[:, 1]\n",
        "\n",
        "tree_roc = roc_auc_score(y_test, proba_tree_1_test) \n",
        "tree_acc = accuracy_score (y_test, grid_tree.predict(X_test_dum))    \n",
        "\n",
        "print('Tree. Test ROC_AUC: {:.5f}'.format(tree_roc))\n",
        "print('Tree. Test Accuracy: {:.5f}'.format(tree_acc))"
      ],
      "execution_count": 64,
      "outputs": [
        {
          "output_type": "stream",
          "name": "stdout",
          "text": [
            "Гиперпараметры модели: {'max_depth': 8, 'max_leaf_nodes': 16, 'min_samples_leaf': 10}\n",
            "Tree. Test ROC_AUC: 0.84377\n",
            "Tree. Test Accuracy: 0.71469\n"
          ]
        }
      ]
    },
    {
      "cell_type": "markdown",
      "metadata": {
        "id": "XNB7zlb5juV8"
      },
      "source": [
        "### RandomForest"
      ]
    },
    {
      "cell_type": "code",
      "metadata": {
        "colab": {
          "base_uri": "https://localhost:8080/"
        },
        "id": "JaLqEaWaK6Kq",
        "outputId": "2c71ef81-a4c7-4d60-ffae-d120b26bfa56"
      },
      "source": [
        "model_forest = RandomForestClassifier(random_state = 2021, class_weight='balanced')\n",
        "\n",
        "param_grid_forest = {\n",
        "    'max_depth' : [4, 6, 12, 24, 48, 96],\n",
        "    'n_estimators': [60, 100, 150],\n",
        "    'min_samples_leaf' : [4, 6, 8, 10, 12]\n",
        "}\n",
        "\n",
        "grid_forest = GridSearchCV(estimator = model_forest, param_grid = param_grid_forest, \n",
        "                         scoring = 'roc_auc', \n",
        "                         error_score='raise', cv = 3)\n",
        "\n",
        "grid_forest.fit(X_train_dum, y_train)\n",
        "\n",
        "\n",
        "print('Гиперпараметры модели:', grid_forest.best_params_)\n",
        "\n",
        "proba_forest_test = grid_forest.predict_proba(X_test_dum)\n",
        "proba_forest_1_test = proba_forest_test[:, 1]\n",
        "\n",
        "forest_roc = roc_auc_score(y_test, proba_forest_1_test)\n",
        "forest_acc = accuracy_score (y_test, grid_forest.predict(X_test_dum))   \n",
        "\n",
        "print('Forest. Test ROC_AUC: {:.5f}'.format(forest_roc))\n",
        "print('Forest. Test Accuracy: {:.5f}'.format(forest_acc))"
      ],
      "execution_count": 65,
      "outputs": [
        {
          "output_type": "stream",
          "name": "stdout",
          "text": [
            "Гиперпараметры модели: {'max_depth': 12, 'min_samples_leaf': 4, 'n_estimators': 150}\n",
            "Forest. Test ROC_AUC: 0.85747\n",
            "Forest. Test Accuracy: 0.77218\n"
          ]
        }
      ]
    },
    {
      "cell_type": "markdown",
      "metadata": {
        "id": "XQbVISphUcPc"
      },
      "source": [
        "### GradientBoosting"
      ]
    },
    {
      "cell_type": "code",
      "metadata": {
        "colab": {
          "base_uri": "https://localhost:8080/"
        },
        "id": "6heq36umUclr",
        "outputId": "f334b9f4-417d-4e34-8de1-4533d913905b"
      },
      "source": [
        "model_clf = GradientBoostingClassifier (random_state = 2021)\n",
        "\n",
        "param_grid_clf = {\n",
        "    'max_depth' : [2, 3,4],\n",
        "    'n_estimators': [20, 40, 60, 80],\n",
        "    'min_samples_leaf' : [4, 6, 8, 10],\n",
        "    'learning_rate' : [0.1, 1]\n",
        "}\n",
        "\n",
        "grid_clf = GridSearchCV(estimator = model_clf, param_grid = param_grid_clf, \n",
        "                         scoring = 'roc_auc', \n",
        "                         error_score='raise', cv = 3)\n",
        "\n",
        "grid_clf.fit(X_train_dum, y_train)\n",
        "\n",
        "\n",
        "print('Гиперпараметры модели:', grid_clf.best_params_)\n",
        "\n",
        "proba_clf_test = grid_clf.predict_proba(X_test_dum)\n",
        "proba_clf_1_test = proba_clf_test[:, 1]\n",
        "\n",
        "clf_roc = roc_auc_score(y_test, proba_clf_1_test)   \n",
        "clf_acc = accuracy_score (y_test, grid_clf.predict(X_test_dum))\n",
        "\n",
        "print('GBC. Test ROC_AUC: {:.5f}'.format(clf_roc))\n",
        "print('GBC. Test Accuracy: {:.5f}'.format(clf_acc))"
      ],
      "execution_count": 66,
      "outputs": [
        {
          "output_type": "stream",
          "name": "stdout",
          "text": [
            "Гиперпараметры модели: {'learning_rate': 1, 'max_depth': 2, 'min_samples_leaf': 4, 'n_estimators': 80}\n",
            "GBC. Test ROC_AUC: 0.91684\n",
            "GBC. Test Accuracy: 0.87083\n"
          ]
        }
      ]
    },
    {
      "cell_type": "markdown",
      "metadata": {
        "id": "MFaU6TvxwSSr"
      },
      "source": [
        "### Neural network"
      ]
    },
    {
      "cell_type": "markdown",
      "metadata": {
        "id": "CEYEnv8bonbx"
      },
      "source": [
        "Для работы нейронной сети, надо опять подготовить данные."
      ]
    },
    {
      "cell_type": "code",
      "metadata": {
        "id": "1w-vdFokY7PG"
      },
      "source": [
        "X = X_train_dum.values\n",
        "Y = y_train.values"
      ],
      "execution_count": 67,
      "outputs": []
    },
    {
      "cell_type": "code",
      "metadata": {
        "id": "TGzQPy-CUcoT"
      },
      "source": [
        "encoder = LabelEncoder()\n",
        "encoder.fit(Y)\n",
        "encoded_Y = encoder.transform(Y)"
      ],
      "execution_count": 68,
      "outputs": []
    },
    {
      "cell_type": "markdown",
      "metadata": {
        "id": "4qdtTSoMovsK"
      },
      "source": [
        "Трехслойная нейронная сеть показала себя весьма неплохо, а увеличение нейронов практически не улучшало резльтат. Поэтому для имеющихся данных сеть большая, но в общем смысле - маленькая."
      ]
    },
    {
      "cell_type": "code",
      "metadata": {
        "colab": {
          "base_uri": "https://localhost:8080/"
        },
        "id": "H9vt1N8AvOD4",
        "outputId": "60afd19b-7aa8-4d0a-8585-39fd57d01886"
      },
      "source": [
        "# создание модели нейронной сети\n",
        "def create_baseline():\n",
        "  opti_adam = tf.keras.optimizers.Adam(learning_rate = 0.001)\n",
        "  model = Sequential()\n",
        "  model.add(Dense(12, input_dim=7, activation='relu'))\n",
        "  model.add(Dense(10, activation='relu'))\n",
        "  model.add(Dense(1, activation='sigmoid'))\n",
        "  model.compile(loss='binary_crossentropy', optimizer=opti_adam, \n",
        "                metrics=[tf.keras.metrics.AUC()])  \n",
        "  return model\n",
        "\n",
        "#расчет при выделении 10% в тестовую выборку\n",
        "estimator = KerasClassifier(build_fn=create_baseline, epochs=5, batch_size=10, verbose=0)\n",
        "kfold = StratifiedKFold(n_splits=10, shuffle=True)\n",
        "results_roc = cross_validate(estimator, X, encoded_Y, cv=kfold,\n",
        "                         scoring='roc_auc')\n",
        "\n",
        "results_acc = cross_validate(estimator, X, encoded_Y, cv=kfold,\n",
        "                         scoring='accuracy')\n",
        "\n",
        "keras_roc = results_roc['test_score'].max()\n",
        "keras_acc = results_acc['test_score'].max()\n",
        "\n",
        "print('Среднее значение ROC_AUC {:.5f}'.format(results_roc['test_score'].mean()))\n",
        "print('Наибольшее значение ROC_AUC {:.5f}'.format(keras_roc))\n",
        "print('Наибольшее значение Accuracy {:.5f}'.format(keras_acc))"
      ],
      "execution_count": 69,
      "outputs": [
        {
          "output_type": "stream",
          "name": "stdout",
          "text": [
            "Среднее значение ROC_AUC 0.79166\n",
            "Наибольшее значение ROC_AUC 0.86075\n",
            "Наибольшее значение Accuracy 0.82624\n"
          ]
        }
      ]
    },
    {
      "cell_type": "markdown",
      "metadata": {
        "id": "LT0RXuAaRmqO"
      },
      "source": [
        "## Результат работы моделей"
      ]
    },
    {
      "cell_type": "markdown",
      "metadata": {
        "id": "JgmThNjUpHmj"
      },
      "source": [
        "Подведем результаты работы моделей в одном месте, снабдив их графическим представлением. Сравнения с константной моделью не будет, т.к. при ней рок-аук будет 0,5. "
      ]
    },
    {
      "cell_type": "code",
      "metadata": {
        "id": "Zz39ue4aRl0J"
      },
      "source": [
        "summary = pd.DataFrame (index = ['Catboost', 'LogRegression', 'Tree', 'Forest',\n",
        "                                 'GradientBoosting', 'KerasClassifier'],\n",
        "                        data = {'ROC-AUC': [cat_roc, log_roc, tree_roc, \n",
        "                                forest_roc, clf_roc, keras_roc], \n",
        "                                'Accuracy': [cat_acc, log_acc, tree_acc, \n",
        "                                forest_acc, clf_acc, keras_acc]})"
      ],
      "execution_count": 70,
      "outputs": []
    },
    {
      "cell_type": "code",
      "metadata": {
        "colab": {
          "base_uri": "https://localhost:8080/",
          "height": 484
        },
        "id": "2UCKEDLoUCOq",
        "outputId": "64fa136e-24f5-4ae6-88b7-4c51b65a6dee"
      },
      "source": [
        "summary.plot(grid = True, figsize = (8,6), title = 'ROC-AUC & Accuracy', kind = 'bar', \n",
        "             ylim = (0.65,0.95), alpha = 0.65, legend = True)"
      ],
      "execution_count": 71,
      "outputs": [
        {
          "output_type": "execute_result",
          "data": {
            "text/plain": [
              "<matplotlib.axes._subplots.AxesSubplot at 0x7f419f749550>"
            ]
          },
          "metadata": {},
          "execution_count": 71
        },
        {
          "output_type": "display_data",
          "data": {
            "image/png": "[encoded data removed]",
            "text/plain": [
              "<Figure size 576x432 with 1 Axes>"
            ]
          },
          "metadata": {
            "needs_background": "light"
          }
        }
      ]
    },
    {
      "cell_type": "markdown",
      "metadata": {
        "id": "3-CFMOCzVwqT"
      },
      "source": [
        "**Вывод**"
      ]
    },
    {
      "cell_type": "markdown",
      "metadata": {
        "id": "m71bCoz1fwYN"
      },
      "source": [
        "При таком наборе данных, отметку в 0,9 ROC_AUC преодолевает категориальный и градиентный бустинги, потом идет случайный лес. Нейронная сеть себя показала не самым лучшим образом, наверное, поэтому ее обычно не используют для работы с табличными данными.\n",
        "\n",
        "Таким образом победа достается catboost. С долей правильных ответов (accuracy) в районе 87% можно быть уверенным, что наша телеком компания не обанкроитится. "
      ]
    },
    {
      "cell_type": "markdown",
      "metadata": {
        "id": "cDailceYTZaA"
      },
      "source": [
        "Значение метрик для лучшей модели:"
      ]
    },
    {
      "cell_type": "code",
      "metadata": {
        "colab": {
          "base_uri": "https://localhost:8080/"
        },
        "id": "Mv-4yoEETeVZ",
        "outputId": "b05ad2e7-541d-4f97-aae2-c9292ef4d254"
      },
      "source": [
        "print('Accuracy: ', round(cat_acc, 5))\n",
        "print('Presicion: ', round(precision_score(y_test, cb_1.predict(X_test_1)), 5))\n",
        "print('Recall: ', round(recall_score(y_test, cb_1.predict(X_test_1)), 5))\n",
        "print('AUC-ROC: ', round(cat_roc, 5))"
      ],
      "execution_count": 74,
      "outputs": [
        {
          "output_type": "stream",
          "name": "stdout",
          "text": [
            "Accuracy:  0.87083\n",
            "Presicion:  0.84459\n",
            "Recall:  0.64767\n",
            "AUC-ROC:  0.92838\n"
          ]
        }
      ]
    },
    {
      "cell_type": "markdown",
      "metadata": {
        "id": "0vhs0r6jgzm5"
      },
      "source": [
        "## Вывод по работе моделей"
      ]
    },
    {
      "cell_type": "markdown",
      "metadata": {
        "id": "7V3851a4g11f"
      },
      "source": [
        "В результате работы была выбрана модель, дающая наибольшее значение целевой метрики, и максимальное значение точности предсказаний (для интерпретации выводов). Были проанализированы исходные данные и оптимизированы шесть моделей классификации, из которых лучшей оказался catboost со значением ROC-AUC = 0.9284."
      ]
    },
    {
      "cell_type": "markdown",
      "metadata": {
        "id": "md92E24JUhrW"
      },
      "source": [
        "Кривая целевое метрики ROC-AUC"
      ]
    },
    {
      "cell_type": "code",
      "metadata": {
        "colab": {
          "base_uri": "https://localhost:8080/",
          "height": 518
        },
        "id": "UooMvW7IUg9M",
        "outputId": "5b8d08f6-ece1-41d6-abc6-7500fcfe4bb6"
      },
      "source": [
        "fpr, tpr, thresholds = roc_curve(y_test, cb_1.predict_proba(X_test_1)[:,1])\n",
        "\n",
        "sns.set()\n",
        "plt.figure(figsize=(8, 8))\n",
        "plt.plot(fpr, tpr)\n",
        "\n",
        "plt.plot([0, 1], [0, 1], linestyle='--')\n",
        "\n",
        "plt.xlabel('False Positive Rate')\n",
        "plt.ylabel('True Positive Rate')\n",
        "\n",
        "plt.title('ROC-кривая')\n",
        "plt.show()"
      ],
      "execution_count": 75,
      "outputs": [
        {
          "output_type": "display_data",
          "data": {
            "image/png": "[encoded data removed]",
            "text/plain": [
              "<Figure size 576x576 with 1 Axes>"
            ]
          },
          "metadata": {}
        }
      ]
    },
    {
      "cell_type": "markdown",
      "metadata": {
        "id": "nBHZuSTCXJ0m"
      },
      "source": [
        "### Описание портрета уходящего клиента"
      ]
    },
    {
      "cell_type": "markdown",
      "metadata": {
        "id": "OqZodlRuXR48"
      },
      "source": [
        "Признаки, оказывающие наибольшее влияние на расторжение договора абонентом"
      ]
    },
    {
      "cell_type": "code",
      "metadata": {
        "colab": {
          "base_uri": "https://localhost:8080/"
        },
        "id": "xva3tuPwyiQl",
        "outputId": "91e316ff-5cd5-4b27-e5a5-52bf5fe6d32b"
      },
      "source": [
        "cat_range_report = pd.DataFrame (data = cb_1.get_feature_importance(), index = X_train_1.columns, columns = ['range'])\n",
        "print (cat_range_report.sort_values(by = 'range',ascending  = False))"
      ],
      "execution_count": 76,
      "outputs": [
        {
          "output_type": "stream",
          "name": "stdout",
          "text": [
            "                     range\n",
            "TotalDays        70.688350\n",
            "MonthlyCharges   13.360075\n",
            "Type              8.877999\n",
            "InternetService   4.853744\n",
            "Internet          2.219833\n"
          ]
        }
      ]
    },
    {
      "cell_type": "code",
      "metadata": {
        "colab": {
          "base_uri": "https://localhost:8080/",
          "height": 489
        },
        "id": "YYN8tfNcypUx",
        "outputId": "67881cef-50e0-4bc3-ea9f-cd693fea9502"
      },
      "source": [
        "cat_range_report.sort_values(by = 'range',ascending  = False).plot(kind='bar', \n",
        "                                                            alpha = 0.75, legend = True, figsize = (8,6), grid = True)\n",
        "plt.title(\"Наиболее важные признаки\")\n",
        "plt.xlabel(\"Фактор\")\n",
        "plt.ylabel(\"Важность фактора в условных единицах\")\n",
        "plt.show()"
      ],
      "execution_count": 77,
      "outputs": [
        {
          "output_type": "display_data",
          "data": {
            "image/png": "[encoded data removed]",
            "text/plain": [
              "<Figure size 576x432 with 1 Axes>"
            ]
          },
          "metadata": {}
        }
      ]
    },
    {
      "cell_type": "markdown",
      "metadata": {
        "id": "tTV6g0AHa0RK"
      },
      "source": [
        "Описание клиента на основе предсказаний модели"
      ]
    },
    {
      "cell_type": "code",
      "metadata": {
        "id": "6PaarEHCXi2u"
      },
      "source": [
        "df_report = X_test_1.join(y_test)"
      ],
      "execution_count": 78,
      "outputs": []
    },
    {
      "cell_type": "code",
      "metadata": {
        "colab": {
          "base_uri": "https://localhost:8080/",
          "height": 410
        },
        "id": "FJtuKMysYgEz",
        "outputId": "4d36638d-3f97-4fc2-a82c-adc8bd35f956"
      },
      "source": [
        "df_report[df_report['Target'] == 1]['TotalDays'].plot(kind = 'hist', bins = 100, \n",
        "                                                      figsize = (8,6))\n",
        "plt.xlabel('Дни использования услуг')\n",
        "plt.ylabel('Количество расторжений контракта')\n",
        "plt.title('Длительность контракта уходящих абонентов')\n",
        "plt.show()"
      ],
      "execution_count": 79,
      "outputs": [
        {
          "output_type": "display_data",
          "data": {
            "image/png": "[encoded data removed]",
            "text/plain": [
              "<Figure size 576x432 with 1 Axes>"
            ]
          },
          "metadata": {}
        }
      ]
    },
    {
      "cell_type": "code",
      "metadata": {
        "colab": {
          "base_uri": "https://localhost:8080/",
          "height": 410
        },
        "id": "ForZps5yZxdK",
        "outputId": "300611bf-b5a0-4e00-b1c2-98fcf217de33"
      },
      "source": [
        "df_report[df_report['Target'] == 1]['TotalDays'].plot(kind = 'hist', \n",
        "                          xlim= (0,150), bins = 100, figsize = (8,6))\n",
        "plt.xlabel('Дни использования услуг')\n",
        "plt.ylabel('Количество расторжений контракта')\n",
        "plt.title('Длительность контракта уходящих абонентов')\n",
        "plt.show()"
      ],
      "execution_count": 80,
      "outputs": [
        {
          "output_type": "display_data",
          "data": {
            "image/png": "[encoded data removed]",
            "text/plain": [
              "<Figure size 576x432 with 1 Axes>"
            ]
          },
          "metadata": {}
        }
      ]
    },
    {
      "cell_type": "markdown",
      "metadata": {
        "id": "KQPWt3fjZ6bx"
      },
      "source": [
        "Необходимо обратить внимание на новых абонентов, длительность контрата которых менее 2 месяцев. Именно из этой группы уходит наибольшее количество людей."
      ]
    },
    {
      "cell_type": "code",
      "metadata": {
        "colab": {
          "base_uri": "https://localhost:8080/",
          "height": 410
        },
        "id": "nolT0FOlaEdh",
        "outputId": "6bed1015-6371-492d-90ca-d3cf6adabc83"
      },
      "source": [
        "df_report[df_report['Target'] == 1]['MonthlyCharges'].plot(kind = 'hist', bins = 100, \n",
        "                                                      figsize = (8,6))\n",
        "plt.xlabel('Ежемесячная плата')\n",
        "plt.ylabel('Количество расторжений контракта')\n",
        "plt.title('Ежемесячные выплаты уходящих абонентов')\n",
        "plt.show()"
      ],
      "execution_count": 81,
      "outputs": [
        {
          "output_type": "display_data",
          "data": {
            "image/png": "[encoded data removed]",
            "text/plain": [
              "<Figure size 576x432 with 1 Axes>"
            ]
          },
          "metadata": {}
        }
      ]
    },
    {
      "cell_type": "markdown",
      "metadata": {
        "id": "BjZG5Um8aVHa"
      },
      "source": [
        "Наибольшее число уходящих абонентов платят от 70 до 110 условных единиц в месяц. Можно рассмотреть для них возможность скидки или перевода на более дешевый тариф. "
      ]
    },
    {
      "cell_type": "code",
      "metadata": {
        "colab": {
          "base_uri": "https://localhost:8080/",
          "height": 373
        },
        "id": "kiEjkrtsaTfk",
        "outputId": "bf0c16b4-f0bb-4f72-e787-3f087fd041cd"
      },
      "source": [
        "df_report[df_report['Target'] == 1]['Type'].value_counts().plot(\n",
        "    kind = 'pie', figsize = (8,6))\n",
        "plt.title('Тип контракта уходящих абонентов')\n",
        "plt.show()"
      ],
      "execution_count": 82,
      "outputs": [
        {
          "output_type": "display_data",
          "data": {
            "image/png": "[encoded data removed]",
            "text/plain": [
              "<Figure size 576x432 with 1 Axes>"
            ]
          },
          "metadata": {}
        }
      ]
    },
    {
      "cell_type": "markdown",
      "metadata": {
        "id": "EJAHSpKcbveI"
      },
      "source": [
        "Данная круговая диаграмма показывает, что наибольшее количество уходящих абонентов имеют тип помесячной оплаты. Что подтврерждается наибольшим количеством расторжений в первые три месяца после заключения договора."
      ]
    },
    {
      "cell_type": "markdown",
      "metadata": {
        "id": "35kZ9VVZcbln"
      },
      "source": [
        "### Вывод"
      ]
    },
    {
      "cell_type": "markdown",
      "metadata": {
        "id": "YSYFpvX9chBO"
      },
      "source": [
        "Наибольшее количество расторжений контрактов происходит среди абонентов с помесячной оплатой в первые три месяца после заключения договора, стоимость услгуг которых в среднем находится в интревале от 70 до 110 условных единиц. \n",
        "\n",
        "Разработанная модель правильно предсказывает вероятность ухода абонента в 87% случаев. Модель ошибочно маркирует как потенциально уходящих абонентов тех, которые не собираются уходить в 16% случаев. "
      ]
    }
  ]
}